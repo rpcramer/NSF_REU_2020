{
 "cells": [
  {
   "cell_type": "code",
   "execution_count": 1,
   "metadata": {},
   "outputs": [],
   "source": [
    "import gensim\n",
    "import numpy as np"
   ]
  },
  {
   "cell_type": "code",
   "execution_count": 2,
   "metadata": {},
   "outputs": [],
   "source": [
    "#Import job data\n",
    "import pandas as pd\n",
    "from pandas import DataFrame\n",
    "import json\n",
    "\n",
    "data = []\n",
    "\n",
    "with open(\"/Users/ryancramer/Desktop/handshake_feed1.txt\") as f:\n",
    "    for line in f:\n",
    "        data.append(json.loads(line))\n",
    "        \n",
    "df1 = pd.DataFrame(data)\n",
    "\n",
    "data = []\n",
    "\n",
    "with open(\"/Users/ryancramer/Desktop/courses.txt\") as f:\n",
    "    for line in f:\n",
    "        data.append(json.loads(line))\n",
    "        \n",
    "df2 = pd.DataFrame(data)\n",
    "\n",
    "\n",
    "df_skill = pd.read_csv(\"/Users/ryancramer/Desktop/Jupyter Notebook Files/SkillsSet5.csv\")\n",
    "\n",
    "skill5 = list()\n",
    "df_skill = df_skill[\"0\"]\n",
    "for word in df_skill:\n",
    "    #print(word)\n",
    "    skill5.append(word)\n",
    "\n",
    "#train_texts = df4['description']\n",
    "jobs_text = df1['description']\n",
    "courses_text = df2['description']"
   ]
  },
  {
   "cell_type": "code",
   "execution_count": 3,
   "metadata": {},
   "outputs": [],
   "source": [
    "from nltk.tokenize import RegexpTokenizer\n",
    "from nltk.corpus import stopwords\n",
    "def preprocess_data(doc_set):\n",
    "    \"\"\"\n",
    "    Input  : docuemnt list\n",
    "    Purpose: preprocess text (tokenize, removing stopwords, and stemming)\n",
    "    Output : preprocessed text\n",
    "    \"\"\"\n",
    "    # initialize regex tokenizer\n",
    "    tokenizer = RegexpTokenizer(r'\\w+')\n",
    "    # create English stop words list\n",
    "    en_stop = set(stopwords.words('english'))\n",
    "    # list for tokenized documents in loop\n",
    "    texts = []\n",
    "    # loop through document list\n",
    "    for i in doc_set:\n",
    "        # clean and tokenize document string\n",
    "        raw = i.lower()\n",
    "        #sents = raw.split(\".\")\n",
    "        #tokens = tokenizer.tokenize(raw)\n",
    "        #text1 = []\n",
    "        #for sent in sents:\n",
    "        tokens = tokenizer.tokenize(raw)\n",
    "            # remove stop words from tokens\n",
    "        stopped_tokens = [i for i in tokens if not i in en_stop]\n",
    "            # stem tokens\n",
    "        alpha_tokens = [i for i in stopped_tokens if i.isalpha() and len(i)<14]\n",
    "            # alpha tokens only\n",
    "            #stemmed_tokens = [p_stemmer.stem(i) for i in alpha_tokens]\n",
    "            # add tokens to list\n",
    "        texts.append((\" \").join(alpha_tokens))\n",
    "        #texts.append(text1)\n",
    "    return texts"
   ]
  },
  {
   "cell_type": "code",
   "execution_count": 4,
   "metadata": {},
   "outputs": [],
   "source": [
    "import spacy\n",
    "nlp = spacy.load(\"/Users/ryancramer/opt/anaconda3/lib/python3.7/site-packages/en_core_web_lg/en_core_web_lg-2.3.1\", disable=['parser', 'ner'])\n",
    "\n",
    "nlp.add_pipe(nlp.create_pipe('sentencizer'))"
   ]
  },
  {
   "cell_type": "code",
   "execution_count": 5,
   "metadata": {},
   "outputs": [],
   "source": [
    "jobs_processed = preprocess_data(jobs_text)\n",
    "courses_processed = preprocess_data(courses_text)\n",
    "#all_sents_processed = preprocess_data(all_sents)"
   ]
  },
  {
   "cell_type": "code",
   "execution_count": 6,
   "metadata": {},
   "outputs": [],
   "source": [
    "def ngram(doc_set):\n",
    "    texts = []\n",
    "    for i in doc_set:\n",
    "        text_with_grams = []\n",
    "        count = 1\n",
    "        holder = \"\"\n",
    "        words = i.split()\n",
    "        for word in words:\n",
    "            if count == 1:\n",
    "                holder = word\n",
    "            else:  \n",
    "                text_with_grams.append(holder + \" \" + word)\n",
    "                text_with_grams.append(holder)\n",
    "                if count == len(words):\n",
    "                    text_with_grams.append(word)\n",
    "                holder = word\n",
    "            count = count + 1\n",
    "        texts.append(text_with_grams)\n",
    "    return texts"
   ]
  },
  {
   "cell_type": "code",
   "execution_count": 7,
   "metadata": {},
   "outputs": [],
   "source": [
    "#what is this doing old (BETTER)\n",
    "def SkillConverter(jobs,skills):\n",
    "    texts = []\n",
    "    for job in jobs:\n",
    "        skill_text = []\n",
    "        skip_gram = False\n",
    "        for word in job:\n",
    "            #if skip_gram == True:\n",
    "                #skip_gram = False\n",
    "                #continue\n",
    "            #elif skip_gram == False and word in skills:\n",
    "                \n",
    "                #skill_text.append(word)\n",
    "                #skip_gram = True\n",
    "            if word in skills:\n",
    "                skill_text.append(word)\n",
    "        texts.append((\" \").join(skill_text))\n",
    "    return texts"
   ]
  },
  {
   "cell_type": "code",
   "execution_count": 8,
   "metadata": {},
   "outputs": [
    {
     "name": "stdout",
     "output_type": "stream",
     "text": [
      "CPU times: user 9min 17s, sys: 3.57 s, total: 9min 21s\n",
      "Wall time: 9min 33s\n"
     ]
    }
   ],
   "source": [
    "%%time\n",
    "jobs_ngram = ngram(jobs_processed)\n",
    "jobs_skills = SkillConverter(jobs_ngram,skill5)\n",
    "courses_ngram = ngram(courses_processed)\n",
    "courses_skills = SkillConverter(courses_ngram,skill5)"
   ]
  },
  {
   "cell_type": "code",
   "execution_count": 9,
   "metadata": {},
   "outputs": [],
   "source": [
    "doc3 = nlp.pipe(jobs_skills)"
   ]
  },
  {
   "cell_type": "code",
   "execution_count": null,
   "metadata": {},
   "outputs": [],
   "source": []
  },
  {
   "cell_type": "code",
   "execution_count": 11,
   "metadata": {},
   "outputs": [],
   "source": [
    "\n",
    "doc4 = nlp.pipe(courses_skills)"
   ]
  },
  {
   "cell_type": "code",
   "execution_count": 110,
   "metadata": {},
   "outputs": [
    {
     "data": {
      "text/plain": [
       "array([-4.67066159e+01,  5.02796227e+01,  1.44396577e+01, -1.73733133e+01,\n",
       "        1.13212763e+01,  1.54422319e+01,  1.89524474e+00, -3.36114631e+01,\n",
       "        3.15964800e+01,  8.34673862e+02, -1.21314151e+02, -1.75246871e+01,\n",
       "        4.26322145e-01,  2.69221780e+01,  1.29704388e+01,  1.47312979e+01,\n",
       "       -5.95997841e+00,  6.87375923e+02, -6.94503182e+01,  1.00329901e+01,\n",
       "        5.17507885e+01, -6.47058310e+00, -4.67408978e+01, -4.89367262e+01,\n",
       "        3.96584423e+01,  4.57071208e+01,  2.22631659e+01,  3.04347990e+01,\n",
       "        3.90351458e+01,  1.23738805e+00, -2.00102744e+01, -5.36131267e+01,\n",
       "        5.85254905e+01,  1.23400746e+01, -6.13481483e+00, -1.56411631e+01,\n",
       "        2.06690620e+01, -1.75289063e+00, -2.89782006e+01, -5.90033605e+01,\n",
       "        3.23342156e+01,  1.32880066e+00, -3.53903256e+00, -4.18393796e+00,\n",
       "       -4.80204229e+01,  2.83454427e+01, -2.00225379e+01,  2.51819374e+01,\n",
       "        1.21149603e+01,  2.54131726e+01,  2.06718110e+01, -2.99461280e+01,\n",
       "        3.66885843e+01, -1.18946815e+01, -3.39087386e+01,  1.61570531e+01,\n",
       "       -1.65196655e+01, -1.10159819e+01,  2.60625136e+01, -3.29577955e+01,\n",
       "        8.98867694e+00, -1.57422765e+01,  2.72063264e+01,  5.27170821e+01,\n",
       "        1.22196718e+02, -1.38659892e+01,  6.47598236e-01,  4.35615950e+01,\n",
       "        8.65666332e+00,  5.18051159e+00, -2.06657405e+01, -3.26535942e+01,\n",
       "        1.97931873e+01, -2.06499730e+01, -8.57781351e+00,  2.17544094e+01,\n",
       "        1.50056728e+01, -2.33939321e+01,  9.38960993e+00,  9.14881425e+01,\n",
       "        1.06846238e+01,  1.44278301e+01,  2.01847412e+01,  1.44065717e+01,\n",
       "       -3.75166538e+01,  1.01278916e+01, -1.55795728e+02,  1.01850728e+02,\n",
       "        8.26834170e+01, -2.13752896e+01, -4.83777024e+01, -6.66817193e+00,\n",
       "       -5.70789811e+01,  2.93416635e+00,  3.25773592e+01, -5.12603222e+01,\n",
       "        1.33809924e+01, -1.41687720e+01,  3.34083811e+00,  2.02900833e+01,\n",
       "       -8.28077054e+00, -3.61147857e+01, -1.59845002e+01,  3.21915429e+01,\n",
       "        2.24812321e+01, -5.51841218e+02,  3.45254992e+01,  3.63179488e+01,\n",
       "       -1.64011421e+01,  1.79092299e+01, -1.10428725e+01, -8.77052473e+00,\n",
       "        1.53690272e+01, -7.56508661e+00,  3.42077453e+01, -1.53448085e+01,\n",
       "        5.07530428e+01,  2.10189186e+01, -4.82891951e+00,  1.92355057e+01,\n",
       "        5.24964985e+01, -2.26601966e+00, -2.76145366e+00, -1.06247955e+01,\n",
       "        1.04953440e+00,  2.51255629e+01,  1.13978452e+01,  3.85793711e+01,\n",
       "        7.09253937e+00, -1.49847444e+01,  3.26717814e+01, -4.84636462e+00,\n",
       "       -2.90516460e+01, -3.08876492e+01,  4.64284777e+00,  1.12111964e+01,\n",
       "       -1.10424911e+01, -2.35120766e+01,  4.03756309e+01, -3.89562298e+00,\n",
       "       -1.91624757e+02, -4.46154036e+01,  5.85346521e+01, -1.11103174e+01,\n",
       "       -2.24361507e+01, -5.57524283e+01,  5.43938104e+00,  1.80816827e+01,\n",
       "       -4.80264616e+01, -2.92633952e+01,  1.27734857e+01,  7.41615801e-01,\n",
       "       -2.48353468e+01,  2.72955729e+01,  2.97776692e+01,  3.57208966e+01,\n",
       "       -2.12754694e+01, -9.05489163e-01,  2.35515965e+01, -3.66568916e+01,\n",
       "       -1.13209253e+00,  1.59552119e+01, -1.04981538e+01, -7.94246321e+01,\n",
       "       -2.57566581e+01, -3.60622375e+01,  1.96431053e+01, -6.72958450e+01,\n",
       "        2.81013012e+01, -1.13270537e+01, -2.81494345e+01,  1.51307660e+01,\n",
       "       -1.25325027e+01, -3.19794336e+01,  2.44077761e+01,  1.64635865e+01,\n",
       "       -4.21737287e+01,  6.86201363e+01,  2.12939045e+01,  6.27607983e+01,\n",
       "        4.70303862e+01, -8.65132521e-01,  6.20048487e+00, -2.14630996e+01,\n",
       "       -1.96386523e+01,  2.17481689e+01, -4.21855824e+01,  2.62447646e+01,\n",
       "       -2.85228063e+00, -5.11546906e+00, -3.11589610e+01, -3.27686362e+01,\n",
       "       -3.41622559e+00,  5.04982075e+01,  1.57034410e+00,  5.16884114e+01,\n",
       "        2.59062959e+01, -2.30262912e+01,  4.00116747e+01,  8.29951467e+01,\n",
       "        4.83314027e+01, -5.90172742e+01, -4.22742633e+00,  2.63615982e+01,\n",
       "       -2.72236091e+01,  2.11232865e+01, -1.63295152e+01,  1.94436907e+01,\n",
       "        1.35754950e+00,  1.06604491e+01, -6.41715476e+01, -5.54320620e+01,\n",
       "        5.42343046e+00, -1.48108116e+01,  2.36181919e+01,  1.59719790e+01,\n",
       "       -2.44973980e+01, -1.14144101e+01, -9.92402143e+01,  1.00072432e+01,\n",
       "       -2.15200164e+01, -2.40723969e+01, -2.73038764e+01,  7.60547685e+01,\n",
       "        1.38096315e+01,  1.37256610e+01,  2.22217605e+01, -3.12096502e+00,\n",
       "        1.13115450e+01,  2.09089489e+01, -6.55834029e+01,  1.42725523e+00,\n",
       "       -7.00023961e+00, -1.75055912e+01, -2.55234619e+01, -7.50511729e+00,\n",
       "       -2.75962527e+01, -5.03460574e+01,  1.50950865e+00,  2.49295400e+01,\n",
       "        5.16930571e+01, -6.24978213e+01,  5.03031888e+01,  1.14112778e+01,\n",
       "        3.73197136e+01, -7.42435377e+01, -1.63431101e+01, -1.45852548e+01,\n",
       "       -4.78271303e+01, -8.51088295e+00,  3.68768424e+01,  2.30441911e+01,\n",
       "       -5.18763518e+01, -2.06240242e+01,  2.14140121e+01, -3.72291930e+01,\n",
       "       -5.33515030e-01, -5.49513457e+01, -3.47890617e+01, -3.15639817e+01,\n",
       "        5.63719587e+01,  5.38221979e+01,  2.31921884e+01,  2.03017714e+01,\n",
       "       -1.74757560e+00, -1.21937762e+02, -2.21146483e+01, -1.71466461e+01,\n",
       "        2.61938088e+02, -3.38945811e+00, -5.02317417e+01,  9.56457585e+00,\n",
       "       -7.96112346e+00, -5.24524428e+01, -3.76608336e+01,  1.64371636e+00,\n",
       "        2.61165195e+01, -1.09706513e+01,  3.27351248e+01,  1.99688486e+01,\n",
       "       -3.47648603e+01,  1.84574660e+01,  1.14587855e+01,  4.47577385e+01,\n",
       "       -4.63018813e+01, -1.00287759e+02,  1.97513419e+01, -2.30339168e+01,\n",
       "        3.32017495e+01, -7.49826943e+01, -7.70293396e+01,  3.34129252e+01,\n",
       "        1.63677519e+01,  4.64009834e+01,  1.68539275e+01, -5.49260113e+01,\n",
       "       -1.67756118e+01, -7.79072102e+00, -1.92500423e+01,  3.33068647e+01])"
      ]
     },
     "execution_count": 110,
     "metadata": {},
     "output_type": "execute_result"
    }
   ],
   "source": [
    "job_sumsG[100]"
   ]
  },
  {
   "cell_type": "code",
   "execution_count": 10,
   "metadata": {},
   "outputs": [
    {
     "name": "stdout",
     "output_type": "stream",
     "text": [
      "CPU times: user 4min 42s, sys: 2.41 s, total: 4min 44s\n",
      "Wall time: 4min 50s\n"
     ]
    }
   ],
   "source": [
    "%%time\n",
    "#new\n",
    "job_sumsG = []\n",
    "for jobss in doc3:\n",
    "    count = 0\n",
    "    hold1 = np.empty(300)\n",
    "    for word in jobss:\n",
    "        hold1 = hold1 + nlp(str(word.lemma_)).vector\n",
    "        count = count +1\n",
    "    if count != 0:\n",
    "        hold1 = hold1 / count\n",
    "    job_sumsG.append(hold1)"
   ]
  },
  {
   "cell_type": "code",
   "execution_count": 12,
   "metadata": {},
   "outputs": [
    {
     "name": "stdout",
     "output_type": "stream",
     "text": [
      "CPU times: user 24min 46s, sys: 11.7 s, total: 24min 58s\n",
      "Wall time: 37min 12s\n"
     ]
    }
   ],
   "source": [
    "%%time\n",
    "#new\n",
    "course_sumsG = []\n",
    "for jobss in doc4:\n",
    "    count = 0\n",
    "    hold1 = np.empty(300)\n",
    "    for word in jobss:\n",
    "        hold1 = hold1 + nlp(str(word.lemma_)).vector\n",
    "        count = count +1\n",
    "    if count != 0:\n",
    "        hold1 = hold1 / count\n",
    "    course_sumsG.append(hold1)"
   ]
  },
  {
   "cell_type": "code",
   "execution_count": 96,
   "metadata": {},
   "outputs": [],
   "source": [
    "#job_sumsG"
   ]
  },
  {
   "cell_type": "code",
   "execution_count": 24,
   "metadata": {},
   "outputs": [
    {
     "data": {
      "text/plain": [
       "[]"
      ]
     },
     "execution_count": 24,
     "metadata": {},
     "output_type": "execute_result"
    }
   ],
   "source": [
    "course_sumsG"
   ]
  },
  {
   "cell_type": "code",
   "execution_count": 137,
   "metadata": {},
   "outputs": [],
   "source": [
    "from sklearn.metrics.pairwise import pairwise_distances"
   ]
  },
  {
   "cell_type": "code",
   "execution_count": 14,
   "metadata": {},
   "outputs": [],
   "source": [
    "simFCG = 1-pairwise_distances(job_sumsG,course_sumsG, metric='cosine')\n",
    "simFEG = pairwise_distances(job_sumsG,course_sumsG, metric='euclidean')\n"
   ]
  },
  {
   "cell_type": "code",
   "execution_count": 138,
   "metadata": {},
   "outputs": [],
   "source": []
  },
  {
   "cell_type": "code",
   "execution_count": null,
   "metadata": {},
   "outputs": [],
   "source": []
  },
  {
   "cell_type": "code",
   "execution_count": null,
   "metadata": {},
   "outputs": [],
   "source": []
  },
  {
   "cell_type": "code",
   "execution_count": 15,
   "metadata": {},
   "outputs": [
    {
     "data": {
      "text/html": [
       "<div>\n",
       "<style scoped>\n",
       "    .dataframe tbody tr th:only-of-type {\n",
       "        vertical-align: middle;\n",
       "    }\n",
       "\n",
       "    .dataframe tbody tr th {\n",
       "        vertical-align: top;\n",
       "    }\n",
       "\n",
       "    .dataframe thead th {\n",
       "        text-align: right;\n",
       "    }\n",
       "</style>\n",
       "<table border=\"1\" class=\"dataframe\">\n",
       "  <thead>\n",
       "    <tr style=\"text-align: right;\">\n",
       "      <th></th>\n",
       "      <th>0</th>\n",
       "      <th>1</th>\n",
       "      <th>2</th>\n",
       "      <th>3</th>\n",
       "      <th>4</th>\n",
       "      <th>5</th>\n",
       "      <th>6</th>\n",
       "      <th>7</th>\n",
       "      <th>8</th>\n",
       "      <th>9</th>\n",
       "      <th>...</th>\n",
       "      <th>8771</th>\n",
       "      <th>8772</th>\n",
       "      <th>8773</th>\n",
       "      <th>8774</th>\n",
       "      <th>8775</th>\n",
       "      <th>8776</th>\n",
       "      <th>8777</th>\n",
       "      <th>8778</th>\n",
       "      <th>8779</th>\n",
       "      <th>8780</th>\n",
       "    </tr>\n",
       "  </thead>\n",
       "  <tbody>\n",
       "    <tr>\n",
       "      <th>0</th>\n",
       "      <td>0.823704</td>\n",
       "      <td>0.898790</td>\n",
       "      <td>0.908649</td>\n",
       "      <td>0.906512</td>\n",
       "      <td>0.903725</td>\n",
       "      <td>0.887223</td>\n",
       "      <td>0.886227</td>\n",
       "      <td>0.885314</td>\n",
       "      <td>0.896034</td>\n",
       "      <td>0.902616</td>\n",
       "      <td>...</td>\n",
       "      <td>0.814756</td>\n",
       "      <td>0.883224</td>\n",
       "      <td>0.877279</td>\n",
       "      <td>0.806298</td>\n",
       "      <td>0.821615</td>\n",
       "      <td>0.822184</td>\n",
       "      <td>0.844687</td>\n",
       "      <td>0.790197</td>\n",
       "      <td>0.812434</td>\n",
       "      <td>0.843335</td>\n",
       "    </tr>\n",
       "    <tr>\n",
       "      <th>1</th>\n",
       "      <td>0.850206</td>\n",
       "      <td>0.930416</td>\n",
       "      <td>0.940615</td>\n",
       "      <td>0.933715</td>\n",
       "      <td>0.929872</td>\n",
       "      <td>0.927586</td>\n",
       "      <td>0.917357</td>\n",
       "      <td>0.916777</td>\n",
       "      <td>0.927591</td>\n",
       "      <td>0.933545</td>\n",
       "      <td>...</td>\n",
       "      <td>0.811061</td>\n",
       "      <td>0.908377</td>\n",
       "      <td>0.916545</td>\n",
       "      <td>0.851443</td>\n",
       "      <td>0.865909</td>\n",
       "      <td>0.866340</td>\n",
       "      <td>0.883044</td>\n",
       "      <td>0.830120</td>\n",
       "      <td>0.852665</td>\n",
       "      <td>0.886981</td>\n",
       "    </tr>\n",
       "    <tr>\n",
       "      <th>2</th>\n",
       "      <td>0.842851</td>\n",
       "      <td>0.927570</td>\n",
       "      <td>0.940372</td>\n",
       "      <td>0.942465</td>\n",
       "      <td>0.939811</td>\n",
       "      <td>0.940735</td>\n",
       "      <td>0.935074</td>\n",
       "      <td>0.934329</td>\n",
       "      <td>0.943964</td>\n",
       "      <td>0.950226</td>\n",
       "      <td>...</td>\n",
       "      <td>0.840795</td>\n",
       "      <td>0.923622</td>\n",
       "      <td>0.924842</td>\n",
       "      <td>0.861707</td>\n",
       "      <td>0.875972</td>\n",
       "      <td>0.876349</td>\n",
       "      <td>0.898213</td>\n",
       "      <td>0.845621</td>\n",
       "      <td>0.866606</td>\n",
       "      <td>0.895264</td>\n",
       "    </tr>\n",
       "    <tr>\n",
       "      <th>3</th>\n",
       "      <td>0.843702</td>\n",
       "      <td>0.927457</td>\n",
       "      <td>0.940867</td>\n",
       "      <td>0.944003</td>\n",
       "      <td>0.941393</td>\n",
       "      <td>0.941739</td>\n",
       "      <td>0.936980</td>\n",
       "      <td>0.936107</td>\n",
       "      <td>0.945526</td>\n",
       "      <td>0.951652</td>\n",
       "      <td>...</td>\n",
       "      <td>0.843507</td>\n",
       "      <td>0.925921</td>\n",
       "      <td>0.927294</td>\n",
       "      <td>0.863626</td>\n",
       "      <td>0.877783</td>\n",
       "      <td>0.878155</td>\n",
       "      <td>0.900268</td>\n",
       "      <td>0.847396</td>\n",
       "      <td>0.868285</td>\n",
       "      <td>0.896897</td>\n",
       "    </tr>\n",
       "    <tr>\n",
       "      <th>4</th>\n",
       "      <td>0.846287</td>\n",
       "      <td>0.931201</td>\n",
       "      <td>0.943881</td>\n",
       "      <td>0.941496</td>\n",
       "      <td>0.938339</td>\n",
       "      <td>0.939540</td>\n",
       "      <td>0.933277</td>\n",
       "      <td>0.932832</td>\n",
       "      <td>0.942977</td>\n",
       "      <td>0.949115</td>\n",
       "      <td>...</td>\n",
       "      <td>0.837828</td>\n",
       "      <td>0.924656</td>\n",
       "      <td>0.927760</td>\n",
       "      <td>0.862460</td>\n",
       "      <td>0.876984</td>\n",
       "      <td>0.877330</td>\n",
       "      <td>0.898015</td>\n",
       "      <td>0.844503</td>\n",
       "      <td>0.865882</td>\n",
       "      <td>0.896005</td>\n",
       "    </tr>\n",
       "    <tr>\n",
       "      <th>...</th>\n",
       "      <td>...</td>\n",
       "      <td>...</td>\n",
       "      <td>...</td>\n",
       "      <td>...</td>\n",
       "      <td>...</td>\n",
       "      <td>...</td>\n",
       "      <td>...</td>\n",
       "      <td>...</td>\n",
       "      <td>...</td>\n",
       "      <td>...</td>\n",
       "      <td>...</td>\n",
       "      <td>...</td>\n",
       "      <td>...</td>\n",
       "      <td>...</td>\n",
       "      <td>...</td>\n",
       "      <td>...</td>\n",
       "      <td>...</td>\n",
       "      <td>...</td>\n",
       "      <td>...</td>\n",
       "      <td>...</td>\n",
       "      <td>...</td>\n",
       "    </tr>\n",
       "    <tr>\n",
       "      <th>871</th>\n",
       "      <td>-0.063575</td>\n",
       "      <td>-0.042659</td>\n",
       "      <td>-0.042457</td>\n",
       "      <td>-0.058441</td>\n",
       "      <td>-0.060220</td>\n",
       "      <td>-0.063104</td>\n",
       "      <td>-0.056519</td>\n",
       "      <td>-0.055886</td>\n",
       "      <td>-0.056803</td>\n",
       "      <td>-0.056542</td>\n",
       "      <td>...</td>\n",
       "      <td>-0.036109</td>\n",
       "      <td>-0.046736</td>\n",
       "      <td>-0.045271</td>\n",
       "      <td>-0.054977</td>\n",
       "      <td>-0.053767</td>\n",
       "      <td>-0.053958</td>\n",
       "      <td>-0.049789</td>\n",
       "      <td>-0.052230</td>\n",
       "      <td>-0.048232</td>\n",
       "      <td>-0.051197</td>\n",
       "    </tr>\n",
       "    <tr>\n",
       "      <th>872</th>\n",
       "      <td>-0.063567</td>\n",
       "      <td>-0.042650</td>\n",
       "      <td>-0.042448</td>\n",
       "      <td>-0.058432</td>\n",
       "      <td>-0.060211</td>\n",
       "      <td>-0.063095</td>\n",
       "      <td>-0.056511</td>\n",
       "      <td>-0.055878</td>\n",
       "      <td>-0.056794</td>\n",
       "      <td>-0.056533</td>\n",
       "      <td>...</td>\n",
       "      <td>-0.036101</td>\n",
       "      <td>-0.046727</td>\n",
       "      <td>-0.045263</td>\n",
       "      <td>-0.054969</td>\n",
       "      <td>-0.053759</td>\n",
       "      <td>-0.053950</td>\n",
       "      <td>-0.049781</td>\n",
       "      <td>-0.052223</td>\n",
       "      <td>-0.048223</td>\n",
       "      <td>-0.051189</td>\n",
       "    </tr>\n",
       "    <tr>\n",
       "      <th>873</th>\n",
       "      <td>-0.063562</td>\n",
       "      <td>-0.042645</td>\n",
       "      <td>-0.042443</td>\n",
       "      <td>-0.058427</td>\n",
       "      <td>-0.060206</td>\n",
       "      <td>-0.063090</td>\n",
       "      <td>-0.056506</td>\n",
       "      <td>-0.055873</td>\n",
       "      <td>-0.056789</td>\n",
       "      <td>-0.056528</td>\n",
       "      <td>...</td>\n",
       "      <td>-0.036096</td>\n",
       "      <td>-0.046722</td>\n",
       "      <td>-0.045258</td>\n",
       "      <td>-0.054964</td>\n",
       "      <td>-0.053754</td>\n",
       "      <td>-0.053945</td>\n",
       "      <td>-0.049776</td>\n",
       "      <td>-0.052218</td>\n",
       "      <td>-0.048219</td>\n",
       "      <td>-0.051184</td>\n",
       "    </tr>\n",
       "    <tr>\n",
       "      <th>874</th>\n",
       "      <td>-0.063556</td>\n",
       "      <td>-0.042639</td>\n",
       "      <td>-0.042436</td>\n",
       "      <td>-0.058420</td>\n",
       "      <td>-0.060199</td>\n",
       "      <td>-0.063083</td>\n",
       "      <td>-0.056498</td>\n",
       "      <td>-0.055865</td>\n",
       "      <td>-0.056782</td>\n",
       "      <td>-0.056521</td>\n",
       "      <td>...</td>\n",
       "      <td>-0.036090</td>\n",
       "      <td>-0.046715</td>\n",
       "      <td>-0.045251</td>\n",
       "      <td>-0.054957</td>\n",
       "      <td>-0.053748</td>\n",
       "      <td>-0.053938</td>\n",
       "      <td>-0.049769</td>\n",
       "      <td>-0.052212</td>\n",
       "      <td>-0.048212</td>\n",
       "      <td>-0.051178</td>\n",
       "    </tr>\n",
       "    <tr>\n",
       "      <th>875</th>\n",
       "      <td>-0.063546</td>\n",
       "      <td>-0.042627</td>\n",
       "      <td>-0.042425</td>\n",
       "      <td>-0.058408</td>\n",
       "      <td>-0.060187</td>\n",
       "      <td>-0.063071</td>\n",
       "      <td>-0.056486</td>\n",
       "      <td>-0.055853</td>\n",
       "      <td>-0.056769</td>\n",
       "      <td>-0.056509</td>\n",
       "      <td>...</td>\n",
       "      <td>-0.036078</td>\n",
       "      <td>-0.046703</td>\n",
       "      <td>-0.045239</td>\n",
       "      <td>-0.054946</td>\n",
       "      <td>-0.053736</td>\n",
       "      <td>-0.053927</td>\n",
       "      <td>-0.049758</td>\n",
       "      <td>-0.052201</td>\n",
       "      <td>-0.048201</td>\n",
       "      <td>-0.051166</td>\n",
       "    </tr>\n",
       "  </tbody>\n",
       "</table>\n",
       "<p>876 rows × 8781 columns</p>\n",
       "</div>"
      ],
      "text/plain": [
       "         0         1         2         3         4         5         6     \\\n",
       "0    0.823704  0.898790  0.908649  0.906512  0.903725  0.887223  0.886227   \n",
       "1    0.850206  0.930416  0.940615  0.933715  0.929872  0.927586  0.917357   \n",
       "2    0.842851  0.927570  0.940372  0.942465  0.939811  0.940735  0.935074   \n",
       "3    0.843702  0.927457  0.940867  0.944003  0.941393  0.941739  0.936980   \n",
       "4    0.846287  0.931201  0.943881  0.941496  0.938339  0.939540  0.933277   \n",
       "..        ...       ...       ...       ...       ...       ...       ...   \n",
       "871 -0.063575 -0.042659 -0.042457 -0.058441 -0.060220 -0.063104 -0.056519   \n",
       "872 -0.063567 -0.042650 -0.042448 -0.058432 -0.060211 -0.063095 -0.056511   \n",
       "873 -0.063562 -0.042645 -0.042443 -0.058427 -0.060206 -0.063090 -0.056506   \n",
       "874 -0.063556 -0.042639 -0.042436 -0.058420 -0.060199 -0.063083 -0.056498   \n",
       "875 -0.063546 -0.042627 -0.042425 -0.058408 -0.060187 -0.063071 -0.056486   \n",
       "\n",
       "         7         8         9     ...      8771      8772      8773  \\\n",
       "0    0.885314  0.896034  0.902616  ...  0.814756  0.883224  0.877279   \n",
       "1    0.916777  0.927591  0.933545  ...  0.811061  0.908377  0.916545   \n",
       "2    0.934329  0.943964  0.950226  ...  0.840795  0.923622  0.924842   \n",
       "3    0.936107  0.945526  0.951652  ...  0.843507  0.925921  0.927294   \n",
       "4    0.932832  0.942977  0.949115  ...  0.837828  0.924656  0.927760   \n",
       "..        ...       ...       ...  ...       ...       ...       ...   \n",
       "871 -0.055886 -0.056803 -0.056542  ... -0.036109 -0.046736 -0.045271   \n",
       "872 -0.055878 -0.056794 -0.056533  ... -0.036101 -0.046727 -0.045263   \n",
       "873 -0.055873 -0.056789 -0.056528  ... -0.036096 -0.046722 -0.045258   \n",
       "874 -0.055865 -0.056782 -0.056521  ... -0.036090 -0.046715 -0.045251   \n",
       "875 -0.055853 -0.056769 -0.056509  ... -0.036078 -0.046703 -0.045239   \n",
       "\n",
       "         8774      8775      8776      8777      8778      8779      8780  \n",
       "0    0.806298  0.821615  0.822184  0.844687  0.790197  0.812434  0.843335  \n",
       "1    0.851443  0.865909  0.866340  0.883044  0.830120  0.852665  0.886981  \n",
       "2    0.861707  0.875972  0.876349  0.898213  0.845621  0.866606  0.895264  \n",
       "3    0.863626  0.877783  0.878155  0.900268  0.847396  0.868285  0.896897  \n",
       "4    0.862460  0.876984  0.877330  0.898015  0.844503  0.865882  0.896005  \n",
       "..        ...       ...       ...       ...       ...       ...       ...  \n",
       "871 -0.054977 -0.053767 -0.053958 -0.049789 -0.052230 -0.048232 -0.051197  \n",
       "872 -0.054969 -0.053759 -0.053950 -0.049781 -0.052223 -0.048223 -0.051189  \n",
       "873 -0.054964 -0.053754 -0.053945 -0.049776 -0.052218 -0.048219 -0.051184  \n",
       "874 -0.054957 -0.053748 -0.053938 -0.049769 -0.052212 -0.048212 -0.051178  \n",
       "875 -0.054946 -0.053736 -0.053927 -0.049758 -0.052201 -0.048201 -0.051166  \n",
       "\n",
       "[876 rows x 8781 columns]"
      ]
     },
     "execution_count": 15,
     "metadata": {},
     "output_type": "execute_result"
    }
   ],
   "source": [
    "df_simFCG = pd.DataFrame(simFCG)\n",
    "df_simFCG"
   ]
  },
  {
   "cell_type": "code",
   "execution_count": 141,
   "metadata": {},
   "outputs": [
    {
     "data": {
      "text/html": [
       "<div>\n",
       "<style scoped>\n",
       "    .dataframe tbody tr th:only-of-type {\n",
       "        vertical-align: middle;\n",
       "    }\n",
       "\n",
       "    .dataframe tbody tr th {\n",
       "        vertical-align: top;\n",
       "    }\n",
       "\n",
       "    .dataframe thead th {\n",
       "        text-align: right;\n",
       "    }\n",
       "</style>\n",
       "<table border=\"1\" class=\"dataframe\">\n",
       "  <thead>\n",
       "    <tr style=\"text-align: right;\">\n",
       "      <th></th>\n",
       "      <th>0</th>\n",
       "      <th>1</th>\n",
       "      <th>2</th>\n",
       "      <th>3</th>\n",
       "      <th>4</th>\n",
       "      <th>5</th>\n",
       "      <th>6</th>\n",
       "      <th>7</th>\n",
       "      <th>8</th>\n",
       "      <th>9</th>\n",
       "      <th>...</th>\n",
       "      <th>8771</th>\n",
       "      <th>8772</th>\n",
       "      <th>8773</th>\n",
       "      <th>8774</th>\n",
       "      <th>8775</th>\n",
       "      <th>8776</th>\n",
       "      <th>8777</th>\n",
       "      <th>8778</th>\n",
       "      <th>8779</th>\n",
       "      <th>8780</th>\n",
       "    </tr>\n",
       "  </thead>\n",
       "  <tbody>\n",
       "    <tr>\n",
       "      <th>0</th>\n",
       "      <td>2.044544</td>\n",
       "      <td>5.102241</td>\n",
       "      <td>15.255247</td>\n",
       "      <td>4.125982</td>\n",
       "      <td>43.570176</td>\n",
       "      <td>7.982268</td>\n",
       "      <td>10.304819</td>\n",
       "      <td>18.809073</td>\n",
       "      <td>23.995271</td>\n",
       "      <td>52.854776</td>\n",
       "      <td>...</td>\n",
       "      <td>2.246662</td>\n",
       "      <td>3.846105</td>\n",
       "      <td>9.578332</td>\n",
       "      <td>13.392985</td>\n",
       "      <td>39.396602</td>\n",
       "      <td>971.544338</td>\n",
       "      <td>12.227849</td>\n",
       "      <td>33.569623</td>\n",
       "      <td>33.737852</td>\n",
       "      <td>14.906593</td>\n",
       "    </tr>\n",
       "  </tbody>\n",
       "</table>\n",
       "<p>1 rows × 8781 columns</p>\n",
       "</div>"
      ],
      "text/plain": [
       "       0         1          2         3          4         5          6     \\\n",
       "0  2.044544  5.102241  15.255247  4.125982  43.570176  7.982268  10.304819   \n",
       "\n",
       "        7          8          9     ...      8771      8772      8773  \\\n",
       "0  18.809073  23.995271  52.854776  ...  2.246662  3.846105  9.578332   \n",
       "\n",
       "        8774       8775        8776       8777       8778       8779  \\\n",
       "0  13.392985  39.396602  971.544338  12.227849  33.569623  33.737852   \n",
       "\n",
       "        8780  \n",
       "0  14.906593  \n",
       "\n",
       "[1 rows x 8781 columns]"
      ]
     },
     "execution_count": 141,
     "metadata": {},
     "output_type": "execute_result"
    }
   ],
   "source": [
    "df_simFEG.head(1)"
   ]
  },
  {
   "cell_type": "code",
   "execution_count": 143,
   "metadata": {},
   "outputs": [
    {
     "ename": "ValueError",
     "evalue": "The matrix argument must be square.",
     "output_type": "error",
     "traceback": [
      "\u001b[0;31m---------------------------------------------------------------------------\u001b[0m",
      "\u001b[0;31mValueError\u001b[0m                                Traceback (most recent call last)",
      "\u001b[0;32m<ipython-input-143-b36f62357a0f>\u001b[0m in \u001b[0;36m<module>\u001b[0;34m\u001b[0m\n\u001b[1;32m      1\u001b[0m \u001b[0;32mfrom\u001b[0m \u001b[0mscipy\u001b[0m\u001b[0;34m.\u001b[0m\u001b[0mspatial\u001b[0m\u001b[0;34m.\u001b[0m\u001b[0mdistance\u001b[0m \u001b[0;32mimport\u001b[0m \u001b[0mpdist\u001b[0m\u001b[0;34m,\u001b[0m \u001b[0msquareform\u001b[0m\u001b[0;34m\u001b[0m\u001b[0;34m\u001b[0m\u001b[0m\n\u001b[0;32m----> 2\u001b[0;31m \u001b[0msq\u001b[0m \u001b[0;34m=\u001b[0m \u001b[0msquareform\u001b[0m\u001b[0;34m(\u001b[0m\u001b[0msimFEG\u001b[0m\u001b[0;34m)\u001b[0m\u001b[0;34m\u001b[0m\u001b[0;34m\u001b[0m\u001b[0m\n\u001b[0m",
      "\u001b[0;32m~/opt/anaconda3/lib/python3.7/site-packages/scipy/spatial/distance.py\u001b[0m in \u001b[0;36msquareform\u001b[0;34m(X, force, checks)\u001b[0m\n\u001b[1;32m   2189\u001b[0m     \u001b[0;32melif\u001b[0m \u001b[0mlen\u001b[0m\u001b[0;34m(\u001b[0m\u001b[0ms\u001b[0m\u001b[0;34m)\u001b[0m \u001b[0;34m==\u001b[0m \u001b[0;36m2\u001b[0m\u001b[0;34m:\u001b[0m\u001b[0;34m\u001b[0m\u001b[0;34m\u001b[0m\u001b[0m\n\u001b[1;32m   2190\u001b[0m         \u001b[0;32mif\u001b[0m \u001b[0ms\u001b[0m\u001b[0;34m[\u001b[0m\u001b[0;36m0\u001b[0m\u001b[0;34m]\u001b[0m \u001b[0;34m!=\u001b[0m \u001b[0ms\u001b[0m\u001b[0;34m[\u001b[0m\u001b[0;36m1\u001b[0m\u001b[0;34m]\u001b[0m\u001b[0;34m:\u001b[0m\u001b[0;34m\u001b[0m\u001b[0;34m\u001b[0m\u001b[0m\n\u001b[0;32m-> 2191\u001b[0;31m             \u001b[0;32mraise\u001b[0m \u001b[0mValueError\u001b[0m\u001b[0;34m(\u001b[0m\u001b[0;34m'The matrix argument must be square.'\u001b[0m\u001b[0;34m)\u001b[0m\u001b[0;34m\u001b[0m\u001b[0;34m\u001b[0m\u001b[0m\n\u001b[0m\u001b[1;32m   2192\u001b[0m         \u001b[0;32mif\u001b[0m \u001b[0mchecks\u001b[0m\u001b[0;34m:\u001b[0m\u001b[0;34m\u001b[0m\u001b[0;34m\u001b[0m\u001b[0m\n\u001b[1;32m   2193\u001b[0m             \u001b[0mis_valid_dm\u001b[0m\u001b[0;34m(\u001b[0m\u001b[0mX\u001b[0m\u001b[0;34m,\u001b[0m \u001b[0mthrow\u001b[0m\u001b[0;34m=\u001b[0m\u001b[0;32mTrue\u001b[0m\u001b[0;34m,\u001b[0m \u001b[0mname\u001b[0m\u001b[0;34m=\u001b[0m\u001b[0;34m'X'\u001b[0m\u001b[0;34m)\u001b[0m\u001b[0;34m\u001b[0m\u001b[0;34m\u001b[0m\u001b[0m\n",
      "\u001b[0;31mValueError\u001b[0m: The matrix argument must be square."
     ]
    }
   ],
   "source": [
    "from scipy.spatial.distance import pdist, squareform\n",
    "sq = squareform(simFEG)\n"
   ]
  },
  {
   "cell_type": "code",
   "execution_count": 16,
   "metadata": {
    "scrolled": true
   },
   "outputs": [
    {
     "data": {
      "text/html": [
       "<div>\n",
       "<style scoped>\n",
       "    .dataframe tbody tr th:only-of-type {\n",
       "        vertical-align: middle;\n",
       "    }\n",
       "\n",
       "    .dataframe tbody tr th {\n",
       "        vertical-align: top;\n",
       "    }\n",
       "\n",
       "    .dataframe thead th {\n",
       "        text-align: right;\n",
       "    }\n",
       "</style>\n",
       "<table border=\"1\" class=\"dataframe\">\n",
       "  <thead>\n",
       "    <tr style=\"text-align: right;\">\n",
       "      <th></th>\n",
       "      <th>0</th>\n",
       "      <th>1</th>\n",
       "      <th>2</th>\n",
       "      <th>3</th>\n",
       "      <th>4</th>\n",
       "      <th>5</th>\n",
       "      <th>6</th>\n",
       "      <th>7</th>\n",
       "      <th>8</th>\n",
       "      <th>9</th>\n",
       "      <th>...</th>\n",
       "      <th>8771</th>\n",
       "      <th>8772</th>\n",
       "      <th>8773</th>\n",
       "      <th>8774</th>\n",
       "      <th>8775</th>\n",
       "      <th>8776</th>\n",
       "      <th>8777</th>\n",
       "      <th>8778</th>\n",
       "      <th>8779</th>\n",
       "      <th>8780</th>\n",
       "    </tr>\n",
       "  </thead>\n",
       "  <tbody>\n",
       "    <tr>\n",
       "      <th>0</th>\n",
       "      <td>2.044544</td>\n",
       "      <td>5.102241</td>\n",
       "      <td>15.255247</td>\n",
       "      <td>4.125982</td>\n",
       "      <td>43.570176</td>\n",
       "      <td>7.982268</td>\n",
       "      <td>10.304819</td>\n",
       "      <td>18.809073</td>\n",
       "      <td>23.995271</td>\n",
       "      <td>52.854776</td>\n",
       "      <td>...</td>\n",
       "      <td>2.246662</td>\n",
       "      <td>3.846105</td>\n",
       "      <td>9.578332</td>\n",
       "      <td>13.392985</td>\n",
       "      <td>39.396602</td>\n",
       "      <td>971.544338</td>\n",
       "      <td>12.227849</td>\n",
       "      <td>33.569623</td>\n",
       "      <td>33.737852</td>\n",
       "      <td>14.906593</td>\n",
       "    </tr>\n",
       "    <tr>\n",
       "      <th>1</th>\n",
       "      <td>2.722935</td>\n",
       "      <td>3.949324</td>\n",
       "      <td>13.930893</td>\n",
       "      <td>3.064092</td>\n",
       "      <td>42.266054</td>\n",
       "      <td>6.700569</td>\n",
       "      <td>9.065322</td>\n",
       "      <td>17.527304</td>\n",
       "      <td>22.684569</td>\n",
       "      <td>51.524796</td>\n",
       "      <td>...</td>\n",
       "      <td>2.859232</td>\n",
       "      <td>2.985858</td>\n",
       "      <td>8.311814</td>\n",
       "      <td>12.216804</td>\n",
       "      <td>38.126230</td>\n",
       "      <td>970.249079</td>\n",
       "      <td>11.021065</td>\n",
       "      <td>32.379457</td>\n",
       "      <td>32.509638</td>\n",
       "      <td>13.648752</td>\n",
       "    </tr>\n",
       "    <tr>\n",
       "      <th>2</th>\n",
       "      <td>8.443000</td>\n",
       "      <td>4.631262</td>\n",
       "      <td>8.905331</td>\n",
       "      <td>4.932644</td>\n",
       "      <td>36.624731</td>\n",
       "      <td>3.781772</td>\n",
       "      <td>4.948500</td>\n",
       "      <td>12.261698</td>\n",
       "      <td>17.146445</td>\n",
       "      <td>45.730600</td>\n",
       "      <td>...</td>\n",
       "      <td>8.076743</td>\n",
       "      <td>5.505942</td>\n",
       "      <td>4.813142</td>\n",
       "      <td>8.661553</td>\n",
       "      <td>33.069545</td>\n",
       "      <td>964.851953</td>\n",
       "      <td>7.108731</td>\n",
       "      <td>27.647618</td>\n",
       "      <td>27.592313</td>\n",
       "      <td>9.334346</td>\n",
       "    </tr>\n",
       "    <tr>\n",
       "      <th>3</th>\n",
       "      <td>64.635584</td>\n",
       "      <td>59.949183</td>\n",
       "      <td>50.405202</td>\n",
       "      <td>60.717321</td>\n",
       "      <td>28.158526</td>\n",
       "      <td>57.134530</td>\n",
       "      <td>55.056236</td>\n",
       "      <td>47.484929</td>\n",
       "      <td>42.616450</td>\n",
       "      <td>22.196876</td>\n",
       "      <td>...</td>\n",
       "      <td>64.188799</td>\n",
       "      <td>61.278027</td>\n",
       "      <td>55.908391</td>\n",
       "      <td>54.057811</td>\n",
       "      <td>36.397145</td>\n",
       "      <td>915.896522</td>\n",
       "      <td>54.165082</td>\n",
       "      <td>41.347371</td>\n",
       "      <td>39.952519</td>\n",
       "      <td>51.993060</td>\n",
       "    </tr>\n",
       "    <tr>\n",
       "      <th>4</th>\n",
       "      <td>10.305482</td>\n",
       "      <td>6.146701</td>\n",
       "      <td>7.557149</td>\n",
       "      <td>6.685405</td>\n",
       "      <td>34.941352</td>\n",
       "      <td>4.566764</td>\n",
       "      <td>4.810217</td>\n",
       "      <td>10.895314</td>\n",
       "      <td>15.571848</td>\n",
       "      <td>43.989533</td>\n",
       "      <td>...</td>\n",
       "      <td>9.950805</td>\n",
       "      <td>7.243002</td>\n",
       "      <td>4.850542</td>\n",
       "      <td>8.207413</td>\n",
       "      <td>31.570211</td>\n",
       "      <td>963.170696</td>\n",
       "      <td>6.669881</td>\n",
       "      <td>26.339594</td>\n",
       "      <td>26.203066</td>\n",
       "      <td>8.461756</td>\n",
       "    </tr>\n",
       "    <tr>\n",
       "      <th>...</th>\n",
       "      <td>...</td>\n",
       "      <td>...</td>\n",
       "      <td>...</td>\n",
       "      <td>...</td>\n",
       "      <td>...</td>\n",
       "      <td>...</td>\n",
       "      <td>...</td>\n",
       "      <td>...</td>\n",
       "      <td>...</td>\n",
       "      <td>...</td>\n",
       "      <td>...</td>\n",
       "      <td>...</td>\n",
       "      <td>...</td>\n",
       "      <td>...</td>\n",
       "      <td>...</td>\n",
       "      <td>...</td>\n",
       "      <td>...</td>\n",
       "      <td>...</td>\n",
       "      <td>...</td>\n",
       "      <td>...</td>\n",
       "      <td>...</td>\n",
       "    </tr>\n",
       "    <tr>\n",
       "      <th>871</th>\n",
       "      <td>167731.451710</td>\n",
       "      <td>167731.589476</td>\n",
       "      <td>167732.028546</td>\n",
       "      <td>167731.658921</td>\n",
       "      <td>167734.068099</td>\n",
       "      <td>167731.938245</td>\n",
       "      <td>167731.999382</td>\n",
       "      <td>167732.470280</td>\n",
       "      <td>167732.789061</td>\n",
       "      <td>167734.423944</td>\n",
       "      <td>...</td>\n",
       "      <td>167731.382136</td>\n",
       "      <td>167731.554569</td>\n",
       "      <td>167731.814103</td>\n",
       "      <td>167732.131311</td>\n",
       "      <td>167733.523617</td>\n",
       "      <td>167786.647249</td>\n",
       "      <td>167731.997365</td>\n",
       "      <td>167733.146091</td>\n",
       "      <td>167733.013206</td>\n",
       "      <td>167732.157111</td>\n",
       "    </tr>\n",
       "    <tr>\n",
       "      <th>872</th>\n",
       "      <td>334264.576467</td>\n",
       "      <td>334264.714108</td>\n",
       "      <td>334265.152678</td>\n",
       "      <td>334264.783582</td>\n",
       "      <td>334267.189244</td>\n",
       "      <td>334265.062770</td>\n",
       "      <td>334265.123801</td>\n",
       "      <td>334265.594178</td>\n",
       "      <td>334265.912529</td>\n",
       "      <td>334267.543592</td>\n",
       "      <td>...</td>\n",
       "      <td>334264.506884</td>\n",
       "      <td>334264.679247</td>\n",
       "      <td>334264.938562</td>\n",
       "      <td>334265.255599</td>\n",
       "      <td>334266.645429</td>\n",
       "      <td>334318.358681</td>\n",
       "      <td>334265.121701</td>\n",
       "      <td>334266.268652</td>\n",
       "      <td>334266.135728</td>\n",
       "      <td>334265.281294</td>\n",
       "    </tr>\n",
       "    <tr>\n",
       "      <th>873</th>\n",
       "      <td>615750.262487</td>\n",
       "      <td>615750.400066</td>\n",
       "      <td>615750.838397</td>\n",
       "      <td>615750.469555</td>\n",
       "      <td>615752.873563</td>\n",
       "      <td>615750.748676</td>\n",
       "      <td>615750.809656</td>\n",
       "      <td>615751.279786</td>\n",
       "      <td>615751.597933</td>\n",
       "      <td>615753.227211</td>\n",
       "      <td>...</td>\n",
       "      <td>615750.192899</td>\n",
       "      <td>615750.365227</td>\n",
       "      <td>615750.624435</td>\n",
       "      <td>615750.941390</td>\n",
       "      <td>615752.330053</td>\n",
       "      <td>615803.392843</td>\n",
       "      <td>615750.807516</td>\n",
       "      <td>615751.953630</td>\n",
       "      <td>615751.820688</td>\n",
       "      <td>615750.967036</td>\n",
       "    </tr>\n",
       "    <tr>\n",
       "      <th>874</th>\n",
       "      <td>454339.939671</td>\n",
       "      <td>454340.077230</td>\n",
       "      <td>454340.515565</td>\n",
       "      <td>454340.146720</td>\n",
       "      <td>454342.551062</td>\n",
       "      <td>454340.425833</td>\n",
       "      <td>454340.486812</td>\n",
       "      <td>454340.956967</td>\n",
       "      <td>454341.275150</td>\n",
       "      <td>454342.904907</td>\n",
       "      <td>...</td>\n",
       "      <td>454339.870079</td>\n",
       "      <td>454340.042393</td>\n",
       "      <td>454340.301592</td>\n",
       "      <td>454340.618559</td>\n",
       "      <td>454342.007486</td>\n",
       "      <td>454393.336634</td>\n",
       "      <td>454340.484678</td>\n",
       "      <td>454341.630975</td>\n",
       "      <td>454341.498033</td>\n",
       "      <td>454340.644207</td>\n",
       "    </tr>\n",
       "    <tr>\n",
       "      <th>875</th>\n",
       "      <td>264389.871851</td>\n",
       "      <td>264390.009395</td>\n",
       "      <td>264390.447823</td>\n",
       "      <td>264390.078881</td>\n",
       "      <td>264392.484439</td>\n",
       "      <td>264390.357998</td>\n",
       "      <td>264390.418993</td>\n",
       "      <td>264390.889276</td>\n",
       "      <td>264391.207597</td>\n",
       "      <td>264392.838887</td>\n",
       "      <td>...</td>\n",
       "      <td>264389.802251</td>\n",
       "      <td>264389.974553</td>\n",
       "      <td>264390.233770</td>\n",
       "      <td>264390.550789</td>\n",
       "      <td>264391.940625</td>\n",
       "      <td>264444.006264</td>\n",
       "      <td>264390.416888</td>\n",
       "      <td>264391.563825</td>\n",
       "      <td>264391.430887</td>\n",
       "      <td>264390.576461</td>\n",
       "    </tr>\n",
       "  </tbody>\n",
       "</table>\n",
       "<p>876 rows × 8781 columns</p>\n",
       "</div>"
      ],
      "text/plain": [
       "              0              1              2              3     \\\n",
       "0         2.044544       5.102241      15.255247       4.125982   \n",
       "1         2.722935       3.949324      13.930893       3.064092   \n",
       "2         8.443000       4.631262       8.905331       4.932644   \n",
       "3        64.635584      59.949183      50.405202      60.717321   \n",
       "4        10.305482       6.146701       7.557149       6.685405   \n",
       "..             ...            ...            ...            ...   \n",
       "871  167731.451710  167731.589476  167732.028546  167731.658921   \n",
       "872  334264.576467  334264.714108  334265.152678  334264.783582   \n",
       "873  615750.262487  615750.400066  615750.838397  615750.469555   \n",
       "874  454339.939671  454340.077230  454340.515565  454340.146720   \n",
       "875  264389.871851  264390.009395  264390.447823  264390.078881   \n",
       "\n",
       "              4              5              6              7     \\\n",
       "0        43.570176       7.982268      10.304819      18.809073   \n",
       "1        42.266054       6.700569       9.065322      17.527304   \n",
       "2        36.624731       3.781772       4.948500      12.261698   \n",
       "3        28.158526      57.134530      55.056236      47.484929   \n",
       "4        34.941352       4.566764       4.810217      10.895314   \n",
       "..             ...            ...            ...            ...   \n",
       "871  167734.068099  167731.938245  167731.999382  167732.470280   \n",
       "872  334267.189244  334265.062770  334265.123801  334265.594178   \n",
       "873  615752.873563  615750.748676  615750.809656  615751.279786   \n",
       "874  454342.551062  454340.425833  454340.486812  454340.956967   \n",
       "875  264392.484439  264390.357998  264390.418993  264390.889276   \n",
       "\n",
       "              8              9     ...           8771           8772  \\\n",
       "0        23.995271      52.854776  ...       2.246662       3.846105   \n",
       "1        22.684569      51.524796  ...       2.859232       2.985858   \n",
       "2        17.146445      45.730600  ...       8.076743       5.505942   \n",
       "3        42.616450      22.196876  ...      64.188799      61.278027   \n",
       "4        15.571848      43.989533  ...       9.950805       7.243002   \n",
       "..             ...            ...  ...            ...            ...   \n",
       "871  167732.789061  167734.423944  ...  167731.382136  167731.554569   \n",
       "872  334265.912529  334267.543592  ...  334264.506884  334264.679247   \n",
       "873  615751.597933  615753.227211  ...  615750.192899  615750.365227   \n",
       "874  454341.275150  454342.904907  ...  454339.870079  454340.042393   \n",
       "875  264391.207597  264392.838887  ...  264389.802251  264389.974553   \n",
       "\n",
       "              8773           8774           8775           8776  \\\n",
       "0         9.578332      13.392985      39.396602     971.544338   \n",
       "1         8.311814      12.216804      38.126230     970.249079   \n",
       "2         4.813142       8.661553      33.069545     964.851953   \n",
       "3        55.908391      54.057811      36.397145     915.896522   \n",
       "4         4.850542       8.207413      31.570211     963.170696   \n",
       "..             ...            ...            ...            ...   \n",
       "871  167731.814103  167732.131311  167733.523617  167786.647249   \n",
       "872  334264.938562  334265.255599  334266.645429  334318.358681   \n",
       "873  615750.624435  615750.941390  615752.330053  615803.392843   \n",
       "874  454340.301592  454340.618559  454342.007486  454393.336634   \n",
       "875  264390.233770  264390.550789  264391.940625  264444.006264   \n",
       "\n",
       "              8777           8778           8779           8780  \n",
       "0        12.227849      33.569623      33.737852      14.906593  \n",
       "1        11.021065      32.379457      32.509638      13.648752  \n",
       "2         7.108731      27.647618      27.592313       9.334346  \n",
       "3        54.165082      41.347371      39.952519      51.993060  \n",
       "4         6.669881      26.339594      26.203066       8.461756  \n",
       "..             ...            ...            ...            ...  \n",
       "871  167731.997365  167733.146091  167733.013206  167732.157111  \n",
       "872  334265.121701  334266.268652  334266.135728  334265.281294  \n",
       "873  615750.807516  615751.953630  615751.820688  615750.967036  \n",
       "874  454340.484678  454341.630975  454341.498033  454340.644207  \n",
       "875  264390.416888  264391.563825  264391.430887  264390.576461  \n",
       "\n",
       "[876 rows x 8781 columns]"
      ]
     },
     "execution_count": 16,
     "metadata": {},
     "output_type": "execute_result"
    }
   ],
   "source": [
    "df_simFEG = pd.DataFrame(simFEG)\n",
    "df_simFEG"
   ]
  },
  {
   "cell_type": "code",
   "execution_count": 153,
   "metadata": {},
   "outputs": [
    {
     "data": {
      "text/html": [
       "<div>\n",
       "<style scoped>\n",
       "    .dataframe tbody tr th:only-of-type {\n",
       "        vertical-align: middle;\n",
       "    }\n",
       "\n",
       "    .dataframe tbody tr th {\n",
       "        vertical-align: top;\n",
       "    }\n",
       "\n",
       "    .dataframe thead th {\n",
       "        text-align: right;\n",
       "    }\n",
       "</style>\n",
       "<table border=\"1\" class=\"dataframe\">\n",
       "  <thead>\n",
       "    <tr style=\"text-align: right;\">\n",
       "      <th></th>\n",
       "      <th>Job</th>\n",
       "      <th>Course 1</th>\n",
       "      <th>Course 2</th>\n",
       "      <th>Similarity</th>\n",
       "    </tr>\n",
       "  </thead>\n",
       "  <tbody>\n",
       "    <tr>\n",
       "      <th>0</th>\n",
       "      <td>574</td>\n",
       "      <td>3626</td>\n",
       "      <td>2636</td>\n",
       "      <td>0</td>\n",
       "    </tr>\n",
       "    <tr>\n",
       "      <th>1</th>\n",
       "      <td>108</td>\n",
       "      <td>2103</td>\n",
       "      <td>5883</td>\n",
       "      <td>0</td>\n",
       "    </tr>\n",
       "    <tr>\n",
       "      <th>2</th>\n",
       "      <td>459</td>\n",
       "      <td>3634</td>\n",
       "      <td>8246</td>\n",
       "      <td>1</td>\n",
       "    </tr>\n",
       "    <tr>\n",
       "      <th>3</th>\n",
       "      <td>9</td>\n",
       "      <td>3208</td>\n",
       "      <td>1171</td>\n",
       "      <td>2</td>\n",
       "    </tr>\n",
       "    <tr>\n",
       "      <th>4</th>\n",
       "      <td>261</td>\n",
       "      <td>8596</td>\n",
       "      <td>3112</td>\n",
       "      <td>2</td>\n",
       "    </tr>\n",
       "    <tr>\n",
       "      <th>...</th>\n",
       "      <td>...</td>\n",
       "      <td>...</td>\n",
       "      <td>...</td>\n",
       "      <td>...</td>\n",
       "    </tr>\n",
       "    <tr>\n",
       "      <th>64</th>\n",
       "      <td>690</td>\n",
       "      <td>2380</td>\n",
       "      <td>4849</td>\n",
       "      <td>0</td>\n",
       "    </tr>\n",
       "    <tr>\n",
       "      <th>65</th>\n",
       "      <td>115</td>\n",
       "      <td>3296</td>\n",
       "      <td>867</td>\n",
       "      <td>2</td>\n",
       "    </tr>\n",
       "    <tr>\n",
       "      <th>66</th>\n",
       "      <td>186</td>\n",
       "      <td>2606</td>\n",
       "      <td>4735</td>\n",
       "      <td>2</td>\n",
       "    </tr>\n",
       "    <tr>\n",
       "      <th>67</th>\n",
       "      <td>846</td>\n",
       "      <td>769</td>\n",
       "      <td>7044</td>\n",
       "      <td>2</td>\n",
       "    </tr>\n",
       "    <tr>\n",
       "      <th>68</th>\n",
       "      <td>53</td>\n",
       "      <td>1097</td>\n",
       "      <td>4535</td>\n",
       "      <td>1</td>\n",
       "    </tr>\n",
       "  </tbody>\n",
       "</table>\n",
       "<p>578 rows × 4 columns</p>\n",
       "</div>"
      ],
      "text/plain": [
       "    Job  Course 1  Course 2  Similarity\n",
       "0   574      3626      2636           0\n",
       "1   108      2103      5883           0\n",
       "2   459      3634      8246           1\n",
       "3     9      3208      1171           2\n",
       "4   261      8596      3112           2\n",
       "..  ...       ...       ...         ...\n",
       "64  690      2380      4849           0\n",
       "65  115      3296       867           2\n",
       "66  186      2606      4735           2\n",
       "67  846       769      7044           2\n",
       "68   53      1097      4535           1\n",
       "\n",
       "[578 rows x 4 columns]"
      ]
     },
     "execution_count": 153,
     "metadata": {},
     "output_type": "execute_result"
    }
   ],
   "source": [
    "#new\n",
    "import pandas as pd\n",
    "test_df1 = pd.read_csv(\"/Users/ryancramer/Desktop/Jupyter Notebook Files/testwrite2\")\n",
    "test_df2 = pd.read_csv(\"/Users/ryancramer/Desktop/Jupyter Notebook Files/testwrite11\")\n",
    "test_df4 = pd.read_csv(\"/Users/ryancramer/Desktop/Jupyter Notebook Files/testwrite12\")\n",
    "test_df3 = pd.concat([test_df1,test_df2,test_df4])\n",
    "test_df3"
   ]
  },
  {
   "cell_type": "code",
   "execution_count": null,
   "metadata": {},
   "outputs": [],
   "source": []
  },
  {
   "cell_type": "code",
   "execution_count": null,
   "metadata": {},
   "outputs": [],
   "source": [
    "df = pd.DataFrame([[5.1, 3.5, 0], [4.9, 3.0, 0], [7.0, 3.2, 1],\n",
    "...                    [6.4, 3.2, 1], [5.9, 3.0, 2]],\n",
    "...                   columns=['length', 'width', 'species'])\n",
    ">>> ax1 = df.plot.scatter(x='length',\n",
    "...                       y='width',\n",
    "...                       c='DarkBlue')"
   ]
  },
  {
   "cell_type": "code",
   "execution_count": null,
   "metadata": {},
   "outputs": [],
   "source": [
    "df = pd.DataFrame([[5.1, 3.5, 0], [4.9, 3.0, 0], [7.0, 3.2, 1],"
   ]
  },
  {
   "cell_type": "code",
   "execution_count": 154,
   "metadata": {},
   "outputs": [
    {
     "name": "stdout",
     "output_type": "stream",
     "text": [
      "400\n"
     ]
    }
   ],
   "source": [
    "numTest = 0\n",
    "for word in test_df3.values:\n",
    "    if word[3] == 1 or word[3] == 2:\n",
    "        numTest = numTest + 1\n",
    "        \n",
    "print(numTest)"
   ]
  },
  {
   "cell_type": "code",
   "execution_count": 55,
   "metadata": {},
   "outputs": [
    {
     "data": {
      "text/html": [
       "<div>\n",
       "<style scoped>\n",
       "    .dataframe tbody tr th:only-of-type {\n",
       "        vertical-align: middle;\n",
       "    }\n",
       "\n",
       "    .dataframe tbody tr th {\n",
       "        vertical-align: top;\n",
       "    }\n",
       "\n",
       "    .dataframe thead th {\n",
       "        text-align: right;\n",
       "    }\n",
       "</style>\n",
       "<table border=\"1\" class=\"dataframe\">\n",
       "  <thead>\n",
       "    <tr style=\"text-align: right;\">\n",
       "      <th></th>\n",
       "      <th>0</th>\n",
       "      <th>1</th>\n",
       "      <th>2</th>\n",
       "      <th>3</th>\n",
       "      <th>4</th>\n",
       "      <th>5</th>\n",
       "      <th>6</th>\n",
       "      <th>7</th>\n",
       "      <th>8</th>\n",
       "      <th>9</th>\n",
       "      <th>...</th>\n",
       "      <th>8771</th>\n",
       "      <th>8772</th>\n",
       "      <th>8773</th>\n",
       "      <th>8774</th>\n",
       "      <th>8775</th>\n",
       "      <th>8776</th>\n",
       "      <th>8777</th>\n",
       "      <th>8778</th>\n",
       "      <th>8779</th>\n",
       "      <th>8780</th>\n",
       "    </tr>\n",
       "  </thead>\n",
       "  <tbody>\n",
       "    <tr>\n",
       "      <th>0</th>\n",
       "      <td>0.823704</td>\n",
       "      <td>0.898790</td>\n",
       "      <td>0.908649</td>\n",
       "      <td>0.906512</td>\n",
       "      <td>0.903725</td>\n",
       "      <td>0.887223</td>\n",
       "      <td>0.886227</td>\n",
       "      <td>0.885314</td>\n",
       "      <td>0.896034</td>\n",
       "      <td>0.902616</td>\n",
       "      <td>...</td>\n",
       "      <td>0.814756</td>\n",
       "      <td>0.883224</td>\n",
       "      <td>0.877279</td>\n",
       "      <td>0.806298</td>\n",
       "      <td>0.821615</td>\n",
       "      <td>0.822184</td>\n",
       "      <td>0.844687</td>\n",
       "      <td>0.790197</td>\n",
       "      <td>0.812434</td>\n",
       "      <td>0.843335</td>\n",
       "    </tr>\n",
       "    <tr>\n",
       "      <th>1</th>\n",
       "      <td>0.850206</td>\n",
       "      <td>0.930416</td>\n",
       "      <td>0.940615</td>\n",
       "      <td>0.933715</td>\n",
       "      <td>0.929872</td>\n",
       "      <td>0.927586</td>\n",
       "      <td>0.917357</td>\n",
       "      <td>0.916777</td>\n",
       "      <td>0.927591</td>\n",
       "      <td>0.933545</td>\n",
       "      <td>...</td>\n",
       "      <td>0.811061</td>\n",
       "      <td>0.908377</td>\n",
       "      <td>0.916545</td>\n",
       "      <td>0.851443</td>\n",
       "      <td>0.865909</td>\n",
       "      <td>0.866340</td>\n",
       "      <td>0.883044</td>\n",
       "      <td>0.830120</td>\n",
       "      <td>0.852665</td>\n",
       "      <td>0.886981</td>\n",
       "    </tr>\n",
       "    <tr>\n",
       "      <th>2</th>\n",
       "      <td>0.842851</td>\n",
       "      <td>0.927570</td>\n",
       "      <td>0.940372</td>\n",
       "      <td>0.942465</td>\n",
       "      <td>0.939811</td>\n",
       "      <td>0.940735</td>\n",
       "      <td>0.935074</td>\n",
       "      <td>0.934329</td>\n",
       "      <td>0.943964</td>\n",
       "      <td>0.950226</td>\n",
       "      <td>...</td>\n",
       "      <td>0.840795</td>\n",
       "      <td>0.923622</td>\n",
       "      <td>0.924842</td>\n",
       "      <td>0.861707</td>\n",
       "      <td>0.875972</td>\n",
       "      <td>0.876349</td>\n",
       "      <td>0.898213</td>\n",
       "      <td>0.845621</td>\n",
       "      <td>0.866606</td>\n",
       "      <td>0.895264</td>\n",
       "    </tr>\n",
       "    <tr>\n",
       "      <th>3</th>\n",
       "      <td>0.843702</td>\n",
       "      <td>0.927457</td>\n",
       "      <td>0.940867</td>\n",
       "      <td>0.944003</td>\n",
       "      <td>0.941393</td>\n",
       "      <td>0.941739</td>\n",
       "      <td>0.936980</td>\n",
       "      <td>0.936107</td>\n",
       "      <td>0.945526</td>\n",
       "      <td>0.951652</td>\n",
       "      <td>...</td>\n",
       "      <td>0.843507</td>\n",
       "      <td>0.925921</td>\n",
       "      <td>0.927294</td>\n",
       "      <td>0.863626</td>\n",
       "      <td>0.877783</td>\n",
       "      <td>0.878155</td>\n",
       "      <td>0.900268</td>\n",
       "      <td>0.847396</td>\n",
       "      <td>0.868285</td>\n",
       "      <td>0.896897</td>\n",
       "    </tr>\n",
       "    <tr>\n",
       "      <th>4</th>\n",
       "      <td>0.846287</td>\n",
       "      <td>0.931201</td>\n",
       "      <td>0.943881</td>\n",
       "      <td>0.941496</td>\n",
       "      <td>0.938339</td>\n",
       "      <td>0.939540</td>\n",
       "      <td>0.933277</td>\n",
       "      <td>0.932832</td>\n",
       "      <td>0.942977</td>\n",
       "      <td>0.949115</td>\n",
       "      <td>...</td>\n",
       "      <td>0.837828</td>\n",
       "      <td>0.924656</td>\n",
       "      <td>0.927760</td>\n",
       "      <td>0.862460</td>\n",
       "      <td>0.876984</td>\n",
       "      <td>0.877330</td>\n",
       "      <td>0.898015</td>\n",
       "      <td>0.844503</td>\n",
       "      <td>0.865882</td>\n",
       "      <td>0.896005</td>\n",
       "    </tr>\n",
       "    <tr>\n",
       "      <th>...</th>\n",
       "      <td>...</td>\n",
       "      <td>...</td>\n",
       "      <td>...</td>\n",
       "      <td>...</td>\n",
       "      <td>...</td>\n",
       "      <td>...</td>\n",
       "      <td>...</td>\n",
       "      <td>...</td>\n",
       "      <td>...</td>\n",
       "      <td>...</td>\n",
       "      <td>...</td>\n",
       "      <td>...</td>\n",
       "      <td>...</td>\n",
       "      <td>...</td>\n",
       "      <td>...</td>\n",
       "      <td>...</td>\n",
       "      <td>...</td>\n",
       "      <td>...</td>\n",
       "      <td>...</td>\n",
       "      <td>...</td>\n",
       "      <td>...</td>\n",
       "    </tr>\n",
       "    <tr>\n",
       "      <th>871</th>\n",
       "      <td>-0.063575</td>\n",
       "      <td>-0.042659</td>\n",
       "      <td>-0.042457</td>\n",
       "      <td>-0.058441</td>\n",
       "      <td>-0.060220</td>\n",
       "      <td>-0.063104</td>\n",
       "      <td>-0.056519</td>\n",
       "      <td>-0.055886</td>\n",
       "      <td>-0.056803</td>\n",
       "      <td>-0.056542</td>\n",
       "      <td>...</td>\n",
       "      <td>-0.036109</td>\n",
       "      <td>-0.046736</td>\n",
       "      <td>-0.045271</td>\n",
       "      <td>-0.054977</td>\n",
       "      <td>-0.053767</td>\n",
       "      <td>-0.053958</td>\n",
       "      <td>-0.049789</td>\n",
       "      <td>-0.052230</td>\n",
       "      <td>-0.048232</td>\n",
       "      <td>-0.051197</td>\n",
       "    </tr>\n",
       "    <tr>\n",
       "      <th>872</th>\n",
       "      <td>-0.063567</td>\n",
       "      <td>-0.042650</td>\n",
       "      <td>-0.042448</td>\n",
       "      <td>-0.058432</td>\n",
       "      <td>-0.060211</td>\n",
       "      <td>-0.063095</td>\n",
       "      <td>-0.056511</td>\n",
       "      <td>-0.055878</td>\n",
       "      <td>-0.056794</td>\n",
       "      <td>-0.056533</td>\n",
       "      <td>...</td>\n",
       "      <td>-0.036101</td>\n",
       "      <td>-0.046727</td>\n",
       "      <td>-0.045263</td>\n",
       "      <td>-0.054969</td>\n",
       "      <td>-0.053759</td>\n",
       "      <td>-0.053950</td>\n",
       "      <td>-0.049781</td>\n",
       "      <td>-0.052223</td>\n",
       "      <td>-0.048223</td>\n",
       "      <td>-0.051189</td>\n",
       "    </tr>\n",
       "    <tr>\n",
       "      <th>873</th>\n",
       "      <td>-0.063562</td>\n",
       "      <td>-0.042645</td>\n",
       "      <td>-0.042443</td>\n",
       "      <td>-0.058427</td>\n",
       "      <td>-0.060206</td>\n",
       "      <td>-0.063090</td>\n",
       "      <td>-0.056506</td>\n",
       "      <td>-0.055873</td>\n",
       "      <td>-0.056789</td>\n",
       "      <td>-0.056528</td>\n",
       "      <td>...</td>\n",
       "      <td>-0.036096</td>\n",
       "      <td>-0.046722</td>\n",
       "      <td>-0.045258</td>\n",
       "      <td>-0.054964</td>\n",
       "      <td>-0.053754</td>\n",
       "      <td>-0.053945</td>\n",
       "      <td>-0.049776</td>\n",
       "      <td>-0.052218</td>\n",
       "      <td>-0.048219</td>\n",
       "      <td>-0.051184</td>\n",
       "    </tr>\n",
       "    <tr>\n",
       "      <th>874</th>\n",
       "      <td>-0.063556</td>\n",
       "      <td>-0.042639</td>\n",
       "      <td>-0.042436</td>\n",
       "      <td>-0.058420</td>\n",
       "      <td>-0.060199</td>\n",
       "      <td>-0.063083</td>\n",
       "      <td>-0.056498</td>\n",
       "      <td>-0.055865</td>\n",
       "      <td>-0.056782</td>\n",
       "      <td>-0.056521</td>\n",
       "      <td>...</td>\n",
       "      <td>-0.036090</td>\n",
       "      <td>-0.046715</td>\n",
       "      <td>-0.045251</td>\n",
       "      <td>-0.054957</td>\n",
       "      <td>-0.053748</td>\n",
       "      <td>-0.053938</td>\n",
       "      <td>-0.049769</td>\n",
       "      <td>-0.052212</td>\n",
       "      <td>-0.048212</td>\n",
       "      <td>-0.051178</td>\n",
       "    </tr>\n",
       "    <tr>\n",
       "      <th>875</th>\n",
       "      <td>-0.063546</td>\n",
       "      <td>-0.042627</td>\n",
       "      <td>-0.042425</td>\n",
       "      <td>-0.058408</td>\n",
       "      <td>-0.060187</td>\n",
       "      <td>-0.063071</td>\n",
       "      <td>-0.056486</td>\n",
       "      <td>-0.055853</td>\n",
       "      <td>-0.056769</td>\n",
       "      <td>-0.056509</td>\n",
       "      <td>...</td>\n",
       "      <td>-0.036078</td>\n",
       "      <td>-0.046703</td>\n",
       "      <td>-0.045239</td>\n",
       "      <td>-0.054946</td>\n",
       "      <td>-0.053736</td>\n",
       "      <td>-0.053927</td>\n",
       "      <td>-0.049758</td>\n",
       "      <td>-0.052201</td>\n",
       "      <td>-0.048201</td>\n",
       "      <td>-0.051166</td>\n",
       "    </tr>\n",
       "  </tbody>\n",
       "</table>\n",
       "<p>876 rows × 8781 columns</p>\n",
       "</div>"
      ],
      "text/plain": [
       "         0         1         2         3         4         5         6     \\\n",
       "0    0.823704  0.898790  0.908649  0.906512  0.903725  0.887223  0.886227   \n",
       "1    0.850206  0.930416  0.940615  0.933715  0.929872  0.927586  0.917357   \n",
       "2    0.842851  0.927570  0.940372  0.942465  0.939811  0.940735  0.935074   \n",
       "3    0.843702  0.927457  0.940867  0.944003  0.941393  0.941739  0.936980   \n",
       "4    0.846287  0.931201  0.943881  0.941496  0.938339  0.939540  0.933277   \n",
       "..        ...       ...       ...       ...       ...       ...       ...   \n",
       "871 -0.063575 -0.042659 -0.042457 -0.058441 -0.060220 -0.063104 -0.056519   \n",
       "872 -0.063567 -0.042650 -0.042448 -0.058432 -0.060211 -0.063095 -0.056511   \n",
       "873 -0.063562 -0.042645 -0.042443 -0.058427 -0.060206 -0.063090 -0.056506   \n",
       "874 -0.063556 -0.042639 -0.042436 -0.058420 -0.060199 -0.063083 -0.056498   \n",
       "875 -0.063546 -0.042627 -0.042425 -0.058408 -0.060187 -0.063071 -0.056486   \n",
       "\n",
       "         7         8         9     ...      8771      8772      8773  \\\n",
       "0    0.885314  0.896034  0.902616  ...  0.814756  0.883224  0.877279   \n",
       "1    0.916777  0.927591  0.933545  ...  0.811061  0.908377  0.916545   \n",
       "2    0.934329  0.943964  0.950226  ...  0.840795  0.923622  0.924842   \n",
       "3    0.936107  0.945526  0.951652  ...  0.843507  0.925921  0.927294   \n",
       "4    0.932832  0.942977  0.949115  ...  0.837828  0.924656  0.927760   \n",
       "..        ...       ...       ...  ...       ...       ...       ...   \n",
       "871 -0.055886 -0.056803 -0.056542  ... -0.036109 -0.046736 -0.045271   \n",
       "872 -0.055878 -0.056794 -0.056533  ... -0.036101 -0.046727 -0.045263   \n",
       "873 -0.055873 -0.056789 -0.056528  ... -0.036096 -0.046722 -0.045258   \n",
       "874 -0.055865 -0.056782 -0.056521  ... -0.036090 -0.046715 -0.045251   \n",
       "875 -0.055853 -0.056769 -0.056509  ... -0.036078 -0.046703 -0.045239   \n",
       "\n",
       "         8774      8775      8776      8777      8778      8779      8780  \n",
       "0    0.806298  0.821615  0.822184  0.844687  0.790197  0.812434  0.843335  \n",
       "1    0.851443  0.865909  0.866340  0.883044  0.830120  0.852665  0.886981  \n",
       "2    0.861707  0.875972  0.876349  0.898213  0.845621  0.866606  0.895264  \n",
       "3    0.863626  0.877783  0.878155  0.900268  0.847396  0.868285  0.896897  \n",
       "4    0.862460  0.876984  0.877330  0.898015  0.844503  0.865882  0.896005  \n",
       "..        ...       ...       ...       ...       ...       ...       ...  \n",
       "871 -0.054977 -0.053767 -0.053958 -0.049789 -0.052230 -0.048232 -0.051197  \n",
       "872 -0.054969 -0.053759 -0.053950 -0.049781 -0.052223 -0.048223 -0.051189  \n",
       "873 -0.054964 -0.053754 -0.053945 -0.049776 -0.052218 -0.048219 -0.051184  \n",
       "874 -0.054957 -0.053748 -0.053938 -0.049769 -0.052212 -0.048212 -0.051178  \n",
       "875 -0.054946 -0.053736 -0.053927 -0.049758 -0.052201 -0.048201 -0.051166  \n",
       "\n",
       "[876 rows x 8781 columns]"
      ]
     },
     "execution_count": 55,
     "metadata": {},
     "output_type": "execute_result"
    }
   ],
   "source": [
    "df_simFCG\n"
   ]
  },
  {
   "cell_type": "code",
   "execution_count": 159,
   "metadata": {},
   "outputs": [
    {
     "name": "stdout",
     "output_type": "stream",
     "text": [
      "0.5326633165829145\n",
      "398\n"
     ]
    }
   ],
   "source": [
    "average = 0\n",
    "histoGW = []\n",
    "histoGC = []\n",
    "count = 0\n",
    "for word in test_df3.values:\n",
    "    #print(word)\n",
    "    one = df_simFCG[word[1]][word[0]]\n",
    "    two = df_simFCG[word[2]][word[0]]\n",
    "    #avg_sim = (one+two)/2\n",
    "    #mean = df_simFCG.mean(axis=1)[word[0]]\n",
    "    if word[3] == 1 or word[3] == 2:\n",
    "        count = count+1\n",
    "    if one == two:\n",
    "        count = count-1\n",
    "    \n",
    "    \n",
    "    \n",
    "    \n",
    "    if word[3] == 1 and one > two:\n",
    "        average = average + 1 \n",
    "        histoGC.append(abs(abs(one)-abs(two)))\n",
    "    elif word[3] == 2 and two > one:\n",
    "        average = average + 1\n",
    "        histoGC.append(abs(abs(one)-abs(two)))\n",
    "    elif word[3] == 1 or word[3] == 2:\n",
    "        histoGW.append(abs(abs(one)-abs(two)))\n",
    "    #elif word[3] == 0 and avg_sim < mean:\n",
    "        #average = average + 1\n",
    "    #elif word[3] == 3 and avg_sim > mean:\n",
    "        #average = average + 1\n",
    "        \n",
    "average = average/count\n",
    "print(average)\n",
    "print(count)"
   ]
  },
  {
   "cell_type": "code",
   "execution_count": 160,
   "metadata": {},
   "outputs": [
    {
     "data": {
      "image/png": "[encoded data removed]",
      "text/plain": [
       "<Figure size 432x288 with 1 Axes>"
      ]
     },
     "metadata": {
      "needs_background": "light"
     },
     "output_type": "display_data"
    }
   ],
   "source": [
    "import matplotlib.pyplot as plt\n",
    "\n",
    "wrong = plt.hist(histoGW,5)"
   ]
  },
  {
   "cell_type": "code",
   "execution_count": 162,
   "metadata": {},
   "outputs": [
    {
     "data": {
      "text/plain": [
       "[0.9034060591441815,\n",
       " 0.3631850787043096,\n",
       " 0.4457904278841782,\n",
       " 0.004588507169991929,\n",
       " 0.004663923837409323,\n",
       " 0.01001477383701399,\n",
       " 0.952287646434745,\n",
       " 0.959159856608177,\n",
       " 0.08000014737961336,\n",
       " 0.06547317522986673,\n",
       " 0.5255877792775399,\n",
       " 0.009402194969970301,\n",
       " 0.7769260033939904,\n",
       " 0.9614565218830907,\n",
       " 0.016449030227533745,\n",
       " 0.020801630158293616,\n",
       " 0.00283386207874603,\n",
       " 0.00034991262309724824,\n",
       " 0.03181500443273988,\n",
       " 0.034512153785443256,\n",
       " 0.9258588604234,\n",
       " 0.0003819974143877136,\n",
       " 0.01849598494383531,\n",
       " 0.005114126731140534,\n",
       " 0.023185999745727992,\n",
       " 0.9964133820714914,\n",
       " 0.9347800857919979,\n",
       " 0.338763958163232,\n",
       " 0.00136213720922429,\n",
       " 0.3461693481835445,\n",
       " 0.000637897126855691,\n",
       " 0.953238047226208,\n",
       " 0.6524116621048783,\n",
       " 0.014462173658973287,\n",
       " 0.012345524436919053,\n",
       " 0.5429473823972473,\n",
       " 0.007872234288380575,\n",
       " 0.8682375745028827,\n",
       " 0.005305471353221014,\n",
       " 0.0005735135481728104,\n",
       " 0.16438547095192158,\n",
       " 0.005367131312355999,\n",
       " 0.0063995503708922374,\n",
       " 0.9001418806608246,\n",
       " 0.9867335630342104,\n",
       " 0.022404928023137316,\n",
       " 0.8012325957956343,\n",
       " 0.0003658557117888206,\n",
       " 0.9245263775758396,\n",
       " 0.9999970574463167,\n",
       " 0.009364287335791532,\n",
       " 0.019061524704985455,\n",
       " 0.7461779231184178,\n",
       " 0.011985985034815072,\n",
       " 0.011111939369444324,\n",
       " 0.009408443380247378,\n",
       " 0.0084971458890718,\n",
       " 0.5634493009480892,\n",
       " 0.0013069179518201413,\n",
       " 0.04759583065034778,\n",
       " 9.14902310020782e-05,\n",
       " 0.9892570622037586,\n",
       " 0.0035292098256245463,\n",
       " 0.9228210918722308,\n",
       " 0.017093247958464675,\n",
       " 0.025784635376302156,\n",
       " 0.005580957518408258,\n",
       " 0.9945014714804374,\n",
       " 0.012674161300623599,\n",
       " 0.012894145807346047,\n",
       " 0.017088805175903943,\n",
       " 0.0049217669387611185,\n",
       " 0.001807390563740574,\n",
       " 0.025091505545964843,\n",
       " 0.010231441162245503,\n",
       " 0.00262771138260931,\n",
       " 0.007279022693602699,\n",
       " 0.0015955197281698474,\n",
       " 0.007393595236666162,\n",
       " 0.9532284325886904,\n",
       " 0.9500371267711583,\n",
       " 0.0018637795890474873,\n",
       " 0.011048887235812876,\n",
       " 0.25778324836582356,\n",
       " 0.0048506779025944136,\n",
       " 0.008118554004033163,\n",
       " 0.010256120179324979,\n",
       " 0.00538707530680127,\n",
       " 0.4572925449268018,\n",
       " 0.0024924617082540124,\n",
       " 0.019455393832474632,\n",
       " 0.019017581998196365,\n",
       " 0.9298510965298514,\n",
       " 0.008252319030475297,\n",
       " 0.9306018038632876,\n",
       " 0.9981826603665181,\n",
       " 0.0004286890908127283,\n",
       " 0.002719791794450366,\n",
       " 0.9966359292309767,\n",
       " 0.0018911227150788523,\n",
       " 0.9999474153175152,\n",
       " 0.9275723119935203,\n",
       " 0.06009054415199189,\n",
       " 0.9336478463553581,\n",
       " 0.9209121012152586,\n",
       " 0.017699647347484304,\n",
       " 0.20908425089614224,\n",
       " 0.012811841501854548,\n",
       " 0.0011754459712189913,\n",
       " 0.004675712490252337,\n",
       " 0.8106760560625249,\n",
       " 0.9119298828141453,\n",
       " 0.021663998169304755,\n",
       " 0.24060705070847344,\n",
       " 0.002819048721650841,\n",
       " 0.3660915209564043,\n",
       " 0.0,\n",
       " 0.9110454273759875,\n",
       " 0.010518817459063579,\n",
       " 0.9977943110141702,\n",
       " 0.7760539528056204,\n",
       " 0.016529360816408656,\n",
       " 0.1082239281345333,\n",
       " 0.016164479287874345,\n",
       " 0.02522133728879483,\n",
       " 0.000721001914372521,\n",
       " 0.003843648433493607,\n",
       " 0.013802233370015626,\n",
       " 0.01220834700100104,\n",
       " 0.012797431624787414,\n",
       " 0.008623518191994584,\n",
       " 0.022692368856630618,\n",
       " 0.02662736802869814,\n",
       " 0.016250388454991938,\n",
       " 0.018553386185936382,\n",
       " 0.0011039870430731291,\n",
       " 0.009216427824267348,\n",
       " 0.0022838631233863538,\n",
       " 0.00017772677852090357,\n",
       " 0.9611002295989897,\n",
       " 0.9562835424077953,\n",
       " 0.023422374336702245,\n",
       " 0.014304381297919,\n",
       " 0.0003271432569892374,\n",
       " 0.890466475859939,\n",
       " 0.005456372377932617,\n",
       " 0.9444004188510697,\n",
       " 0.9517539671682087,\n",
       " 0.5423840261475074,\n",
       " 0.9501849672927956,\n",
       " 0.8288368967242675,\n",
       " 0.0171788440600269,\n",
       " 0.001807823459981428,\n",
       " 0.0038277862789026784,\n",
       " 0.009225760314334863,\n",
       " 0.011632264093631717,\n",
       " 0.042590766950511894,\n",
       " 0.9212166384226973,\n",
       " 0.0032604374890252696,\n",
       " 0.006040092691064092,\n",
       " 0.04096915264820322,\n",
       " 0.01638846167597996,\n",
       " 0.048454436749730934,\n",
       " 0.0004183162997408729,\n",
       " 0.00038811201454846955,\n",
       " 0.26103949280013206,\n",
       " 0.32611194978787106,\n",
       " 0.0035118293044980042,\n",
       " 0.02114915541499629,\n",
       " 0.009322769257387398,\n",
       " 0.10549790194232733,\n",
       " 0.024282090485103658,\n",
       " 0.8128215845235535,\n",
       " 0.01745452894589583,\n",
       " 0.002496595347774133,\n",
       " 0.0008060271483329995,\n",
       " 0.023814697527495987,\n",
       " 0.9351797457119528,\n",
       " 0.03816699579130123,\n",
       " 0.9183551335000145,\n",
       " 0.0037462063812891966,\n",
       " 0.015204471781468665,\n",
       " 0.01142247940460095,\n",
       " 0.1056386076320055,\n",
       " 0.9097962778419582,\n",
       " 0.09411730239075355,\n",
       " 0.060451481937148444,\n",
       " 0.9488418225114352]"
      ]
     },
     "execution_count": 162,
     "metadata": {},
     "output_type": "execute_result"
    }
   ],
   "source": [
    "histoGW"
   ]
  },
  {
   "cell_type": "code",
   "execution_count": 163,
   "metadata": {},
   "outputs": [
    {
     "data": {
      "image/png": "[encoded data removed]",
      "text/plain": [
       "<Figure size 432x288 with 1 Axes>"
      ]
     },
     "metadata": {
      "needs_background": "light"
     },
     "output_type": "display_data"
    }
   ],
   "source": [
    "correct = plt.hist(histoGW,5)"
   ]
  },
  {
   "cell_type": "code",
   "execution_count": 164,
   "metadata": {},
   "outputs": [
    {
     "name": "stdout",
     "output_type": "stream",
     "text": [
      "all\n",
      "0.27130137999124393\n",
      "correct\n",
      "0.2666920324825147\n",
      "wrong\n",
      "0.276499154841513\n"
     ]
    }
   ],
   "source": [
    "import statistics\n",
    "#average difference in similarity\n",
    "print(\"all\")\n",
    "print(statistics.mean(histoGC+histoGW))\n",
    "print(\"correct\")\n",
    "print(statistics.mean(histoGC))\n",
    "print(\"wrong\")\n",
    "print(statistics.mean(histoGW))"
   ]
  },
  {
   "cell_type": "code",
   "execution_count": null,
   "metadata": {},
   "outputs": [],
   "source": [
    "doc3\n",
    "doc4\n"
   ]
  },
  {
   "cell_type": "code",
   "execution_count": null,
   "metadata": {},
   "outputs": [],
   "source": [
    "doc1.similarity(doc2)"
   ]
  },
  {
   "cell_type": "code",
   "execution_count": 34,
   "metadata": {},
   "outputs": [
    {
     "ename": "TypeError",
     "evalue": "object of type 'generator' has no len()",
     "output_type": "error",
     "traceback": [
      "\u001b[0;31m---------------------------------------------------------------------------\u001b[0m",
      "\u001b[0;31mTypeError\u001b[0m                                 Traceback (most recent call last)",
      "\u001b[0;32m<ipython-input-34-1af7a3994fb1>\u001b[0m in \u001b[0;36m<module>\u001b[0;34m\u001b[0m\n\u001b[0;32m----> 1\u001b[0;31m \u001b[0mlen\u001b[0m\u001b[0;34m(\u001b[0m\u001b[0mdoc3\u001b[0m\u001b[0;34m)\u001b[0m\u001b[0;34m\u001b[0m\u001b[0;34m\u001b[0m\u001b[0m\n\u001b[0m",
      "\u001b[0;31mTypeError\u001b[0m: object of type 'generator' has no len()"
     ]
    }
   ],
   "source": [
    "len(doc3)"
   ]
  },
  {
   "cell_type": "code",
   "execution_count": 119,
   "metadata": {},
   "outputs": [],
   "source": [
    "doc3 = nlp.pipe(jobs_skills)\n",
    "doc4 = nlp.pipe(courses_skills)"
   ]
  },
  {
   "cell_type": "code",
   "execution_count": 176,
   "metadata": {},
   "outputs": [
    {
     "data": {
      "text/plain": [
       "876"
      ]
     },
     "execution_count": 176,
     "metadata": {},
     "output_type": "execute_result"
    }
   ],
   "source": [
    "len(job_sumsG)"
   ]
  },
  {
   "cell_type": "code",
   "execution_count": 229,
   "metadata": {},
   "outputs": [
    {
     "data": {
      "text/plain": [
       "(array([6526.,  198.,  105.,   89.,   54.,   34.,   35.,   36.,   38.,\n",
       "          29.]),\n",
       " array([2.51109464e+01, 1.00055903e+04, 1.99860696e+04, 2.99665489e+04,\n",
       "        3.99470282e+04, 4.99275075e+04, 5.99079868e+04, 6.98884661e+04,\n",
       "        7.98689454e+04, 8.98494247e+04, 9.98299040e+04]),\n",
       " <a list of 10 Patch objects>)"
      ]
     },
     "execution_count": 229,
     "metadata": {},
     "output_type": "execute_result"
    },
    {
     "data": {
      "image/png": "[encoded data removed]",
      "text/plain": [
       "<Figure size 432x288 with 1 Axes>"
      ]
     },
     "metadata": {
      "needs_background": "light"
     },
     "output_type": "display_data"
    }
   ],
   "source": [
    "plt.hist(maxH)\n"
   ]
  },
  {
   "cell_type": "code",
   "execution_count": 230,
   "metadata": {},
   "outputs": [
    {
     "name": "stdout",
     "output_type": "stream",
     "text": [
      "4424.273784872119\n",
      "725.0740458068365\n"
     ]
    }
   ],
   "source": [
    "print(statistics.mean(maxH))\n",
    "print(statistics.median(maxH))"
   ]
  },
  {
   "cell_type": "code",
   "execution_count": 228,
   "metadata": {},
   "outputs": [
    {
     "name": "stdout",
     "output_type": "stream",
     "text": [
      "7144\n",
      "99829.90403944821\n",
      "25.110946397474482\n",
      "99804.79309305074\n"
     ]
    }
   ],
   "source": [
    "#1-norm \n",
    "#new\n",
    "count = 0\n",
    "maxH = []\n",
    "for word in course_sumsG:\n",
    "    norm = 0\n",
    "    for skill in word:\n",
    "        norm = norm + abs(skill)\n",
    "    if norm < 99999:\n",
    "        maxH.append(norm)\n",
    "        count = count + 1\n",
    "print(count)\n",
    "print(max(maxH))\n",
    "print(min(maxH))\n",
    "print(max(maxH)-min(maxH))"
   ]
  },
  {
   "cell_type": "code",
   "execution_count": 64,
   "metadata": {},
   "outputs": [
    {
     "name": "stdout",
     "output_type": "stream",
     "text": [
      "4.911290710705309e+97\n",
      "26.84024786455842\n"
     ]
    }
   ],
   "source": [
    "#1-norm \n",
    "maxH = []\n",
    "for word in job_sumsG:\n",
    "    norm = 0\n",
    "    for skill in word:\n",
    "        norm = norm + abs(skill)\n",
    "    maxH.append(norm)\n",
    "print(max(maxH))\n",
    "print(min(maxH))"
   ]
  },
  {
   "cell_type": "code",
   "execution_count": 50,
   "metadata": {
    "scrolled": true
   },
   "outputs": [
    {
     "name": "stderr",
     "output_type": "stream",
     "text": [
      "/Users/ryancramer/opt/anaconda3/lib/python3.7/site-packages/ipykernel_launcher.py:6: UserWarning: [W008] Evaluating Doc.similarity based on empty vectors.\n",
      "  \n"
     ]
    },
    {
     "ename": "KeyboardInterrupt",
     "evalue": "",
     "output_type": "error",
     "traceback": [
      "\u001b[0;31m---------------------------------------------------------------------------\u001b[0m",
      "\u001b[0;31mKeyboardInterrupt\u001b[0m                         Traceback (most recent call last)",
      "\u001b[0;32m<timed exec>\u001b[0m in \u001b[0;36m<module>\u001b[0;34m\u001b[0m\n",
      "\u001b[0;32mdoc.pyx\u001b[0m in \u001b[0;36mspacy.tokens.doc.Doc.similarity\u001b[0;34m()\u001b[0m\n",
      "\u001b[0;32m~/opt/anaconda3/lib/python3.7/site-packages/thinc/neural/util.py\u001b[0m in \u001b[0;36m<lambda>\u001b[0;34m(_)\u001b[0m\n\u001b[1;32m     12\u001b[0m \u001b[0;32mexcept\u001b[0m \u001b[0mImportError\u001b[0m\u001b[0;34m:\u001b[0m\u001b[0;34m\u001b[0m\u001b[0;34m\u001b[0m\u001b[0m\n\u001b[1;32m     13\u001b[0m     \u001b[0mcupy\u001b[0m \u001b[0;34m=\u001b[0m \u001b[0;32mNone\u001b[0m\u001b[0;34m\u001b[0m\u001b[0;34m\u001b[0m\u001b[0m\n\u001b[0;32m---> 14\u001b[0;31m     \u001b[0mget_array_module\u001b[0m \u001b[0;34m=\u001b[0m \u001b[0;32mlambda\u001b[0m \u001b[0m_\u001b[0m\u001b[0;34m:\u001b[0m \u001b[0mnumpy\u001b[0m\u001b[0;34m\u001b[0m\u001b[0;34m\u001b[0m\u001b[0m\n\u001b[0m\u001b[1;32m     15\u001b[0m \u001b[0;34m\u001b[0m\u001b[0m\n\u001b[1;32m     16\u001b[0m \u001b[0;32mtry\u001b[0m\u001b[0;34m:\u001b[0m\u001b[0;34m\u001b[0m\u001b[0;34m\u001b[0m\u001b[0m\n",
      "\u001b[0;31mKeyboardInterrupt\u001b[0m: "
     ]
    }
   ],
   "source": [
    "%%time\n",
    "column = []\n",
    "for docj in doc3:\n",
    "    row = []\n",
    "    doc4 = nlp.pipe(courses_skills[1:])\n",
    "    for docc in doc4:\n",
    "        row.append(docc.similarity(docj))\n",
    "        \n",
    "    column.append(row)\n",
    "    "
   ]
  },
  {
   "cell_type": "code",
   "execution_count": 85,
   "metadata": {},
   "outputs": [],
   "source": [
    "#column"
   ]
  },
  {
   "cell_type": "code",
   "execution_count": 52,
   "metadata": {},
   "outputs": [
    {
     "data": {
      "text/plain": [
       "106"
      ]
     },
     "execution_count": 52,
     "metadata": {},
     "output_type": "execute_result"
    }
   ],
   "source": [
    "len(column)"
   ]
  },
  {
   "cell_type": "code",
   "execution_count": 60,
   "metadata": {},
   "outputs": [
    {
     "data": {
      "text/plain": [
       "0.8009340979801013"
      ]
     },
     "execution_count": 60,
     "metadata": {},
     "output_type": "execute_result"
    }
   ],
   "source": [
    "column[32][12]"
   ]
  },
  {
   "cell_type": "code",
   "execution_count": 61,
   "metadata": {},
   "outputs": [
    {
     "data": {
      "text/plain": [
       "0.9015918614073354"
      ]
     },
     "execution_count": 61,
     "metadata": {},
     "output_type": "execute_result"
    }
   ],
   "source": [
    "column[30][30]"
   ]
  },
  {
   "cell_type": "code",
   "execution_count": 63,
   "metadata": {},
   "outputs": [
    {
     "data": {
      "text/plain": [
       "0.8182976717927929"
      ]
     },
     "execution_count": 63,
     "metadata": {},
     "output_type": "execute_result"
    }
   ],
   "source": [
    "column[100][50]"
   ]
  },
  {
   "cell_type": "code",
   "execution_count": 65,
   "metadata": {},
   "outputs": [
    {
     "data": {
      "text/plain": [
       "0.7971872189097666"
      ]
     },
     "execution_count": 65,
     "metadata": {},
     "output_type": "execute_result"
    }
   ],
   "source": [
    "column[10][393]"
   ]
  },
  {
   "cell_type": "code",
   "execution_count": 71,
   "metadata": {},
   "outputs": [
    {
     "data": {
      "text/plain": [
       "0.9102584067254846"
      ]
     },
     "execution_count": 71,
     "metadata": {},
     "output_type": "execute_result"
    }
   ],
   "source": [
    "column[17][6811]"
   ]
  },
  {
   "cell_type": "code",
   "execution_count": 94,
   "metadata": {},
   "outputs": [
    {
     "data": {
      "text/plain": [
       "0.31552061743451926"
      ]
     },
     "execution_count": 94,
     "metadata": {},
     "output_type": "execute_result"
    }
   ],
   "source": [
    "column[17][6211]"
   ]
  },
  {
   "cell_type": "code",
   "execution_count": 109,
   "metadata": {},
   "outputs": [
    {
     "data": {
      "text/plain": [
       "0.6569993161115815"
      ]
     },
     "execution_count": 109,
     "metadata": {},
     "output_type": "execute_result"
    }
   ],
   "source": [
    "df_simFCG[1432][11]"
   ]
  },
  {
   "cell_type": "code",
   "execution_count": 122,
   "metadata": {},
   "outputs": [
    {
     "data": {
      "text/plain": [
       "0.9399438552122324"
      ]
     },
     "execution_count": 122,
     "metadata": {},
     "output_type": "execute_result"
    }
   ],
   "source": [
    "df_simFCG[720][65]"
   ]
  },
  {
   "cell_type": "code",
   "execution_count": null,
   "metadata": {},
   "outputs": [],
   "source": []
  },
  {
   "cell_type": "code",
   "execution_count": null,
   "metadata": {},
   "outputs": [],
   "source": []
  },
  {
   "cell_type": "code",
   "execution_count": 158,
   "metadata": {},
   "outputs": [
    {
     "data": {
      "text/plain": [
       "-0.05968925133647218"
      ]
     },
     "execution_count": 158,
     "metadata": {},
     "output_type": "execute_result"
    }
   ],
   "source": [
    "df_simFCG[6221][15]"
   ]
  },
  {
   "cell_type": "code",
   "execution_count": 160,
   "metadata": {},
   "outputs": [
    {
     "data": {
      "text/plain": [
       "0.8101605146640989"
      ]
     },
     "execution_count": 160,
     "metadata": {},
     "output_type": "execute_result"
    }
   ],
   "source": [
    "column[15][6221]"
   ]
  },
  {
   "cell_type": "code",
   "execution_count": 166,
   "metadata": {},
   "outputs": [
    {
     "data": {
      "text/plain": [
       "0.9667885794924351"
      ]
     },
     "execution_count": 166,
     "metadata": {},
     "output_type": "execute_result"
    }
   ],
   "source": [
    "df_simFCG[7620][64]"
   ]
  },
  {
   "cell_type": "code",
   "execution_count": 111,
   "metadata": {},
   "outputs": [
    {
     "data": {
      "text/plain": [
       "0.9662907929878722"
      ]
     },
     "execution_count": 111,
     "metadata": {},
     "output_type": "execute_result"
    }
   ],
   "source": [
    "df_simFCG[7620][61]"
   ]
  },
  {
   "cell_type": "code",
   "execution_count": 74,
   "metadata": {},
   "outputs": [
    {
     "data": {
      "text/plain": [
       "0.9509663299809495"
      ]
     },
     "execution_count": 74,
     "metadata": {},
     "output_type": "execute_result"
    }
   ],
   "source": [
    "df_simFCG[6811][17]"
   ]
  },
  {
   "cell_type": "code",
   "execution_count": 76,
   "metadata": {},
   "outputs": [],
   "source": [
    "his = []\n",
    "his.append(df_simFCG[6811][17])\n",
    "his.append(column[17][6811])"
   ]
  },
  {
   "cell_type": "code",
   "execution_count": 77,
   "metadata": {},
   "outputs": [
    {
     "ename": "AttributeError",
     "evalue": "'list' object has no attribute 'hist'",
     "output_type": "error",
     "traceback": [
      "\u001b[0;31m---------------------------------------------------------------------------\u001b[0m",
      "\u001b[0;31mAttributeError\u001b[0m                            Traceback (most recent call last)",
      "\u001b[0;32m<ipython-input-77-6e515a06d5bc>\u001b[0m in \u001b[0;36m<module>\u001b[0;34m\u001b[0m\n\u001b[1;32m      1\u001b[0m \u001b[0mbin_size\u001b[0m \u001b[0;34m=\u001b[0m \u001b[0;36m10\u001b[0m\u001b[0;34m\u001b[0m\u001b[0;34m\u001b[0m\u001b[0m\n\u001b[0;32m----> 2\u001b[0;31m \u001b[0mhis\u001b[0m\u001b[0;34m.\u001b[0m\u001b[0mhist\u001b[0m\u001b[0;34m(\u001b[0m\u001b[0mbins\u001b[0m\u001b[0;34m=\u001b[0m\u001b[0mbin_size\u001b[0m\u001b[0;34m)\u001b[0m\u001b[0;34m\u001b[0m\u001b[0;34m\u001b[0m\u001b[0m\n\u001b[0m",
      "\u001b[0;31mAttributeError\u001b[0m: 'list' object has no attribute 'hist'"
     ]
    }
   ],
   "source": [
    "bin_size = 10\n",
    "his.hist(bins=bin_size)"
   ]
  },
  {
   "cell_type": "code",
   "execution_count": 167,
   "metadata": {
    "scrolled": true
   },
   "outputs": [
    {
     "data": {
      "text/html": [
       "<div>\n",
       "<style scoped>\n",
       "    .dataframe tbody tr th:only-of-type {\n",
       "        vertical-align: middle;\n",
       "    }\n",
       "\n",
       "    .dataframe tbody tr th {\n",
       "        vertical-align: top;\n",
       "    }\n",
       "\n",
       "    .dataframe thead th {\n",
       "        text-align: right;\n",
       "    }\n",
       "</style>\n",
       "<table border=\"1\" class=\"dataframe\">\n",
       "  <thead>\n",
       "    <tr style=\"text-align: right;\">\n",
       "      <th></th>\n",
       "      <th>Similarity</th>\n",
       "      <th>Simple Avg</th>\n",
       "    </tr>\n",
       "  </thead>\n",
       "  <tbody>\n",
       "    <tr>\n",
       "      <th>0</th>\n",
       "      <td>0.868249</td>\n",
       "      <td>0.966291</td>\n",
       "    </tr>\n",
       "    <tr>\n",
       "      <th>1</th>\n",
       "      <td>0.302115</td>\n",
       "      <td>0.947453</td>\n",
       "    </tr>\n",
       "    <tr>\n",
       "      <th>2</th>\n",
       "      <td>0.883923</td>\n",
       "      <td>0.910163</td>\n",
       "    </tr>\n",
       "    <tr>\n",
       "      <th>3</th>\n",
       "      <td>0.840756</td>\n",
       "      <td>0.962647</td>\n",
       "    </tr>\n",
       "    <tr>\n",
       "      <th>4</th>\n",
       "      <td>0.880724</td>\n",
       "      <td>0.966789</td>\n",
       "    </tr>\n",
       "  </tbody>\n",
       "</table>\n",
       "</div>"
      ],
      "text/plain": [
       "   Similarity  Simple Avg\n",
       "0    0.868249    0.966291\n",
       "1    0.302115    0.947453\n",
       "2    0.883923    0.910163\n",
       "3    0.840756    0.962647\n",
       "4    0.880724    0.966789"
      ]
     },
     "execution_count": 167,
     "metadata": {},
     "output_type": "execute_result"
    }
   ],
   "source": [
    "data = {\"Similarity\":[column[61][7620],column[101][1502],column[100][1500],column[100][150],column[64][7620],column[10][393],column[100][50],column[17][6211],column[11][1432],column[15][6221]],\n",
    "       \"Simple Avg\":[df_simFCG[7620][61],df_simFCG[1502][101],df_simFCG[1500][100],df_simFCG[150][100],df_simFCG[7620][64],df_simFCG[393][10],df_simFCG[50][100],df_simFCG[6211][17],df_simFCG[1432][11],df_simFCG[6221][15]]}\n",
    "dftest = pd.DataFrame(data)\n",
    "dftest.head()"
   ]
  },
  {
   "cell_type": "code",
   "execution_count": 168,
   "metadata": {},
   "outputs": [
    {
     "data": {
      "text/plain": [
       "<matplotlib.axes._subplots.AxesSubplot at 0x1ae44f7910>"
      ]
     },
     "execution_count": 168,
     "metadata": {},
     "output_type": "execute_result"
    },
    {
     "data": {
      "image/png": "[encoded data removed]",
      "text/plain": [
       "<Figure size 432x288 with 1 Axes>"
      ]
     },
     "metadata": {
      "needs_background": "light"
     },
     "output_type": "display_data"
    }
   ],
   "source": [
    "\n",
    "dftest.plot()"
   ]
  },
  {
   "cell_type": "code",
   "execution_count": 162,
   "metadata": {},
   "outputs": [
    {
     "data": {
      "text/html": [
       "<div>\n",
       "<style scoped>\n",
       "    .dataframe tbody tr th:only-of-type {\n",
       "        vertical-align: middle;\n",
       "    }\n",
       "\n",
       "    .dataframe tbody tr th {\n",
       "        vertical-align: top;\n",
       "    }\n",
       "\n",
       "    .dataframe thead th {\n",
       "        text-align: right;\n",
       "    }\n",
       "</style>\n",
       "<table border=\"1\" class=\"dataframe\">\n",
       "  <thead>\n",
       "    <tr style=\"text-align: right;\">\n",
       "      <th></th>\n",
       "      <th>Similarity</th>\n",
       "      <th>Simple Avg</th>\n",
       "      <th>Word2Vec</th>\n",
       "    </tr>\n",
       "  </thead>\n",
       "  <tbody>\n",
       "    <tr>\n",
       "      <th>0</th>\n",
       "      <td>0.868249</td>\n",
       "      <td>0.966291</td>\n",
       "      <td>0.967170</td>\n",
       "    </tr>\n",
       "    <tr>\n",
       "      <th>1</th>\n",
       "      <td>0.302115</td>\n",
       "      <td>0.947453</td>\n",
       "      <td>0.959760</td>\n",
       "    </tr>\n",
       "    <tr>\n",
       "      <th>2</th>\n",
       "      <td>0.883923</td>\n",
       "      <td>0.910163</td>\n",
       "      <td>0.955192</td>\n",
       "    </tr>\n",
       "    <tr>\n",
       "      <th>3</th>\n",
       "      <td>0.840756</td>\n",
       "      <td>0.962647</td>\n",
       "      <td>0.946867</td>\n",
       "    </tr>\n",
       "    <tr>\n",
       "      <th>4</th>\n",
       "      <td>0.910258</td>\n",
       "      <td>0.950966</td>\n",
       "      <td>0.945515</td>\n",
       "    </tr>\n",
       "  </tbody>\n",
       "</table>\n",
       "</div>"
      ],
      "text/plain": [
       "   Similarity  Simple Avg  Word2Vec\n",
       "0    0.868249    0.966291  0.967170\n",
       "1    0.302115    0.947453  0.959760\n",
       "2    0.883923    0.910163  0.955192\n",
       "3    0.840756    0.962647  0.946867\n",
       "4    0.910258    0.950966  0.945515"
      ]
     },
     "execution_count": 162,
     "metadata": {},
     "output_type": "execute_result"
    }
   ],
   "source": [
    "data = {\"Similarity\":[column[61][7620],column[101][1502],column[100][1500],column[100][150],column[17][6811],column[10][393],column[100][50],column[17][6211],column[11][1432],column[15][6221]],\n",
    "       \"Simple Avg\":[df_simFCG[7620][61],df_simFCG[1502][101],df_simFCG[1500][100],df_simFCG[150][100],df_simFCG[6811][17],df_simFCG[393][10],df_simFCG[50][100],df_simFCG[6211][17],df_simFCG[1432][11],df_simFCG[6221][15]],\n",
    "       \"Word2Vec\":[0.9671703723806584, 0.9597601097351024, 0.9551919832586061, 0.9468671072946526, 0.9455152948551715, 0.5005749779539954, 0.9480695043441145, 0.9109537803445638, 0.4086659835161115,0.9195301360386668]}\n",
    "dfall = pd.DataFrame(data)\n",
    "dfall.head()"
   ]
  },
  {
   "cell_type": "code",
   "execution_count": 214,
   "metadata": {},
   "outputs": [
    {
     "data": {
      "text/plain": [
       "0.9094763767507913"
      ]
     },
     "execution_count": 214,
     "metadata": {},
     "output_type": "execute_result"
    }
   ],
   "source": [
    "co "
   ]
  },
  {
   "cell_type": "code",
   "execution_count": 215,
   "metadata": {},
   "outputs": [
    {
     "data": {
      "text/plain": [
       "0.967070434160537"
      ]
     },
     "execution_count": 215,
     "metadata": {},
     "output_type": "execute_result"
    }
   ],
   "source": [
    "df_simFCG[122][7]"
   ]
  },
  {
   "cell_type": "code",
   "execution_count": 186,
   "metadata": {
    "scrolled": false
   },
   "outputs": [
    {
     "data": {
      "text/plain": [
       "0.03233707193490942"
      ]
     },
     "execution_count": 186,
     "metadata": {},
     "output_type": "execute_result"
    }
   ],
   "source": [
    "df_simFCG[11][5]"
   ]
  },
  {
   "cell_type": "code",
   "execution_count": 220,
   "metadata": {},
   "outputs": [
    {
     "data": {
      "text/html": [
       "<div>\n",
       "<style scoped>\n",
       "    .dataframe tbody tr th:only-of-type {\n",
       "        vertical-align: middle;\n",
       "    }\n",
       "\n",
       "    .dataframe tbody tr th {\n",
       "        vertical-align: top;\n",
       "    }\n",
       "\n",
       "    .dataframe thead th {\n",
       "        text-align: right;\n",
       "    }\n",
       "</style>\n",
       "<table border=\"1\" class=\"dataframe\">\n",
       "  <thead>\n",
       "    <tr style=\"text-align: right;\">\n",
       "      <th></th>\n",
       "      <th>Similarity</th>\n",
       "      <th>Simple Avg</th>\n",
       "      <th>Word2Vec</th>\n",
       "    </tr>\n",
       "  </thead>\n",
       "  <tbody>\n",
       "    <tr>\n",
       "      <th>0</th>\n",
       "      <td>0.888766</td>\n",
       "      <td>0.962437</td>\n",
       "      <td>0.962947</td>\n",
       "    </tr>\n",
       "    <tr>\n",
       "      <th>1</th>\n",
       "      <td>0.206926</td>\n",
       "      <td>0.940209</td>\n",
       "      <td>0.896074</td>\n",
       "    </tr>\n",
       "    <tr>\n",
       "      <th>2</th>\n",
       "      <td>0.186545</td>\n",
       "      <td>0.966766</td>\n",
       "      <td>0.964360</td>\n",
       "    </tr>\n",
       "    <tr>\n",
       "      <th>3</th>\n",
       "      <td>0.905021</td>\n",
       "      <td>0.962703</td>\n",
       "      <td>0.948777</td>\n",
       "    </tr>\n",
       "    <tr>\n",
       "      <th>4</th>\n",
       "      <td>0.889400</td>\n",
       "      <td>0.966766</td>\n",
       "      <td>0.942619</td>\n",
       "    </tr>\n",
       "  </tbody>\n",
       "</table>\n",
       "</div>"
      ],
      "text/plain": [
       "   Similarity  Simple Avg  Word2Vec\n",
       "0    0.888766    0.962437  0.962947\n",
       "1    0.206926    0.940209  0.896074\n",
       "2    0.186545    0.966766  0.964360\n",
       "3    0.905021    0.962703  0.948777\n",
       "4    0.889400    0.966766  0.942619"
      ]
     },
     "execution_count": 220,
     "metadata": {},
     "output_type": "execute_result"
    }
   ],
   "source": [
    "data2 = {\"Similarity\":[0.8887664536419442,0.20692648918089684,0.186545001850615,0.905021474563197,0.889399613010405,0.8569016722417475,0.9094763767507913],\n",
    "       \"Simple Avg\":[0.9624371140861648,0.9402090327477748,0.9667657173721272,0.9627032610544316,0.9667657173721272,0.03233707193490942,0.967070434160537],\n",
    "       \"Word2Vec\":[0.9629466262171863,0.8960740944847622,0.9643601816109518,0.948777360767163,0.9426189626332377,0.9210900725597952,0.9590576955348454]}\n",
    "dfalls = pd.DataFrame(data2)\n",
    "dfalls.head()"
   ]
  },
  {
   "cell_type": "code",
   "execution_count": 221,
   "metadata": {},
   "outputs": [
    {
     "data": {
      "text/plain": [
       "<matplotlib.axes._subplots.AxesSubplot at 0x1ae523f890>"
      ]
     },
     "execution_count": 221,
     "metadata": {},
     "output_type": "execute_result"
    },
    {
     "data": {
      "image/png": "[encoded data removed]",
      "text/plain": [
       "<Figure size 432x288 with 1 Axes>"
      ]
     },
     "metadata": {
      "needs_background": "light"
     },
     "output_type": "display_data"
    }
   ],
   "source": [
    "dfalls.plot()"
   ]
  },
  {
   "cell_type": "code",
   "execution_count": 163,
   "metadata": {
    "scrolled": false
   },
   "outputs": [
    {
     "data": {
      "text/plain": [
       "<matplotlib.axes._subplots.AxesSubplot at 0x1ae8e92850>"
      ]
     },
     "execution_count": 163,
     "metadata": {},
     "output_type": "execute_result"
    },
    {
     "data": {
      "image/png": "[encoded data removed]",
      "text/plain": [
       "<Figure size 432x288 with 1 Axes>"
      ]
     },
     "metadata": {
      "needs_background": "light"
     },
     "output_type": "display_data"
    }
   ],
   "source": [
    "dfall.plot()"
   ]
  },
  {
   "cell_type": "code",
   "execution_count": 193,
   "metadata": {},
   "outputs": [],
   "source": [
    "sim_flatG = simFEG.flatten()"
   ]
  },
  {
   "cell_type": "code",
   "execution_count": 194,
   "metadata": {},
   "outputs": [],
   "source": [
    "df_FEW = pd.DataFrame(sim_flatG)"
   ]
  },
  {
   "cell_type": "code",
   "execution_count": 205,
   "metadata": {},
   "outputs": [],
   "source": [
    "count = 0\n",
    "for word in df_FEW:\n",
    "\n",
    "    if word == 'inf':\n",
    "        df_FEW[count] = 0\n",
    "    count = count +1\n"
   ]
  },
  {
   "cell_type": "code",
   "execution_count": 208,
   "metadata": {},
   "outputs": [
    {
     "data": {
      "text/plain": [
       "876"
      ]
     },
     "execution_count": 208,
     "metadata": {},
     "output_type": "execute_result"
    }
   ],
   "source": [
    "len(jobs_text)"
   ]
  },
  {
   "cell_type": "code",
   "execution_count": 206,
   "metadata": {},
   "outputs": [
    {
     "data": {
      "text/html": [
       "<div>\n",
       "<style scoped>\n",
       "    .dataframe tbody tr th:only-of-type {\n",
       "        vertical-align: middle;\n",
       "    }\n",
       "\n",
       "    .dataframe tbody tr th {\n",
       "        vertical-align: top;\n",
       "    }\n",
       "\n",
       "    .dataframe thead th {\n",
       "        text-align: right;\n",
       "    }\n",
       "</style>\n",
       "<table border=\"1\" class=\"dataframe\">\n",
       "  <thead>\n",
       "    <tr style=\"text-align: right;\">\n",
       "      <th></th>\n",
       "      <th>0</th>\n",
       "    </tr>\n",
       "  </thead>\n",
       "  <tbody>\n",
       "    <tr>\n",
       "      <th>0</th>\n",
       "      <td>inf</td>\n",
       "    </tr>\n",
       "    <tr>\n",
       "      <th>1</th>\n",
       "      <td>inf</td>\n",
       "    </tr>\n",
       "    <tr>\n",
       "      <th>2</th>\n",
       "      <td>inf</td>\n",
       "    </tr>\n",
       "    <tr>\n",
       "      <th>3</th>\n",
       "      <td>inf</td>\n",
       "    </tr>\n",
       "    <tr>\n",
       "      <th>4</th>\n",
       "      <td>inf</td>\n",
       "    </tr>\n",
       "    <tr>\n",
       "      <th>...</th>\n",
       "      <td>...</td>\n",
       "    </tr>\n",
       "    <tr>\n",
       "      <th>7683370</th>\n",
       "      <td>814.353437</td>\n",
       "    </tr>\n",
       "    <tr>\n",
       "      <th>7683371</th>\n",
       "      <td>171.138667</td>\n",
       "    </tr>\n",
       "    <tr>\n",
       "      <th>7683372</th>\n",
       "      <td>154.826423</td>\n",
       "    </tr>\n",
       "    <tr>\n",
       "      <th>7683373</th>\n",
       "      <td>153.799418</td>\n",
       "    </tr>\n",
       "    <tr>\n",
       "      <th>7683374</th>\n",
       "      <td>168.919717</td>\n",
       "    </tr>\n",
       "  </tbody>\n",
       "</table>\n",
       "<p>7683375 rows × 1 columns</p>\n",
       "</div>"
      ],
      "text/plain": [
       "                  0\n",
       "0               inf\n",
       "1               inf\n",
       "2               inf\n",
       "3               inf\n",
       "4               inf\n",
       "...             ...\n",
       "7683370  814.353437\n",
       "7683371  171.138667\n",
       "7683372  154.826423\n",
       "7683373  153.799418\n",
       "7683374  168.919717\n",
       "\n",
       "[7683375 rows x 1 columns]"
      ]
     },
     "execution_count": 206,
     "metadata": {},
     "output_type": "execute_result"
    }
   ],
   "source": [
    "df_FEW"
   ]
  },
  {
   "cell_type": "code",
   "execution_count": 209,
   "metadata": {},
   "outputs": [
    {
     "ename": "ValueError",
     "evalue": "supplied range of [1.090975464354136, inf] is not finite",
     "output_type": "error",
     "traceback": [
      "\u001b[0;31m---------------------------------------------------------------------------\u001b[0m",
      "\u001b[0;31mValueError\u001b[0m                                Traceback (most recent call last)",
      "\u001b[0;32m<ipython-input-209-e9f0609026d8>\u001b[0m in \u001b[0;36m<module>\u001b[0;34m\u001b[0m\n\u001b[0;32m----> 1\u001b[0;31m \u001b[0mdf_FEW\u001b[0m\u001b[0;34m[\u001b[0m\u001b[0;36m876\u001b[0m\u001b[0;34m:\u001b[0m\u001b[0;34m]\u001b[0m\u001b[0;34m.\u001b[0m\u001b[0mhist\u001b[0m\u001b[0;34m(\u001b[0m\u001b[0;34m)\u001b[0m\u001b[0;34m\u001b[0m\u001b[0;34m\u001b[0m\u001b[0m\n\u001b[0m",
      "\u001b[0;32m~/opt/anaconda3/lib/python3.7/site-packages/pandas/plotting/_core.py\u001b[0m in \u001b[0;36mhist_frame\u001b[0;34m(data, column, by, grid, xlabelsize, xrot, ylabelsize, yrot, ax, sharex, sharey, figsize, layout, bins, backend, **kwargs)\u001b[0m\n\u001b[1;32m    206\u001b[0m         \u001b[0mlayout\u001b[0m\u001b[0;34m=\u001b[0m\u001b[0mlayout\u001b[0m\u001b[0;34m,\u001b[0m\u001b[0;34m\u001b[0m\u001b[0;34m\u001b[0m\u001b[0m\n\u001b[1;32m    207\u001b[0m         \u001b[0mbins\u001b[0m\u001b[0;34m=\u001b[0m\u001b[0mbins\u001b[0m\u001b[0;34m,\u001b[0m\u001b[0;34m\u001b[0m\u001b[0;34m\u001b[0m\u001b[0m\n\u001b[0;32m--> 208\u001b[0;31m         \u001b[0;34m**\u001b[0m\u001b[0mkwargs\u001b[0m\u001b[0;34m,\u001b[0m\u001b[0;34m\u001b[0m\u001b[0;34m\u001b[0m\u001b[0m\n\u001b[0m\u001b[1;32m    209\u001b[0m     )\n\u001b[1;32m    210\u001b[0m \u001b[0;34m\u001b[0m\u001b[0m\n",
      "\u001b[0;32m~/opt/anaconda3/lib/python3.7/site-packages/pandas/plotting/_matplotlib/hist.py\u001b[0m in \u001b[0;36mhist_frame\u001b[0;34m(data, column, by, grid, xlabelsize, xrot, ylabelsize, yrot, ax, sharex, sharey, figsize, layout, bins, **kwds)\u001b[0m\n\u001b[1;32m    402\u001b[0m     \u001b[0;32mfor\u001b[0m \u001b[0mi\u001b[0m\u001b[0;34m,\u001b[0m \u001b[0mcol\u001b[0m \u001b[0;32min\u001b[0m \u001b[0menumerate\u001b[0m\u001b[0;34m(\u001b[0m\u001b[0mcom\u001b[0m\u001b[0;34m.\u001b[0m\u001b[0mtry_sort\u001b[0m\u001b[0;34m(\u001b[0m\u001b[0mdata\u001b[0m\u001b[0;34m.\u001b[0m\u001b[0mcolumns\u001b[0m\u001b[0;34m)\u001b[0m\u001b[0;34m)\u001b[0m\u001b[0;34m:\u001b[0m\u001b[0;34m\u001b[0m\u001b[0;34m\u001b[0m\u001b[0m\n\u001b[1;32m    403\u001b[0m         \u001b[0max\u001b[0m \u001b[0;34m=\u001b[0m \u001b[0m_axes\u001b[0m\u001b[0;34m[\u001b[0m\u001b[0mi\u001b[0m\u001b[0;34m]\u001b[0m\u001b[0;34m\u001b[0m\u001b[0;34m\u001b[0m\u001b[0m\n\u001b[0;32m--> 404\u001b[0;31m         \u001b[0max\u001b[0m\u001b[0;34m.\u001b[0m\u001b[0mhist\u001b[0m\u001b[0;34m(\u001b[0m\u001b[0mdata\u001b[0m\u001b[0;34m[\u001b[0m\u001b[0mcol\u001b[0m\u001b[0;34m]\u001b[0m\u001b[0;34m.\u001b[0m\u001b[0mdropna\u001b[0m\u001b[0;34m(\u001b[0m\u001b[0;34m)\u001b[0m\u001b[0;34m.\u001b[0m\u001b[0mvalues\u001b[0m\u001b[0;34m,\u001b[0m \u001b[0mbins\u001b[0m\u001b[0;34m=\u001b[0m\u001b[0mbins\u001b[0m\u001b[0;34m,\u001b[0m \u001b[0;34m**\u001b[0m\u001b[0mkwds\u001b[0m\u001b[0;34m)\u001b[0m\u001b[0;34m\u001b[0m\u001b[0;34m\u001b[0m\u001b[0m\n\u001b[0m\u001b[1;32m    405\u001b[0m         \u001b[0max\u001b[0m\u001b[0;34m.\u001b[0m\u001b[0mset_title\u001b[0m\u001b[0;34m(\u001b[0m\u001b[0mcol\u001b[0m\u001b[0;34m)\u001b[0m\u001b[0;34m\u001b[0m\u001b[0;34m\u001b[0m\u001b[0m\n\u001b[1;32m    406\u001b[0m         \u001b[0max\u001b[0m\u001b[0;34m.\u001b[0m\u001b[0mgrid\u001b[0m\u001b[0;34m(\u001b[0m\u001b[0mgrid\u001b[0m\u001b[0;34m)\u001b[0m\u001b[0;34m\u001b[0m\u001b[0;34m\u001b[0m\u001b[0m\n",
      "\u001b[0;32m~/opt/anaconda3/lib/python3.7/site-packages/matplotlib/__init__.py\u001b[0m in \u001b[0;36minner\u001b[0;34m(ax, data, *args, **kwargs)\u001b[0m\n\u001b[1;32m   1597\u001b[0m     \u001b[0;32mdef\u001b[0m \u001b[0minner\u001b[0m\u001b[0;34m(\u001b[0m\u001b[0max\u001b[0m\u001b[0;34m,\u001b[0m \u001b[0;34m*\u001b[0m\u001b[0margs\u001b[0m\u001b[0;34m,\u001b[0m \u001b[0mdata\u001b[0m\u001b[0;34m=\u001b[0m\u001b[0;32mNone\u001b[0m\u001b[0;34m,\u001b[0m \u001b[0;34m**\u001b[0m\u001b[0mkwargs\u001b[0m\u001b[0;34m)\u001b[0m\u001b[0;34m:\u001b[0m\u001b[0;34m\u001b[0m\u001b[0;34m\u001b[0m\u001b[0m\n\u001b[1;32m   1598\u001b[0m         \u001b[0;32mif\u001b[0m \u001b[0mdata\u001b[0m \u001b[0;32mis\u001b[0m \u001b[0;32mNone\u001b[0m\u001b[0;34m:\u001b[0m\u001b[0;34m\u001b[0m\u001b[0;34m\u001b[0m\u001b[0m\n\u001b[0;32m-> 1599\u001b[0;31m             \u001b[0;32mreturn\u001b[0m \u001b[0mfunc\u001b[0m\u001b[0;34m(\u001b[0m\u001b[0max\u001b[0m\u001b[0;34m,\u001b[0m \u001b[0;34m*\u001b[0m\u001b[0mmap\u001b[0m\u001b[0;34m(\u001b[0m\u001b[0msanitize_sequence\u001b[0m\u001b[0;34m,\u001b[0m \u001b[0margs\u001b[0m\u001b[0;34m)\u001b[0m\u001b[0;34m,\u001b[0m \u001b[0;34m**\u001b[0m\u001b[0mkwargs\u001b[0m\u001b[0;34m)\u001b[0m\u001b[0;34m\u001b[0m\u001b[0;34m\u001b[0m\u001b[0m\n\u001b[0m\u001b[1;32m   1600\u001b[0m \u001b[0;34m\u001b[0m\u001b[0m\n\u001b[1;32m   1601\u001b[0m         \u001b[0mbound\u001b[0m \u001b[0;34m=\u001b[0m \u001b[0mnew_sig\u001b[0m\u001b[0;34m.\u001b[0m\u001b[0mbind\u001b[0m\u001b[0;34m(\u001b[0m\u001b[0max\u001b[0m\u001b[0;34m,\u001b[0m \u001b[0;34m*\u001b[0m\u001b[0margs\u001b[0m\u001b[0;34m,\u001b[0m \u001b[0;34m**\u001b[0m\u001b[0mkwargs\u001b[0m\u001b[0;34m)\u001b[0m\u001b[0;34m\u001b[0m\u001b[0;34m\u001b[0m\u001b[0m\n",
      "\u001b[0;32m~/opt/anaconda3/lib/python3.7/site-packages/matplotlib/axes/_axes.py\u001b[0m in \u001b[0;36mhist\u001b[0;34m(self, x, bins, range, density, weights, cumulative, bottom, histtype, align, orientation, rwidth, log, color, label, stacked, normed, **kwargs)\u001b[0m\n\u001b[1;32m   6773\u001b[0m             \u001b[0;31m# this will automatically overwrite bins,\u001b[0m\u001b[0;34m\u001b[0m\u001b[0;34m\u001b[0m\u001b[0;34m\u001b[0m\u001b[0m\n\u001b[1;32m   6774\u001b[0m             \u001b[0;31m# so that each histogram uses the same bins\u001b[0m\u001b[0;34m\u001b[0m\u001b[0;34m\u001b[0m\u001b[0;34m\u001b[0m\u001b[0m\n\u001b[0;32m-> 6775\u001b[0;31m             \u001b[0mm\u001b[0m\u001b[0;34m,\u001b[0m \u001b[0mbins\u001b[0m \u001b[0;34m=\u001b[0m \u001b[0mnp\u001b[0m\u001b[0;34m.\u001b[0m\u001b[0mhistogram\u001b[0m\u001b[0;34m(\u001b[0m\u001b[0mx\u001b[0m\u001b[0;34m[\u001b[0m\u001b[0mi\u001b[0m\u001b[0;34m]\u001b[0m\u001b[0;34m,\u001b[0m \u001b[0mbins\u001b[0m\u001b[0;34m,\u001b[0m \u001b[0mweights\u001b[0m\u001b[0;34m=\u001b[0m\u001b[0mw\u001b[0m\u001b[0;34m[\u001b[0m\u001b[0mi\u001b[0m\u001b[0;34m]\u001b[0m\u001b[0;34m,\u001b[0m \u001b[0;34m**\u001b[0m\u001b[0mhist_kwargs\u001b[0m\u001b[0;34m)\u001b[0m\u001b[0;34m\u001b[0m\u001b[0;34m\u001b[0m\u001b[0m\n\u001b[0m\u001b[1;32m   6776\u001b[0m             \u001b[0mm\u001b[0m \u001b[0;34m=\u001b[0m \u001b[0mm\u001b[0m\u001b[0;34m.\u001b[0m\u001b[0mastype\u001b[0m\u001b[0;34m(\u001b[0m\u001b[0mfloat\u001b[0m\u001b[0;34m)\u001b[0m  \u001b[0;31m# causes problems later if it's an int\u001b[0m\u001b[0;34m\u001b[0m\u001b[0;34m\u001b[0m\u001b[0m\n\u001b[1;32m   6777\u001b[0m             \u001b[0;32mif\u001b[0m \u001b[0mmlast\u001b[0m \u001b[0;32mis\u001b[0m \u001b[0;32mNone\u001b[0m\u001b[0;34m:\u001b[0m\u001b[0;34m\u001b[0m\u001b[0;34m\u001b[0m\u001b[0m\n",
      "\u001b[0;32m<__array_function__ internals>\u001b[0m in \u001b[0;36mhistogram\u001b[0;34m(*args, **kwargs)\u001b[0m\n",
      "\u001b[0;32m~/opt/anaconda3/lib/python3.7/site-packages/numpy/lib/histograms.py\u001b[0m in \u001b[0;36mhistogram\u001b[0;34m(a, bins, range, normed, weights, density)\u001b[0m\n\u001b[1;32m    793\u001b[0m     \u001b[0ma\u001b[0m\u001b[0;34m,\u001b[0m \u001b[0mweights\u001b[0m \u001b[0;34m=\u001b[0m \u001b[0m_ravel_and_check_weights\u001b[0m\u001b[0;34m(\u001b[0m\u001b[0ma\u001b[0m\u001b[0;34m,\u001b[0m \u001b[0mweights\u001b[0m\u001b[0;34m)\u001b[0m\u001b[0;34m\u001b[0m\u001b[0;34m\u001b[0m\u001b[0m\n\u001b[1;32m    794\u001b[0m \u001b[0;34m\u001b[0m\u001b[0m\n\u001b[0;32m--> 795\u001b[0;31m     \u001b[0mbin_edges\u001b[0m\u001b[0;34m,\u001b[0m \u001b[0muniform_bins\u001b[0m \u001b[0;34m=\u001b[0m \u001b[0m_get_bin_edges\u001b[0m\u001b[0;34m(\u001b[0m\u001b[0ma\u001b[0m\u001b[0;34m,\u001b[0m \u001b[0mbins\u001b[0m\u001b[0;34m,\u001b[0m \u001b[0mrange\u001b[0m\u001b[0;34m,\u001b[0m \u001b[0mweights\u001b[0m\u001b[0;34m)\u001b[0m\u001b[0;34m\u001b[0m\u001b[0;34m\u001b[0m\u001b[0m\n\u001b[0m\u001b[1;32m    796\u001b[0m \u001b[0;34m\u001b[0m\u001b[0m\n\u001b[1;32m    797\u001b[0m     \u001b[0;31m# Histogram is an integer or a float array depending on the weights.\u001b[0m\u001b[0;34m\u001b[0m\u001b[0;34m\u001b[0m\u001b[0;34m\u001b[0m\u001b[0m\n",
      "\u001b[0;32m~/opt/anaconda3/lib/python3.7/site-packages/numpy/lib/histograms.py\u001b[0m in \u001b[0;36m_get_bin_edges\u001b[0;34m(a, bins, range, weights)\u001b[0m\n\u001b[1;32m    427\u001b[0m             \u001b[0;32mraise\u001b[0m \u001b[0mValueError\u001b[0m\u001b[0;34m(\u001b[0m\u001b[0;34m'`bins` must be positive, when an integer'\u001b[0m\u001b[0;34m)\u001b[0m\u001b[0;34m\u001b[0m\u001b[0;34m\u001b[0m\u001b[0m\n\u001b[1;32m    428\u001b[0m \u001b[0;34m\u001b[0m\u001b[0m\n\u001b[0;32m--> 429\u001b[0;31m         \u001b[0mfirst_edge\u001b[0m\u001b[0;34m,\u001b[0m \u001b[0mlast_edge\u001b[0m \u001b[0;34m=\u001b[0m \u001b[0m_get_outer_edges\u001b[0m\u001b[0;34m(\u001b[0m\u001b[0ma\u001b[0m\u001b[0;34m,\u001b[0m \u001b[0mrange\u001b[0m\u001b[0;34m)\u001b[0m\u001b[0;34m\u001b[0m\u001b[0;34m\u001b[0m\u001b[0m\n\u001b[0m\u001b[1;32m    430\u001b[0m \u001b[0;34m\u001b[0m\u001b[0m\n\u001b[1;32m    431\u001b[0m     \u001b[0;32melif\u001b[0m \u001b[0mnp\u001b[0m\u001b[0;34m.\u001b[0m\u001b[0mndim\u001b[0m\u001b[0;34m(\u001b[0m\u001b[0mbins\u001b[0m\u001b[0;34m)\u001b[0m \u001b[0;34m==\u001b[0m \u001b[0;36m1\u001b[0m\u001b[0;34m:\u001b[0m\u001b[0;34m\u001b[0m\u001b[0;34m\u001b[0m\u001b[0m\n",
      "\u001b[0;32m~/opt/anaconda3/lib/python3.7/site-packages/numpy/lib/histograms.py\u001b[0m in \u001b[0;36m_get_outer_edges\u001b[0;34m(a, range)\u001b[0m\n\u001b[1;32m    317\u001b[0m         \u001b[0;32mif\u001b[0m \u001b[0;32mnot\u001b[0m \u001b[0;34m(\u001b[0m\u001b[0mnp\u001b[0m\u001b[0;34m.\u001b[0m\u001b[0misfinite\u001b[0m\u001b[0;34m(\u001b[0m\u001b[0mfirst_edge\u001b[0m\u001b[0;34m)\u001b[0m \u001b[0;32mand\u001b[0m \u001b[0mnp\u001b[0m\u001b[0;34m.\u001b[0m\u001b[0misfinite\u001b[0m\u001b[0;34m(\u001b[0m\u001b[0mlast_edge\u001b[0m\u001b[0;34m)\u001b[0m\u001b[0;34m)\u001b[0m\u001b[0;34m:\u001b[0m\u001b[0;34m\u001b[0m\u001b[0;34m\u001b[0m\u001b[0m\n\u001b[1;32m    318\u001b[0m             raise ValueError(\n\u001b[0;32m--> 319\u001b[0;31m                 \"supplied range of [{}, {}] is not finite\".format(first_edge, last_edge))\n\u001b[0m\u001b[1;32m    320\u001b[0m     \u001b[0;32melif\u001b[0m \u001b[0ma\u001b[0m\u001b[0;34m.\u001b[0m\u001b[0msize\u001b[0m \u001b[0;34m==\u001b[0m \u001b[0;36m0\u001b[0m\u001b[0;34m:\u001b[0m\u001b[0;34m\u001b[0m\u001b[0;34m\u001b[0m\u001b[0m\n\u001b[1;32m    321\u001b[0m         \u001b[0;31m# handle empty arrays. Can't determine range, so use 0-1.\u001b[0m\u001b[0;34m\u001b[0m\u001b[0;34m\u001b[0m\u001b[0;34m\u001b[0m\u001b[0m\n",
      "\u001b[0;31mValueError\u001b[0m: supplied range of [1.090975464354136, inf] is not finite"
     ]
    },
    {
     "data": {
      "image/png": "[encoded data removed]",
      "text/plain": [
       "<Figure size 432x288 with 1 Axes>"
      ]
     },
     "metadata": {
      "needs_background": "light"
     },
     "output_type": "display_data"
    }
   ],
   "source": [
    "df_FEW[876:].hist()"
   ]
  },
  {
   "cell_type": "code",
   "execution_count": null,
   "metadata": {},
   "outputs": [],
   "source": []
  },
  {
   "cell_type": "code",
   "execution_count": null,
   "metadata": {},
   "outputs": [],
   "source": []
  },
  {
   "cell_type": "code",
   "execution_count": null,
   "metadata": {},
   "outputs": [],
   "source": []
  },
  {
   "cell_type": "code",
   "execution_count": null,
   "metadata": {},
   "outputs": [],
   "source": []
  },
  {
   "cell_type": "code",
   "execution_count": 145,
   "metadata": {},
   "outputs": [],
   "source": [
    "from numpy import array"
   ]
  },
  {
   "cell_type": "code",
   "execution_count": 146,
   "metadata": {},
   "outputs": [],
   "source": [
    "sim_flat2 = array(column)"
   ]
  },
  {
   "cell_type": "code",
   "execution_count": 147,
   "metadata": {},
   "outputs": [],
   "source": [
    "sim_flat2 = sim_flat2.flatten()"
   ]
  },
  {
   "cell_type": "code",
   "execution_count": 151,
   "metadata": {},
   "outputs": [],
   "source": [
    "df_col = pd.DataFrame(sim_flat2)"
   ]
  },
  {
   "cell_type": "code",
   "execution_count": null,
   "metadata": {},
   "outputs": [],
   "source": []
  },
  {
   "cell_type": "code",
   "execution_count": 154,
   "metadata": {},
   "outputs": [
    {
     "data": {
      "text/plain": [
       "array([[<matplotlib.axes._subplots.AxesSubplot object at 0x1ae30871d0>]],\n",
       "      dtype=object)"
      ]
     },
     "execution_count": 154,
     "metadata": {},
     "output_type": "execute_result"
    },
    {
     "data": {
      "image/png": "[encoded data removed]",
      "text/plain": [
       "<Figure size 432x288 with 1 Axes>"
      ]
     },
     "metadata": {
      "needs_background": "light"
     },
     "output_type": "display_data"
    }
   ],
   "source": [
    "df_col.hist()"
   ]
  },
  {
   "cell_type": "code",
   "execution_count": 137,
   "metadata": {},
   "outputs": [],
   "source": [
    "\n"
   ]
  },
  {
   "cell_type": "code",
   "execution_count": 138,
   "metadata": {},
   "outputs": [
    {
     "data": {
      "text/html": [
       "<div>\n",
       "<style scoped>\n",
       "    .dataframe tbody tr th:only-of-type {\n",
       "        vertical-align: middle;\n",
       "    }\n",
       "\n",
       "    .dataframe tbody tr th {\n",
       "        vertical-align: top;\n",
       "    }\n",
       "\n",
       "    .dataframe thead th {\n",
       "        text-align: right;\n",
       "    }\n",
       "</style>\n",
       "<table border=\"1\" class=\"dataframe\">\n",
       "  <thead>\n",
       "    <tr style=\"text-align: right;\">\n",
       "      <th></th>\n",
       "      <th>0</th>\n",
       "      <th>1</th>\n",
       "      <th>2</th>\n",
       "      <th>3</th>\n",
       "      <th>4</th>\n",
       "      <th>5</th>\n",
       "      <th>6</th>\n",
       "      <th>7</th>\n",
       "      <th>8</th>\n",
       "      <th>9</th>\n",
       "      <th>...</th>\n",
       "      <th>8770</th>\n",
       "      <th>8771</th>\n",
       "      <th>8772</th>\n",
       "      <th>8773</th>\n",
       "      <th>8774</th>\n",
       "      <th>8775</th>\n",
       "      <th>8776</th>\n",
       "      <th>8777</th>\n",
       "      <th>8778</th>\n",
       "      <th>8779</th>\n",
       "    </tr>\n",
       "  </thead>\n",
       "  <tbody>\n",
       "    <tr>\n",
       "      <th>0</th>\n",
       "      <td>0.866765</td>\n",
       "      <td>0.820076</td>\n",
       "      <td>0.831417</td>\n",
       "      <td>0.735399</td>\n",
       "      <td>0.746892</td>\n",
       "      <td>0.826259</td>\n",
       "      <td>0.824602</td>\n",
       "      <td>0.863643</td>\n",
       "      <td>0.881462</td>\n",
       "      <td>0.827351</td>\n",
       "      <td>...</td>\n",
       "      <td>0.815167</td>\n",
       "      <td>0.851790</td>\n",
       "      <td>0.761471</td>\n",
       "      <td>0.180216</td>\n",
       "      <td>0.820568</td>\n",
       "      <td>0.348516</td>\n",
       "      <td>0.808758</td>\n",
       "      <td>0.178895</td>\n",
       "      <td>0.880250</td>\n",
       "      <td>0.802418</td>\n",
       "    </tr>\n",
       "    <tr>\n",
       "      <th>1</th>\n",
       "      <td>0.891944</td>\n",
       "      <td>0.840918</td>\n",
       "      <td>0.833264</td>\n",
       "      <td>0.726092</td>\n",
       "      <td>0.809313</td>\n",
       "      <td>0.803603</td>\n",
       "      <td>0.846248</td>\n",
       "      <td>0.878570</td>\n",
       "      <td>0.881742</td>\n",
       "      <td>0.860609</td>\n",
       "      <td>...</td>\n",
       "      <td>0.786309</td>\n",
       "      <td>0.904033</td>\n",
       "      <td>0.843263</td>\n",
       "      <td>0.216125</td>\n",
       "      <td>0.842062</td>\n",
       "      <td>0.331369</td>\n",
       "      <td>0.804828</td>\n",
       "      <td>0.214330</td>\n",
       "      <td>0.908770</td>\n",
       "      <td>0.855686</td>\n",
       "    </tr>\n",
       "    <tr>\n",
       "      <th>2</th>\n",
       "      <td>0.866756</td>\n",
       "      <td>0.843843</td>\n",
       "      <td>0.871807</td>\n",
       "      <td>0.780722</td>\n",
       "      <td>0.818170</td>\n",
       "      <td>0.883924</td>\n",
       "      <td>0.864499</td>\n",
       "      <td>0.868410</td>\n",
       "      <td>0.915478</td>\n",
       "      <td>0.815102</td>\n",
       "      <td>...</td>\n",
       "      <td>0.867475</td>\n",
       "      <td>0.856220</td>\n",
       "      <td>0.757057</td>\n",
       "      <td>0.225937</td>\n",
       "      <td>0.823581</td>\n",
       "      <td>0.312833</td>\n",
       "      <td>0.880187</td>\n",
       "      <td>0.231751</td>\n",
       "      <td>0.861052</td>\n",
       "      <td>0.758024</td>\n",
       "    </tr>\n",
       "    <tr>\n",
       "      <th>3</th>\n",
       "      <td>0.800267</td>\n",
       "      <td>0.844040</td>\n",
       "      <td>0.849693</td>\n",
       "      <td>0.739201</td>\n",
       "      <td>0.749170</td>\n",
       "      <td>0.872241</td>\n",
       "      <td>0.818690</td>\n",
       "      <td>0.818136</td>\n",
       "      <td>0.827945</td>\n",
       "      <td>0.781618</td>\n",
       "      <td>...</td>\n",
       "      <td>0.824751</td>\n",
       "      <td>0.857020</td>\n",
       "      <td>0.800465</td>\n",
       "      <td>0.193315</td>\n",
       "      <td>0.783639</td>\n",
       "      <td>0.306849</td>\n",
       "      <td>0.832592</td>\n",
       "      <td>0.193253</td>\n",
       "      <td>0.844189</td>\n",
       "      <td>0.784805</td>\n",
       "    </tr>\n",
       "    <tr>\n",
       "      <th>4</th>\n",
       "      <td>0.905055</td>\n",
       "      <td>0.849839</td>\n",
       "      <td>0.824750</td>\n",
       "      <td>0.726188</td>\n",
       "      <td>0.806523</td>\n",
       "      <td>0.821110</td>\n",
       "      <td>0.855340</td>\n",
       "      <td>0.893772</td>\n",
       "      <td>0.896083</td>\n",
       "      <td>0.852852</td>\n",
       "      <td>...</td>\n",
       "      <td>0.811606</td>\n",
       "      <td>0.902216</td>\n",
       "      <td>0.828375</td>\n",
       "      <td>0.199692</td>\n",
       "      <td>0.854019</td>\n",
       "      <td>0.320477</td>\n",
       "      <td>0.818777</td>\n",
       "      <td>0.197118</td>\n",
       "      <td>0.908849</td>\n",
       "      <td>0.844831</td>\n",
       "    </tr>\n",
       "    <tr>\n",
       "      <th>...</th>\n",
       "      <td>...</td>\n",
       "      <td>...</td>\n",
       "      <td>...</td>\n",
       "      <td>...</td>\n",
       "      <td>...</td>\n",
       "      <td>...</td>\n",
       "      <td>...</td>\n",
       "      <td>...</td>\n",
       "      <td>...</td>\n",
       "      <td>...</td>\n",
       "      <td>...</td>\n",
       "      <td>...</td>\n",
       "      <td>...</td>\n",
       "      <td>...</td>\n",
       "      <td>...</td>\n",
       "      <td>...</td>\n",
       "      <td>...</td>\n",
       "      <td>...</td>\n",
       "      <td>...</td>\n",
       "      <td>...</td>\n",
       "      <td>...</td>\n",
       "    </tr>\n",
       "    <tr>\n",
       "      <th>101</th>\n",
       "      <td>0.871712</td>\n",
       "      <td>0.874421</td>\n",
       "      <td>0.829645</td>\n",
       "      <td>0.726661</td>\n",
       "      <td>0.844094</td>\n",
       "      <td>0.847679</td>\n",
       "      <td>0.882884</td>\n",
       "      <td>0.874937</td>\n",
       "      <td>0.934145</td>\n",
       "      <td>0.842537</td>\n",
       "      <td>...</td>\n",
       "      <td>0.831872</td>\n",
       "      <td>0.912182</td>\n",
       "      <td>0.842248</td>\n",
       "      <td>0.192235</td>\n",
       "      <td>0.829687</td>\n",
       "      <td>0.302115</td>\n",
       "      <td>0.838102</td>\n",
       "      <td>0.194106</td>\n",
       "      <td>0.872383</td>\n",
       "      <td>0.820866</td>\n",
       "    </tr>\n",
       "    <tr>\n",
       "      <th>102</th>\n",
       "      <td>0.869851</td>\n",
       "      <td>0.869192</td>\n",
       "      <td>0.807313</td>\n",
       "      <td>0.707316</td>\n",
       "      <td>0.842197</td>\n",
       "      <td>0.831375</td>\n",
       "      <td>0.892902</td>\n",
       "      <td>0.834168</td>\n",
       "      <td>0.923708</td>\n",
       "      <td>0.825284</td>\n",
       "      <td>...</td>\n",
       "      <td>0.809118</td>\n",
       "      <td>0.883473</td>\n",
       "      <td>0.818260</td>\n",
       "      <td>0.190140</td>\n",
       "      <td>0.798701</td>\n",
       "      <td>0.343723</td>\n",
       "      <td>0.820845</td>\n",
       "      <td>0.192364</td>\n",
       "      <td>0.846938</td>\n",
       "      <td>0.788358</td>\n",
       "    </tr>\n",
       "    <tr>\n",
       "      <th>103</th>\n",
       "      <td>0.877193</td>\n",
       "      <td>0.809765</td>\n",
       "      <td>0.841510</td>\n",
       "      <td>0.740637</td>\n",
       "      <td>0.763970</td>\n",
       "      <td>0.827107</td>\n",
       "      <td>0.811235</td>\n",
       "      <td>0.895026</td>\n",
       "      <td>0.862903</td>\n",
       "      <td>0.865603</td>\n",
       "      <td>...</td>\n",
       "      <td>0.804289</td>\n",
       "      <td>0.861979</td>\n",
       "      <td>0.787114</td>\n",
       "      <td>0.221570</td>\n",
       "      <td>0.846148</td>\n",
       "      <td>0.244127</td>\n",
       "      <td>0.826632</td>\n",
       "      <td>0.225078</td>\n",
       "      <td>0.894319</td>\n",
       "      <td>0.819116</td>\n",
       "    </tr>\n",
       "    <tr>\n",
       "      <th>104</th>\n",
       "      <td>0.852144</td>\n",
       "      <td>0.870217</td>\n",
       "      <td>0.885142</td>\n",
       "      <td>0.757123</td>\n",
       "      <td>0.799114</td>\n",
       "      <td>0.895028</td>\n",
       "      <td>0.871197</td>\n",
       "      <td>0.869855</td>\n",
       "      <td>0.873740</td>\n",
       "      <td>0.818456</td>\n",
       "      <td>...</td>\n",
       "      <td>0.849978</td>\n",
       "      <td>0.874158</td>\n",
       "      <td>0.811769</td>\n",
       "      <td>0.198814</td>\n",
       "      <td>0.828402</td>\n",
       "      <td>0.316636</td>\n",
       "      <td>0.864147</td>\n",
       "      <td>0.198861</td>\n",
       "      <td>0.872508</td>\n",
       "      <td>0.799443</td>\n",
       "    </tr>\n",
       "    <tr>\n",
       "      <th>105</th>\n",
       "      <td>0.873128</td>\n",
       "      <td>0.795568</td>\n",
       "      <td>0.782673</td>\n",
       "      <td>0.696563</td>\n",
       "      <td>0.786094</td>\n",
       "      <td>0.770157</td>\n",
       "      <td>0.798357</td>\n",
       "      <td>0.877961</td>\n",
       "      <td>0.877979</td>\n",
       "      <td>0.846830</td>\n",
       "      <td>...</td>\n",
       "      <td>0.768802</td>\n",
       "      <td>0.876952</td>\n",
       "      <td>0.790007</td>\n",
       "      <td>0.201851</td>\n",
       "      <td>0.832736</td>\n",
       "      <td>0.264631</td>\n",
       "      <td>0.779590</td>\n",
       "      <td>0.201343</td>\n",
       "      <td>0.893003</td>\n",
       "      <td>0.836168</td>\n",
       "    </tr>\n",
       "  </tbody>\n",
       "</table>\n",
       "<p>106 rows × 8780 columns</p>\n",
       "</div>"
      ],
      "text/plain": [
       "         0         1         2         3         4         5         6     \\\n",
       "0    0.866765  0.820076  0.831417  0.735399  0.746892  0.826259  0.824602   \n",
       "1    0.891944  0.840918  0.833264  0.726092  0.809313  0.803603  0.846248   \n",
       "2    0.866756  0.843843  0.871807  0.780722  0.818170  0.883924  0.864499   \n",
       "3    0.800267  0.844040  0.849693  0.739201  0.749170  0.872241  0.818690   \n",
       "4    0.905055  0.849839  0.824750  0.726188  0.806523  0.821110  0.855340   \n",
       "..        ...       ...       ...       ...       ...       ...       ...   \n",
       "101  0.871712  0.874421  0.829645  0.726661  0.844094  0.847679  0.882884   \n",
       "102  0.869851  0.869192  0.807313  0.707316  0.842197  0.831375  0.892902   \n",
       "103  0.877193  0.809765  0.841510  0.740637  0.763970  0.827107  0.811235   \n",
       "104  0.852144  0.870217  0.885142  0.757123  0.799114  0.895028  0.871197   \n",
       "105  0.873128  0.795568  0.782673  0.696563  0.786094  0.770157  0.798357   \n",
       "\n",
       "         7         8         9     ...      8770      8771      8772  \\\n",
       "0    0.863643  0.881462  0.827351  ...  0.815167  0.851790  0.761471   \n",
       "1    0.878570  0.881742  0.860609  ...  0.786309  0.904033  0.843263   \n",
       "2    0.868410  0.915478  0.815102  ...  0.867475  0.856220  0.757057   \n",
       "3    0.818136  0.827945  0.781618  ...  0.824751  0.857020  0.800465   \n",
       "4    0.893772  0.896083  0.852852  ...  0.811606  0.902216  0.828375   \n",
       "..        ...       ...       ...  ...       ...       ...       ...   \n",
       "101  0.874937  0.934145  0.842537  ...  0.831872  0.912182  0.842248   \n",
       "102  0.834168  0.923708  0.825284  ...  0.809118  0.883473  0.818260   \n",
       "103  0.895026  0.862903  0.865603  ...  0.804289  0.861979  0.787114   \n",
       "104  0.869855  0.873740  0.818456  ...  0.849978  0.874158  0.811769   \n",
       "105  0.877961  0.877979  0.846830  ...  0.768802  0.876952  0.790007   \n",
       "\n",
       "         8773      8774      8775      8776      8777      8778      8779  \n",
       "0    0.180216  0.820568  0.348516  0.808758  0.178895  0.880250  0.802418  \n",
       "1    0.216125  0.842062  0.331369  0.804828  0.214330  0.908770  0.855686  \n",
       "2    0.225937  0.823581  0.312833  0.880187  0.231751  0.861052  0.758024  \n",
       "3    0.193315  0.783639  0.306849  0.832592  0.193253  0.844189  0.784805  \n",
       "4    0.199692  0.854019  0.320477  0.818777  0.197118  0.908849  0.844831  \n",
       "..        ...       ...       ...       ...       ...       ...       ...  \n",
       "101  0.192235  0.829687  0.302115  0.838102  0.194106  0.872383  0.820866  \n",
       "102  0.190140  0.798701  0.343723  0.820845  0.192364  0.846938  0.788358  \n",
       "103  0.221570  0.846148  0.244127  0.826632  0.225078  0.894319  0.819116  \n",
       "104  0.198814  0.828402  0.316636  0.864147  0.198861  0.872508  0.799443  \n",
       "105  0.201851  0.832736  0.264631  0.779590  0.201343  0.893003  0.836168  \n",
       "\n",
       "[106 rows x 8780 columns]"
      ]
     },
     "execution_count": 138,
     "metadata": {},
     "output_type": "execute_result"
    }
   ],
   "source": [
    "df_col"
   ]
  },
  {
   "cell_type": "code",
   "execution_count": null,
   "metadata": {},
   "outputs": [],
   "source": [
    "df_col.flatten()"
   ]
  },
  {
   "cell_type": "code",
   "execution_count": 136,
   "metadata": {},
   "outputs": [
    {
     "ename": "KeyboardInterrupt",
     "evalue": "",
     "output_type": "error",
     "traceback": [
      "\u001b[0;31m---------------------------------------------------------------------------\u001b[0m",
      "\u001b[0;31mKeyboardInterrupt\u001b[0m                         Traceback (most recent call last)",
      "\u001b[0;32m<ipython-input-136-325cd46d3e09>\u001b[0m in \u001b[0;36m<module>\u001b[0;34m\u001b[0m\n\u001b[0;32m----> 1\u001b[0;31m \u001b[0mdf_col\u001b[0m\u001b[0;34m.\u001b[0m\u001b[0mhist\u001b[0m\u001b[0;34m(\u001b[0m\u001b[0;34m)\u001b[0m\u001b[0;34m\u001b[0m\u001b[0;34m\u001b[0m\u001b[0m\n\u001b[0m",
      "\u001b[0;32m~/opt/anaconda3/lib/python3.7/site-packages/pandas/plotting/_core.py\u001b[0m in \u001b[0;36mhist_frame\u001b[0;34m(data, column, by, grid, xlabelsize, xrot, ylabelsize, yrot, ax, sharex, sharey, figsize, layout, bins, backend, **kwargs)\u001b[0m\n\u001b[1;32m    206\u001b[0m         \u001b[0mlayout\u001b[0m\u001b[0;34m=\u001b[0m\u001b[0mlayout\u001b[0m\u001b[0;34m,\u001b[0m\u001b[0;34m\u001b[0m\u001b[0;34m\u001b[0m\u001b[0m\n\u001b[1;32m    207\u001b[0m         \u001b[0mbins\u001b[0m\u001b[0;34m=\u001b[0m\u001b[0mbins\u001b[0m\u001b[0;34m,\u001b[0m\u001b[0;34m\u001b[0m\u001b[0;34m\u001b[0m\u001b[0m\n\u001b[0;32m--> 208\u001b[0;31m         \u001b[0;34m**\u001b[0m\u001b[0mkwargs\u001b[0m\u001b[0;34m,\u001b[0m\u001b[0;34m\u001b[0m\u001b[0;34m\u001b[0m\u001b[0m\n\u001b[0m\u001b[1;32m    209\u001b[0m     )\n\u001b[1;32m    210\u001b[0m \u001b[0;34m\u001b[0m\u001b[0m\n",
      "\u001b[0;32m~/opt/anaconda3/lib/python3.7/site-packages/pandas/plotting/_matplotlib/hist.py\u001b[0m in \u001b[0;36mhist_frame\u001b[0;34m(data, column, by, grid, xlabelsize, xrot, ylabelsize, yrot, ax, sharex, sharey, figsize, layout, bins, **kwds)\u001b[0m\n\u001b[1;32m    396\u001b[0m         \u001b[0msharey\u001b[0m\u001b[0;34m=\u001b[0m\u001b[0msharey\u001b[0m\u001b[0;34m,\u001b[0m\u001b[0;34m\u001b[0m\u001b[0;34m\u001b[0m\u001b[0m\n\u001b[1;32m    397\u001b[0m         \u001b[0mfigsize\u001b[0m\u001b[0;34m=\u001b[0m\u001b[0mfigsize\u001b[0m\u001b[0;34m,\u001b[0m\u001b[0;34m\u001b[0m\u001b[0;34m\u001b[0m\u001b[0m\n\u001b[0;32m--> 398\u001b[0;31m         \u001b[0mlayout\u001b[0m\u001b[0;34m=\u001b[0m\u001b[0mlayout\u001b[0m\u001b[0;34m,\u001b[0m\u001b[0;34m\u001b[0m\u001b[0;34m\u001b[0m\u001b[0m\n\u001b[0m\u001b[1;32m    399\u001b[0m     )\n\u001b[1;32m    400\u001b[0m     \u001b[0m_axes\u001b[0m \u001b[0;34m=\u001b[0m \u001b[0m_flatten\u001b[0m\u001b[0;34m(\u001b[0m\u001b[0maxes\u001b[0m\u001b[0;34m)\u001b[0m\u001b[0;34m\u001b[0m\u001b[0;34m\u001b[0m\u001b[0m\n",
      "\u001b[0;32m~/opt/anaconda3/lib/python3.7/site-packages/pandas/plotting/_matplotlib/tools.py\u001b[0m in \u001b[0;36m_subplots\u001b[0;34m(naxes, sharex, sharey, squeeze, subplot_kw, ax, layout, layout_type, **fig_kw)\u001b[0m\n\u001b[1;32m    247\u001b[0m             \u001b[0mkwds\u001b[0m\u001b[0;34m[\u001b[0m\u001b[0;34m\"sharex\"\u001b[0m\u001b[0;34m]\u001b[0m \u001b[0;34m=\u001b[0m \u001b[0;32mNone\u001b[0m\u001b[0;34m\u001b[0m\u001b[0;34m\u001b[0m\u001b[0m\n\u001b[1;32m    248\u001b[0m             \u001b[0mkwds\u001b[0m\u001b[0;34m[\u001b[0m\u001b[0;34m\"sharey\"\u001b[0m\u001b[0;34m]\u001b[0m \u001b[0;34m=\u001b[0m \u001b[0;32mNone\u001b[0m\u001b[0;34m\u001b[0m\u001b[0;34m\u001b[0m\u001b[0m\n\u001b[0;32m--> 249\u001b[0;31m         \u001b[0max\u001b[0m \u001b[0;34m=\u001b[0m \u001b[0mfig\u001b[0m\u001b[0;34m.\u001b[0m\u001b[0madd_subplot\u001b[0m\u001b[0;34m(\u001b[0m\u001b[0mnrows\u001b[0m\u001b[0;34m,\u001b[0m \u001b[0mncols\u001b[0m\u001b[0;34m,\u001b[0m \u001b[0mi\u001b[0m \u001b[0;34m+\u001b[0m \u001b[0;36m1\u001b[0m\u001b[0;34m,\u001b[0m \u001b[0;34m**\u001b[0m\u001b[0mkwds\u001b[0m\u001b[0;34m)\u001b[0m\u001b[0;34m\u001b[0m\u001b[0;34m\u001b[0m\u001b[0m\n\u001b[0m\u001b[1;32m    250\u001b[0m         \u001b[0maxarr\u001b[0m\u001b[0;34m[\u001b[0m\u001b[0mi\u001b[0m\u001b[0;34m]\u001b[0m \u001b[0;34m=\u001b[0m \u001b[0max\u001b[0m\u001b[0;34m\u001b[0m\u001b[0;34m\u001b[0m\u001b[0m\n\u001b[1;32m    251\u001b[0m \u001b[0;34m\u001b[0m\u001b[0m\n",
      "\u001b[0;32m~/opt/anaconda3/lib/python3.7/site-packages/matplotlib/figure.py\u001b[0m in \u001b[0;36madd_subplot\u001b[0;34m(self, *args, **kwargs)\u001b[0m\n\u001b[1;32m   1414\u001b[0m             \u001b[0ma\u001b[0m \u001b[0;34m=\u001b[0m \u001b[0msubplot_class_factory\u001b[0m\u001b[0;34m(\u001b[0m\u001b[0mprojection_class\u001b[0m\u001b[0;34m)\u001b[0m\u001b[0;34m(\u001b[0m\u001b[0mself\u001b[0m\u001b[0;34m,\u001b[0m \u001b[0;34m*\u001b[0m\u001b[0margs\u001b[0m\u001b[0;34m,\u001b[0m \u001b[0;34m**\u001b[0m\u001b[0mkwargs\u001b[0m\u001b[0;34m)\u001b[0m\u001b[0;34m\u001b[0m\u001b[0;34m\u001b[0m\u001b[0m\n\u001b[1;32m   1415\u001b[0m \u001b[0;34m\u001b[0m\u001b[0m\n\u001b[0;32m-> 1416\u001b[0;31m         \u001b[0;32mreturn\u001b[0m \u001b[0mself\u001b[0m\u001b[0;34m.\u001b[0m\u001b[0m_add_axes_internal\u001b[0m\u001b[0;34m(\u001b[0m\u001b[0mkey\u001b[0m\u001b[0;34m,\u001b[0m \u001b[0ma\u001b[0m\u001b[0;34m)\u001b[0m\u001b[0;34m\u001b[0m\u001b[0;34m\u001b[0m\u001b[0m\n\u001b[0m\u001b[1;32m   1417\u001b[0m \u001b[0;34m\u001b[0m\u001b[0m\n\u001b[1;32m   1418\u001b[0m     \u001b[0;32mdef\u001b[0m \u001b[0m_add_axes_internal\u001b[0m\u001b[0;34m(\u001b[0m\u001b[0mself\u001b[0m\u001b[0;34m,\u001b[0m \u001b[0mkey\u001b[0m\u001b[0;34m,\u001b[0m \u001b[0max\u001b[0m\u001b[0;34m)\u001b[0m\u001b[0;34m:\u001b[0m\u001b[0;34m\u001b[0m\u001b[0;34m\u001b[0m\u001b[0m\n",
      "\u001b[0;32m~/opt/anaconda3/lib/python3.7/site-packages/matplotlib/figure.py\u001b[0m in \u001b[0;36m_add_axes_internal\u001b[0;34m(self, key, ax)\u001b[0m\n\u001b[1;32m   1419\u001b[0m         \u001b[0;34m\"\"\"Private helper for `add_axes` and `add_subplot`.\"\"\"\u001b[0m\u001b[0;34m\u001b[0m\u001b[0;34m\u001b[0m\u001b[0m\n\u001b[1;32m   1420\u001b[0m         \u001b[0mself\u001b[0m\u001b[0;34m.\u001b[0m\u001b[0m_axstack\u001b[0m\u001b[0;34m.\u001b[0m\u001b[0madd\u001b[0m\u001b[0;34m(\u001b[0m\u001b[0mkey\u001b[0m\u001b[0;34m,\u001b[0m \u001b[0max\u001b[0m\u001b[0;34m)\u001b[0m\u001b[0;34m\u001b[0m\u001b[0;34m\u001b[0m\u001b[0m\n\u001b[0;32m-> 1421\u001b[0;31m         \u001b[0mself\u001b[0m\u001b[0;34m.\u001b[0m\u001b[0msca\u001b[0m\u001b[0;34m(\u001b[0m\u001b[0max\u001b[0m\u001b[0;34m)\u001b[0m\u001b[0;34m\u001b[0m\u001b[0;34m\u001b[0m\u001b[0m\n\u001b[0m\u001b[1;32m   1422\u001b[0m         \u001b[0max\u001b[0m\u001b[0;34m.\u001b[0m\u001b[0m_remove_method\u001b[0m \u001b[0;34m=\u001b[0m \u001b[0mself\u001b[0m\u001b[0;34m.\u001b[0m\u001b[0m_remove_ax\u001b[0m\u001b[0;34m\u001b[0m\u001b[0;34m\u001b[0m\u001b[0m\n\u001b[1;32m   1423\u001b[0m         \u001b[0mself\u001b[0m\u001b[0;34m.\u001b[0m\u001b[0mstale\u001b[0m \u001b[0;34m=\u001b[0m \u001b[0;32mTrue\u001b[0m\u001b[0;34m\u001b[0m\u001b[0;34m\u001b[0m\u001b[0m\n",
      "\u001b[0;32m~/opt/anaconda3/lib/python3.7/site-packages/matplotlib/figure.py\u001b[0m in \u001b[0;36msca\u001b[0;34m(self, a)\u001b[0m\n\u001b[1;32m   1934\u001b[0m     \u001b[0;32mdef\u001b[0m \u001b[0msca\u001b[0m\u001b[0;34m(\u001b[0m\u001b[0mself\u001b[0m\u001b[0;34m,\u001b[0m \u001b[0ma\u001b[0m\u001b[0;34m)\u001b[0m\u001b[0;34m:\u001b[0m\u001b[0;34m\u001b[0m\u001b[0;34m\u001b[0m\u001b[0m\n\u001b[1;32m   1935\u001b[0m         \u001b[0;34m\"\"\"Set the current axes to be a and return a.\"\"\"\u001b[0m\u001b[0;34m\u001b[0m\u001b[0;34m\u001b[0m\u001b[0m\n\u001b[0;32m-> 1936\u001b[0;31m         \u001b[0mself\u001b[0m\u001b[0;34m.\u001b[0m\u001b[0m_axstack\u001b[0m\u001b[0;34m.\u001b[0m\u001b[0mbubble\u001b[0m\u001b[0;34m(\u001b[0m\u001b[0ma\u001b[0m\u001b[0;34m)\u001b[0m\u001b[0;34m\u001b[0m\u001b[0;34m\u001b[0m\u001b[0m\n\u001b[0m\u001b[1;32m   1937\u001b[0m         \u001b[0;32mfor\u001b[0m \u001b[0mfunc\u001b[0m \u001b[0;32min\u001b[0m \u001b[0mself\u001b[0m\u001b[0;34m.\u001b[0m\u001b[0m_axobservers\u001b[0m\u001b[0;34m:\u001b[0m\u001b[0;34m\u001b[0m\u001b[0;34m\u001b[0m\u001b[0m\n\u001b[1;32m   1938\u001b[0m             \u001b[0mfunc\u001b[0m\u001b[0;34m(\u001b[0m\u001b[0mself\u001b[0m\u001b[0;34m)\u001b[0m\u001b[0;34m\u001b[0m\u001b[0;34m\u001b[0m\u001b[0m\n",
      "\u001b[0;32m~/opt/anaconda3/lib/python3.7/site-packages/matplotlib/figure.py\u001b[0m in \u001b[0;36mbubble\u001b[0;34m(self, a)\u001b[0m\n\u001b[1;32m    111\u001b[0m         \u001b[0mstack\u001b[0m\u001b[0;34m,\u001b[0m \u001b[0mto\u001b[0m \u001b[0mthe\u001b[0m \u001b[0mtop\u001b[0m\u001b[0;34m.\u001b[0m\u001b[0;34m\u001b[0m\u001b[0;34m\u001b[0m\u001b[0m\n\u001b[1;32m    112\u001b[0m         \"\"\"\n\u001b[0;32m--> 113\u001b[0;31m         \u001b[0;32mreturn\u001b[0m \u001b[0msuper\u001b[0m\u001b[0;34m(\u001b[0m\u001b[0;34m)\u001b[0m\u001b[0;34m.\u001b[0m\u001b[0mbubble\u001b[0m\u001b[0;34m(\u001b[0m\u001b[0mself\u001b[0m\u001b[0;34m.\u001b[0m\u001b[0m_entry_from_axes\u001b[0m\u001b[0;34m(\u001b[0m\u001b[0ma\u001b[0m\u001b[0;34m)\u001b[0m\u001b[0;34m)\u001b[0m\u001b[0;34m\u001b[0m\u001b[0;34m\u001b[0m\u001b[0m\n\u001b[0m\u001b[1;32m    114\u001b[0m \u001b[0;34m\u001b[0m\u001b[0m\n\u001b[1;32m    115\u001b[0m     \u001b[0;32mdef\u001b[0m \u001b[0madd\u001b[0m\u001b[0;34m(\u001b[0m\u001b[0mself\u001b[0m\u001b[0;34m,\u001b[0m \u001b[0mkey\u001b[0m\u001b[0;34m,\u001b[0m \u001b[0ma\u001b[0m\u001b[0;34m)\u001b[0m\u001b[0;34m:\u001b[0m\u001b[0;34m\u001b[0m\u001b[0;34m\u001b[0m\u001b[0m\n",
      "\u001b[0;32m~/opt/anaconda3/lib/python3.7/site-packages/matplotlib/cbook/__init__.py\u001b[0m in \u001b[0;36mbubble\u001b[0;34m(self, o)\u001b[0m\n\u001b[1;32m    733\u001b[0m                 \u001b[0mbubbles\u001b[0m\u001b[0;34m.\u001b[0m\u001b[0mappend\u001b[0m\u001b[0;34m(\u001b[0m\u001b[0mthiso\u001b[0m\u001b[0;34m)\u001b[0m\u001b[0;34m\u001b[0m\u001b[0;34m\u001b[0m\u001b[0m\n\u001b[1;32m    734\u001b[0m             \u001b[0;32melse\u001b[0m\u001b[0;34m:\u001b[0m\u001b[0;34m\u001b[0m\u001b[0;34m\u001b[0m\u001b[0m\n\u001b[0;32m--> 735\u001b[0;31m                 \u001b[0mself\u001b[0m\u001b[0;34m.\u001b[0m\u001b[0mpush\u001b[0m\u001b[0;34m(\u001b[0m\u001b[0mthiso\u001b[0m\u001b[0;34m)\u001b[0m\u001b[0;34m\u001b[0m\u001b[0;34m\u001b[0m\u001b[0m\n\u001b[0m\u001b[1;32m    736\u001b[0m         \u001b[0;32mfor\u001b[0m \u001b[0m_\u001b[0m \u001b[0;32min\u001b[0m \u001b[0mbubbles\u001b[0m\u001b[0;34m:\u001b[0m\u001b[0;34m\u001b[0m\u001b[0;34m\u001b[0m\u001b[0m\n\u001b[1;32m    737\u001b[0m             \u001b[0mself\u001b[0m\u001b[0;34m.\u001b[0m\u001b[0mpush\u001b[0m\u001b[0;34m(\u001b[0m\u001b[0mo\u001b[0m\u001b[0;34m)\u001b[0m\u001b[0;34m\u001b[0m\u001b[0;34m\u001b[0m\u001b[0m\n",
      "\u001b[0;32m~/opt/anaconda3/lib/python3.7/site-packages/matplotlib/cbook/__init__.py\u001b[0m in \u001b[0;36mpush\u001b[0;34m(self, o)\u001b[0m\n\u001b[1;32m    694\u001b[0m         \u001b[0;34m*\u001b[0m\u001b[0mo\u001b[0m\u001b[0;34m*\u001b[0m \u001b[0;32mis\u001b[0m \u001b[0mreturned\u001b[0m\u001b[0;34m.\u001b[0m\u001b[0;34m\u001b[0m\u001b[0;34m\u001b[0m\u001b[0m\n\u001b[1;32m    695\u001b[0m         \"\"\"\n\u001b[0;32m--> 696\u001b[0;31m         \u001b[0mself\u001b[0m\u001b[0;34m.\u001b[0m\u001b[0m_elements\u001b[0m \u001b[0;34m=\u001b[0m \u001b[0mself\u001b[0m\u001b[0;34m.\u001b[0m\u001b[0m_elements\u001b[0m\u001b[0;34m[\u001b[0m\u001b[0;34m:\u001b[0m\u001b[0mself\u001b[0m\u001b[0;34m.\u001b[0m\u001b[0m_pos\u001b[0m \u001b[0;34m+\u001b[0m \u001b[0;36m1\u001b[0m\u001b[0;34m]\u001b[0m \u001b[0;34m+\u001b[0m \u001b[0;34m[\u001b[0m\u001b[0mo\u001b[0m\u001b[0;34m]\u001b[0m\u001b[0;34m\u001b[0m\u001b[0;34m\u001b[0m\u001b[0m\n\u001b[0m\u001b[1;32m    697\u001b[0m         \u001b[0mself\u001b[0m\u001b[0;34m.\u001b[0m\u001b[0m_pos\u001b[0m \u001b[0;34m=\u001b[0m \u001b[0mlen\u001b[0m\u001b[0;34m(\u001b[0m\u001b[0mself\u001b[0m\u001b[0;34m.\u001b[0m\u001b[0m_elements\u001b[0m\u001b[0;34m)\u001b[0m \u001b[0;34m-\u001b[0m \u001b[0;36m1\u001b[0m\u001b[0;34m\u001b[0m\u001b[0;34m\u001b[0m\u001b[0m\n\u001b[1;32m    698\u001b[0m         \u001b[0;32mreturn\u001b[0m \u001b[0mself\u001b[0m\u001b[0;34m(\u001b[0m\u001b[0;34m)\u001b[0m\u001b[0;34m\u001b[0m\u001b[0;34m\u001b[0m\u001b[0m\n",
      "\u001b[0;31mKeyboardInterrupt\u001b[0m: "
     ]
    },
    {
     "name": "stdout",
     "output_type": "stream",
     "text": [
      "Error in callback <function flush_figures at 0x1a9562a4d0> (for post_execute):\n"
     ]
    },
    {
     "ename": "KeyboardInterrupt",
     "evalue": "",
     "output_type": "error",
     "traceback": [
      "\u001b[0;31m---------------------------------------------------------------------------\u001b[0m",
      "\u001b[0;31mKeyboardInterrupt\u001b[0m                         Traceback (most recent call last)",
      "\u001b[0;32m~/opt/anaconda3/lib/python3.7/site-packages/ipykernel/pylab/backend_inline.py\u001b[0m in \u001b[0;36mflush_figures\u001b[0;34m()\u001b[0m\n\u001b[1;32m    119\u001b[0m         \u001b[0;31m# ignore the tracking, just draw and close all figures\u001b[0m\u001b[0;34m\u001b[0m\u001b[0;34m\u001b[0m\u001b[0;34m\u001b[0m\u001b[0m\n\u001b[1;32m    120\u001b[0m         \u001b[0;32mtry\u001b[0m\u001b[0;34m:\u001b[0m\u001b[0;34m\u001b[0m\u001b[0;34m\u001b[0m\u001b[0m\n\u001b[0;32m--> 121\u001b[0;31m             \u001b[0;32mreturn\u001b[0m \u001b[0mshow\u001b[0m\u001b[0;34m(\u001b[0m\u001b[0;32mTrue\u001b[0m\u001b[0;34m)\u001b[0m\u001b[0;34m\u001b[0m\u001b[0;34m\u001b[0m\u001b[0m\n\u001b[0m\u001b[1;32m    122\u001b[0m         \u001b[0;32mexcept\u001b[0m \u001b[0mException\u001b[0m \u001b[0;32mas\u001b[0m \u001b[0me\u001b[0m\u001b[0;34m:\u001b[0m\u001b[0;34m\u001b[0m\u001b[0;34m\u001b[0m\u001b[0m\n\u001b[1;32m    123\u001b[0m             \u001b[0;31m# safely show traceback if in IPython, else raise\u001b[0m\u001b[0;34m\u001b[0m\u001b[0;34m\u001b[0m\u001b[0;34m\u001b[0m\u001b[0m\n",
      "\u001b[0;32m~/opt/anaconda3/lib/python3.7/site-packages/ipykernel/pylab/backend_inline.py\u001b[0m in \u001b[0;36mshow\u001b[0;34m(close, block)\u001b[0m\n\u001b[1;32m     41\u001b[0m             display(\n\u001b[1;32m     42\u001b[0m                 \u001b[0mfigure_manager\u001b[0m\u001b[0;34m.\u001b[0m\u001b[0mcanvas\u001b[0m\u001b[0;34m.\u001b[0m\u001b[0mfigure\u001b[0m\u001b[0;34m,\u001b[0m\u001b[0;34m\u001b[0m\u001b[0;34m\u001b[0m\u001b[0m\n\u001b[0;32m---> 43\u001b[0;31m                 \u001b[0mmetadata\u001b[0m\u001b[0;34m=\u001b[0m\u001b[0m_fetch_figure_metadata\u001b[0m\u001b[0;34m(\u001b[0m\u001b[0mfigure_manager\u001b[0m\u001b[0;34m.\u001b[0m\u001b[0mcanvas\u001b[0m\u001b[0;34m.\u001b[0m\u001b[0mfigure\u001b[0m\u001b[0;34m)\u001b[0m\u001b[0;34m\u001b[0m\u001b[0;34m\u001b[0m\u001b[0m\n\u001b[0m\u001b[1;32m     44\u001b[0m             )\n\u001b[1;32m     45\u001b[0m     \u001b[0;32mfinally\u001b[0m\u001b[0;34m:\u001b[0m\u001b[0;34m\u001b[0m\u001b[0;34m\u001b[0m\u001b[0m\n",
      "\u001b[0;32m~/opt/anaconda3/lib/python3.7/site-packages/ipykernel/pylab/backend_inline.py\u001b[0m in \u001b[0;36m_fetch_figure_metadata\u001b[0;34m(fig)\u001b[0m\n\u001b[1;32m    179\u001b[0m         \u001b[0;31m# the background is transparent\u001b[0m\u001b[0;34m\u001b[0m\u001b[0;34m\u001b[0m\u001b[0;34m\u001b[0m\u001b[0m\n\u001b[1;32m    180\u001b[0m         ticksLight = _is_light([label.get_color()\n\u001b[0;32m--> 181\u001b[0;31m                                 \u001b[0;32mfor\u001b[0m \u001b[0maxes\u001b[0m \u001b[0;32min\u001b[0m \u001b[0mfig\u001b[0m\u001b[0;34m.\u001b[0m\u001b[0maxes\u001b[0m\u001b[0;34m\u001b[0m\u001b[0;34m\u001b[0m\u001b[0m\n\u001b[0m\u001b[1;32m    182\u001b[0m                                 \u001b[0;32mfor\u001b[0m \u001b[0maxis\u001b[0m \u001b[0;32min\u001b[0m \u001b[0;34m(\u001b[0m\u001b[0maxes\u001b[0m\u001b[0;34m.\u001b[0m\u001b[0mxaxis\u001b[0m\u001b[0;34m,\u001b[0m \u001b[0maxes\u001b[0m\u001b[0;34m.\u001b[0m\u001b[0myaxis\u001b[0m\u001b[0;34m)\u001b[0m\u001b[0;34m\u001b[0m\u001b[0;34m\u001b[0m\u001b[0m\n\u001b[1;32m    183\u001b[0m                                 for label in axis.get_ticklabels()])\n",
      "\u001b[0;32m~/opt/anaconda3/lib/python3.7/site-packages/ipykernel/pylab/backend_inline.py\u001b[0m in \u001b[0;36m<listcomp>\u001b[0;34m(.0)\u001b[0m\n\u001b[1;32m    181\u001b[0m                                 \u001b[0;32mfor\u001b[0m \u001b[0maxes\u001b[0m \u001b[0;32min\u001b[0m \u001b[0mfig\u001b[0m\u001b[0;34m.\u001b[0m\u001b[0maxes\u001b[0m\u001b[0;34m\u001b[0m\u001b[0;34m\u001b[0m\u001b[0m\n\u001b[1;32m    182\u001b[0m                                 \u001b[0;32mfor\u001b[0m \u001b[0maxis\u001b[0m \u001b[0;32min\u001b[0m \u001b[0;34m(\u001b[0m\u001b[0maxes\u001b[0m\u001b[0;34m.\u001b[0m\u001b[0mxaxis\u001b[0m\u001b[0;34m,\u001b[0m \u001b[0maxes\u001b[0m\u001b[0;34m.\u001b[0m\u001b[0myaxis\u001b[0m\u001b[0;34m)\u001b[0m\u001b[0;34m\u001b[0m\u001b[0;34m\u001b[0m\u001b[0m\n\u001b[0;32m--> 183\u001b[0;31m                                 for label in axis.get_ticklabels()])\n\u001b[0m\u001b[1;32m    184\u001b[0m         \u001b[0;32mif\u001b[0m \u001b[0mticksLight\u001b[0m\u001b[0;34m.\u001b[0m\u001b[0msize\u001b[0m \u001b[0;32mand\u001b[0m \u001b[0;34m(\u001b[0m\u001b[0mticksLight\u001b[0m \u001b[0;34m==\u001b[0m \u001b[0mticksLight\u001b[0m\u001b[0;34m[\u001b[0m\u001b[0;36m0\u001b[0m\u001b[0;34m]\u001b[0m\u001b[0;34m)\u001b[0m\u001b[0;34m.\u001b[0m\u001b[0mall\u001b[0m\u001b[0;34m(\u001b[0m\u001b[0;34m)\u001b[0m\u001b[0;34m:\u001b[0m\u001b[0;34m\u001b[0m\u001b[0;34m\u001b[0m\u001b[0m\n\u001b[1;32m    185\u001b[0m             \u001b[0;31m# there are one or more tick labels, all with the same lightness\u001b[0m\u001b[0;34m\u001b[0m\u001b[0;34m\u001b[0m\u001b[0;34m\u001b[0m\u001b[0m\n",
      "\u001b[0;32m~/opt/anaconda3/lib/python3.7/site-packages/matplotlib/axis.py\u001b[0m in \u001b[0;36mget_ticklabels\u001b[0;34m(self, minor, which)\u001b[0m\n\u001b[1;32m   1294\u001b[0m         \u001b[0;32mif\u001b[0m \u001b[0mminor\u001b[0m\u001b[0;34m:\u001b[0m\u001b[0;34m\u001b[0m\u001b[0;34m\u001b[0m\u001b[0m\n\u001b[1;32m   1295\u001b[0m             \u001b[0;32mreturn\u001b[0m \u001b[0mself\u001b[0m\u001b[0;34m.\u001b[0m\u001b[0mget_minorticklabels\u001b[0m\u001b[0;34m(\u001b[0m\u001b[0;34m)\u001b[0m\u001b[0;34m\u001b[0m\u001b[0;34m\u001b[0m\u001b[0m\n\u001b[0;32m-> 1296\u001b[0;31m         \u001b[0;32mreturn\u001b[0m \u001b[0mself\u001b[0m\u001b[0;34m.\u001b[0m\u001b[0mget_majorticklabels\u001b[0m\u001b[0;34m(\u001b[0m\u001b[0;34m)\u001b[0m\u001b[0;34m\u001b[0m\u001b[0;34m\u001b[0m\u001b[0m\n\u001b[0m\u001b[1;32m   1297\u001b[0m \u001b[0;34m\u001b[0m\u001b[0m\n\u001b[1;32m   1298\u001b[0m     \u001b[0;32mdef\u001b[0m \u001b[0mget_majorticklines\u001b[0m\u001b[0;34m(\u001b[0m\u001b[0mself\u001b[0m\u001b[0;34m)\u001b[0m\u001b[0;34m:\u001b[0m\u001b[0;34m\u001b[0m\u001b[0;34m\u001b[0m\u001b[0m\n",
      "\u001b[0;32m~/opt/anaconda3/lib/python3.7/site-packages/matplotlib/axis.py\u001b[0m in \u001b[0;36mget_majorticklabels\u001b[0;34m(self)\u001b[0m\n\u001b[1;32m   1250\u001b[0m     \u001b[0;32mdef\u001b[0m \u001b[0mget_majorticklabels\u001b[0m\u001b[0;34m(\u001b[0m\u001b[0mself\u001b[0m\u001b[0;34m)\u001b[0m\u001b[0;34m:\u001b[0m\u001b[0;34m\u001b[0m\u001b[0;34m\u001b[0m\u001b[0m\n\u001b[1;32m   1251\u001b[0m         \u001b[0;34m'Return a list of Text instances for the major ticklabels.'\u001b[0m\u001b[0;34m\u001b[0m\u001b[0;34m\u001b[0m\u001b[0m\n\u001b[0;32m-> 1252\u001b[0;31m         \u001b[0mticks\u001b[0m \u001b[0;34m=\u001b[0m \u001b[0mself\u001b[0m\u001b[0;34m.\u001b[0m\u001b[0mget_major_ticks\u001b[0m\u001b[0;34m(\u001b[0m\u001b[0;34m)\u001b[0m\u001b[0;34m\u001b[0m\u001b[0;34m\u001b[0m\u001b[0m\n\u001b[0m\u001b[1;32m   1253\u001b[0m         \u001b[0mlabels1\u001b[0m \u001b[0;34m=\u001b[0m \u001b[0;34m[\u001b[0m\u001b[0mtick\u001b[0m\u001b[0;34m.\u001b[0m\u001b[0mlabel1\u001b[0m \u001b[0;32mfor\u001b[0m \u001b[0mtick\u001b[0m \u001b[0;32min\u001b[0m \u001b[0mticks\u001b[0m \u001b[0;32mif\u001b[0m \u001b[0mtick\u001b[0m\u001b[0;34m.\u001b[0m\u001b[0mlabel1\u001b[0m\u001b[0;34m.\u001b[0m\u001b[0mget_visible\u001b[0m\u001b[0;34m(\u001b[0m\u001b[0;34m)\u001b[0m\u001b[0;34m]\u001b[0m\u001b[0;34m\u001b[0m\u001b[0;34m\u001b[0m\u001b[0m\n\u001b[1;32m   1254\u001b[0m         \u001b[0mlabels2\u001b[0m \u001b[0;34m=\u001b[0m \u001b[0;34m[\u001b[0m\u001b[0mtick\u001b[0m\u001b[0;34m.\u001b[0m\u001b[0mlabel2\u001b[0m \u001b[0;32mfor\u001b[0m \u001b[0mtick\u001b[0m \u001b[0;32min\u001b[0m \u001b[0mticks\u001b[0m \u001b[0;32mif\u001b[0m \u001b[0mtick\u001b[0m\u001b[0;34m.\u001b[0m\u001b[0mlabel2\u001b[0m\u001b[0;34m.\u001b[0m\u001b[0mget_visible\u001b[0m\u001b[0;34m(\u001b[0m\u001b[0;34m)\u001b[0m\u001b[0;34m]\u001b[0m\u001b[0;34m\u001b[0m\u001b[0;34m\u001b[0m\u001b[0m\n",
      "\u001b[0;32m~/opt/anaconda3/lib/python3.7/site-packages/matplotlib/axis.py\u001b[0m in \u001b[0;36mget_major_ticks\u001b[0;34m(self, numticks)\u001b[0m\n\u001b[1;32m   1405\u001b[0m         \u001b[0;34m'Get the tick instances; grow as necessary.'\u001b[0m\u001b[0;34m\u001b[0m\u001b[0;34m\u001b[0m\u001b[0m\n\u001b[1;32m   1406\u001b[0m         \u001b[0;32mif\u001b[0m \u001b[0mnumticks\u001b[0m \u001b[0;32mis\u001b[0m \u001b[0;32mNone\u001b[0m\u001b[0;34m:\u001b[0m\u001b[0;34m\u001b[0m\u001b[0;34m\u001b[0m\u001b[0m\n\u001b[0;32m-> 1407\u001b[0;31m             \u001b[0mnumticks\u001b[0m \u001b[0;34m=\u001b[0m \u001b[0mlen\u001b[0m\u001b[0;34m(\u001b[0m\u001b[0mself\u001b[0m\u001b[0;34m.\u001b[0m\u001b[0mget_majorticklocs\u001b[0m\u001b[0;34m(\u001b[0m\u001b[0;34m)\u001b[0m\u001b[0;34m)\u001b[0m\u001b[0;34m\u001b[0m\u001b[0;34m\u001b[0m\u001b[0m\n\u001b[0m\u001b[1;32m   1408\u001b[0m \u001b[0;34m\u001b[0m\u001b[0m\n\u001b[1;32m   1409\u001b[0m         \u001b[0;32mwhile\u001b[0m \u001b[0mlen\u001b[0m\u001b[0;34m(\u001b[0m\u001b[0mself\u001b[0m\u001b[0;34m.\u001b[0m\u001b[0mmajorTicks\u001b[0m\u001b[0;34m)\u001b[0m \u001b[0;34m<\u001b[0m \u001b[0mnumticks\u001b[0m\u001b[0;34m:\u001b[0m\u001b[0;34m\u001b[0m\u001b[0;34m\u001b[0m\u001b[0m\n",
      "\u001b[0;32m~/opt/anaconda3/lib/python3.7/site-packages/matplotlib/axis.py\u001b[0m in \u001b[0;36mget_majorticklocs\u001b[0;34m(self)\u001b[0m\n\u001b[1;32m   1322\u001b[0m     \u001b[0;32mdef\u001b[0m \u001b[0mget_majorticklocs\u001b[0m\u001b[0;34m(\u001b[0m\u001b[0mself\u001b[0m\u001b[0;34m)\u001b[0m\u001b[0;34m:\u001b[0m\u001b[0;34m\u001b[0m\u001b[0;34m\u001b[0m\u001b[0m\n\u001b[1;32m   1323\u001b[0m         \u001b[0;34m\"\"\"Get the array of major tick locations in data coordinates.\"\"\"\u001b[0m\u001b[0;34m\u001b[0m\u001b[0;34m\u001b[0m\u001b[0m\n\u001b[0;32m-> 1324\u001b[0;31m         \u001b[0;32mreturn\u001b[0m \u001b[0mself\u001b[0m\u001b[0;34m.\u001b[0m\u001b[0mmajor\u001b[0m\u001b[0;34m.\u001b[0m\u001b[0mlocator\u001b[0m\u001b[0;34m(\u001b[0m\u001b[0;34m)\u001b[0m\u001b[0;34m\u001b[0m\u001b[0;34m\u001b[0m\u001b[0m\n\u001b[0m\u001b[1;32m   1325\u001b[0m \u001b[0;34m\u001b[0m\u001b[0m\n\u001b[1;32m   1326\u001b[0m     \u001b[0;32mdef\u001b[0m \u001b[0mget_minorticklocs\u001b[0m\u001b[0;34m(\u001b[0m\u001b[0mself\u001b[0m\u001b[0;34m)\u001b[0m\u001b[0;34m:\u001b[0m\u001b[0;34m\u001b[0m\u001b[0;34m\u001b[0m\u001b[0m\n",
      "\u001b[0;32m~/opt/anaconda3/lib/python3.7/site-packages/matplotlib/ticker.py\u001b[0m in \u001b[0;36m__call__\u001b[0;34m(self)\u001b[0m\n\u001b[1;32m   2079\u001b[0m     \u001b[0;32mdef\u001b[0m \u001b[0m__call__\u001b[0m\u001b[0;34m(\u001b[0m\u001b[0mself\u001b[0m\u001b[0;34m)\u001b[0m\u001b[0;34m:\u001b[0m\u001b[0;34m\u001b[0m\u001b[0;34m\u001b[0m\u001b[0m\n\u001b[1;32m   2080\u001b[0m         \u001b[0mvmin\u001b[0m\u001b[0;34m,\u001b[0m \u001b[0mvmax\u001b[0m \u001b[0;34m=\u001b[0m \u001b[0mself\u001b[0m\u001b[0;34m.\u001b[0m\u001b[0maxis\u001b[0m\u001b[0;34m.\u001b[0m\u001b[0mget_view_interval\u001b[0m\u001b[0;34m(\u001b[0m\u001b[0;34m)\u001b[0m\u001b[0;34m\u001b[0m\u001b[0;34m\u001b[0m\u001b[0m\n\u001b[0;32m-> 2081\u001b[0;31m         \u001b[0;32mreturn\u001b[0m \u001b[0mself\u001b[0m\u001b[0;34m.\u001b[0m\u001b[0mtick_values\u001b[0m\u001b[0;34m(\u001b[0m\u001b[0mvmin\u001b[0m\u001b[0;34m,\u001b[0m \u001b[0mvmax\u001b[0m\u001b[0;34m)\u001b[0m\u001b[0;34m\u001b[0m\u001b[0;34m\u001b[0m\u001b[0m\n\u001b[0m\u001b[1;32m   2082\u001b[0m \u001b[0;34m\u001b[0m\u001b[0m\n\u001b[1;32m   2083\u001b[0m     \u001b[0;32mdef\u001b[0m \u001b[0mtick_values\u001b[0m\u001b[0;34m(\u001b[0m\u001b[0mself\u001b[0m\u001b[0;34m,\u001b[0m \u001b[0mvmin\u001b[0m\u001b[0;34m,\u001b[0m \u001b[0mvmax\u001b[0m\u001b[0;34m)\u001b[0m\u001b[0;34m:\u001b[0m\u001b[0;34m\u001b[0m\u001b[0;34m\u001b[0m\u001b[0m\n",
      "\u001b[0;32m~/opt/anaconda3/lib/python3.7/site-packages/matplotlib/ticker.py\u001b[0m in \u001b[0;36mtick_values\u001b[0;34m(self, vmin, vmax)\u001b[0m\n\u001b[1;32m   2087\u001b[0m         vmin, vmax = mtransforms.nonsingular(\n\u001b[1;32m   2088\u001b[0m             vmin, vmax, expander=1e-13, tiny=1e-14)\n\u001b[0;32m-> 2089\u001b[0;31m         \u001b[0mlocs\u001b[0m \u001b[0;34m=\u001b[0m \u001b[0mself\u001b[0m\u001b[0;34m.\u001b[0m\u001b[0m_raw_ticks\u001b[0m\u001b[0;34m(\u001b[0m\u001b[0mvmin\u001b[0m\u001b[0;34m,\u001b[0m \u001b[0mvmax\u001b[0m\u001b[0;34m)\u001b[0m\u001b[0;34m\u001b[0m\u001b[0;34m\u001b[0m\u001b[0m\n\u001b[0m\u001b[1;32m   2090\u001b[0m \u001b[0;34m\u001b[0m\u001b[0m\n\u001b[1;32m   2091\u001b[0m         \u001b[0mprune\u001b[0m \u001b[0;34m=\u001b[0m \u001b[0mself\u001b[0m\u001b[0;34m.\u001b[0m\u001b[0m_prune\u001b[0m\u001b[0;34m\u001b[0m\u001b[0;34m\u001b[0m\u001b[0m\n",
      "\u001b[0;32m~/opt/anaconda3/lib/python3.7/site-packages/matplotlib/ticker.py\u001b[0m in \u001b[0;36m_raw_ticks\u001b[0;34m(self, vmin, vmax)\u001b[0m\n\u001b[1;32m   2026\u001b[0m         \u001b[0;32mif\u001b[0m \u001b[0mself\u001b[0m\u001b[0;34m.\u001b[0m\u001b[0m_nbins\u001b[0m \u001b[0;34m==\u001b[0m \u001b[0;34m'auto'\u001b[0m\u001b[0;34m:\u001b[0m\u001b[0;34m\u001b[0m\u001b[0;34m\u001b[0m\u001b[0m\n\u001b[1;32m   2027\u001b[0m             \u001b[0;32mif\u001b[0m \u001b[0mself\u001b[0m\u001b[0;34m.\u001b[0m\u001b[0maxis\u001b[0m \u001b[0;32mis\u001b[0m \u001b[0;32mnot\u001b[0m \u001b[0;32mNone\u001b[0m\u001b[0;34m:\u001b[0m\u001b[0;34m\u001b[0m\u001b[0;34m\u001b[0m\u001b[0m\n\u001b[0;32m-> 2028\u001b[0;31m                 nbins = np.clip(self.axis.get_tick_space(),\n\u001b[0m\u001b[1;32m   2029\u001b[0m                                 max(1, self._min_n_ticks - 1), 9)\n\u001b[1;32m   2030\u001b[0m             \u001b[0;32melse\u001b[0m\u001b[0;34m:\u001b[0m\u001b[0;34m\u001b[0m\u001b[0;34m\u001b[0m\u001b[0m\n",
      "\u001b[0;32m~/opt/anaconda3/lib/python3.7/site-packages/matplotlib/axis.py\u001b[0m in \u001b[0;36mget_tick_space\u001b[0;34m(self)\u001b[0m\n\u001b[1;32m   2181\u001b[0m         \u001b[0mends\u001b[0m \u001b[0;34m=\u001b[0m \u001b[0mself\u001b[0m\u001b[0;34m.\u001b[0m\u001b[0maxes\u001b[0m\u001b[0;34m.\u001b[0m\u001b[0mtransAxes\u001b[0m\u001b[0;34m.\u001b[0m\u001b[0mtransform\u001b[0m\u001b[0;34m(\u001b[0m\u001b[0;34m[\u001b[0m\u001b[0;34m[\u001b[0m\u001b[0;36m0\u001b[0m\u001b[0;34m,\u001b[0m \u001b[0;36m0\u001b[0m\u001b[0;34m]\u001b[0m\u001b[0;34m,\u001b[0m \u001b[0;34m[\u001b[0m\u001b[0;36m1\u001b[0m\u001b[0;34m,\u001b[0m \u001b[0;36m0\u001b[0m\u001b[0;34m]\u001b[0m\u001b[0;34m]\u001b[0m\u001b[0;34m)\u001b[0m\u001b[0;34m\u001b[0m\u001b[0;34m\u001b[0m\u001b[0m\n\u001b[1;32m   2182\u001b[0m         \u001b[0mlength\u001b[0m \u001b[0;34m=\u001b[0m \u001b[0;34m(\u001b[0m\u001b[0;34m(\u001b[0m\u001b[0mends\u001b[0m\u001b[0;34m[\u001b[0m\u001b[0;36m1\u001b[0m\u001b[0;34m]\u001b[0m\u001b[0;34m[\u001b[0m\u001b[0;36m0\u001b[0m\u001b[0;34m]\u001b[0m \u001b[0;34m-\u001b[0m \u001b[0mends\u001b[0m\u001b[0;34m[\u001b[0m\u001b[0;36m0\u001b[0m\u001b[0;34m]\u001b[0m\u001b[0;34m[\u001b[0m\u001b[0;36m0\u001b[0m\u001b[0;34m]\u001b[0m\u001b[0;34m)\u001b[0m \u001b[0;34m/\u001b[0m \u001b[0mself\u001b[0m\u001b[0;34m.\u001b[0m\u001b[0maxes\u001b[0m\u001b[0;34m.\u001b[0m\u001b[0mfigure\u001b[0m\u001b[0;34m.\u001b[0m\u001b[0mdpi\u001b[0m\u001b[0;34m)\u001b[0m \u001b[0;34m*\u001b[0m \u001b[0;36m72\u001b[0m\u001b[0;34m\u001b[0m\u001b[0;34m\u001b[0m\u001b[0m\n\u001b[0;32m-> 2183\u001b[0;31m         \u001b[0mtick\u001b[0m \u001b[0;34m=\u001b[0m \u001b[0mself\u001b[0m\u001b[0;34m.\u001b[0m\u001b[0m_get_tick\u001b[0m\u001b[0;34m(\u001b[0m\u001b[0;32mTrue\u001b[0m\u001b[0;34m)\u001b[0m\u001b[0;34m\u001b[0m\u001b[0;34m\u001b[0m\u001b[0m\n\u001b[0m\u001b[1;32m   2184\u001b[0m         \u001b[0;31m# There is a heuristic here that the aspect ratio of tick text\u001b[0m\u001b[0;34m\u001b[0m\u001b[0;34m\u001b[0m\u001b[0;34m\u001b[0m\u001b[0m\n\u001b[1;32m   2185\u001b[0m         \u001b[0;31m# is no more than 3:1\u001b[0m\u001b[0;34m\u001b[0m\u001b[0;34m\u001b[0m\u001b[0;34m\u001b[0m\u001b[0m\n",
      "\u001b[0;32m~/opt/anaconda3/lib/python3.7/site-packages/matplotlib/axis.py\u001b[0m in \u001b[0;36m_get_tick\u001b[0;34m(self, major)\u001b[0m\n\u001b[1;32m   1931\u001b[0m         \u001b[0;32melse\u001b[0m\u001b[0;34m:\u001b[0m\u001b[0;34m\u001b[0m\u001b[0;34m\u001b[0m\u001b[0m\n\u001b[1;32m   1932\u001b[0m             \u001b[0mtick_kw\u001b[0m \u001b[0;34m=\u001b[0m \u001b[0mself\u001b[0m\u001b[0;34m.\u001b[0m\u001b[0m_minor_tick_kw\u001b[0m\u001b[0;34m\u001b[0m\u001b[0;34m\u001b[0m\u001b[0m\n\u001b[0;32m-> 1933\u001b[0;31m         \u001b[0;32mreturn\u001b[0m \u001b[0mXTick\u001b[0m\u001b[0;34m(\u001b[0m\u001b[0mself\u001b[0m\u001b[0;34m.\u001b[0m\u001b[0maxes\u001b[0m\u001b[0;34m,\u001b[0m \u001b[0;36m0\u001b[0m\u001b[0;34m,\u001b[0m \u001b[0;34m''\u001b[0m\u001b[0;34m,\u001b[0m \u001b[0mmajor\u001b[0m\u001b[0;34m=\u001b[0m\u001b[0mmajor\u001b[0m\u001b[0;34m,\u001b[0m \u001b[0;34m**\u001b[0m\u001b[0mtick_kw\u001b[0m\u001b[0;34m)\u001b[0m\u001b[0;34m\u001b[0m\u001b[0;34m\u001b[0m\u001b[0m\n\u001b[0m\u001b[1;32m   1934\u001b[0m \u001b[0;34m\u001b[0m\u001b[0m\n\u001b[1;32m   1935\u001b[0m     \u001b[0;32mdef\u001b[0m \u001b[0m_get_label\u001b[0m\u001b[0;34m(\u001b[0m\u001b[0mself\u001b[0m\u001b[0;34m)\u001b[0m\u001b[0;34m:\u001b[0m\u001b[0;34m\u001b[0m\u001b[0;34m\u001b[0m\u001b[0m\n",
      "\u001b[0;32m~/opt/anaconda3/lib/python3.7/site-packages/matplotlib/axis.py\u001b[0m in \u001b[0;36m__init__\u001b[0;34m(self, axes, loc, label, size, width, color, tickdir, pad, labelsize, labelcolor, zorder, gridOn, tick1On, tick2On, label1On, label2On, major, labelrotation, grid_color, grid_linestyle, grid_linewidth, grid_alpha, **kw)\u001b[0m\n\u001b[1;32m    158\u001b[0m         \u001b[0mself\u001b[0m\u001b[0;34m.\u001b[0m\u001b[0mtick1line\u001b[0m \u001b[0;34m=\u001b[0m \u001b[0mself\u001b[0m\u001b[0;34m.\u001b[0m\u001b[0m_get_tick1line\u001b[0m\u001b[0;34m(\u001b[0m\u001b[0;34m)\u001b[0m\u001b[0;34m\u001b[0m\u001b[0;34m\u001b[0m\u001b[0m\n\u001b[1;32m    159\u001b[0m         \u001b[0mself\u001b[0m\u001b[0;34m.\u001b[0m\u001b[0mtick2line\u001b[0m \u001b[0;34m=\u001b[0m \u001b[0mself\u001b[0m\u001b[0;34m.\u001b[0m\u001b[0m_get_tick2line\u001b[0m\u001b[0;34m(\u001b[0m\u001b[0;34m)\u001b[0m\u001b[0;34m\u001b[0m\u001b[0;34m\u001b[0m\u001b[0m\n\u001b[0;32m--> 160\u001b[0;31m         \u001b[0mself\u001b[0m\u001b[0;34m.\u001b[0m\u001b[0mgridline\u001b[0m \u001b[0;34m=\u001b[0m \u001b[0mself\u001b[0m\u001b[0;34m.\u001b[0m\u001b[0m_get_gridline\u001b[0m\u001b[0;34m(\u001b[0m\u001b[0;34m)\u001b[0m\u001b[0;34m\u001b[0m\u001b[0;34m\u001b[0m\u001b[0m\n\u001b[0m\u001b[1;32m    161\u001b[0m         \u001b[0mself\u001b[0m\u001b[0;34m.\u001b[0m\u001b[0mlabel1\u001b[0m \u001b[0;34m=\u001b[0m \u001b[0mself\u001b[0m\u001b[0;34m.\u001b[0m\u001b[0m_get_text1\u001b[0m\u001b[0;34m(\u001b[0m\u001b[0;34m)\u001b[0m\u001b[0;34m\u001b[0m\u001b[0;34m\u001b[0m\u001b[0m\n\u001b[1;32m    162\u001b[0m         \u001b[0mself\u001b[0m\u001b[0;34m.\u001b[0m\u001b[0mlabel2\u001b[0m \u001b[0;34m=\u001b[0m \u001b[0mself\u001b[0m\u001b[0;34m.\u001b[0m\u001b[0m_get_text2\u001b[0m\u001b[0;34m(\u001b[0m\u001b[0;34m)\u001b[0m\u001b[0;34m\u001b[0m\u001b[0;34m\u001b[0m\u001b[0m\n",
      "\u001b[0;32m~/opt/anaconda3/lib/python3.7/site-packages/matplotlib/axis.py\u001b[0m in \u001b[0;36m_get_gridline\u001b[0;34m(self)\u001b[0m\n\u001b[1;32m    493\u001b[0m                           **self._grid_kw)\n\u001b[1;32m    494\u001b[0m         \u001b[0ml\u001b[0m\u001b[0;34m.\u001b[0m\u001b[0mset_transform\u001b[0m\u001b[0;34m(\u001b[0m\u001b[0mself\u001b[0m\u001b[0;34m.\u001b[0m\u001b[0maxes\u001b[0m\u001b[0;34m.\u001b[0m\u001b[0mget_xaxis_transform\u001b[0m\u001b[0;34m(\u001b[0m\u001b[0mwhich\u001b[0m\u001b[0;34m=\u001b[0m\u001b[0;34m'grid'\u001b[0m\u001b[0;34m)\u001b[0m\u001b[0;34m)\u001b[0m\u001b[0;34m\u001b[0m\u001b[0;34m\u001b[0m\u001b[0m\n\u001b[0;32m--> 495\u001b[0;31m         \u001b[0ml\u001b[0m\u001b[0;34m.\u001b[0m\u001b[0mget_path\u001b[0m\u001b[0;34m(\u001b[0m\u001b[0;34m)\u001b[0m\u001b[0;34m.\u001b[0m\u001b[0m_interpolation_steps\u001b[0m \u001b[0;34m=\u001b[0m \u001b[0mGRIDLINE_INTERPOLATION_STEPS\u001b[0m\u001b[0;34m\u001b[0m\u001b[0;34m\u001b[0m\u001b[0m\n\u001b[0m\u001b[1;32m    496\u001b[0m         \u001b[0mself\u001b[0m\u001b[0;34m.\u001b[0m\u001b[0m_set_artist_props\u001b[0m\u001b[0;34m(\u001b[0m\u001b[0ml\u001b[0m\u001b[0;34m)\u001b[0m\u001b[0;34m\u001b[0m\u001b[0;34m\u001b[0m\u001b[0m\n\u001b[1;32m    497\u001b[0m \u001b[0;34m\u001b[0m\u001b[0m\n",
      "\u001b[0;32m~/opt/anaconda3/lib/python3.7/site-packages/matplotlib/lines.py\u001b[0m in \u001b[0;36mget_path\u001b[0;34m(self)\u001b[0m\n\u001b[1;32m   1025\u001b[0m         \"\"\"\n\u001b[1;32m   1026\u001b[0m         \u001b[0;32mif\u001b[0m \u001b[0mself\u001b[0m\u001b[0;34m.\u001b[0m\u001b[0m_invalidy\u001b[0m \u001b[0;32mor\u001b[0m \u001b[0mself\u001b[0m\u001b[0;34m.\u001b[0m\u001b[0m_invalidx\u001b[0m\u001b[0;34m:\u001b[0m\u001b[0;34m\u001b[0m\u001b[0;34m\u001b[0m\u001b[0m\n\u001b[0;32m-> 1027\u001b[0;31m             \u001b[0mself\u001b[0m\u001b[0;34m.\u001b[0m\u001b[0mrecache\u001b[0m\u001b[0;34m(\u001b[0m\u001b[0;34m)\u001b[0m\u001b[0;34m\u001b[0m\u001b[0;34m\u001b[0m\u001b[0m\n\u001b[0m\u001b[1;32m   1028\u001b[0m         \u001b[0;32mreturn\u001b[0m \u001b[0mself\u001b[0m\u001b[0;34m.\u001b[0m\u001b[0m_path\u001b[0m\u001b[0;34m\u001b[0m\u001b[0;34m\u001b[0m\u001b[0m\n\u001b[1;32m   1029\u001b[0m \u001b[0;34m\u001b[0m\u001b[0m\n",
      "\u001b[0;32m~/opt/anaconda3/lib/python3.7/site-packages/matplotlib/lines.py\u001b[0m in \u001b[0;36mrecache\u001b[0;34m(self, always)\u001b[0m\n\u001b[1;32m    673\u001b[0m         \u001b[0;32mif\u001b[0m \u001b[0malways\u001b[0m \u001b[0;32mor\u001b[0m \u001b[0mself\u001b[0m\u001b[0;34m.\u001b[0m\u001b[0m_invalidy\u001b[0m\u001b[0;34m:\u001b[0m\u001b[0;34m\u001b[0m\u001b[0;34m\u001b[0m\u001b[0m\n\u001b[1;32m    674\u001b[0m             \u001b[0myconv\u001b[0m \u001b[0;34m=\u001b[0m \u001b[0mself\u001b[0m\u001b[0;34m.\u001b[0m\u001b[0mconvert_yunits\u001b[0m\u001b[0;34m(\u001b[0m\u001b[0mself\u001b[0m\u001b[0;34m.\u001b[0m\u001b[0m_yorig\u001b[0m\u001b[0;34m)\u001b[0m\u001b[0;34m\u001b[0m\u001b[0;34m\u001b[0m\u001b[0m\n\u001b[0;32m--> 675\u001b[0;31m             \u001b[0my\u001b[0m \u001b[0;34m=\u001b[0m \u001b[0m_to_unmasked_float_array\u001b[0m\u001b[0;34m(\u001b[0m\u001b[0myconv\u001b[0m\u001b[0;34m)\u001b[0m\u001b[0;34m.\u001b[0m\u001b[0mravel\u001b[0m\u001b[0;34m(\u001b[0m\u001b[0;34m)\u001b[0m\u001b[0;34m\u001b[0m\u001b[0;34m\u001b[0m\u001b[0m\n\u001b[0m\u001b[1;32m    676\u001b[0m         \u001b[0;32melse\u001b[0m\u001b[0;34m:\u001b[0m\u001b[0;34m\u001b[0m\u001b[0;34m\u001b[0m\u001b[0m\n\u001b[1;32m    677\u001b[0m             \u001b[0my\u001b[0m \u001b[0;34m=\u001b[0m \u001b[0mself\u001b[0m\u001b[0;34m.\u001b[0m\u001b[0m_y\u001b[0m\u001b[0;34m\u001b[0m\u001b[0;34m\u001b[0m\u001b[0m\n",
      "\u001b[0;32m~/opt/anaconda3/lib/python3.7/site-packages/matplotlib/cbook/__init__.py\u001b[0m in \u001b[0;36m_to_unmasked_float_array\u001b[0;34m(x)\u001b[0m\n\u001b[1;32m   1388\u001b[0m         \u001b[0;32mreturn\u001b[0m \u001b[0mnp\u001b[0m\u001b[0;34m.\u001b[0m\u001b[0mma\u001b[0m\u001b[0;34m.\u001b[0m\u001b[0masarray\u001b[0m\u001b[0;34m(\u001b[0m\u001b[0mx\u001b[0m\u001b[0;34m,\u001b[0m \u001b[0mfloat\u001b[0m\u001b[0;34m)\u001b[0m\u001b[0;34m.\u001b[0m\u001b[0mfilled\u001b[0m\u001b[0;34m(\u001b[0m\u001b[0mnp\u001b[0m\u001b[0;34m.\u001b[0m\u001b[0mnan\u001b[0m\u001b[0;34m)\u001b[0m\u001b[0;34m\u001b[0m\u001b[0;34m\u001b[0m\u001b[0m\n\u001b[1;32m   1389\u001b[0m     \u001b[0;32melse\u001b[0m\u001b[0;34m:\u001b[0m\u001b[0;34m\u001b[0m\u001b[0;34m\u001b[0m\u001b[0m\n\u001b[0;32m-> 1390\u001b[0;31m         \u001b[0;32mreturn\u001b[0m \u001b[0mnp\u001b[0m\u001b[0;34m.\u001b[0m\u001b[0masarray\u001b[0m\u001b[0;34m(\u001b[0m\u001b[0mx\u001b[0m\u001b[0;34m,\u001b[0m \u001b[0mfloat\u001b[0m\u001b[0;34m)\u001b[0m\u001b[0;34m\u001b[0m\u001b[0;34m\u001b[0m\u001b[0m\n\u001b[0m\u001b[1;32m   1391\u001b[0m \u001b[0;34m\u001b[0m\u001b[0m\n\u001b[1;32m   1392\u001b[0m \u001b[0;34m\u001b[0m\u001b[0m\n",
      "\u001b[0;32m~/opt/anaconda3/lib/python3.7/site-packages/numpy/core/_asarray.py\u001b[0m in \u001b[0;36masarray\u001b[0;34m(a, dtype, order)\u001b[0m\n\u001b[1;32m     14\u001b[0m ]\n\u001b[1;32m     15\u001b[0m \u001b[0;34m\u001b[0m\u001b[0m\n\u001b[0;32m---> 16\u001b[0;31m \u001b[0;34m@\u001b[0m\u001b[0mset_module\u001b[0m\u001b[0;34m(\u001b[0m\u001b[0;34m'numpy'\u001b[0m\u001b[0;34m)\u001b[0m\u001b[0;34m\u001b[0m\u001b[0;34m\u001b[0m\u001b[0m\n\u001b[0m\u001b[1;32m     17\u001b[0m \u001b[0;32mdef\u001b[0m \u001b[0masarray\u001b[0m\u001b[0;34m(\u001b[0m\u001b[0ma\u001b[0m\u001b[0;34m,\u001b[0m \u001b[0mdtype\u001b[0m\u001b[0;34m=\u001b[0m\u001b[0;32mNone\u001b[0m\u001b[0;34m,\u001b[0m \u001b[0morder\u001b[0m\u001b[0;34m=\u001b[0m\u001b[0;32mNone\u001b[0m\u001b[0;34m)\u001b[0m\u001b[0;34m:\u001b[0m\u001b[0;34m\u001b[0m\u001b[0;34m\u001b[0m\u001b[0m\n\u001b[1;32m     18\u001b[0m     \"\"\"Convert the input to an array.\n",
      "\u001b[0;31mKeyboardInterrupt\u001b[0m: "
     ]
    }
   ],
   "source": [
    "df_col.hist()"
   ]
  },
  {
   "cell_type": "code",
   "execution_count": 155,
   "metadata": {},
   "outputs": [],
   "source": [
    "sim_flat = simFCG.flatten()"
   ]
  },
  {
   "cell_type": "code",
   "execution_count": 156,
   "metadata": {},
   "outputs": [],
   "source": [
    "df_FCG = pd.DataFrame(sim_flat)"
   ]
  },
  {
   "cell_type": "code",
   "execution_count": 157,
   "metadata": {},
   "outputs": [
    {
     "data": {
      "text/plain": [
       "array([[<matplotlib.axes._subplots.AxesSubplot object at 0x1ae4b6b090>]],\n",
       "      dtype=object)"
      ]
     },
     "execution_count": 157,
     "metadata": {},
     "output_type": "execute_result"
    },
    {
     "data": {
      "image/png": "[encoded data removed]",
      "text/plain": [
       "<Figure size 432x288 with 1 Axes>"
      ]
     },
     "metadata": {
      "needs_background": "light"
     },
     "output_type": "display_data"
    }
   ],
   "source": [
    "df_FCG.hist()"
   ]
  },
  {
   "cell_type": "code",
   "execution_count": 121,
   "metadata": {},
   "outputs": [],
   "source": [
    "#job_sumsG[296]"
   ]
  },
  {
   "cell_type": "code",
   "execution_count": 124,
   "metadata": {},
   "outputs": [
    {
     "data": {
      "text/plain": [
       "array([ 6.22253498e-02,  8.47590910e-02, -1.81368732e-01,  8.77661384e-02,\n",
       "        2.31997596e-01,  1.07231024e-01,  8.54509459e-02, -1.42895576e-01,\n",
       "        7.79557043e-02,  3.82282761e+00, -5.41577120e-01,  1.40620835e-01,\n",
       "        1.19781283e-01,  1.70211248e-01,  1.64347102e-01, -2.41038781e-03,\n",
       "       -3.16873474e-01,  4.33978062e+00, -4.63237095e-01, -1.17214055e-01,\n",
       "       -1.54751449e-01,  6.60358664e-02, -9.06396371e-02, -3.96652854e-02,\n",
       "        4.49409770e-01,  2.16198879e-01,  4.69763404e-01,  1.11959386e-01,\n",
       "        2.28728940e-02, -1.39637336e-01,  7.55165274e-02, -1.31798115e-01,\n",
       "        2.81120970e-01,  1.63538366e-01, -1.26998061e-02, -5.68814446e-01,\n",
       "        2.54753397e-02,  6.20866939e-02, -2.18348424e-01, -3.22177564e-01,\n",
       "       -8.01922121e-02,  2.70841568e-02, -1.24656478e-01, -1.16285949e-01,\n",
       "       -3.11819019e-01,  1.68754796e-01, -3.88569348e-03,  2.29859419e-01,\n",
       "        4.06840750e-02,  3.58681872e-02, -2.45724988e-01, -1.20277455e-01,\n",
       "        1.87541038e-01, -3.03992881e-02, -2.80033587e-01,  4.14240781e-02,\n",
       "       -1.47159142e-02,  6.98788625e-02,  9.62159392e-02, -1.16364880e-01,\n",
       "        1.65221015e-02,  3.54125468e-01, -1.02691257e-01,  3.70447539e-01,\n",
       "        6.23583171e-01,  2.56275458e-01, -1.77864361e-01,  2.87445304e-01,\n",
       "        5.10166119e-01, -6.66716246e-02,  2.24894906e-01, -5.82156263e-02,\n",
       "        6.36603957e-01, -2.87220110e-01,  3.22763471e-01,  1.68892645e-01,\n",
       "        1.40876499e-01, -2.28117680e-01,  8.23887661e-02,  5.02741418e-01,\n",
       "        8.45385748e-02,  8.89108547e-02, -2.58096113e-02,  7.47895079e-02,\n",
       "       -5.24160270e-02,  2.22369937e-01, -9.46367051e-01,  7.32989278e-01,\n",
       "        6.65225267e-01, -1.09628497e-01, -4.24674132e-01,  3.20600854e-02,\n",
       "       -3.33223728e-01, -5.08558475e-02,  2.98361030e-01, -1.54319845e-02,\n",
       "       -1.17681122e-01,  1.09795681e-01,  2.72109580e-01,  5.77759942e-02,\n",
       "       -1.65268837e-02, -1.90897743e-01, -1.68208279e-01, -6.79659022e-02,\n",
       "        1.44212576e-01, -3.22157043e+00,  1.74653527e-01,  2.09629608e-01,\n",
       "        1.21566228e-01,  9.27218995e-02, -6.06278017e-02, -6.57260083e-02,\n",
       "        2.64885842e-01, -1.76943830e-01,  2.24191049e-01, -1.26003831e-01,\n",
       "        1.91708042e-02,  2.13389069e-01, -3.94346098e-01,  2.26158748e-01,\n",
       "       -4.42487229e-02, -1.84096577e-01, -4.97850845e-02,  3.68293493e-01,\n",
       "       -8.85563507e-03,  4.20149414e-02,  1.72569680e-01, -1.51258600e-01,\n",
       "        2.47232599e-01, -3.47324114e-02,  6.10306551e-02, -3.47880473e-02,\n",
       "        6.26802566e-03, -3.55471303e-02, -8.12735539e-03,  2.18658854e-01,\n",
       "        1.15986805e-01, -1.92621922e-01,  1.64625381e-01, -1.26519833e-01,\n",
       "       -1.52769966e+00, -8.01863583e-02,  2.48430054e-02,  6.62776217e-02,\n",
       "        2.09799304e-02, -3.59696452e-01,  1.84917819e-01, -2.41242691e-02,\n",
       "       -3.54545103e-01, -1.21687081e-01,  1.10647053e-01,  1.44952836e-01,\n",
       "       -1.94754516e-01,  5.20111173e-02, -8.74257801e-02, -7.43334911e-03,\n",
       "       -1.11606199e-01,  7.56026422e-02, -2.98982833e-02,  5.68019551e-02,\n",
       "       -2.15444437e-01,  1.54477244e-01,  1.30265275e-01, -4.45206133e-01,\n",
       "       -1.15530818e-01, -2.21355444e-01,  6.59559445e-02, -6.31538075e-02,\n",
       "       -3.21628807e-02, -1.02638564e-02, -7.22675151e-02, -1.57891908e-02,\n",
       "        2.49683504e-01,  7.83250718e-02,  1.95154018e-01,  2.05280682e-01,\n",
       "       -1.17942884e-02,  8.15584208e-02,  8.80615608e-02,  3.44062032e-01,\n",
       "        1.09564227e-01,  3.10829451e-02,  1.28793987e-01, -1.56799084e-01,\n",
       "        1.36407429e-02, -6.25708150e-02, -3.63238133e-01, -1.84636960e-02,\n",
       "       -4.26249443e-01, -1.65935002e-01, -4.30007385e-01, -1.05264235e-02,\n",
       "       -3.17389560e-02,  8.54026543e-02,  2.00811521e-01,  3.35042006e-01,\n",
       "       -1.92246515e-01,  2.85707045e-02,  1.53023836e-01,  5.92230509e-01,\n",
       "        3.69332205e-01, -4.85497458e-01, -8.12384545e-02,  2.32633237e-01,\n",
       "       -6.57196770e-02,  4.41051989e-02, -1.38164822e-01,  3.87482672e-02,\n",
       "       -2.25533471e-01,  7.53968227e-02, -1.16796367e-01, -4.13454948e-01,\n",
       "       -1.97007580e-01, -2.95417972e-01, -1.78984973e-01,  1.64551928e-01,\n",
       "       -2.53808729e-01,  1.48843089e-01, -7.54509788e-01,  5.11868311e-02,\n",
       "        1.42791953e-01, -8.31198345e-02, -1.43950695e-01,  4.35729200e-01,\n",
       "        2.07119392e-01,  2.35580631e-01,  1.52141274e-01, -1.70327435e-01,\n",
       "        7.56328676e-02,  1.40372400e-01, -3.86104531e-01,  4.64236435e-02,\n",
       "        3.71671152e-02, -3.12064727e-02,  3.47089441e-02, -1.67581879e-02,\n",
       "       -7.79459435e-02, -1.23913948e-02,  1.11743422e-01,  3.02229048e-01,\n",
       "        2.85667943e-01, -2.69773224e-02,  1.53188740e-01, -1.93097531e-01,\n",
       "        2.15147596e-01, -4.43990332e-01, -2.01828846e-01, -3.37608117e-02,\n",
       "       -2.74168701e-01, -1.39111027e-01,  4.36392866e-02,  2.11912306e-02,\n",
       "       -3.45753707e-01, -8.93752317e-03,  1.64638772e-01,  1.73508623e-01,\n",
       "        6.21584230e-02, -1.98918933e-01, -1.03940003e-01, -1.40328926e-01,\n",
       "        3.52234959e-01,  1.44185468e-01,  2.10098719e-01, -1.38317902e-01,\n",
       "        1.81071046e-01, -5.71483524e-01, -4.69412246e-02, -4.41149917e-02,\n",
       "        1.60437079e+00,  2.32242342e-01, -6.67945746e-01, -3.08165757e-02,\n",
       "        1.58595624e-01, -2.76634588e-01, -1.03154375e-01, -1.18557478e-01,\n",
       "        8.33849083e-02, -1.61550396e-02, -1.24043192e-02, -5.44731034e-03,\n",
       "        1.19002560e-01,  1.48354676e-01,  1.43587590e-01, -1.84194154e-01,\n",
       "       -2.59721808e-01, -6.12359720e-01,  2.19796581e-01, -4.59911340e-02,\n",
       "        3.34983500e-01, -5.52244599e-01, -3.57463827e-01,  1.15899948e-01,\n",
       "       -4.21200332e-02,  2.19003557e-01,  1.54767725e-01, -2.44479430e-01,\n",
       "       -2.80922589e-01, -2.93406355e-01,  1.07299931e-01,  5.46066657e-01])"
      ]
     },
     "execution_count": 124,
     "metadata": {},
     "output_type": "execute_result"
    }
   ],
   "source": [
    "course_sumsG[1]"
   ]
  },
  {
   "cell_type": "code",
   "execution_count": 109,
   "metadata": {
    "scrolled": true
   },
   "outputs": [
    {
     "data": {
      "text/plain": [
       "'employer career technology people entry level inside account career award training design cost effective account craft build consultative long term long term business government education healthcare nationwide money dedicated look outbound potential key decision customer close value business strategic advantage long term long term drive aspiration microsoft office microsoft office basic computer organization time management time management help dual monitor communication aid base salary plus commission partner account prior move dental vision stock purchase stock purchase education tuition give back community match multi brand technology provider business government education healthcare united states united united kingdom united kingdom company approximately year march company net information www list america top military g work list military list top culture top chicago performer chicago network census high number executive thomas list thomas one u equal opportunity employer employment regard race color religion sex sexual orientation gender identity national disability status veteran status law'"
      ]
     },
     "execution_count": 109,
     "metadata": {},
     "output_type": "execute_result"
    }
   ],
   "source": [
    "jobs_skills[296]"
   ]
  },
  {
   "cell_type": "code",
   "execution_count": 98,
   "metadata": {
    "scrolled": true
   },
   "outputs": [
    {
     "data": {
      "text/plain": [
       "'employer canon canon financial mount legal specialist manage legal portfolio collection portfolio avoid legal action works outside settlement authority loss contact net investment exercise independent judgment cost benefit cost benefit litigation activity customer financial status time default determine credit degree risk customer contract placement assignment process cost structure cost structure assignment flat contingency create customer canon asset order loss third legal collection legal secure interest lease equipment recovery approve payment customer third outside develop monitor third effectiveness recovery loss business process legal legal proper internal external improve process efficiency make management make process make process improvement process improvement billing process limited review billing cash application work witness settlement special bachelor degree area equivalent work experience minimum commercial experience minimum commercial leasing experience understanding customer management work ethic ability work fast pace environment meet ongoing training'"
      ]
     },
     "execution_count": 98,
     "metadata": {},
     "output_type": "execute_result"
    }
   ],
   "source": [
    "jobs_skills[459]"
   ]
  },
  {
   "cell_type": "code",
   "execution_count": 108,
   "metadata": {},
   "outputs": [
    {
     "data": {
      "text/plain": [
       "'deal web accessibility web accessibility community college system free professional development professional development opportunity help educational meet accessibility web content importance accessibility essential communication tool equal barrier free access information educational information focus accessibility legal educational information educational accessibility communication accessibility important educational effect accessibility people access information international standard international standard web accessibility web accessibility pdf audio video audio video html access web essential requirement full participation information society'"
      ]
     },
     "execution_count": 108,
     "metadata": {},
     "output_type": "execute_result"
    }
   ],
   "source": [
    "courses_skills[1]"
   ]
  },
  {
   "cell_type": "code",
   "execution_count": 107,
   "metadata": {
    "scrolled": true
   },
   "outputs": [
    {
     "data": {
      "text/plain": [
       "'.net 4'"
      ]
     },
     "execution_count": 107,
     "metadata": {},
     "output_type": "execute_result"
    }
   ],
   "source": [
    "df_skill[1]"
   ]
  },
  {
   "cell_type": "code",
   "execution_count": null,
   "metadata": {},
   "outputs": [],
   "source": [
    "df_skill"
   ]
  },
  {
   "cell_type": "code",
   "execution_count": 127,
   "metadata": {},
   "outputs": [
    {
     "data": {
      "text/plain": [
       "8.442999917453758"
      ]
     },
     "execution_count": 127,
     "metadata": {},
     "output_type": "execute_result"
    }
   ],
   "source": [
    "df_simFEG[0][2]"
   ]
  },
  {
   "cell_type": "code",
   "execution_count": 95,
   "metadata": {},
   "outputs": [
    {
     "data": {
      "text/plain": [
       "4.365590689212796e+96"
      ]
     },
     "execution_count": 95,
     "metadata": {},
     "output_type": "execute_result"
    }
   ],
   "source": [
    "df_simFEG[230][459]"
   ]
  },
  {
   "cell_type": "code",
   "execution_count": 170,
   "metadata": {},
   "outputs": [
    {
     "name": "stdout",
     "output_type": "stream",
     "text": [
      "0.5282051282051282\n",
      "Count\n",
      "195\n"
     ]
    }
   ],
   "source": [
    "#Word 2 Vec Euclidean distance\n",
    "average = 0\n",
    "count = 0\n",
    "histoGW = []\n",
    "histoGC = []\n",
    "for word in test_df3.values:\n",
    "    one = df_simFEG[word[1]][word[0]]\n",
    "    two = df_simFEG[word[2]][word[0]]\n",
    "    \n",
    "    #if word[3] == 1 or word[3] == 2:\n",
    "        #count = count+1\n",
    "    #if one == two:\n",
    "        #count = count-1\n",
    "        #print(word[1])\n",
    "        #print(one)\n",
    "        #print(word[2])\n",
    "        #print(two)\n",
    "        #print(\"new\")\n",
    "    if (one+two) < 9999999:\n",
    "        if word[3] == 1 and one < two:\n",
    "            #print(one)\n",
    "            #print(two)\n",
    "            #print(\"\")\n",
    "            average = average + 1 \n",
    "            histoGC.append(abs(abs(one)-abs(two)))\n",
    "            count = count+1\n",
    "        elif word[3] == 2 and two < one:\n",
    "            average = average + 1\n",
    "            histoGC.append(abs(abs(one)-abs(two))) \n",
    "            count = count+1\n",
    "        elif word[3] == 1 or word[3] == 2:\n",
    "            histoGW.append(abs(abs(one)-abs(two)))\n",
    "            count = count+1\n",
    "        \n",
    "average = average/count\n",
    "print(average)\n",
    "print(\"Count\")\n",
    "print(count)"
   ]
  },
  {
   "cell_type": "code",
   "execution_count": 169,
   "metadata": {},
   "outputs": [
    {
     "data": {
      "text/plain": [
       "[419.6831255427139,\n",
       " 40.53314990882356,\n",
       " 4.522468239355021,\n",
       " 14.207958993078705,\n",
       " 265.70707929805235,\n",
       " 12.562331379671747,\n",
       " 2917.372886571776,\n",
       " 179.55033062531595,\n",
       " 1347020.6533729802,\n",
       " 71.45486148974004,\n",
       " 42.166450365559626,\n",
       " 4589457.928404281,\n",
       " 263.1097364033789,\n",
       " 35338.39417270174,\n",
       " 147.53921020892938,\n",
       " 0.649670936478401,\n",
       " 10.525470935917383,\n",
       " 93.74431398960394,\n",
       " 38.303445045899934,\n",
       " 3749.7179213537956,\n",
       " 101.32297267296713,\n",
       " 21.471817379140333,\n",
       " 195.63293499200608,\n",
       " 75443.62232757437,\n",
       " 85.26465142422899,\n",
       " 6.74008407454221,\n",
       " 120.83312389653378,\n",
       " 128.72414056382294,\n",
       " 24.84651221295698,\n",
       " 189.22831175123844,\n",
       " 2.631439368345582,\n",
       " 4.77015733676954,\n",
       " 132.9525469138227,\n",
       " 28.37581490768332,\n",
       " 173.72367470723952,\n",
       " 23.004178518973646,\n",
       " 41.03498211424176,\n",
       " 479.0506285182201,\n",
       " 69.93919458190635,\n",
       " 100.60669771144575,\n",
       " 446851.76940034644,\n",
       " 692264.449153277,\n",
       " 25620.098476209518,\n",
       " 90.12571653403938,\n",
       " 16572093.70897758,\n",
       " 37.128620283899025,\n",
       " 1328.3863269337025,\n",
       " 12.407192814913685,\n",
       " 88.19349301204932,\n",
       " 127921.6360717396,\n",
       " 20.595020289713915,\n",
       " 37.12684784450215,\n",
       " 628.3221609373102,\n",
       " 17.114412758468916,\n",
       " 1349033.4931538096,\n",
       " 18.19749223840151,\n",
       " 59.65397326557786,\n",
       " 223.4123008298443,\n",
       " 29.478382078695006,\n",
       " 325.18755718881096,\n",
       " 1270984.100046897,\n",
       " 250.37733496955224,\n",
       " 26.85472137890841,\n",
       " 289056.1434428201,\n",
       " 20.097508439431635,\n",
       " 1601474.8154383868,\n",
       " 248.21730215614014,\n",
       " 2603563.0349477334,\n",
       " 80.61768628334836,\n",
       " 216.8465274253342,\n",
       " 23.45480651455449,\n",
       " 61.49938912473374,\n",
       " 268.15534989225904,\n",
       " 1156688.7880357702,\n",
       " 13.499118639796507,\n",
       " 925755.2677468326,\n",
       " 42.97607460793745,\n",
       " 94.11499047501968,\n",
       " 50.64908570665537,\n",
       " 902869.2624925692,\n",
       " 192.2586485195681,\n",
       " 445.223183790289,\n",
       " 42.928293003630756,\n",
       " 52.02853984640754,\n",
       " 7.229659613381351,\n",
       " 67.49660684157311,\n",
       " 140.61845153445802,\n",
       " 216.6688329595188,\n",
       " 3.094592721058916,\n",
       " 1476499.5088711844,\n",
       " 44.85491543675067,\n",
       " 88.36114174590728,\n",
       " 2389.3704543672216]"
      ]
     },
     "execution_count": 169,
     "metadata": {},
     "output_type": "execute_result"
    }
   ],
   "source": [
    "histoGW"
   ]
  },
  {
   "cell_type": "code",
   "execution_count": 171,
   "metadata": {},
   "outputs": [
    {
     "name": "stdout",
     "output_type": "stream",
     "text": [
      "all\n",
      "160117.97222675444\n",
      "correct\n",
      "119310.26496770936\n",
      "wrong\n",
      "205804.86187546793\n"
     ]
    }
   ],
   "source": [
    "import statistics\n",
    "#average difference in similarity\n",
    "print(\"all\")\n",
    "print(statistics.mean(histoGC+histoGW))\n",
    "print(\"correct\")\n",
    "print(statistics.mean(histoGC))\n",
    "print(\"wrong\")\n",
    "print(statistics.mean(histoGW))"
   ]
  },
  {
   "cell_type": "code",
   "execution_count": 215,
   "metadata": {},
   "outputs": [],
   "source": [
    "with open(\"/Users/ryancramer/Desktop/handshake1.txt\") as f:\n",
    "    for line in f:\n",
    "        data.append(json.loads(line))\n",
    "df14 = pd.DataFrame(data)\n"
   ]
  },
  {
   "cell_type": "code",
   "execution_count": 216,
   "metadata": {},
   "outputs": [],
   "source": [
    "text224 = df14['description']"
   ]
  },
  {
   "cell_type": "code",
   "execution_count": 221,
   "metadata": {},
   "outputs": [
    {
     "data": {
      "text/plain": [
       "0       In this third course of the specialization, we...\n",
       "1       Many educators are under-prepared to deal with...\n",
       "2       Registration is open from November 3, 2014 unt...\n",
       "3       Since the invention of the telescope in 1608, ...\n",
       "4       Chinese archaeology is one of the fastest-grow...\n",
       "                              ...                        \n",
       "8794    Employer: Raytheon Company \\n\\n Expires: 03/22...\n",
       "8795    Employer: Optymyze \\n\\n Expires: 06/05/2018 \\n...\n",
       "8796    Employer: Religio \\n\\n Expires: 04/01/2018 \\n\\...\n",
       "8797    Employer: Stang Decision Systems \\n\\n Expires:...\n",
       "8798    Employer: QSC \\n\\n Expires: 04/07/2018 \\n\\n De...\n",
       "Name: description, Length: 8799, dtype: object"
      ]
     },
     "execution_count": 221,
     "metadata": {},
     "output_type": "execute_result"
    }
   ],
   "source": [
    "text224"
   ]
  },
  {
   "cell_type": "code",
   "execution_count": 219,
   "metadata": {},
   "outputs": [],
   "source": [
    "text224.to_excel(\"Tableautest.xlsx\")\n"
   ]
  },
  {
   "cell_type": "code",
   "execution_count": null,
   "metadata": {},
   "outputs": [],
   "source": [
    "job 6 not similar"
   ]
  }
 ],
 "metadata": {
  "kernelspec": {
   "display_name": "Python 3",
   "language": "python",
   "name": "python3"
  },
  "language_info": {
   "codemirror_mode": {
    "name": "ipython",
    "version": 3
   },
   "file_extension": ".py",
   "mimetype": "text/x-python",
   "name": "python",
   "nbconvert_exporter": "python",
   "pygments_lexer": "ipython3",
   "version": "3.7.6"
  }
 },
 "nbformat": 4,
 "nbformat_minor": 4
}
