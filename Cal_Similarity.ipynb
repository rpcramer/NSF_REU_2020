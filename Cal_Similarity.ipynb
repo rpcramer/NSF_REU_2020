{
 "cells": [
  {
   "cell_type": "code",
   "execution_count": null,
   "metadata": {},
   "outputs": [],
   "source": []
  },
  {
   "cell_type": "code",
   "execution_count": 5,
   "metadata": {},
   "outputs": [],
   "source": [
    "# MIS464 HW1\n",
    "\n",
    "import csv # import csv package\n",
    "#import sklearn\n",
    "from sklearn.metrics import pairwise_distances\n",
    "import numpy\n",
    "\n",
    "# read data csv file\n",
    "data = []\n",
    "ids_array = []\n",
    "with open(\"data.csv\", \"r\") as fp:\n",
    "    # define csv dictionary reader\n",
    "    reader = csv.DictReader(fp)\n",
    "    # get field names\n",
    "    header = reader.fieldnames\n",
    "    # iterate each row\n",
    "    for row in reader:\n",
    "        job_id = row[\"id\"]\n",
    "        data_row = []\n",
    "        # iterate all index starting from 2 (0 is id, 1 is title, 2,3... are terms)\n",
    "        # get term frequency\n",
    "        for i in range(2, len(header)):\n",
    "            data_row.append(int(row[header[i]]))\n",
    "        row_sum = sum(data_row)\n",
    "        for i in range(len(data_row)):\n",
    "            data_row[i] = data_row[i] * 1.0 / row_sum\n",
    "        # store id\n",
    "        ids_array.append(job_id)\n",
    "        # store each row of term frequency\n",
    "        data.append(data_row)\n",
    "\n",
    "# calculate distance matrix\n",
    "#matrix = pairwise_distances(data, data, metric=\"sqeuclidean\")\n",
    "#matrix = pairwise_distances(numpy.array(data) > 0, numpy.array(data) > 0, metric=\"jaccard\")\n",
    "matrix = pairwise_distances(data, data, metric=\"cosine\")\n",
    "\n",
    "# calculate similarity\n",
    "matrix = 1 - numpy.array(matrix)\n",
    "\n",
    "\n",
    "\n"
   ]
  },
  {
   "cell_type": "code",
   "execution_count": null,
   "metadata": {},
   "outputs": [],
   "source": []
  },
  {
   "cell_type": "code",
   "execution_count": null,
   "metadata": {},
   "outputs": [],
   "source": []
  },
  {
   "cell_type": "code",
   "execution_count": 6,
   "metadata": {},
   "outputs": [],
   "source": [
    "# write matrix into file\n",
    "with open(\"output_cosine.csv\", \"w\") as fp:\n",
    "    # define csv writer\n",
    "    writer = csv.writer(fp, delimiter=',')\n",
    "    # define field names\n",
    "    header = [\"id\"] + ids_array\n",
    "    # write field names\n",
    "    writer.writerow(header)\n",
    "    # write similarity row by row\n",
    "    for i in range(len(ids_array)):\n",
    "        row = [ids_array[i]] + list(matrix[i])\n",
    "        writer.writerow(row)"
   ]
  },
  {
   "cell_type": "code",
   "execution_count": null,
   "metadata": {},
   "outputs": [],
   "source": []
  }
 ],
 "metadata": {
  "kernelspec": {
   "display_name": "Python 3",
   "language": "python",
   "name": "python3"
  },
  "language_info": {
   "codemirror_mode": {
    "name": "ipython",
    "version": 3
   },
   "file_extension": ".py",
   "mimetype": "text/x-python",
   "name": "python",
   "nbconvert_exporter": "python",
   "pygments_lexer": "ipython3",
   "version": "3.7.6"
  }
 },
 "nbformat": 4,
 "nbformat_minor": 4
}
