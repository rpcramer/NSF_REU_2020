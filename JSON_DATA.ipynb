{
 "cells": [
  {
   "cell_type": "code",
   "execution_count": 51,
   "metadata": {},
   "outputs": [
    {
     "name": "stdout",
     "output_type": "stream",
     "text": [
      "shape (19831, 4)\n",
      "0        2017 Product / Project Management Jobs\n",
      "1        2017 Product / Project Management Jobs\n",
      "2        2017 Product / Project Management Jobs\n",
      "3        2017 Product / Project Management Jobs\n",
      "4        2017 Product / Project Management Jobs\n",
      "                          ...                  \n",
      "19826          2017 Information Technology Jobs\n",
      "19827               2017  Data & Analytics Jobs\n",
      "19828               2017  Data & Analytics Jobs\n",
      "19829          2017 Information Technology Jobs\n",
      "19830               2017  Data & Analytics Jobs\n",
      "Name: category, Length: 19831, dtype: object\n"
     ]
    }
   ],
   "source": [
    "import pandas as pd\n",
    "from pandas import DataFrame\n",
    "\n",
    "\n",
    "import json\n",
    "data = []\n",
    "with open(\"/Users/ryancramer/Desktop/handshake_feeds_20200505.txt\") as f:\n",
    "    for line in f:\n",
    "        data.append(json.loads(line))\n",
    "                    \n",
    "\n",
    "df = pd.DataFrame(data)\n",
    "print(\"shape\",df.shape)\n",
    "print(df['category'].unique())\n",
    "print(df['category'])\n"
   ]
  },
  {
   "cell_type": "code",
   "execution_count": 5,
   "metadata": {},
   "outputs": [
    {
     "data": {
      "text/plain": [
       "19831"
      ]
     },
     "execution_count": 5,
     "metadata": {},
     "output_type": "execute_result"
    }
   ],
   "source": []
  },
  {
   "cell_type": "code",
   "execution_count": null,
   "metadata": {},
   "outputs": [],
   "source": []
  },
  {
   "cell_type": "code",
   "execution_count": null,
   "metadata": {},
   "outputs": [],
   "source": []
  },
  {
   "cell_type": "code",
   "execution_count": null,
   "metadata": {},
   "outputs": [],
   "source": []
  }
 ],
 "metadata": {
  "kernelspec": {
   "display_name": "Python 3",
   "language": "python",
   "name": "python3"
  },
  "language_info": {
   "codemirror_mode": {
    "name": "ipython",
    "version": 3
   },
   "file_extension": ".py",
   "mimetype": "text/x-python",
   "name": "python",
   "nbconvert_exporter": "python",
   "pygments_lexer": "ipython3",
   "version": "3.7.6"
  }
 },
 "nbformat": 4,
 "nbformat_minor": 4
}
