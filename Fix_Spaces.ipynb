{
 "cells": [
  {
   "cell_type": "code",
   "execution_count": 216,
   "metadata": {},
   "outputs": [],
   "source": [
    "import pandas as pd\n",
    "from pandas import DataFrame\n",
    "import json\n",
    "\n",
    "data = []\n",
    "\n",
    "with open(\"/Users/ryancramer/Desktop/handshake_feeds_20200505.txt\") as f:\n",
    "    for line in f:\n",
    "        data.append(json.loads(line))\n",
    "       \n",
    "df = pd.DataFrame(data)  \n",
    "\n",
    "train_texts = df['description']"
   ]
  },
  {
   "cell_type": "code",
   "execution_count": null,
   "metadata": {},
   "outputs": [],
   "source": []
  },
  {
   "cell_type": "code",
   "execution_count": 219,
   "metadata": {},
   "outputs": [
    {
     "name": "stdout",
     "output_type": "stream",
     "text": [
      "Sentence 1:\n",
      "Employer: Soaptopia Expires:\n",
      "\n",
      "Sentence 2:\n",
      "BATH & BODYDo you love life?\n",
      "\n",
      "Sentence 3:\n",
      "Do you enJOY helping others?\n",
      "\n",
      "Sentence 4:\n",
      "Do you believe that sharing is caring?\n",
      "\n",
      "Sentence 5:\n",
      "Would you love being a part of a joyful, team that promotes yummy life-affirming products?\n",
      "\n",
      "Sentence 6:\n",
      "Well, you may be the right fit for our team!\n",
      "\n",
      "Sentence 7:\n",
      "Soaptopia is looking for a talented, fun, reliable, flexible and responsible Customer Happiness Person to service various grocery stores.\n",
      "\n",
      "Sentence 8:\n",
      "This job is great for students who are looking for a part-time gig with very flexible hours allowing you to make a some extra pocket cash every 2 weeks.\n",
      "\n",
      "Sentence 9:\n",
      "STORES TO COVERWe have roughly 16 stores in the following areas: Mesa, Chandler, Gilbert, Phoenix, Tempe, etc...\n",
      "\n",
      "Sentence 10:\n",
      "OUR AGREEMENT WITH OUR CUSTOMERSYOU smell - buy - use - give - love our products and\n",
      "\n",
      "Sentence 11:\n",
      "WE co-create - share - evolve - educate - provide natural yummy soaps and skin products that not only nourish the body but also awaken the senses and promote self-awareness.\n",
      "\n",
      "Sentence 12:\n",
      "Our responsibility in the eco-centered community is to devote ourselves to identifying more environmentally friendly ways to bring you the finest and freshest, 100% JUNK-FREE body care products available anywhere.\n",
      "\n",
      "Sentence 13:\n",
      "THE DETAILS- $12 - 15/hour (depending on store volume).\n",
      "\n",
      "Sentence 14:\n",
      "Job Type: Part-time.\n",
      "\n",
      "Sentence 15:\n",
      "Salary: - /hour.\n",
      "\n",
      "Sentence 16:\n",
      "Responsibilities and Duties-\n",
      "\n",
      "Sentence 17:\n",
      "Placing orders through phone or any other electronic devices using the company email address-\n",
      "\n",
      "Sentence 18:\n",
      "Merchandise stores respective to the schedule given-\n",
      "\n",
      "Sentence 19:\n",
      "Obtain order of products at receiving area and communicate effectively with receiver to ensure proper receiving of items- Display products according to the company display standards-\n",
      "\n",
      "Sentence 20:\n",
      "Cut soaps\n",
      "\n",
      "Sentence 21:\n",
      "according to company soap cutting standards and\n",
      "\n",
      "Sentence 22:\n",
      "requirements-\n",
      "\n",
      "Sentence 23:\n",
      "Maintain overall the displays neat, clean and well-merchandised at all times- Active communication with store management and/or receiving so ensure that products are properly displayed.- Very active communication with merchandising/sales department and shipping team via text, phone calls, and emails.\n",
      "\n",
      "Sentence 24:\n",
      "Qualifications and Skills- Availability: Flexible!\n",
      "\n",
      "Sentence 25:\n",
      "You give us your schedule for merchandising stores\n",
      "\n",
      "Sentence 26:\n",
      "so we establish visits to the store on a weekly or bi-weekly basis.- Internet savvy: knowledge of Google, Gmail, Google Drive, and Timestamp-\n",
      "\n",
      "Sentence 27:\n",
      "Have a smart phone or means to check your email, upload photos, and be able to email/\n",
      "\n",
      "Sentence 28:\n",
      "respond to email, text, and phone calls on a timely manner\n",
      "\n",
      "Sentence 29:\n",
      "(at least within 4 hours of receiving the communication)- Be available for new store/ Soaptopia display opening-\n",
      "\n",
      "Sentence 30:\n",
      "Have a valid driver's license and a reliable car-\n",
      "\n",
      "Sentence 31:\n",
      "Be skilled in retail merchandising, possess a visual touch for neatness and artful product placement.\n",
      "\n",
      "Sentence 32:\n",
      "**** Please note in case of allergies: we use nuts, mint, etc.\n",
      "\n",
      "Sentence 33:\n",
      "which you will be exposed to.\n",
      "\n",
      "Sentence 34:\n",
      "Benefits-\n",
      "\n",
      "Sentence 35:\n",
      "Mileage reimbursement- Company perks (products, etc).\n",
      "\n",
      "Sentence 36:\n",
      "Job\n",
      "\n",
      "Sentence 37:\n",
      "Type: Part-time.\n",
      "\n",
      "Sentence 38:\n",
      "Salary: $12-15/hour1099 - Independent Contractor\n",
      "\n"
     ]
    }
   ],
   "source": [
    "import spacy\n",
    "\n",
    "import pandas as pd\n",
    "#import intertools as it\n",
    "\n",
    "#nlp = spacy.load(\"en\")\n",
    "nlp = spacy.load(\"/Users/ryancramer/opt/anaconda3/lib/python3.7/site-packages/en_core_web_lg/en_core_web_lg-2.3.1\")\n",
    "\n",
    "\n",
    "sample = \"SupplyHouse.com, a rapidly-growing online plumbing, heating, and HVAC supplier, seeks a Paid Search Analyst to join our team. If you love data analysis and enjoy researching, developing, and optimizing marketing campaigns, we want to hear from you!Responsibilities include: Managing search engine marketing (SEM) campaigns across a variety of channels including Google and BingAllocating paid search budget based on campaign performanceConducting campaign experiments to improve performanceOptimizing remarketing advertisements directed at previous website visitorsLaunching ad campaigns on YouTube and social media platformsAnalyzing results of promotions and ad campaignsWorking closely with CEO and Marketing Captain in order to communicate strategies and resultsCollaborating with account representatives and staying up-to-date on trends and best practices We are looking for individuals with:A Bachelor’s degree (in marketing, statistics, or other analytical field). MBA preferred but not requiredExcellent analytical abilities and attention to detailA can-do attitude, with confidence to propose new ideas Effective written and verbal communication skillsThe ability to multi-task and re-prioritize as neededComprehensive understanding of keyword researchExperience managing large-scale paid search accounts preferredOur benefits include:Health insurance – 100% employee health coverage after 1 month of employmentMeals – breakfast on Wednesdays, lunch on Mondays & Fridays, and free snacks in our fully stocked kitchenCasual dress codePet friendly officeOn-site gymDental, vision, and 401K plans availablePaid time off and paid holidaysAbility to work with a great team! Meet us online at http://www.supplyhouse.com/our-company\"\n",
    "parsed_review = nlp(new_train_texts[1])\n",
    "\n",
    "for num, sentence in enumerate(parsed_review.sents):\n",
    "    print(\"Sentence {}:\".format(num+1))\n",
    "    print(sentence)\n",
    "    print ('')"
   ]
  },
  {
   "cell_type": "code",
   "execution_count": null,
   "metadata": {},
   "outputs": [],
   "source": []
  },
  {
   "cell_type": "code",
   "execution_count": 220,
   "metadata": {},
   "outputs": [
    {
     "data": {
      "text/html": [
       "<div>\n",
       "<style scoped>\n",
       "    .dataframe tbody tr th:only-of-type {\n",
       "        vertical-align: middle;\n",
       "    }\n",
       "\n",
       "    .dataframe tbody tr th {\n",
       "        vertical-align: top;\n",
       "    }\n",
       "\n",
       "    .dataframe thead th {\n",
       "        text-align: right;\n",
       "    }\n",
       "</style>\n",
       "<table border=\"1\" class=\"dataframe\">\n",
       "  <thead>\n",
       "    <tr style=\"text-align: right;\">\n",
       "      <th></th>\n",
       "      <th>token_text</th>\n",
       "      <th>Part_of_speech</th>\n",
       "    </tr>\n",
       "  </thead>\n",
       "  <tbody>\n",
       "    <tr>\n",
       "      <th>0</th>\n",
       "      <td>Employer</td>\n",
       "      <td>NOUN</td>\n",
       "    </tr>\n",
       "    <tr>\n",
       "      <th>1</th>\n",
       "      <td>:</td>\n",
       "      <td>PUNCT</td>\n",
       "    </tr>\n",
       "    <tr>\n",
       "      <th>2</th>\n",
       "      <td>Soaptopia</td>\n",
       "      <td>PROPN</td>\n",
       "    </tr>\n",
       "    <tr>\n",
       "      <th>3</th>\n",
       "      <td>Expires</td>\n",
       "      <td>VERB</td>\n",
       "    </tr>\n",
       "    <tr>\n",
       "      <th>4</th>\n",
       "      <td>:</td>\n",
       "      <td>PUNCT</td>\n",
       "    </tr>\n",
       "    <tr>\n",
       "      <th>...</th>\n",
       "      <td>...</td>\n",
       "      <td>...</td>\n",
       "    </tr>\n",
       "    <tr>\n",
       "      <th>532</th>\n",
       "      <td>/</td>\n",
       "      <td>SYM</td>\n",
       "    </tr>\n",
       "    <tr>\n",
       "      <th>533</th>\n",
       "      <td>hour1099</td>\n",
       "      <td>NUM</td>\n",
       "    </tr>\n",
       "    <tr>\n",
       "      <th>534</th>\n",
       "      <td>-</td>\n",
       "      <td>PUNCT</td>\n",
       "    </tr>\n",
       "    <tr>\n",
       "      <th>535</th>\n",
       "      <td>Independent</td>\n",
       "      <td>PROPN</td>\n",
       "    </tr>\n",
       "    <tr>\n",
       "      <th>536</th>\n",
       "      <td>Contractor</td>\n",
       "      <td>PROPN</td>\n",
       "    </tr>\n",
       "  </tbody>\n",
       "</table>\n",
       "<p>537 rows × 2 columns</p>\n",
       "</div>"
      ],
      "text/plain": [
       "      token_text Part_of_speech\n",
       "0       Employer           NOUN\n",
       "1              :          PUNCT\n",
       "2      Soaptopia          PROPN\n",
       "3        Expires           VERB\n",
       "4              :          PUNCT\n",
       "..           ...            ...\n",
       "532            /            SYM\n",
       "533     hour1099            NUM\n",
       "534            -          PUNCT\n",
       "535  Independent          PROPN\n",
       "536   Contractor          PROPN\n",
       "\n",
       "[537 rows x 2 columns]"
      ]
     },
     "execution_count": 220,
     "metadata": {},
     "output_type": "execute_result"
    }
   ],
   "source": [
    "#POS tagging\n",
    "\n",
    "import pandas as pd\n",
    "\n",
    "token_text = [token.orth_ for token in parsed_review]\n",
    "token_pos = [token.pos_ for token in parsed_review]\n",
    "\n",
    "pd.DataFrame(zip(token_text, token_pos),\n",
    "            columns = ['token_text', 'Part_of_speech'])"
   ]
  },
  {
   "cell_type": "code",
   "execution_count": null,
   "metadata": {},
   "outputs": [],
   "source": []
  },
  {
   "cell_type": "code",
   "execution_count": null,
   "metadata": {},
   "outputs": [],
   "source": [
    "#train_texts[0]"
   ]
  },
  {
   "cell_type": "code",
   "execution_count": 217,
   "metadata": {},
   "outputs": [],
   "source": [
    "import string\n",
    "\n",
    "new_train_texts = list()\n",
    "for job in train_texts:\n",
    "    lis = list()\n",
    "    jobs = str(job)\n",
    "    blank = jobs.split()\n",
    "    for word in blank:\n",
    "        if word[1:].islower() == False and len(word) > 4:\n",
    "            wordlen = 0\n",
    "            length = len(word)\n",
    "            #if word\n",
    "            for letter in word:\n",
    "                \n",
    "                if wordlen == 0:\n",
    "                    wordlen = wordlen + 1\n",
    "                    continue\n",
    "                if letter.isupper():\n",
    "                    if wordlen + 1 == length:\n",
    "                        if word[wordlen-1] not in string.punctuation and not \"A\":\n",
    "                            lis.append(word)\n",
    "                        elif \"A\":\n",
    "                            lis.append(word[0:wordlen] + \".\") \n",
    "                            lis.append(word[wordlen:])\n",
    "                        else:\n",
    "                            lis.append(word[0:wordlen])\n",
    "                            lis.append(word[wordlen:])\n",
    "                    elif word[wordlen+1].islower():\n",
    "                        if word[wordlen-1] in string.punctuation:\n",
    "                            lis.append(word[0:wordlen])\n",
    "                            lis.append(word[wordlen:])\n",
    "                        \n",
    "                        else:\n",
    "                            lis.append(word[0:wordlen] + \".\") \n",
    "                            lis.append(word[wordlen:])\n",
    "                            \n",
    "                    else:\n",
    "                        lis.append(word)\n",
    "                    break\n",
    "                wordlen = wordlen + 1\n",
    "        else:\n",
    "            lis.append(word)\n",
    "        #print(lis)\n",
    "    \n",
    "    new_train_texts.append(' '.join(lis))\n",
    "    \n",
    "   #is this a sentenceAbility to\n",
    "    \n",
    "    \n",
    "#problem number and symbol goes away unless length is less that 5\n",
    "#print(train_texts[19830])\n",
    "#print(new_train_texts[19830])"
   ]
  },
  {
   "cell_type": "code",
   "execution_count": 38,
   "metadata": {},
   "outputs": [
    {
     "name": "stdout",
     "output_type": "stream",
     "text": [
      "Employer: Broward County \n",
      "\n",
      " Expires: 07/26/2018 \n",
      "\n",
      " SALARY: $74,617.32 - $119,089.63 AnnuallyOPENING DATE: 06/29/18CLOSING DATE: ContinuousREQUIREMENTS AND PREFERENCES:The Broward County Board of County Commissioners is seeking qualified candidates for the position of Expansion Project Administrator.  This announcement will remain open until a sufficient number of applications are received.The Aviation Department which operates the Fort Lauderdale-Hollywood International Airport and the North Perry Airport is seeking qualified candidates for the position of EXPANSION PROJECT ADMINISTRATOR to work in Aviation's Airport Development Division.This is advanced professional and administrative work managing Airport expansion projects for the Broward County Aviation Department from the inception to the final construction and occupancy of those projects.  The ideal candidate will possess broad, high-level experience in managing all phases of a Airport Construction Program(s) conducted at large hub airport in the United States, in accordance with the Federal Aviation Administration Advisory Circulars. The Expansion Project Administrator is responsible for leading a team of Program Managers to evaluate and coordinate all aspects of Airport related projects airside, landside, and occasional community related projects near the Ft. Lauderdale-Hollywood International Airport and North Perry Airport.Duties include, but are not limited to:• Preparation of Board Agenda Items to solicit and negotiate professional services and amendments to professional service agreements.• Development or revision of policies associated with the coordination, tracking and reporting of program progress.• Development of procedures and performance standards for processes related to Program.• Providing technical direction to Program Managers and other staff involved in the Program.• Preparing, estimating and controlling budgets and providing budget reports.• Coordination of all project resources.• Responsible for assembling key personnel for projects.• Program coordination with various local, state and Federal agencies.• Other duties as assigned.NECESSARY SPECIAL REQUIREMENT:Must possess a valid Florida Driver's License with authority to drive a county vehicle for the duration of appointment.Ability to obtain and maintain an Airport Security Badge and Customs Seal (may be required to work within the FIS Facility).General DescriptionManages expansion projects for Broward County from the inception to the final construction and occupancy of those projects.Works independently, under limited supervision, reporting major activities through periodic meetings.Minimum Education and Experience Requirements:Requires a Bachelor's degree from an accredited college or university with major coursework in architecture, engineering, construction management or closely related field.Requires four (4) years overseeing contracts in architecture, engineering, and/or construction management which involved design/construction projects or closely related experience.Preferences:Master Degree in Civil Engineering - Construction, Engineering, Architecture or closely related fieldAccredited Airport Executive (AAE), International Airport Professional (IAP) CertificationProfessional Engineer (PE)/Architectural LicenseProject Management CertificateRelated Certificate in Engineering/Construction or related fieldSix (6) or more years of experience managing on-site and off-site airport construction projectsEngineering/Construction experience in a Public Sector environmentFour (4) years experience managing airport program/projectsFour (4) years experience managing direct report staffTwo (2) years experience using ProLog and/or GIS softwareDUTIES AND RESPONSIBILITIES:The functions listed below are those that represent the majority of the time spent working in this class. Management may assign additional functions related to the type of work of the job as necessary.Coordinates with multi-agencies' staff the scoping, preparation, permitting, and expeditious execution of construction and design consultant contracts; performs quality review of engineering plans, designs, specifications, pay requisitions, work authorizations, and other construction contract documents.Manages, develops, mentors, and advises subordinate project managers to ensure their professional growth, adherence to policies/procedures, and timely work completion; prepares and administers the Regional Capital Program Budget and Regional Capital Program Management Section operating budget.Provides technical process information and regulatory compliance recommendations to management and operations staff; prepares initial cost estimates for each project; prepares, enters, and monitors agenda items for award of contracts.Prepares and secures all prerequisites from Consultant or Contractor for the issuance of a Purchase Order to begin work (completed and signed agreements insurance documents, bonds).Reviews and approves pay applications, change orders, amendments to contracts and agreements; reviews and approves design and construction schedules for the duration of the project; plans, coordinates and directs the work of subordinates as required by work assignment.Reviews staff work; performs analysis and prepares reports to senior management.Develops contracts and grants policies, procedures, and schedules; performs Contract Management/Administration for absent staff; develops analysis of timeline schedules of common work activities.Reviews data on the agencies existing work order system and reports discrepancies, makes recommendations for collecting and entering data; evaluates and reviews reports and documents for correctness, completeness and timeliness; counsels Consultants/Contractors regarding the various County requirements and procedures; aids and assists County and Consultant staff as needed.Performs related work as assigned.WORK ENVIRONMENT:Physical DemandsPhysical demands refer to the requirements for physical exertion and coordination of limb and body movement.Performs light work that involves walking or standing most of the time and involves exerting up to 20 pounds of force on a regular and recurring basis, or skill, adeptness and speed in the use of fingers, hands or limbs on repetitive operation of electronic office equipment or tools within moderate tolerances or limits of accuracy.Unavoidable Hazards (Work Environment)Unavoidable hazards refer to the job conditions that may lead to injury or health hazards even though precautions have been taken.Involves routine and frequent exposure to traffic; moving machinery.SPECIAL INFORMATION:Americans with Disabilities Act (ADA) Compliance:Broward County is an Equal Opportunity Employer.  The ADA requires Broward County to provide reasonable accommodations to qualified persons with disabilities. Prospective and current employees are encouraged to discuss ADA accommodations with management.Emergency Management Responsibilities:Note: During emergency conditions, all County employees are automatically considered emergency service workers. County employees are subject to being called to work in the event of a disaster, such as a hurricane, or other emergency situation and are expected to perform emergency service duties, as assigned.County-wide Employee Responsibilities:All Broward County employees must serve the public and fellow employees with honesty and integrity in full accord with the letter and spirit of Broward County's Employee Code of Ethics, gift, and conflict of interest policies.All Broward County employees must establish and maintain effective working relationships with the general public, co-workers, elected and appointed officials and members of diverse cultural and linguistic backgrounds, regardless of race, color, religion, sex, national origin, age, disability, marital status, political affiliation, familial status, sexual orientation, pregnancy, or gender identity and expression.BROWARD COUNTY IS AN EQUAL OPPORTUNITY EMPLOYER AND PROVIDER OF SERVICESAPPLICATIONS MAY BE FILED ONLINE AT http://www.broward.org/careers\n"
     ]
    },
    {
     "data": {
      "text/plain": [
       "\"Employer: Broward County Expires: SALARY: - AnnuallyOPENING DATE: 06/29/18CLOSING DATE: ContinuousREQUIREMENTS AND PREFERENCES:The Broward County Board of County Commissioners is seeking qualified candidates for the position of Expansion Project Administrator. This announcement will remain open until a sufficient number of applications are received. The Aviation Department which operates the Fort Lauderdale- Hollywood International Airport and the North Perry Airport is seeking qualified candidates for the position of EXPANSION PROJECT ADMINISTRATOR to work in Aviation's Airport Development Division. This is advanced professional and administrative work managing Airport expansion projects for the Broward County Aviation Department from the inception to the final construction and occupancy of those projects. The ideal candidate will possess broad, high-level experience in managing all phases of a Airport Construction Program(s) conducted at large hub airport in the United States, in accordance with the Federal Aviation Administration Advisory Circulars. The Expansion Project Administrator is responsible for leading a team of Program Managers to evaluate and coordinate all aspects of Airport related projects airside, landside, and occasional community related projects near the Ft. Lauderdale- Hollywood International Airport and North Perry Airport. Duties include, but are not limited to:• Preparation of Board Agenda Items to solicit and negotiate professional services and amendments to professional service agreements.• Development or revision of policies associated with the coordination, tracking and reporting of program progress.• Development of procedures and performance standards for processes related to Program.• Providing technical direction to Program Managers and other staff involved in the Program.• Preparing, estimating and controlling budgets and providing budget reports.• Coordination of all project resources.• Responsible for assembling key personnel for projects.• Program coordination with various local, state and Federal agencies.• Other duties as assigned.NECESSARY SPECIAL REQUIREMENT:Must possess a valid Florida Driver's License with authority to drive a county vehicle for the duration of appointment. Ability to obtain and maintain an Airport Security Badge and Customs Seal (may be required to work within the FIS Facility). General Description. Manages expansion projects for Broward County from the inception to the final construction and occupancy of those projects. Works independently, under limited supervision, reporting major activities through periodic meetings. Minimum Education and Experience Requirements: Requires a Bachelor's degree from an accredited college or university with major coursework in architecture, engineering, construction management or closely related field. Requires four (4) years overseeing contracts in architecture, engineering, and/or construction management which involved design/construction projects or closely related experience. Preferences:Master Degree in Civil Engineering - Construction, Engineering, Architecture or closely related field. Accredited Airport Executive (AAE), International Airport Professional (IAP) Certification. Professional Engineer (PE)/Architectural License. Project Management Certificate. Related Certificate in Engineering/ Construction or related field. Six (6) or more years of experience managing on-site and off-site airport construction projects. Engineering/Construction experience in a Public Sector environment. Four (4) years experience managing airport program/projects. Four (4) years experience managing direct report staff. Two (2) years experience using Pro. Log and/or GIS softwareDUTIES AND RESPONSIBILITIES:The functions listed below are those that represent the majority of the time spent working in this class. Management may assign additional functions related to the type of work of the job as necessary. Coordinates with multi-agencies' staff the scoping, preparation, permitting, and expeditious execution of construction and design consultant contracts; performs quality review of engineering plans, designs, specifications, pay requisitions, work authorizations, and other construction contract documents. Manages, develops, mentors, and advises subordinate project managers to ensure their professional growth, adherence to policies/procedures, and timely work completion; prepares and administers the Regional Capital Program Budget and Regional Capital Program Management Section operating budget. Provides technical process information and regulatory compliance recommendations to management and operations staff; prepares initial cost estimates for each project; prepares, enters, and monitors agenda items for award of contracts. Prepares and secures all prerequisites from Consultant or Contractor for the issuance of a Purchase Order to begin work (completed and signed agreements insurance documents, bonds). Reviews and approves pay applications, change orders, amendments to contracts and agreements; reviews and approves design and construction schedules for the duration of the project; plans, coordinates and directs the work of subordinates as required by work assignment. Reviews staff work; performs analysis and prepares reports to senior management. Develops contracts and grants policies, procedures, and schedules; performs Contract Management/ Administration for absent staff; develops analysis of timeline schedules of common work activities. Reviews data on the agencies existing work order system and reports discrepancies, makes recommendations for collecting and entering data; evaluates and reviews reports and documents for correctness, completeness and timeliness; counsels Consultants/ Contractors regarding the various County requirements and procedures; aids and assists County and Consultant staff as needed. Performs related work as assigned.WORK ENVIRONMENT:Physical Demands. Physical demands refer to the requirements for physical exertion and coordination of limb and body movement. Performs light work that involves walking or standing most of the time and involves exerting up to 20 pounds of force on a regular and recurring basis, or skill, adeptness and speed in the use of fingers, hands or limbs on repetitive operation of electronic office equipment or tools within moderate tolerances or limits of accuracy. Unavoidable Hazards ( Work Environment) Unavoidable hazards refer to the job conditions that may lead to injury or health hazards even though precautions have been taken. Involves routine and frequent exposure to traffic; moving machinery.SPECIAL INFORMATION:Americans with Disabilities Act (ADA) Compliance: Broward County is an Equal Opportunity Employer. The ADA requires Broward County to provide reasonable accommodations to qualified persons with disabilities. Prospective and current employees are encouraged to discuss ADA accommodations with management. Emergency Management Responsibilities: Note: During emergency conditions, all County employees are automatically considered emergency service workers. County employees are subject to being called to work in the event of a disaster, such as a hurricane, or other emergency situation and are expected to perform emergency service duties, as assigned. County-wide Employee Responsibilities: All Broward County employees must serve the public and fellow employees with honesty and integrity in full accord with the letter and spirit of Broward County's Employee Code of Ethics, gift, and conflict of interest policies. All Broward County employees must establish and maintain effective working relationships with the general public, co-workers, elected and appointed officials and members of diverse cultural and linguistic backgrounds, regardless of race, color, religion, sex, national origin, age, disability, marital status, political affiliation, familial status, sexual orientation, pregnancy, or gender identity and expression.BROWARD COUNTY IS AN EQUAL OPPORTUNITY EMPLOYER AND PROVIDER OF SERVICESAPPLICATIONS MAY BE FILED ONLINE AT http://www.broward.org/careers\""
      ]
     },
     "execution_count": 38,
     "metadata": {},
     "output_type": "execute_result"
    }
   ],
   "source": [
    "print(train_texts[30])\n",
    "new_train_texts[30]\n"
   ]
  },
  {
   "cell_type": "code",
   "execution_count": 36,
   "metadata": {},
   "outputs": [
    {
     "name": "stdout",
     "output_type": "stream",
     "text": [
      "Employer: SupplyHouse.com \n",
      "\n",
      " Expires: 06/30/2019 \n",
      "\n",
      " SupplyHouse.com, a rapidly-growing online plumbing, heating, and HVAC supplier, seeks a Paid Search Analyst to join our team. If you love data analysis and enjoy researching, developing, and optimizing marketing campaigns, we want to hear from you!Responsibilities include: Managing search engine marketing (SEM) campaigns across a variety of channels including Google and BingAllocating paid search budget based on campaign performanceConducting campaign experiments to improve performanceOptimizing remarketing advertisements directed at previous website visitorsLaunching ad campaigns on YouTube and social media platformsAnalyzing results of promotions and ad campaignsWorking closely with CEO and Marketing Captain in order to communicate strategies and resultsCollaborating with account representatives and staying up-to-date on trends and best practices We are looking for individuals with:A Bachelor’s degree (in marketing, statistics, or other analytical field). MBA preferred but not requiredExcellent analytical abilities and attention to detailA can-do attitude, with confidence to propose new ideas Effective written and verbal communication skillsThe ability to multi-task and re-prioritize as neededComprehensive understanding of keyword researchExperience managing large-scale paid search accounts preferredOur benefits include:Health insurance – 100% employee health coverage after 1 month of employmentMeals – breakfast on Wednesdays, lunch on Mondays & Fridays, and free snacks in our fully stocked kitchenCasual dress codePet friendly officeOn-site gymDental, vision, and 401K plans availablePaid time off and paid holidaysAbility to work with a great team! Meet us online at http://www.supplyhouse.com/our-company\n",
      "Employer: Supply. House.com Expires: Supply. House.com, a rapidly-growing online plumbing, heating, and HVAC supplier, seeks a Paid Search Analyst to join our team. If you love data analysis and enjoy researching, developing, and optimizing marketing campaigns, we want to hear from you! Responsibilities include: Managing search engine marketing (SEM) campaigns across a variety of channels including Google and Bing. Allocating paid search budget based on campaign performance. Conducting campaign experiments to improve performance. Optimizing remarketing advertisements directed at previous website visitors. Launching ad campaigns on You. Tube and social media platforms. Analyzing results of promotions and ad campaigns. Working closely with CEO and Marketing Captain in order to communicate strategies and results. Collaborating with account representatives and staying up-to-date on trends and best practices We are looking for individuals with:. A Bachelor’s degree (in marketing, statistics, or other analytical field). MBA preferred but not required. Excellent analytical abilities and attention to detail. A can-do attitude, with confidence to propose new ideas Effective written and verbal communication skills. The ability to multi-task and re-prioritize as needed. Comprehensive understanding of keyword research. Experience managing large-scale paid search accounts preferred. Our benefits include: Health insurance – 100% employee health coverage after 1 month of employment. Meals – breakfast on Wednesdays, lunch on Mondays & Fridays, and free snacks in our fully stocked kitchen. Casual dress code. Pet friendly office. On-site gym. Dental, vision, and 401K plans available. Paid time off and paid holidays. Ability to work with a great team! Meet us online at http://www.supplyhouse.com/our-company\n"
     ]
    }
   ],
   "source": [
    "print(train_texts[19830])\n",
    "print(new_train_texts[19830])"
   ]
  },
  {
   "cell_type": "code",
   "execution_count": 185,
   "metadata": {},
   "outputs": [
    {
     "data": {
      "text/plain": [
       "'Employer: Ultra Electronics Expires: Job Description: This position is responsible for development of all software required by the EMS product line from pre-award through product delivery. We provide defensive equipment and services for magnetic and electric field countermeasures for naval mine warfare, naval power conversion and sensor design for US DoD platforms and allied nations. Support of pre-award efforts Contributing to proposed system design. Supporting and/or writing proposal text pertaining to software. Estimating the software level of effort required for the project. Design and development of software programs. Contributing to final system design, in concert with other departments and the program office. Development of software requirements and design in accordance with final system requirements. Software documentation required internally or by contract. Development of test software on an as-needed basis. Support of integration and testing efforts. Strong written and verbal communication skills. Will be required to perform other duties as requested, directed or assigned. Required SkillsBS or higher degree in Computer Science or Computer Engineering, or equivalent engineering experience5+ years software development experience, C strongly preferred2+ years of embedded programming, Microchip preferred. Experience in development targeting at least one, preferably several, real time operating systems3+ years in a Lead Developer capacity, with demonstrated skills in managing software development throughout the software life cycle Desired Skills: Experience in development targeting Windows, Unix, and at least one real time operating systems. Experience in a “. Mil-Std” environment. An understanding of real time software development issues and the ability to do requirements analysis and software design for real time applications. Experience preferred using and programming FPGA’s using VHDL.Willing to understand and contribute to system designs, in close cooperation with other engineering disciplines. Experience developing Graphical User Interfaces is a plus. Physical Requirements: Ability to occasionally climb ladders, climb stairs Ultra Electronics EMS provides innovative countermeasure solutions for maritime platforms that ensures mission success. We provide defensive equipment and services for magnetic and electric field countermeasures for naval mine warfare, naval power conversion and sensor design for US DoD platforms and allied nations. Our employees develop control software, power conversion hardware and power supplies for magnetic and electric field Signature Management Systems (degaussing and cathodic protection) for naval platforms. We also provide specialist military and aerospace Human Machine Interface (HMI) solutions. Our employees develop displacement and force joysticks, hand grip controls, trackballs, encoders, and simulation equipment for manned and unmanned, maritime and aerospace applications. This includes ruggedized, game-style hand controllers, enhanced war-fighter control units for soldier systems and network capable tactical hand controllers with integrated touch screens for battle management applications. Ultra Electronics is a UK-based defense, aerospace, cyber security, energy, and transportation products group. Ultra manages a portfolio of specialist capabilities, generating highly differentiated solutions and products by applying electronic, mechanical, and software technologies in demanding and critical environments to meet customer needs. We offer medical, dental, vision, life, and disability insurance, health savings accounts, paid time off, and a 401(k) plan with a Company match. This contractor and subcontractor shall abide by the requirements of 41 CFR 60–1.4(a), 60–300.5(a) and 60–741.5(a). These regulations prohibit discrimination against qualified individuals based on their status as protected veterans or individuals with disabilities, and prohibit discrimination against all individuals based on their race, color, religion, sex, sexual orientation, gender identity or national origin. Moreover, these regulations require that covered prime contractors and subcontractors take affirmative action to employ and advance in employment individuals without regard to race, color, religion, sex, sexual orientation, gender identity, national origin, disability or veteran status. Reasonable accommodation statement: If you need an accommodation for any part of the application process, please email careers@ultra-us-gbs.com'"
      ]
     },
     "execution_count": 185,
     "metadata": {},
     "output_type": "execute_result"
    }
   ],
   "source": [
    "new_train_texts[0]"
   ]
  },
  {
   "cell_type": "code",
   "execution_count": 159,
   "metadata": {},
   "outputs": [
    {
     "data": {
      "text/plain": [
       "\"Employer: Soaptopia Expires: BATH & BODYDo you love life? Do you enJOY helping others? Do you believe that sharing is caring? Would you love being a part of a joyful, team that promotes yummy life-affirming products? Well, you may be the right fit for our team! Soaptopia is looking for a talented, fun, reliable, flexible and responsible Customer Happiness Person to service various grocery stores. This job is great for students who are looking for a part-time gig with very flexible hours allowing you to make a some extra pocket cash every 2 weeks. STORES TO COVERWe have roughly 16 stores in the following areas: Mesa, Chandler, Gilbert, Phoenix, Tempe, etc...OUR AGREEMENT WITH OUR CUSTOMERSYOU smell - buy - use - give - love our products and WE co-create - share - evolve - educate - provide natural yummy soaps and skin products that not only nourish the body but also awaken the senses and promote self-awareness. Our responsibility in the eco-centered community is to devote ourselves to identifying more environmentally friendly ways to bring you the finest and freshest, 100% JUNK-FREE body care products available anywhere.THE DETAILS- $12 - 15/hour (depending on store volume). Job Type: Part-time. Salary: - /hour. Responsibilities and Duties- Placing orders through phone or any other electronic devices using the company email address- Merchandise stores respective to the schedule given- Obtain order of products at receiving area and communicate effectively with receiver to ensure proper receiving of items- Display products according to the company display standards- Cut soaps according to company soap cutting standards and requirements- Maintain overall the displays neat, clean and well-merchandised at all times- Active communication with store management and/or receiving so ensure that products are properly displayed.- Very active communication with merchandising/sales department and shipping team via text, phone calls, and emails. Qualifications and Skills- Availability: Flexible! You give us your schedule for merchandising stores so we establish visits to the store on a weekly or bi-weekly basis.- Internet savvy: knowledge of Google, Gmail, Google Drive, and Timestamp- Have a smart phone or means to check your email, upload photos, and be able to email/respond to email, text, and phone calls on a timely manner (at least within 4 hours of receiving the communication)- Be available for new store/ Soaptopia display opening- Have a valid driver's license and a reliable car- Be skilled in retail merchandising, possess a visual touch for neatness and artful product placement. **** Please note in case of allergies: we use nuts, mint, etc. which you will be exposed to. Benefits- Mileage reimbursement- Company perks (products, etc). Job Type: Part-time. Salary: $12-15/hour1099 - Independent Contractor\""
      ]
     },
     "execution_count": 159,
     "metadata": {},
     "output_type": "execute_result"
    }
   ],
   "source": [
    "new_train_texts[1]\n",
    "\n"
   ]
  },
  {
   "cell_type": "code",
   "execution_count": 158,
   "metadata": {},
   "outputs": [
    {
     "data": {
      "text/plain": [
       "\"Employer: Soaptopia Expires: BATH & BODYDo you love life? Do you enJOY helping others? Do you believe that sharing is caring? Would you love being a part of a joyful, team that promotes yummy life-affirming products? Well, you may be the right fit for our team! Soaptopia is looking for a talented, fun, reliable, flexible and responsible Customer Happiness Person to service various grocery stores. This job is great for students who are looking for a part-time gig with very flexible hours allowing you to make a some extra pocket cash every 2 weeks. STORES TO COVERWe have roughly 16 stores in the following areas: Mesa, Chandler, Gilbert, Phoenix, Tempe, etc...OUR AGREEMENT WITH OUR CUSTOMERSYOU smell - buy - use - give - love our products and WE co-create - share - evolve - educate - provide natural yummy soaps and skin products that not only nourish the body but also awaken the senses and promote self-awareness. Our responsibility in the eco-centered community is to devote ourselves to identifying more environmentally friendly ways to bring you the finest and freshest, 100% JUNK-FREE body care products available anywhere.THE DETAILS- $12 - 15/hour (depending on store volume). Job Type: Part-time. Salary: - /hour. Responsibilities and Duties- Placing orders through phone or any other electronic devices using the company email address- Merchandise stores respective to the schedule given- Obtain order of products at receiving area and communicate effectively with receiver to ensure proper receiving of items- Display products according to the company display standards- Cut soaps according to company soap cutting standards and requirements- Maintain overall the displays neat, clean and well-merchandised at all times- Active communication with store management and/or receiving so ensure that products are properly displayed.- Very active communication with merchandising/sales department and shipping team via text, phone calls, and emails. Qualifications and Skills- Availability: Flexible! You give us your schedule for merchandising stores so we establish visits to the store on a weekly or bi-weekly basis.- Internet savvy: knowledge of Google, Gmail, Google Drive, and Timestamp- Have a smart phone or means to check your email, upload photos, and be able to email/respond to email, text, and phone calls on a timely manner (at least within 4 hours of receiving the communication)- Be available for new store/ Soaptopia display opening- Have a valid driver's license and a reliable car- Be skilled in retail merchandising, possess a visual touch for neatness and artful product placement. **** Please note in case of allergies: we use nuts, mint, etc. which you will be exposed to. Benefits- Mileage reimbursement- Company perks (products, etc). Job Type: Part-time. Salary: $12-15/hour1099 - Independent Contractor\""
      ]
     },
     "execution_count": 158,
     "metadata": {},
     "output_type": "execute_result"
    }
   ],
   "source": [
    "len(new_train_texts)\n",
    "new_train_texts[1]"
   ]
  },
  {
   "cell_type": "code",
   "execution_count": 175,
   "metadata": {},
   "outputs": [],
   "source": [
    "new_train_texts = new_train_texts[1000:1010]"
   ]
  },
  {
   "cell_type": "code",
   "execution_count": 191,
   "metadata": {},
   "outputs": [
    {
     "name": "stdout",
     "output_type": "stream",
     "text": [
      "13773510078020457882 ability to do requirements analysis and software\n",
      "13773510078020457882 Ability to occasionally climb ladders, climb\n",
      "13773510078020457882 Ability to interact professionally with a diverse\n",
      "13773510078020457882 ability to incorporate coaching and instructions into\n",
      "13773510078020457882 ability to incorporate coaching and instructions into\n",
      "13773510078020457882 Ability to communicate effectively both orally and\n",
      "13773510078020457882 Ability to establish and maintain effective working\n",
      "13773510078020457882 Ability to communicate effectively both orally and\n",
      "13773510078020457882 Ability to establish and maintain effective working\n",
      "13773510078020457882 ability to relocate to different locations is\n",
      "13773510078020457882 Ability to work both individually and with\n"
     ]
    },
    {
     "data": {
      "text/plain": [
       "'        \\nmin = 0.99\\nfor token1 in docs:\\n    #print(token1)\\n    for token2 in docs:\\n        if token1.similarity(token2) != 1.0 and token1.similarity(token2) > 0.98:\\n            if token1.similarity(token2) < min:\\n                min = token1.similarity(token2)\\n            #print(token1.text, token2.text, token1.similarity(token2))\\n'"
      ]
     },
     "execution_count": 191,
     "metadata": {},
     "output_type": "execute_result"
    }
   ],
   "source": [
    "import spacy\n",
    "\n",
    "nlp = spacy.load(\"/Users/ryancramer/opt/anaconda3/lib/python3.7/site-packages/en_core_web_lg/en_core_web_lg-2.3.1\")\n",
    "from spacy.matcher import Matcher\n",
    "\n",
    "matcher = Matcher(nlp.vocab)\n",
    "#pattern1 = [{\"POS\": \"NOUN\"}, {\"POS\": \"ADP\"}, {\"POS\": \"NOUN\"}, {\"POS\": \"NOUN\"}, {\"POS\": \"NOUN\", \"OP\":\"?\"}]\n",
    "#pattern2 = [{\"POS\": \"VERB\"}, {\"POS\": \"ADJ\"}, {\"POS\": \"NOUN\"}, {\"POS\": \"NOUN\"}, {\"POS\": \"NOUN\", \"OP\":\"?\"}]\n",
    "pattern3 = [{\"LOWER\": \"ability\"}, {\"LOWER\": \"to\"}, {\"POS\": \"NOUN\"}]\n",
    "pattern4 = [{\"LOWER\": \"ability\"}, {\"LOWER\": \"to\"}]\n",
    "#pattern3 = [{\"POS\": \"VERB\"}, {\"POS\": \"NOUN\"}, {\"POS\": \"CCONJ\"}, {\"POS\": \"NOUN\"}, {\"POS\": \"NOUN\", \"OP\":\"?\"}]\n",
    "#pattern2 = [{\"POS\": \"NOUN\"}, {\"POS\": \"NOUN\"}]\n",
    "#pattern = [{\"POS\": \"NOUN\"}, {\"LOWER\": \"world\"}]\n",
    "\n",
    "#matcher.add(\"P1\", None, pattern1)\n",
    "matcher.add(\"P3\", None, pattern3)\n",
    "matcher.add(\"P4\", None, pattern4)\n",
    "\n",
    "'''\n",
    "doc = nlp(\"hello world!\")\n",
    "matches = matcher(doc)\n",
    "'''\n",
    "\n",
    "\n",
    "#texts = [\"At a minimum, a candidate for this position must possess:\", \"Four (4) years of experience developing applications using C and ASP.NET.\", \"Four (4) years of experience with SQL Server and T-SQL.\", \"Four (4) years of experience developing applications using JavaScript.\", \"Knowledge and understanding of information technology architecture and standards.\", \"Ability to develop, enhance, and maintain computer applications.\", \"Customer service skills including identifying the customers problem, isolating the application issues or need, assisting in the resolution by coding and/or testing, and then verifying the results.\", \"Ability to independently perform analysis, design, programming and implementation of system components and functions.\", \"Ability to learn and apply new technologies.\", \"In addition to the requirements, the following qualifications are desired:\", \"Degree in Information Technology Computer Science or equivalent experience.\"]\n",
    "docs = list(nlp.pipe(new_train_texts))\n",
    "\n",
    "for doc in matcher.pipe(docs, batch_size=50):\n",
    "    matches = matcher(doc)\n",
    "    for match_id,start,end in matches:\n",
    "        print(match_id, doc[start:end+5])\n",
    "    pass\n",
    "'''\n",
    "#mathces not working\n",
    "matches = list()\n",
    "for text in doc:\n",
    "    matches.append(matcher(doc))\n",
    "'''\n",
    "#similarity\n",
    "'''        \n",
    "min = 0.99\n",
    "for token1 in docs:\n",
    "    #print(token1)\n",
    "    for token2 in docs:\n",
    "        if token1.similarity(token2) != 1.0 and token1.similarity(token2) > 0.98:\n",
    "            if token1.similarity(token2) < min:\n",
    "                min = token1.similarity(token2)\n",
    "            #print(token1.text, token2.text, token1.similarity(token2))\n",
    "'''\n",
    "#print(\"Hello\")\n",
    "#for doc in docs:\n",
    "   # print(doc)\n"
   ]
  },
  {
   "cell_type": "code",
   "execution_count": null,
   "metadata": {},
   "outputs": [],
   "source": []
  },
  {
   "cell_type": "code",
   "execution_count": 145,
   "metadata": {},
   "outputs": [
    {
     "name": "stdout",
     "output_type": "stream",
     "text": [
      "[\"Employer: Rape, Abuse and Incest National Network \\n\\n Expires: 08/10/2018 \\n\\n The Senior Safe Helpline Manager will be responsible for collaborating with the Department of Defense (DoD) Sexual Assault Prevention and Response Office (SAPRO) and military Services to support the management of the Safe Helpline. The Senior Safe Helpline Manager will report to the Vice President.Essential Duties and Responsibilities: Serve as primary liaison with SAPRO and with RAINN Safe Helpline staff to ensure daily Safe Helpline operations run smoothly and are consistent with contract requirements.Ensure prompt and accurate completion of all contract deliverables.Spend two days a week at RAINN's headquarters and three days a week at DoD SAPRO in Alexandria, VA.Represent RAINN in internal DoD meetings.Manage project timeline, working with RAINN and SAPRO staff as necessary.Draft memos and documents for DoD review.Ensure consistency of language and compliance of policies with contract and DoD SAPRO requirements in Safe Helpline trainings, web content, promotional materials and other documents.Oversee regular audits of training, policies and other documents.Maintain extensive knowledge of DoD SAPRO and other military policies and protocols and related laws and regulations.Demonstrate specialized Safe Helpline knowledge and sexual assault victim service skills.Manage Safe Helpline liaison.Identify and cultivate new relationships with POCs on DoD bases and installations, VA medical centers and relevant civilian organizations.Create, conduct, and deliver in-person and telephone briefings on Safe Helpline services and initiatives at events and conferences worldwide.Provide guidance on communication, marketing, and advertising strategies and campaigns.All other duties as assigned.Position Specifications/Requirements: To perform this job successfully, an individual must be able to perform each essential function satisfactorily. The requirements listed below are representative of the knowledge, skill and/or ability required:Bachelor's degree.Experience working in or with the Department of Defense (DoD) or militaryProven track record of success in client-facing role.3-5 years demonstrated experience managing complex projects involving multiple stakeholders.Excellent English-language communication skills (oral and written).Ability to effectively communicate information and respond to questions in person-to-person and small group situations with visitors, general public, members of the military community (all levels) and other employees within the organization.Experience building new relationships at all levels (Service level, local level, E1 to Generals) in both military and civilian units.Extensive knowledge of military services and protocols.Excellent interpersonal and collaborative skills, with the ability to successfully work on a team and independently.In-depth understanding of the Safe Helpline program including services provided, evaluation efforts and approach.Ability to work well under pressure and maintain composure during stressful situations; handle shifting and multiple priorities; and solve problems.Ability to exercise good judgment when faced with complex decisions.Resiliently positive and energetic attitude.Ability to work effectively in both RAINN and DoD environments.Comfort discussing sexual violence issues.Ability to travel as necessary (approximately 20%).Must pass a criminal background check (administered by RAINN).Desired Qualifications: Veterans will be given priority.Crisis hotline/intervention experience desired.Experience with military populations desired.Physical Activities The following physical activities are representative of those that must be met by an employee to successfully perform the essential functions of this job. Reasonable accommodations may be made to enable individuals with disabilities to perform the essential functions and expectations:\\xa0Must exhibit manual dexterity to dial a telephone, enter data into a computer terminal and operate office productivity machinery (e.g., copier, fax machine).Must be able to hear and understand speech at normal levels on the telephone.Must be able to speak in audible tones so that others may understand clearly in person or on the telephone.Must have the ability to understand and follow oral and written instructions.\\xa0The person in this positions needs to occasionally move about inside the office to access file cabinets, office equipment, etc.Must have vision correctable to a level where individual can operate a computer; visualize text on a computer monitor.Environmental Conditions There are no harmful environmental conditions that are present for this position. The noise level in the work environment is usually moderate.The above is intended to describe the general content of and requirements for the performance of this job. It is not to be constructed as an exhaustive statement of the essential functions, responsibilities and/or requirements.\\xa0How to Apply:To apply please send resume and cover letter to Human Resources at\\xa0https://rainn.applicantpro.com/jobs/. Incomplete applications will not be considered.EOE/M/F/D/V\"]\n",
      "Employer: Rape, Abuse and Incest National Network \n",
      "\n",
      " Expires: 08/10/2018 \n",
      "\n",
      " The Senior Safe Helpline Manager will be responsible for collaborating with the Department of Defense (DoD) Sexual Assault Prevention and Response Office (SAPRO) and military Services to support the management of the Safe Helpline\n"
     ]
    },
    {
     "ename": "AttributeError",
     "evalue": "'str' object has no attribute 'similarity'",
     "output_type": "error",
     "traceback": [
      "\u001b[0;31m---------------------------------------------------------------------------\u001b[0m",
      "\u001b[0;31mAttributeError\u001b[0m                            Traceback (most recent call last)",
      "\u001b[0;32m<ipython-input-145-f0af08120303>\u001b[0m in \u001b[0;36m<module>\u001b[0;34m\u001b[0m\n\u001b[1;32m     10\u001b[0m         \u001b[0mprint\u001b[0m\u001b[0;34m(\u001b[0m\u001b[0mtoken1\u001b[0m\u001b[0;34m)\u001b[0m\u001b[0;34m\u001b[0m\u001b[0;34m\u001b[0m\u001b[0m\n\u001b[1;32m     11\u001b[0m         \u001b[0;32mfor\u001b[0m \u001b[0mtoken2\u001b[0m \u001b[0;32min\u001b[0m \u001b[0msplits\u001b[0m\u001b[0;34m:\u001b[0m\u001b[0;34m\u001b[0m\u001b[0;34m\u001b[0m\u001b[0m\n\u001b[0;32m---> 12\u001b[0;31m             \u001b[0;32mif\u001b[0m \u001b[0mtoken1\u001b[0m\u001b[0;34m.\u001b[0m\u001b[0msimilarity\u001b[0m\u001b[0;34m(\u001b[0m\u001b[0mtoken2\u001b[0m\u001b[0;34m)\u001b[0m \u001b[0;34m!=\u001b[0m \u001b[0;36m1.0\u001b[0m \u001b[0;32mand\u001b[0m \u001b[0mtoken1\u001b[0m\u001b[0;34m.\u001b[0m\u001b[0msimilarity\u001b[0m\u001b[0;34m(\u001b[0m\u001b[0mtoken2\u001b[0m\u001b[0;34m)\u001b[0m \u001b[0;34m>\u001b[0m \u001b[0;36m0.98\u001b[0m\u001b[0;34m:\u001b[0m\u001b[0;34m\u001b[0m\u001b[0;34m\u001b[0m\u001b[0m\n\u001b[0m\u001b[1;32m     13\u001b[0m                 \u001b[0;32mif\u001b[0m \u001b[0mtoken1\u001b[0m\u001b[0;34m.\u001b[0m\u001b[0msimilarity\u001b[0m\u001b[0;34m(\u001b[0m\u001b[0mtoken2\u001b[0m\u001b[0;34m)\u001b[0m \u001b[0;34m<\u001b[0m \u001b[0mmin\u001b[0m\u001b[0;34m:\u001b[0m\u001b[0;34m\u001b[0m\u001b[0;34m\u001b[0m\u001b[0m\n\u001b[1;32m     14\u001b[0m                     \u001b[0mmin\u001b[0m \u001b[0;34m=\u001b[0m \u001b[0mtoken1\u001b[0m\u001b[0;34m.\u001b[0m\u001b[0msimilarity\u001b[0m\u001b[0;34m(\u001b[0m\u001b[0mtoken2\u001b[0m\u001b[0;34m)\u001b[0m\u001b[0;34m\u001b[0m\u001b[0;34m\u001b[0m\u001b[0m\n",
      "\u001b[0;31mAttributeError\u001b[0m: 'str' object has no attribute 'similarity'"
     ]
    }
   ],
   "source": [
    "min = 0.99\n",
    "for doc in docs:\n",
    "    joined = list()\n",
    "    joined.append(''.join(doc.text))\n",
    "    \n",
    "    #new_train_texts.append(' '.join(lis))\n",
    "    print(joined)\n",
    "    splits = joined[0].split(\".\")\n",
    "    for token1 in splits:\n",
    "        print(token1)\n",
    "        for token2 in splits:\n",
    "            if token1.similarity(token1) != 1.0 and token1.similarity(token2) > 0.98:\n",
    "                if token1.similarity(token2) < min:\n",
    "                    min = token1.similarity(token2)\n",
    "                print(token1.text, token2.text, token1.similarity(token2))\n",
    "                break"
   ]
  },
  {
   "cell_type": "code",
   "execution_count": null,
   "metadata": {},
   "outputs": [],
   "source": []
  },
  {
   "cell_type": "code",
   "execution_count": null,
   "metadata": {},
   "outputs": [],
   "source": []
  },
  {
   "cell_type": "code",
   "execution_count": 65,
   "metadata": {},
   "outputs": [
    {
     "name": "stdout",
     "output_type": "stream",
     "text": [
      "13532830657779382464 hello world\n"
     ]
    }
   ],
   "source": [
    "for match_id,start,end in matches:\n",
    "    print(match_id, doc[start:end])"
   ]
  },
  {
   "cell_type": "markdown",
   "metadata": {},
   "source": [
    "for doc in matcher.pipe(docs, batch_size=50):\n",
    "    pass"
   ]
  },
  {
   "cell_type": "code",
   "execution_count": 75,
   "metadata": {},
   "outputs": [
    {
     "name": "stdout",
     "output_type": "stream",
     "text": [
      "Ability to effectively communicate Ability to effectively communicate\n",
      "Ability to effectively communicate Maintain a professional evironment\n",
      "Maintain a professional evironment Ability to effectively communicate\n",
      "Maintain a professional evironment Maintain a professional evironment\n"
     ]
    }
   ],
   "source": [
    "for token1 in docs:\n",
    "    \n",
    "    for token2 in docs:\n",
    "        print(token1.text, token2.text)"
   ]
  },
  {
   "cell_type": "code",
   "execution_count": 76,
   "metadata": {},
   "outputs": [
    {
     "name": "stdout",
     "output_type": "stream",
     "text": [
      "Ability to effectively communicate Ability to effectively communicate 1.0\n",
      "Ability to effectively communicate Maintain a professional evironment 0.6039767973260288\n",
      "Maintain a professional evironment Ability to effectively communicate 0.6039767973260288\n",
      "Maintain a professional evironment Maintain a professional evironment 1.0\n"
     ]
    }
   ],
   "source": [
    "for token1 in docs:\n",
    "    #print(token1.text)\n",
    "    for token3 in docs:\n",
    "        print(token1.text, token3.text, token1.similarity(token3))\n",
    "    #for token2 in doc:\n",
    "        #print(token1.text, token2.text, token1.similarity(token2))"
   ]
  },
  {
   "cell_type": "code",
   "execution_count": 85,
   "metadata": {},
   "outputs": [
    {
     "data": {
      "text/plain": [
       "0.6895157598848619"
      ]
     },
     "execution_count": 85,
     "metadata": {},
     "output_type": "execute_result"
    }
   ],
   "source": [
    "min\n"
   ]
  },
  {
   "cell_type": "code",
   "execution_count": 184,
   "metadata": {},
   "outputs": [
    {
     "name": "stdout",
     "output_type": "stream",
     "text": [
      "At a minimum, a candidate for this position must possess: Four (4) years of experience developing applications using C and ASP.NET. 0.724485830735805\n",
      "At a minimum, a candidate for this position must possess: Four (4) years of experience with SQL Server and T-SQL. 0.6951513915032761\n",
      "At a minimum, a candidate for this position must possess: Four (4) years of experience developing applications using JavaScript. 0.725920430646171\n",
      "At a minimum, a candidate for this position must possess: Knowledge and understanding of information technology architecture and standards. 0.6898136831065814\n",
      "At a minimum, a candidate for this position must possess: Ability to develop, enhance, and maintain computer applications. 0.7548144147484168\n",
      "At a minimum, a candidate for this position must possess: Customer service skills including identifying the customers problem, isolating the application issues or need, assisting in the resolution by coding and/or testing, and then verifying the results. 0.8137621102980491\n",
      "At a minimum, a candidate for this position must possess: Ability to independently perform analysis, design, programming and implementation of system components and functions. 0.7517821244653804\n",
      "At a minimum, a candidate for this position must possess: Ability to learn and apply new technologies. 0.7442693388346946\n",
      "At a minimum, a candidate for this position must possess: In addition to the requirements, the following qualifications are desired: 0.868488190752541\n",
      "At a minimum, a candidate for this position must possess: Degree in Information Technology Computer Science or equivalent experience. 0.757674780565017\n",
      "Four (4) years of experience developing applications using C and ASP.NET. At a minimum, a candidate for this position must possess: 0.724485830735805\n",
      "Four (4) years of experience developing applications using C and ASP.NET. Four (4) years of experience with SQL Server and T-SQL. 0.9031856347862398\n",
      "Four (4) years of experience developing applications using C and ASP.NET. Four (4) years of experience developing applications using JavaScript. 0.9747077679239771\n",
      "Four (4) years of experience developing applications using C and ASP.NET. Knowledge and understanding of information technology architecture and standards. 0.7828406936795402\n",
      "Four (4) years of experience developing applications using C and ASP.NET. Ability to develop, enhance, and maintain computer applications. 0.7921919068748778\n",
      "Four (4) years of experience developing applications using C and ASP.NET. Customer service skills including identifying the customers problem, isolating the application issues or need, assisting in the resolution by coding and/or testing, and then verifying the results. 0.8187590974251413\n",
      "Four (4) years of experience developing applications using C and ASP.NET. Ability to independently perform analysis, design, programming and implementation of system components and functions. 0.813992133399867\n",
      "Four (4) years of experience developing applications using C and ASP.NET. Ability to learn and apply new technologies. 0.7833988220498591\n",
      "Four (4) years of experience developing applications using C and ASP.NET. In addition to the requirements, the following qualifications are desired: 0.7595897784784494\n",
      "Four (4) years of experience developing applications using C and ASP.NET. Degree in Information Technology Computer Science or equivalent experience. 0.7875344252631321\n",
      "Four (4) years of experience with SQL Server and T-SQL. At a minimum, a candidate for this position must possess: 0.6951513915032761\n",
      "Four (4) years of experience with SQL Server and T-SQL. Four (4) years of experience developing applications using C and ASP.NET. 0.9031856347862398\n",
      "Four (4) years of experience with SQL Server and T-SQL. Four (4) years of experience developing applications using JavaScript. 0.8789391681501527\n",
      "Four (4) years of experience with SQL Server and T-SQL. Knowledge and understanding of information technology architecture and standards. 0.6959233745970476\n",
      "Four (4) years of experience with SQL Server and T-SQL. Ability to develop, enhance, and maintain computer applications. 0.699970495509041\n",
      "Four (4) years of experience with SQL Server and T-SQL. Customer service skills including identifying the customers problem, isolating the application issues or need, assisting in the resolution by coding and/or testing, and then verifying the results. 0.7481506514738329\n",
      "Four (4) years of experience with SQL Server and T-SQL. Ability to independently perform analysis, design, programming and implementation of system components and functions. 0.7374919079279709\n",
      "Four (4) years of experience with SQL Server and T-SQL. Ability to learn and apply new technologies. 0.6943245587588671\n",
      "Four (4) years of experience with SQL Server and T-SQL. In addition to the requirements, the following qualifications are desired: 0.6895157598848619\n",
      "Four (4) years of experience with SQL Server and T-SQL. Degree in Information Technology Computer Science or equivalent experience. 0.7130214938347395\n",
      "Four (4) years of experience developing applications using JavaScript. At a minimum, a candidate for this position must possess: 0.725920430646171\n",
      "Four (4) years of experience developing applications using JavaScript. Four (4) years of experience developing applications using C and ASP.NET. 0.9747077679239771\n",
      "Four (4) years of experience developing applications using JavaScript. Four (4) years of experience with SQL Server and T-SQL. 0.8789391681501527\n",
      "Four (4) years of experience developing applications using JavaScript. Knowledge and understanding of information technology architecture and standards. 0.765608852492504\n",
      "Four (4) years of experience developing applications using JavaScript. Ability to develop, enhance, and maintain computer applications. 0.7850250348185838\n",
      "Four (4) years of experience developing applications using JavaScript. Customer service skills including identifying the customers problem, isolating the application issues or need, assisting in the resolution by coding and/or testing, and then verifying the results. 0.8126451919985406\n",
      "Four (4) years of experience developing applications using JavaScript. Ability to independently perform analysis, design, programming and implementation of system components and functions. 0.8055237752000157\n",
      "Four (4) years of experience developing applications using JavaScript. Ability to learn and apply new technologies. 0.7818787186261568\n",
      "Four (4) years of experience developing applications using JavaScript. In addition to the requirements, the following qualifications are desired: 0.7540850474752085\n",
      "Four (4) years of experience developing applications using JavaScript. Degree in Information Technology Computer Science or equivalent experience. 0.7922057881755149\n",
      "Knowledge and understanding of information technology architecture and standards. At a minimum, a candidate for this position must possess: 0.6898136831065814\n",
      "Knowledge and understanding of information technology architecture and standards. Four (4) years of experience developing applications using C and ASP.NET. 0.7828406936795402\n",
      "Knowledge and understanding of information technology architecture and standards. Four (4) years of experience with SQL Server and T-SQL. 0.6959233745970476\n",
      "Knowledge and understanding of information technology architecture and standards. Four (4) years of experience developing applications using JavaScript. 0.765608852492504\n",
      "Knowledge and understanding of information technology architecture and standards. Ability to develop, enhance, and maintain computer applications. 0.8401364435157015\n",
      "Knowledge and understanding of information technology architecture and standards. Customer service skills including identifying the customers problem, isolating the application issues or need, assisting in the resolution by coding and/or testing, and then verifying the results. 0.8585476367708008\n",
      "Knowledge and understanding of information technology architecture and standards. Ability to independently perform analysis, design, programming and implementation of system components and functions. 0.8763086020199987\n",
      "Knowledge and understanding of information technology architecture and standards. Ability to learn and apply new technologies. 0.8587583000195588\n",
      "Knowledge and understanding of information technology architecture and standards. In addition to the requirements, the following qualifications are desired: 0.8010229410395403\n",
      "Knowledge and understanding of information technology architecture and standards. Degree in Information Technology Computer Science or equivalent experience. 0.8596547905836396\n",
      "Ability to develop, enhance, and maintain computer applications. At a minimum, a candidate for this position must possess: 0.7548144147484168\n",
      "Ability to develop, enhance, and maintain computer applications. Four (4) years of experience developing applications using C and ASP.NET. 0.7921919068748778\n",
      "Ability to develop, enhance, and maintain computer applications. Four (4) years of experience with SQL Server and T-SQL. 0.699970495509041\n",
      "Ability to develop, enhance, and maintain computer applications. Four (4) years of experience developing applications using JavaScript. 0.7850250348185838\n",
      "Ability to develop, enhance, and maintain computer applications. Knowledge and understanding of information technology architecture and standards. 0.8401364435157015\n",
      "Ability to develop, enhance, and maintain computer applications. Customer service skills including identifying the customers problem, isolating the application issues or need, assisting in the resolution by coding and/or testing, and then verifying the results. 0.8733318978113316\n",
      "Ability to develop, enhance, and maintain computer applications. Ability to independently perform analysis, design, programming and implementation of system components and functions. 0.9101797049860605\n",
      "Ability to develop, enhance, and maintain computer applications. Ability to learn and apply new technologies. 0.9017177429237283\n",
      "Ability to develop, enhance, and maintain computer applications. In addition to the requirements, the following qualifications are desired: 0.8079811200422512\n",
      "Ability to develop, enhance, and maintain computer applications. Degree in Information Technology Computer Science or equivalent experience. 0.8164105784521296\n",
      "Customer service skills including identifying the customers problem, isolating the application issues or need, assisting in the resolution by coding and/or testing, and then verifying the results. At a minimum, a candidate for this position must possess: 0.8137621102980491\n",
      "Customer service skills including identifying the customers problem, isolating the application issues or need, assisting in the resolution by coding and/or testing, and then verifying the results. Four (4) years of experience developing applications using C and ASP.NET. 0.8187590974251413\n",
      "Customer service skills including identifying the customers problem, isolating the application issues or need, assisting in the resolution by coding and/or testing, and then verifying the results. Four (4) years of experience with SQL Server and T-SQL. 0.7481506514738329\n",
      "Customer service skills including identifying the customers problem, isolating the application issues or need, assisting in the resolution by coding and/or testing, and then verifying the results. Four (4) years of experience developing applications using JavaScript. 0.8126451919985406\n",
      "Customer service skills including identifying the customers problem, isolating the application issues or need, assisting in the resolution by coding and/or testing, and then verifying the results. Knowledge and understanding of information technology architecture and standards. 0.8585476367708008\n",
      "Customer service skills including identifying the customers problem, isolating the application issues or need, assisting in the resolution by coding and/or testing, and then verifying the results. Ability to develop, enhance, and maintain computer applications. 0.8733318978113316\n",
      "Customer service skills including identifying the customers problem, isolating the application issues or need, assisting in the resolution by coding and/or testing, and then verifying the results. Ability to independently perform analysis, design, programming and implementation of system components and functions. 0.8976584444908485\n",
      "Customer service skills including identifying the customers problem, isolating the application issues or need, assisting in the resolution by coding and/or testing, and then verifying the results. Ability to learn and apply new technologies. 0.8449727180268248\n",
      "Customer service skills including identifying the customers problem, isolating the application issues or need, assisting in the resolution by coding and/or testing, and then verifying the results. In addition to the requirements, the following qualifications are desired: 0.8882363933229186\n",
      "Customer service skills including identifying the customers problem, isolating the application issues or need, assisting in the resolution by coding and/or testing, and then verifying the results. Degree in Information Technology Computer Science or equivalent experience. 0.8258900120463313\n",
      "Ability to independently perform analysis, design, programming and implementation of system components and functions. At a minimum, a candidate for this position must possess: 0.7517821244653804\n",
      "Ability to independently perform analysis, design, programming and implementation of system components and functions. Four (4) years of experience developing applications using C and ASP.NET. 0.813992133399867\n",
      "Ability to independently perform analysis, design, programming and implementation of system components and functions. Four (4) years of experience with SQL Server and T-SQL. 0.7374919079279709\n",
      "Ability to independently perform analysis, design, programming and implementation of system components and functions. Four (4) years of experience developing applications using JavaScript. 0.8055237752000157\n",
      "Ability to independently perform analysis, design, programming and implementation of system components and functions. Knowledge and understanding of information technology architecture and standards. 0.8763086020199987\n",
      "Ability to independently perform analysis, design, programming and implementation of system components and functions. Ability to develop, enhance, and maintain computer applications. 0.9101797049860605\n",
      "Ability to independently perform analysis, design, programming and implementation of system components and functions. Customer service skills including identifying the customers problem, isolating the application issues or need, assisting in the resolution by coding and/or testing, and then verifying the results. 0.8976584444908485\n",
      "Ability to independently perform analysis, design, programming and implementation of system components and functions. Ability to learn and apply new technologies. 0.8513881228206746\n",
      "Ability to independently perform analysis, design, programming and implementation of system components and functions. In addition to the requirements, the following qualifications are desired: 0.822342940140847\n",
      "Ability to independently perform analysis, design, programming and implementation of system components and functions. Degree in Information Technology Computer Science or equivalent experience. 0.8127638181118318\n",
      "Ability to learn and apply new technologies. At a minimum, a candidate for this position must possess: 0.7442693388346946\n",
      "Ability to learn and apply new technologies. Four (4) years of experience developing applications using C and ASP.NET. 0.7833988220498591\n",
      "Ability to learn and apply new technologies. Four (4) years of experience with SQL Server and T-SQL. 0.6943245587588671\n",
      "Ability to learn and apply new technologies. Four (4) years of experience developing applications using JavaScript. 0.7818787186261568\n",
      "Ability to learn and apply new technologies. Knowledge and understanding of information technology architecture and standards. 0.8587583000195588\n",
      "Ability to learn and apply new technologies. Ability to develop, enhance, and maintain computer applications. 0.9017177429237283\n",
      "Ability to learn and apply new technologies. Customer service skills including identifying the customers problem, isolating the application issues or need, assisting in the resolution by coding and/or testing, and then verifying the results. 0.8449727180268248\n",
      "Ability to learn and apply new technologies. Ability to independently perform analysis, design, programming and implementation of system components and functions. 0.8513881228206746\n",
      "Ability to learn and apply new technologies. In addition to the requirements, the following qualifications are desired: 0.8162798955741095\n",
      "Ability to learn and apply new technologies. Degree in Information Technology Computer Science or equivalent experience. 0.8100257811585048\n",
      "In addition to the requirements, the following qualifications are desired: At a minimum, a candidate for this position must possess: 0.868488190752541\n",
      "In addition to the requirements, the following qualifications are desired: Four (4) years of experience developing applications using C and ASP.NET. 0.7595897784784494\n",
      "In addition to the requirements, the following qualifications are desired: Four (4) years of experience with SQL Server and T-SQL. 0.6895157598848619\n",
      "In addition to the requirements, the following qualifications are desired: Four (4) years of experience developing applications using JavaScript. 0.7540850474752085\n",
      "In addition to the requirements, the following qualifications are desired: Knowledge and understanding of information technology architecture and standards. 0.8010229410395403\n",
      "In addition to the requirements, the following qualifications are desired: Ability to develop, enhance, and maintain computer applications. 0.8079811200422512\n",
      "In addition to the requirements, the following qualifications are desired: Customer service skills including identifying the customers problem, isolating the application issues or need, assisting in the resolution by coding and/or testing, and then verifying the results. 0.8882363933229186\n",
      "In addition to the requirements, the following qualifications are desired: Ability to independently perform analysis, design, programming and implementation of system components and functions. 0.822342940140847\n",
      "In addition to the requirements, the following qualifications are desired: Ability to learn and apply new technologies. 0.8162798955741095\n",
      "In addition to the requirements, the following qualifications are desired: Degree in Information Technology Computer Science or equivalent experience. 0.7834028553654632\n",
      "Degree in Information Technology Computer Science or equivalent experience. At a minimum, a candidate for this position must possess: 0.757674780565017\n",
      "Degree in Information Technology Computer Science or equivalent experience. Four (4) years of experience developing applications using C and ASP.NET. 0.7875344252631321\n",
      "Degree in Information Technology Computer Science or equivalent experience. Four (4) years of experience with SQL Server and T-SQL. 0.7130214938347395\n",
      "Degree in Information Technology Computer Science or equivalent experience. Four (4) years of experience developing applications using JavaScript. 0.7922057881755149\n",
      "Degree in Information Technology Computer Science or equivalent experience. Knowledge and understanding of information technology architecture and standards. 0.8596547905836396\n",
      "Degree in Information Technology Computer Science or equivalent experience. Ability to develop, enhance, and maintain computer applications. 0.8164105784521296\n",
      "Degree in Information Technology Computer Science or equivalent experience. Customer service skills including identifying the customers problem, isolating the application issues or need, assisting in the resolution by coding and/or testing, and then verifying the results. 0.8258900120463313\n",
      "Degree in Information Technology Computer Science or equivalent experience. Ability to independently perform analysis, design, programming and implementation of system components and functions. 0.8127638181118318\n",
      "Degree in Information Technology Computer Science or equivalent experience. Ability to learn and apply new technologies. 0.8100257811585048\n",
      "Degree in Information Technology Computer Science or equivalent experience. In addition to the requirements, the following qualifications are desired: 0.7834028553654632\n"
     ]
    }
   ],
   "source": [
    "import spacy\n",
    "\n",
    "nlp = spacy.load(\"/Users/ryancramer/opt/anaconda3/lib/python3.7/site-packages/en_core_web_lg/en_core_web_lg-2.3.1\")\n",
    "\n",
    "\n",
    "\n",
    "texts = [\"At a minimum, a candidate for this position must possess:\", \"Four (4) years of experience developing applications using C and ASP.NET.\", \"Four (4) years of experience with SQL Server and T-SQL.\", \"Four (4) years of experience developing applications using JavaScript.\", \"Knowledge and understanding of information technology architecture and standards.\", \"Ability to develop, enhance, and maintain computer applications.\", \"Customer service skills including identifying the customers problem, isolating the application issues or need, assisting in the resolution by coding and/or testing, and then verifying the results.\", \"Ability to independently perform analysis, design, programming and implementation of system components and functions.\", \"Ability to learn and apply new technologies.\", \"In addition to the requirements, the following qualifications are desired:\", \"Degree in Information Technology Computer Science or equivalent experience.\"]\n",
    "docs = list(nlp.pipe(texts))\n",
    "\n",
    "#similarity\n",
    "      \n",
    "\n",
    "for token1 in docs:\n",
    "    #print(token1)\n",
    "    for token2 in docs:\n",
    "        #if token1.similarity(token2) != 1.0 and token1.similarity(token2) > 0.9:\n",
    "        if token1.similarity(token2) != 1.0:\n",
    "            print(token1.text, token2.text, token1.similarity(token2))\n",
    "            #print(token1[0].pos_)\n",
    "\n",
    "#print(\"Hello\")\n",
    "#for doc in docs:\n",
    "   # print(doc)"
   ]
  },
  {
   "cell_type": "code",
   "execution_count": null,
   "metadata": {},
   "outputs": [],
   "source": []
  },
  {
   "cell_type": "code",
   "execution_count": null,
   "metadata": {},
   "outputs": [],
   "source": []
  },
  {
   "cell_type": "code",
   "execution_count": 194,
   "metadata": {},
   "outputs": [
    {
     "ename": "SyntaxError",
     "evalue": "from __future__ imports must occur at the beginning of the file (<ipython-input-194-25a2b8aaf03b>, line 5)",
     "output_type": "error",
     "traceback": [
      "\u001b[0;36m  File \u001b[0;32m\"<ipython-input-194-25a2b8aaf03b>\"\u001b[0;36m, line \u001b[0;32m5\u001b[0m\n\u001b[0;31m    raw_text = 'Hello, world. Here are two sentences.'\u001b[0m\n\u001b[0m           ^\u001b[0m\n\u001b[0;31mSyntaxError\u001b[0m\u001b[0;31m:\u001b[0m from __future__ imports must occur at the beginning of the file\n"
     ]
    }
   ],
   "source": [
    "import spacy\n",
    "from __future__ import unicode_literals, print_function\n",
    "from spacy.en import English\n",
    "\n",
    "raw_text = 'Hello, world. Here are two sentences.'\n",
    "nlp = English()\n",
    "doc = nlp(raw_text)\n",
    "sentences = [sent.string.strip() for sent in doc.sents]"
   ]
  },
  {
   "cell_type": "code",
   "execution_count": null,
   "metadata": {},
   "outputs": [],
   "source": []
  },
  {
   "cell_type": "code",
   "execution_count": null,
   "metadata": {},
   "outputs": [],
   "source": []
  },
  {
   "cell_type": "code",
   "execution_count": null,
   "metadata": {},
   "outputs": [],
   "source": []
  },
  {
   "cell_type": "code",
   "execution_count": 39,
   "metadata": {},
   "outputs": [
    {
     "data": {
      "text/plain": [
       "19831"
      ]
     },
     "execution_count": 39,
     "metadata": {},
     "output_type": "execute_result"
    }
   ],
   "source": [
    "len(train_texts)"
   ]
  }
 ],
 "metadata": {
  "kernelspec": {
   "display_name": "Python 3",
   "language": "python",
   "name": "python3"
  },
  "language_info": {
   "codemirror_mode": {
    "name": "ipython",
    "version": 3
   },
   "file_extension": ".py",
   "mimetype": "text/x-python",
   "name": "python",
   "nbconvert_exporter": "python",
   "pygments_lexer": "ipython3",
   "version": "3.7.6"
  }
 },
 "nbformat": 4,
 "nbformat_minor": 4
}
