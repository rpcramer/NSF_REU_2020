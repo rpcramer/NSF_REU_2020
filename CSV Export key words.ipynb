{
 "cells": [
  {
   "cell_type": "code",
   "execution_count": 12,
   "metadata": {},
   "outputs": [
    {
     "name": "stdout",
     "output_type": "stream",
     "text": [
      "119\n"
     ]
    }
   ],
   "source": [
    "import pandas as pd\n",
    "from pandas import DataFrame\n",
    "\n",
    "\n",
    "import json\n",
    "data = pd.read_excel(\"/Users/ryancramer/Downloads/Skills.xlsx\")\n",
    "data2 = pd.read_excel(\"/Users/ryancramer/Downloads/Knowledge.xlsx\")\n",
    "data3 = pd.read_excel(\"/Users/ryancramer/Downloads/Abilities.xlsx\")\n",
    "\n",
    "skills = list()\n",
    "for skill in data[\"Element Name\"]:\n",
    "    if skill in skills:\n",
    "        continue\n",
    "    skills.append(skill)\n",
    "    \n",
    "for skill in data2[\"Element Name\"]:\n",
    "    if skill in skills:\n",
    "        continue\n",
    "    skills.append(skill)\n",
    "    \n",
    "for skill in data[\"Element Name\"]:\n",
    "    if skill in skills:\n",
    "        continue\n",
    "    skills.append(skill)\n",
    "    \n",
    "print(len(skills))\n",
    "        "
   ]
  },
  {
   "cell_type": "code",
   "execution_count": 5,
   "metadata": {},
   "outputs": [
    {
     "data": {
      "text/plain": [
       "0                    Reading Comprehension\n",
       "1                    Reading Comprehension\n",
       "2                         Active Listening\n",
       "3                         Active Listening\n",
       "4                                  Writing\n",
       "                       ...                \n",
       "67755    Management of Financial Resources\n",
       "67756     Management of Material Resources\n",
       "67757     Management of Material Resources\n",
       "67758    Management of Personnel Resources\n",
       "67759    Management of Personnel Resources\n",
       "Name: Element Name, Length: 67760, dtype: object"
      ]
     },
     "execution_count": 5,
     "metadata": {},
     "output_type": "execute_result"
    }
   ],
   "source": [
    "data[\"Element Name\"]\n"
   ]
  },
  {
   "cell_type": "code",
   "execution_count": 7,
   "metadata": {},
   "outputs": [
    {
     "name": "stdout",
     "output_type": "stream",
     "text": [
      "['Reading Comprehension', 'Active Listening', 'Writing', 'Speaking', 'Mathematics', 'Science', 'Critical Thinking', 'Active Learning', 'Learning Strategies', 'Monitoring', 'Social Perceptiveness', 'Coordination', 'Persuasion', 'Negotiation', 'Instructing', 'Service Orientation', 'Complex Problem Solving', 'Operations Analysis', 'Technology Design', 'Equipment Selection', 'Installation', 'Programming', 'Operation Monitoring', 'Operation and Control', 'Equipment Maintenance', 'Troubleshooting', 'Repairing', 'Quality Control Analysis', 'Judgment and Decision Making', 'Systems Analysis', 'Systems Evaluation', 'Time Management', 'Management of Financial Resources', 'Management of Material Resources', 'Management of Personnel Resources']\n"
     ]
    }
   ],
   "source": [
    "print(skills)\n"
   ]
  },
  {
   "cell_type": "code",
   "execution_count": null,
   "metadata": {},
   "outputs": [],
   "source": []
  }
 ],
 "metadata": {
  "kernelspec": {
   "display_name": "Python 3",
   "language": "python",
   "name": "python3"
  },
  "language_info": {
   "codemirror_mode": {
    "name": "ipython",
    "version": 3
   },
   "file_extension": ".py",
   "mimetype": "text/x-python",
   "name": "python",
   "nbconvert_exporter": "python",
   "pygments_lexer": "ipython3",
   "version": "3.7.6"
  }
 },
 "nbformat": 4,
 "nbformat_minor": 4
}
