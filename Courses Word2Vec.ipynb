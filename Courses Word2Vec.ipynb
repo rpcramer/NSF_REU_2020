{
 "cells": [
  {
   "cell_type": "code",
   "execution_count": 1,
   "metadata": {},
   "outputs": [],
   "source": [
    "#ipdb"
   ]
  },
  {
   "cell_type": "code",
   "execution_count": null,
   "metadata": {},
   "outputs": [],
   "source": []
  },
  {
   "cell_type": "code",
   "execution_count": 2,
   "metadata": {},
   "outputs": [],
   "source": [
    "import gensim\n",
    "import numpy as np"
   ]
  },
  {
   "cell_type": "code",
   "execution_count": 3,
   "metadata": {},
   "outputs": [],
   "source": [
    "#Import job data\n",
    "import pandas as pd\n",
    "from pandas import DataFrame\n",
    "import json\n",
    "\n",
    "data = []\n",
    "\n",
    "with open(\"/Users/ryancramer/Desktop/handshake_feed1.txt\") as f:\n",
    "    for line in f:\n",
    "        data.append(json.loads(line))\n",
    "        \n",
    "df1 = pd.DataFrame(data)\n",
    "\n",
    "data = []\n",
    "\n",
    "with open(\"/Users/ryancramer/Desktop/courses.txt\") as f:\n",
    "    for line in f:\n",
    "        data.append(json.loads(line))\n",
    "        \n",
    "df2 = pd.DataFrame(data)\n",
    "\n",
    "\n",
    "df_skill = pd.read_csv(\"/Users/ryancramer/Desktop/Jupyter Notebook Files/SkillsSet5.csv\")\n",
    "\n",
    "skill5 = list()\n",
    "df_skill = df_skill[\"0\"]\n",
    "for word in df_skill:\n",
    "    #print(word)\n",
    "    skill5.append(word)\n",
    "\n",
    "#train_texts = df4['description']\n",
    "jobs_text = df1['description']\n",
    "courses_text = df2['description']"
   ]
  },
  {
   "cell_type": "code",
   "execution_count": null,
   "metadata": {},
   "outputs": [],
   "source": []
  },
  {
   "cell_type": "code",
   "execution_count": 4,
   "metadata": {},
   "outputs": [],
   "source": [
    "from nltk.tokenize import RegexpTokenizer\n",
    "from nltk.corpus import stopwords\n",
    "def preprocess_data(doc_set):\n",
    "    \"\"\"\n",
    "    Input  : docuemnt list\n",
    "    Purpose: preprocess text (tokenize, removing stopwords, and stemming)\n",
    "    Output : preprocessed text\n",
    "    \"\"\"\n",
    "    # initialize regex tokenizer\n",
    "    tokenizer = RegexpTokenizer(r'\\w+')\n",
    "    # create English stop words list\n",
    "    en_stop = set(stopwords.words('english'))\n",
    "    # list for tokenized documents in loop\n",
    "    texts = []\n",
    "    # loop through document list\n",
    "    for i in doc_set:\n",
    "        # clean and tokenize document string\n",
    "        raw = i.lower()\n",
    "        #sents = raw.split(\".\")\n",
    "        #tokens = tokenizer.tokenize(raw)\n",
    "        #text1 = []\n",
    "        #for sent in sents:\n",
    "        tokens = tokenizer.tokenize(raw)\n",
    "            # remove stop words from tokens\n",
    "        stopped_tokens = [i for i in tokens if not i in en_stop]\n",
    "            # stem tokens\n",
    "        alpha_tokens = [i for i in stopped_tokens if i.isalpha() and len(i)<14]\n",
    "            # alpha tokens only\n",
    "            #stemmed_tokens = [p_stemmer.stem(i) for i in alpha_tokens]\n",
    "            # add tokens to list\n",
    "        texts.append((\" \").join(alpha_tokens))\n",
    "        #texts.append(text1)\n",
    "    return texts"
   ]
  },
  {
   "cell_type": "code",
   "execution_count": null,
   "metadata": {},
   "outputs": [],
   "source": []
  },
  {
   "cell_type": "code",
   "execution_count": 5,
   "metadata": {},
   "outputs": [],
   "source": [
    "import spacy\n",
    "nlp = spacy.load(\"/Users/ryancramer/opt/anaconda3/lib/python3.7/site-packages/en_core_web_lg/en_core_web_lg-2.3.1\", disable=['parser', 'ner'])\n",
    "\n",
    "nlp.add_pipe(nlp.create_pipe('sentencizer'))"
   ]
  },
  {
   "cell_type": "code",
   "execution_count": null,
   "metadata": {},
   "outputs": [],
   "source": []
  },
  {
   "cell_type": "code",
   "execution_count": null,
   "metadata": {},
   "outputs": [],
   "source": []
  },
  {
   "cell_type": "code",
   "execution_count": 6,
   "metadata": {
    "scrolled": true
   },
   "outputs": [
    {
     "name": "stdout",
     "output_type": "stream",
     "text": [
      "CPU times: user 10 µs, sys: 4 µs, total: 14 µs\n",
      "Wall time: 17.2 µs\n"
     ]
    }
   ],
   "source": [
    "%%time\n",
    "\n",
    "docJ = nlp.pipe(jobs_text)\n",
    "docC = nlp.pipe(courses_text)"
   ]
  },
  {
   "cell_type": "code",
   "execution_count": null,
   "metadata": {},
   "outputs": [],
   "source": [
    "\n"
   ]
  },
  {
   "cell_type": "code",
   "execution_count": 7,
   "metadata": {},
   "outputs": [],
   "source": [
    "#newwwwwwwww\n",
    "all_sents_processed = []\n",
    "for doc in docJ:\n",
    "    sentences = (list(doc.sents))\n",
    "    for sent in sentences:\n",
    "        all_sents_processed.append(sent)\n",
    "        \n",
    "for doc in docC:\n",
    "    sentences = (list(doc.sents))\n",
    "    for sent in sentences:\n",
    "        all_sents_processed.append(sent)"
   ]
  },
  {
   "cell_type": "code",
   "execution_count": null,
   "metadata": {},
   "outputs": [],
   "source": []
  },
  {
   "cell_type": "code",
   "execution_count": null,
   "metadata": {},
   "outputs": [],
   "source": []
  },
  {
   "cell_type": "code",
   "execution_count": 8,
   "metadata": {},
   "outputs": [],
   "source": [
    "jobs_processed = preprocess_data(jobs_text)\n",
    "courses_processed = preprocess_data(courses_text)\n",
    "#all_sents_processed = preprocess_data(all_sents)\n",
    "\n",
    "\n"
   ]
  },
  {
   "cell_type": "code",
   "execution_count": null,
   "metadata": {},
   "outputs": [],
   "source": []
  },
  {
   "cell_type": "code",
   "execution_count": 9,
   "metadata": {},
   "outputs": [
    {
     "name": "stdout",
     "output_type": "stream",
     "text": [
      "171159\n",
      "CPU times: user 4.35 s, sys: 542 ms, total: 4.89 s\n",
      "Wall time: 5.04 s\n"
     ]
    }
   ],
   "source": [
    "%%time\n",
    "corpus = []\n",
    "for row in all_sents_processed:\n",
    "        corpus_hold = list()\n",
    "        for word in row:\n",
    "            #word = word.lower()\n",
    "            corpus_hold.append(str(word.lemma_.lower()))\n",
    "        corpus.append(corpus_hold)\n",
    "print(len(corpus))"
   ]
  },
  {
   "cell_type": "code",
   "execution_count": null,
   "metadata": {},
   "outputs": [],
   "source": []
  },
  {
   "cell_type": "code",
   "execution_count": 10,
   "metadata": {},
   "outputs": [],
   "source": [
    "from gensim.test.utils import get_tmpfile\n",
    "from gensim.models import Word2Vec\n",
    "\n"
   ]
  },
  {
   "cell_type": "code",
   "execution_count": null,
   "metadata": {},
   "outputs": [],
   "source": []
  },
  {
   "cell_type": "code",
   "execution_count": 11,
   "metadata": {},
   "outputs": [],
   "source": [
    "from gensim.models import FastText"
   ]
  },
  {
   "cell_type": "code",
   "execution_count": 12,
   "metadata": {},
   "outputs": [
    {
     "name": "stdout",
     "output_type": "stream",
     "text": [
      "CPU times: user 4min 58s, sys: 9.03 s, total: 5min 7s\n",
      "Wall time: 2min 27s\n"
     ]
    }
   ],
   "source": [
    "%%time\n",
    "modelF = FastText(corpus, size=100, window=5, min_count=1, workers=4)\n",
    "\n",
    "modelW = Word2Vec(corpus, size=100, window=5, min_count=0, workers=4)"
   ]
  },
  {
   "cell_type": "code",
   "execution_count": 13,
   "metadata": {},
   "outputs": [],
   "source": [
    "#type(model)"
   ]
  },
  {
   "cell_type": "code",
   "execution_count": 14,
   "metadata": {},
   "outputs": [
    {
     "name": "stdout",
     "output_type": "stream",
     "text": [
      "CPU times: user 2 µs, sys: 0 ns, total: 2 µs\n",
      "Wall time: 4.77 µs\n"
     ]
    },
    {
     "ename": "NameError",
     "evalue": "name 'model' is not defined",
     "output_type": "error",
     "traceback": [
      "\u001b[0;31m---------------------------------------------------------------------------\u001b[0m",
      "\u001b[0;31mNameError\u001b[0m                                 Traceback (most recent call last)",
      "\u001b[0;32m<ipython-input-14-67fac44fe81d>\u001b[0m in \u001b[0;36m<module>\u001b[0;34m\u001b[0m\n\u001b[1;32m      2\u001b[0m \u001b[0;34m\u001b[0m\u001b[0m\n\u001b[1;32m      3\u001b[0m \u001b[0;34m\u001b[0m\u001b[0m\n\u001b[0;32m----> 4\u001b[0;31m \u001b[0mmodel\u001b[0m\u001b[0;34m.\u001b[0m\u001b[0mtrain\u001b[0m\u001b[0;34m(\u001b[0m\u001b[0mcorpus\u001b[0m\u001b[0;34m,\u001b[0m \u001b[0mtotal_examples\u001b[0m\u001b[0;34m=\u001b[0m\u001b[0mmodel\u001b[0m\u001b[0;34m.\u001b[0m\u001b[0mcorpus_count\u001b[0m\u001b[0;34m,\u001b[0m \u001b[0mepochs\u001b[0m\u001b[0;34m=\u001b[0m\u001b[0mmodel\u001b[0m\u001b[0;34m.\u001b[0m\u001b[0miter\u001b[0m\u001b[0;34m)\u001b[0m\u001b[0;34m\u001b[0m\u001b[0;34m\u001b[0m\u001b[0m\n\u001b[0m",
      "\u001b[0;31mNameError\u001b[0m: name 'model' is not defined"
     ]
    }
   ],
   "source": [
    "%time\n",
    "\n",
    "\n",
    "model.train(corpus, total_examples=model.corpus_count, epochs=model.iter)"
   ]
  },
  {
   "cell_type": "code",
   "execution_count": null,
   "metadata": {},
   "outputs": [],
   "source": [
    "#\n",
    "model.most_similar('human',topn =10)"
   ]
  },
  {
   "cell_type": "code",
   "execution_count": null,
   "metadata": {},
   "outputs": [],
   "source": [
    "model.most_similar('python',topn =10)"
   ]
  },
  {
   "cell_type": "code",
   "execution_count": null,
   "metadata": {},
   "outputs": [],
   "source": [
    "model.save(\"W2VCorpus.model\")"
   ]
  },
  {
   "cell_type": "code",
   "execution_count": null,
   "metadata": {},
   "outputs": [],
   "source": [
    "'''\n",
    "from gensim.models import Phrases\n",
    "\n",
    "bigram_transformer = Phrases(common_texts)\n",
    "model12 = Word2Vec(bigram_transformer[common_texts], min_count=1)\n",
    "'''"
   ]
  },
  {
   "cell_type": "code",
   "execution_count": null,
   "metadata": {},
   "outputs": [],
   "source": [
    "#model12.most_similar('computer system',topn =3)"
   ]
  },
  {
   "cell_type": "code",
   "execution_count": null,
   "metadata": {},
   "outputs": [],
   "source": []
  },
  {
   "cell_type": "code",
   "execution_count": null,
   "metadata": {},
   "outputs": [],
   "source": [
    "#bigram_transformer.vocab\n"
   ]
  },
  {
   "cell_type": "code",
   "execution_count": 15,
   "metadata": {},
   "outputs": [],
   "source": [
    "def ngram(doc_set):\n",
    "    texts = []\n",
    "    for i in doc_set:\n",
    "        text_with_grams = []\n",
    "        count = 1\n",
    "        holder = \"\"\n",
    "        words = i.split()\n",
    "        for word in words:\n",
    "            if count == 1:\n",
    "                holder = word\n",
    "            else:  \n",
    "                text_with_grams.append(holder + \" \" + word)\n",
    "                text_with_grams.append(holder)\n",
    "                if count == len(words):\n",
    "                    text_with_grams.append(word)\n",
    "                holder = word\n",
    "            count = count + 1\n",
    "        texts.append(text_with_grams)\n",
    "    return texts"
   ]
  },
  {
   "cell_type": "code",
   "execution_count": 16,
   "metadata": {},
   "outputs": [],
   "source": [
    "#IF grams\n",
    "def SkillConverter(jobs,skills):\n",
    "    texts = []\n",
    "    \n",
    "    \n",
    "    for job in jobs:\n",
    "        skill_text = []\n",
    "        for skill in skills:\n",
    "            if skill in job:\n",
    "                skill_text.append(skill)\n",
    "        texts.append(skill_text)\n",
    "    return texts         \n"
   ]
  },
  {
   "cell_type": "code",
   "execution_count": 17,
   "metadata": {},
   "outputs": [],
   "source": [
    "#what is this doing old (BETTER)\n",
    "def SkillConverter(jobs,skills):\n",
    "    texts = []\n",
    "    for job in jobs:\n",
    "        skill_text = []\n",
    "        skip_gram = False\n",
    "        for word in job:\n",
    "            #if skip_gram == True:\n",
    "                #skip_gram = False\n",
    "                #continue\n",
    "            #elif skip_gram == False and word in skills:\n",
    "                \n",
    "                #skill_text.append(word)\n",
    "                #skip_gram = True\n",
    "            if word in skills:\n",
    "                skill_text.append(word)\n",
    "        texts.append((\" \").join(skill_text))\n",
    "    return texts"
   ]
  },
  {
   "cell_type": "code",
   "execution_count": 19,
   "metadata": {},
   "outputs": [],
   "source": [
    "#skill5"
   ]
  },
  {
   "cell_type": "code",
   "execution_count": null,
   "metadata": {},
   "outputs": [],
   "source": [
    "\"%s\".isalpha()"
   ]
  },
  {
   "cell_type": "code",
   "execution_count": 20,
   "metadata": {},
   "outputs": [
    {
     "name": "stdout",
     "output_type": "stream",
     "text": [
      "CPU times: user 9min 21s, sys: 4.84 s, total: 9min 26s\n",
      "Wall time: 9min 43s\n"
     ]
    }
   ],
   "source": [
    "%%time\n",
    "jobs_ngram = ngram(jobs_processed)\n",
    "jobs_skills = SkillConverter(jobs_ngram,skill5)\n",
    "courses_ngram = ngram(courses_processed)\n",
    "courses_skills = SkillConverter(courses_ngram,skill5)"
   ]
  },
  {
   "cell_type": "code",
   "execution_count": null,
   "metadata": {},
   "outputs": [],
   "source": [
    "#jobs_skills = jobs_skills[0:100]"
   ]
  },
  {
   "cell_type": "code",
   "execution_count": null,
   "metadata": {
    "scrolled": true
   },
   "outputs": [],
   "source": [
    "#print(split_into_sentences(jobss))"
   ]
  },
  {
   "cell_type": "code",
   "execution_count": 22,
   "metadata": {},
   "outputs": [
    {
     "name": "stdout",
     "output_type": "stream",
     "text": [
      "CPU times: user 3.93 s, sys: 464 ms, total: 4.39 s\n",
      "Wall time: 5.22 s\n"
     ]
    }
   ],
   "source": [
    "%%time\n",
    "#FastText\n",
    "job_sumsF = []\n",
    "for jobss in jobs_skills:\n",
    "    count = 0\n",
    "    hold1 = np.empty(100)\n",
    "    for word in jobss.split():\n",
    "        #print(word)\n",
    "        hold1 = hold1 + modelF.wv[word]\n",
    "        count = count +1\n",
    "    if count != 0:\n",
    "        hold1 = hold1 / count\n",
    "    job_sumsF.append(hold1)\n",
    "\n",
    "course_sumsF = []\n",
    "for jobss in courses_skills:\n",
    "    count = 0\n",
    "    hold1 = np.empty(100)\n",
    "    for word in jobss.split():\n",
    "        #print(word)\n",
    "        hold1 = hold1 + modelF.wv[word]\n",
    "        count = count +1\n",
    "    if count != 0:\n",
    "        hold1 = hold1 / count\n",
    "    course_sumsF.append(hold1)"
   ]
  },
  {
   "cell_type": "code",
   "execution_count": null,
   "metadata": {},
   "outputs": [],
   "source": [
    "#jobs_skills"
   ]
  },
  {
   "cell_type": "code",
   "execution_count": 54,
   "metadata": {},
   "outputs": [],
   "source": [
    "#twice\n",
    "doc3 = nlp.pipe(jobs_skills)\n",
    "doc4 = nlp.pipe(courses_skills)"
   ]
  },
  {
   "cell_type": "code",
   "execution_count": 53,
   "metadata": {},
   "outputs": [
    {
     "ename": "AttributeError",
     "evalue": "'generator' object has no attribute 'text'",
     "output_type": "error",
     "traceback": [
      "\u001b[0;31m---------------------------------------------------------------------------\u001b[0m",
      "\u001b[0;31mAttributeError\u001b[0m                            Traceback (most recent call last)",
      "\u001b[0;32m<ipython-input-53-94be7ceb4316>\u001b[0m in \u001b[0;36m<module>\u001b[0;34m\u001b[0m\n\u001b[0;32m----> 1\u001b[0;31m \u001b[0mlen\u001b[0m\u001b[0;34m(\u001b[0m\u001b[0mdoc4\u001b[0m\u001b[0;34m.\u001b[0m\u001b[0mtext\u001b[0m\u001b[0;34m)\u001b[0m\u001b[0;34m\u001b[0m\u001b[0;34m\u001b[0m\u001b[0m\n\u001b[0m",
      "\u001b[0;31mAttributeError\u001b[0m: 'generator' object has no attribute 'text'"
     ]
    }
   ],
   "source": []
  },
  {
   "cell_type": "code",
   "execution_count": null,
   "metadata": {},
   "outputs": [],
   "source": [
    "\"boot\" in modelW.wv.vocab"
   ]
  },
  {
   "cell_type": "code",
   "execution_count": null,
   "metadata": {},
   "outputs": [],
   "source": [
    "job_sumsW"
   ]
  },
  {
   "cell_type": "code",
   "execution_count": 48,
   "metadata": {},
   "outputs": [
    {
     "name": "stdout",
     "output_type": "stream",
     "text": [
      "advertise\n",
      "advertise\n",
      "advertise\n",
      "strut\n",
      "spre\n",
      "-PRON-\n",
      "-PRON-\n",
      "-PRON-\n",
      "zenwork\n",
      "administ\n",
      "ongoe\n",
      "ongoe\n",
      "advertise\n",
      "launder\n",
      "acuman\n",
      "-PRON-\n",
      "launder\n",
      "launder\n",
      "launder\n",
      "launder\n",
      "launder\n",
      "launder\n",
      "-PRON-\n",
      "ongoe\n",
      "strut\n",
      "strut\n",
      "-PRON-\n",
      "-PRON-\n",
      "advertise\n",
      "advertise\n",
      "advertise\n"
     ]
    }
   ],
   "source": [
    "#new\n",
    "job_sumsW = []\n",
    "for jobss in doc3:\n",
    "    count = 0\n",
    "    hold1 = np.empty(100)\n",
    "    for word in jobss:\n",
    "        #print(word.lemma_)\n",
    "        if word.lemma_ in modelW.wv.vocab:\n",
    "            hold1 = hold1 + modelW.wv[word.lemma_]\n",
    "        else:\n",
    "            print(word.lemma_)\n",
    "        count = count +1\n",
    "    if count != 0:\n",
    "        hold1 = hold1 / count\n",
    "    job_sumsW.append(hold1)"
   ]
  },
  {
   "cell_type": "code",
   "execution_count": 59,
   "metadata": {},
   "outputs": [
    {
     "data": {
      "text/plain": [
       "0.0"
      ]
     },
     "execution_count": 59,
     "metadata": {},
     "output_type": "execute_result"
    }
   ],
   "source": [
    "0/1\n"
   ]
  },
  {
   "cell_type": "code",
   "execution_count": 480,
   "metadata": {},
   "outputs": [
    {
     "data": {
      "text/plain": [
       "8781"
      ]
     },
     "execution_count": 480,
     "metadata": {},
     "output_type": "execute_result"
    }
   ],
   "source": [
    "len(course_sumsF)"
   ]
  },
  {
   "cell_type": "code",
   "execution_count": 477,
   "metadata": {},
   "outputs": [
    {
     "data": {
      "text/plain": [
       "876"
      ]
     },
     "execution_count": 477,
     "metadata": {},
     "output_type": "execute_result"
    }
   ],
   "source": [
    "len(job_sumsW)"
   ]
  },
  {
   "cell_type": "code",
   "execution_count": 523,
   "metadata": {},
   "outputs": [
    {
     "name": "stdout",
     "output_type": "stream",
     "text": [
      "6292.150554796843\n",
      "2506.263911966346\n"
     ]
    }
   ],
   "source": [
    "print(statistics.mean(maxH))\n",
    "print(statistics.median(maxH))"
   ]
  },
  {
   "cell_type": "code",
   "execution_count": 529,
   "metadata": {
    "scrolled": true
   },
   "outputs": [
    {
     "data": {
      "image/png": "[encoded data removed]",
      "text/plain": [
       "<Figure size 432x288 with 1 Axes>"
      ]
     },
     "metadata": {
      "needs_background": "light"
     },
     "output_type": "display_data"
    }
   ],
   "source": [
    "plt.hist(maxH)\n",
    "plt.show()\n"
   ]
  },
  {
   "cell_type": "code",
   "execution_count": 528,
   "metadata": {},
   "outputs": [
    {
     "name": "stdout",
     "output_type": "stream",
     "text": [
      "524\n",
      "29985.64888215268\n",
      "54.8624031781506\n",
      "29930.78647897453\n"
     ]
    }
   ],
   "source": [
    "#1-norm \n",
    "#new\n",
    "count = 0\n",
    "maxH = []\n",
    "for word in job_sumsW:\n",
    "    norm = 0\n",
    "    for skill in word:\n",
    "        norm = norm + abs(skill)\n",
    "    if norm < 30000:\n",
    "        maxH.append(norm)\n",
    "        count = count + 1\n",
    "print(count)\n",
    "print(max(maxH))\n",
    "print(min(maxH))\n",
    "print(max(maxH)-min(maxH))"
   ]
  },
  {
   "cell_type": "code",
   "execution_count": null,
   "metadata": {},
   "outputs": [],
   "source": []
  },
  {
   "cell_type": "code",
   "execution_count": 418,
   "metadata": {},
   "outputs": [
    {
     "name": "stdout",
     "output_type": "stream",
     "text": [
      "616679.7462683844\n",
      "54.8624031781506\n",
      "616624.8838652063\n"
     ]
    }
   ],
   "source": [
    "#1-norm \n",
    "maxH = []\n",
    "for word in job_sumsW:\n",
    "    norm = 0\n",
    "    for skill in word:\n",
    "        norm = norm + abs(skill)\n",
    "    maxH.append(norm)\n",
    "print(max(maxH))\n",
    "print(min(maxH))\n",
    "print(max(maxH)-min(maxH))\n"
   ]
  },
  {
   "cell_type": "code",
   "execution_count": 55,
   "metadata": {},
   "outputs": [
    {
     "name": "stdout",
     "output_type": "stream",
     "text": [
      "-PRON-\n",
      "-PRON-\n",
      "bioproces\n",
      "-PRON-\n",
      "stre\n",
      "stre\n",
      "stre\n",
      "-PRON-\n",
      "stre\n",
      "-PRON-\n",
      "advertise\n",
      "mips\n",
      "reengineere\n",
      "ongoe\n",
      "-PRON-\n",
      "-PRON-\n",
      "-PRON-\n",
      "sup\n",
      "multipli\n",
      "fatty\n",
      "cholesterol\n",
      "unstructure\n",
      "sup\n",
      "-PRON-\n",
      "multipli\n",
      "stre\n",
      "xen\n",
      "copywrite\n",
      "ture\n",
      "acuman\n",
      "stre\n",
      "multipli\n",
      "-PRON-\n",
      "materiel\n",
      "stre\n",
      "stre\n",
      "ongoe\n",
      "-PRON-\n",
      "advertise\n",
      "-PRON-\n",
      "kubernete\n",
      "-PRON-\n",
      "-PRON-\n",
      "-PRON-\n",
      "ture\n",
      "-PRON-\n",
      "stre\n",
      "-PRON-\n",
      "ppm\n",
      "syllabu\n",
      "-PRON-\n",
      "ture\n",
      "-PRON-\n",
      "spre\n",
      "advertise\n",
      "chill\n",
      "ongoe\n",
      "stre\n",
      "ture\n",
      "ture\n",
      "launder\n",
      "launder\n",
      "launder\n",
      "launder\n",
      "biophysics\n",
      "mapr\n",
      "administ\n",
      "advertise\n",
      "-PRON-\n",
      "advertise\n",
      "advertise\n",
      "advertise\n",
      "advertise\n",
      "stre\n",
      "materiel\n",
      "deliv\n",
      "ongoe\n",
      "ppm\n",
      "-PRON-\n",
      "unstructure\n",
      "computerize\n",
      "materiel\n",
      "administ\n",
      "-PRON-\n",
      "-PRON-\n",
      "-PRON-\n",
      "-PRON-\n",
      "-PRON-\n",
      "-PRON-\n",
      "-PRON-\n",
      "-PRON-\n",
      "-PRON-\n",
      "obstetrics\n",
      "-PRON-\n",
      "infiltration\n",
      "infiltration\n",
      "-PRON-\n",
      "multipli\n",
      "-PRON-\n",
      "multipli\n",
      "ture\n",
      "ture\n"
     ]
    }
   ],
   "source": [
    "#new\n",
    "course_sumsW = []\n",
    "for jobss in doc4:\n",
    "    count = 0\n",
    "    hold1 = np.empty(100)\n",
    "    for word in jobss:\n",
    "        #print(word.lemma_)\n",
    "        if word.lemma_ in modelW.wv.vocab:\n",
    "            hold1 = hold1 + modelW.wv[word.lemma_]\n",
    "        else:\n",
    "            print(word.lemma_)\n",
    "        count = count +1\n",
    "    if count != 0:\n",
    "        hold1 = hold1 / count\n",
    "    course_sumsW.append(hold1)"
   ]
  },
  {
   "cell_type": "code",
   "execution_count": null,
   "metadata": {},
   "outputs": [],
   "source": [
    "course_sumsW"
   ]
  },
  {
   "cell_type": "code",
   "execution_count": null,
   "metadata": {
    "scrolled": true
   },
   "outputs": [],
   "source": [
    "#old\n",
    "%%time\n",
    "#word2vec\n",
    "job_sumsW = []\n",
    "for jobss in jobs_skills:\n",
    "    count = 0\n",
    "    hold1 = np.empty(100)\n",
    "    for word in jobss.split():\n",
    "        print(word)\n",
    "        hold1 = hold1 + modelW.wv[word]\n",
    "        count = count +1\n",
    "    if count != 0:\n",
    "        hold1 = hold1 / count\n",
    "    job_sumsW.append(hold1)\n",
    "\n",
    "course_sumsW = []\n",
    "for jobss in courses_skills:\n",
    "    count = 0\n",
    "    hold1 = np.empty(100)\n",
    "    for word in jobss.split():\n",
    "        #print(word)\n",
    "        hold1 = hold1 + modelW.wv[word]\n",
    "        count = count +1\n",
    "    if count != 0:\n",
    "        hold1 = hold1 / count\n",
    "    course_sumsW.append(hold1)"
   ]
  },
  {
   "cell_type": "code",
   "execution_count": 37,
   "metadata": {},
   "outputs": [],
   "source": [
    "#jobs_skills"
   ]
  },
  {
   "cell_type": "code",
   "execution_count": 44,
   "metadata": {},
   "outputs": [],
   "source": [
    "from sklearn.metrics.pairwise import pairwise_distances"
   ]
  },
  {
   "cell_type": "code",
   "execution_count": 38,
   "metadata": {},
   "outputs": [],
   "source": [
    "#job_sums"
   ]
  },
  {
   "cell_type": "code",
   "execution_count": 33,
   "metadata": {
    "scrolled": true
   },
   "outputs": [],
   "source": [
    "simFCF = 1-pairwise_distances(job_sumsF,course_sumsF, metric='cosine')\n",
    "simFEF = pairwise_distances(job_sumsF,course_sumsF, metric='euclidean')\n",
    "#sim = pairwise_distances(job_sums,job_sums, metric='euclidean')"
   ]
  },
  {
   "cell_type": "code",
   "execution_count": 419,
   "metadata": {},
   "outputs": [
    {
     "data": {
      "text/plain": [
       "array([[1.63760721e+04, 2.38773091e+04, 4.51925334e+04, ...,\n",
       "        1.20096869e+02, 1.18567167e+02, 5.21372281e+01],\n",
       "       [1.63716244e+04, 2.38728613e+04, 4.51880857e+04, ...,\n",
       "        1.16402045e+02, 1.14731601e+02, 4.82202167e+01],\n",
       "       [1.63528981e+04, 2.38541349e+04, 4.51693592e+04, ...,\n",
       "        1.04461454e+02, 1.02043883e+02, 3.68954791e+01],\n",
       "       ...,\n",
       "       [5.55333483e+03, 1.94791678e+03, 2.32631312e+04, ...,\n",
       "        2.18432998e+04, 2.18404291e+04, 2.18890268e+04],\n",
       "       [1.87438858e+02, 7.68863152e+03, 2.90038549e+04, ...,\n",
       "        1.61026316e+04, 1.60997539e+04, 1.61483107e+04],\n",
       "       [6.94946021e+03, 1.44506973e+04, 3.57659215e+04, ...,\n",
       "        9.34071763e+03, 9.33782120e+03, 9.38626661e+03]])"
      ]
     },
     "execution_count": 419,
     "metadata": {},
     "output_type": "execute_result"
    }
   ],
   "source": []
  },
  {
   "cell_type": "code",
   "execution_count": 39,
   "metadata": {},
   "outputs": [],
   "source": [
    "#course_sumsW"
   ]
  },
  {
   "cell_type": "code",
   "execution_count": 56,
   "metadata": {},
   "outputs": [],
   "source": [
    "simFCW = 1-pairwise_distances(job_sumsW,course_sumsW, metric='cosine')\n",
    "simFEW = pairwise_distances(job_sumsW,course_sumsW, metric='euclidean')"
   ]
  },
  {
   "cell_type": "code",
   "execution_count": 40,
   "metadata": {},
   "outputs": [
    {
     "data": {
      "text/html": [
       "<div>\n",
       "<style scoped>\n",
       "    .dataframe tbody tr th:only-of-type {\n",
       "        vertical-align: middle;\n",
       "    }\n",
       "\n",
       "    .dataframe tbody tr th {\n",
       "        vertical-align: top;\n",
       "    }\n",
       "\n",
       "    .dataframe thead th {\n",
       "        text-align: right;\n",
       "    }\n",
       "</style>\n",
       "<table border=\"1\" class=\"dataframe\">\n",
       "  <thead>\n",
       "    <tr style=\"text-align: right;\">\n",
       "      <th></th>\n",
       "      <th>0</th>\n",
       "      <th>1</th>\n",
       "      <th>2</th>\n",
       "      <th>3</th>\n",
       "      <th>4</th>\n",
       "      <th>5</th>\n",
       "      <th>6</th>\n",
       "      <th>7</th>\n",
       "      <th>8</th>\n",
       "      <th>9</th>\n",
       "      <th>...</th>\n",
       "      <th>8771</th>\n",
       "      <th>8772</th>\n",
       "      <th>8773</th>\n",
       "      <th>8774</th>\n",
       "      <th>8775</th>\n",
       "      <th>8776</th>\n",
       "      <th>8777</th>\n",
       "      <th>8778</th>\n",
       "      <th>8779</th>\n",
       "      <th>8780</th>\n",
       "    </tr>\n",
       "  </thead>\n",
       "  <tbody>\n",
       "    <tr>\n",
       "      <th>0</th>\n",
       "      <td>0.975810</td>\n",
       "      <td>0.975815</td>\n",
       "      <td>0.975812</td>\n",
       "      <td>0.975799</td>\n",
       "      <td>0.975797</td>\n",
       "      <td>0.975759</td>\n",
       "      <td>0.975751</td>\n",
       "      <td>0.975734</td>\n",
       "      <td>0.975735</td>\n",
       "      <td>0.975734</td>\n",
       "      <td>...</td>\n",
       "      <td>0.960621</td>\n",
       "      <td>0.949147</td>\n",
       "      <td>0.945408</td>\n",
       "      <td>0.730464</td>\n",
       "      <td>0.756858</td>\n",
       "      <td>0.757273</td>\n",
       "      <td>0.823914</td>\n",
       "      <td>0.683381</td>\n",
       "      <td>0.717175</td>\n",
       "      <td>0.780856</td>\n",
       "    </tr>\n",
       "    <tr>\n",
       "      <th>1</th>\n",
       "      <td>0.993515</td>\n",
       "      <td>0.993521</td>\n",
       "      <td>0.993521</td>\n",
       "      <td>0.993515</td>\n",
       "      <td>0.993513</td>\n",
       "      <td>0.993485</td>\n",
       "      <td>0.993471</td>\n",
       "      <td>0.993462</td>\n",
       "      <td>0.993463</td>\n",
       "      <td>0.993458</td>\n",
       "      <td>...</td>\n",
       "      <td>0.969974</td>\n",
       "      <td>0.964107</td>\n",
       "      <td>0.967244</td>\n",
       "      <td>0.791111</td>\n",
       "      <td>0.815563</td>\n",
       "      <td>0.815975</td>\n",
       "      <td>0.874278</td>\n",
       "      <td>0.747015</td>\n",
       "      <td>0.779044</td>\n",
       "      <td>0.837620</td>\n",
       "    </tr>\n",
       "    <tr>\n",
       "      <th>2</th>\n",
       "      <td>0.996517</td>\n",
       "      <td>0.996520</td>\n",
       "      <td>0.996520</td>\n",
       "      <td>0.996521</td>\n",
       "      <td>0.996522</td>\n",
       "      <td>0.996511</td>\n",
       "      <td>0.996511</td>\n",
       "      <td>0.996506</td>\n",
       "      <td>0.996506</td>\n",
       "      <td>0.996503</td>\n",
       "      <td>...</td>\n",
       "      <td>0.976674</td>\n",
       "      <td>0.968775</td>\n",
       "      <td>0.969013</td>\n",
       "      <td>0.786255</td>\n",
       "      <td>0.811002</td>\n",
       "      <td>0.811415</td>\n",
       "      <td>0.874119</td>\n",
       "      <td>0.744919</td>\n",
       "      <td>0.776292</td>\n",
       "      <td>0.834019</td>\n",
       "    </tr>\n",
       "    <tr>\n",
       "      <th>3</th>\n",
       "      <td>0.996511</td>\n",
       "      <td>0.996514</td>\n",
       "      <td>0.996514</td>\n",
       "      <td>0.996516</td>\n",
       "      <td>0.996517</td>\n",
       "      <td>0.996507</td>\n",
       "      <td>0.996508</td>\n",
       "      <td>0.996503</td>\n",
       "      <td>0.996503</td>\n",
       "      <td>0.996501</td>\n",
       "      <td>...</td>\n",
       "      <td>0.977393</td>\n",
       "      <td>0.969375</td>\n",
       "      <td>0.969500</td>\n",
       "      <td>0.786384</td>\n",
       "      <td>0.811097</td>\n",
       "      <td>0.811508</td>\n",
       "      <td>0.874404</td>\n",
       "      <td>0.745046</td>\n",
       "      <td>0.776332</td>\n",
       "      <td>0.834034</td>\n",
       "    </tr>\n",
       "    <tr>\n",
       "      <th>4</th>\n",
       "      <td>0.996227</td>\n",
       "      <td>0.996233</td>\n",
       "      <td>0.996232</td>\n",
       "      <td>0.996231</td>\n",
       "      <td>0.996230</td>\n",
       "      <td>0.996211</td>\n",
       "      <td>0.996205</td>\n",
       "      <td>0.996199</td>\n",
       "      <td>0.996200</td>\n",
       "      <td>0.996197</td>\n",
       "      <td>...</td>\n",
       "      <td>0.975826</td>\n",
       "      <td>0.969042</td>\n",
       "      <td>0.970087</td>\n",
       "      <td>0.792445</td>\n",
       "      <td>0.816817</td>\n",
       "      <td>0.817224</td>\n",
       "      <td>0.877719</td>\n",
       "      <td>0.750080</td>\n",
       "      <td>0.781515</td>\n",
       "      <td>0.839066</td>\n",
       "    </tr>\n",
       "    <tr>\n",
       "      <th>...</th>\n",
       "      <td>...</td>\n",
       "      <td>...</td>\n",
       "      <td>...</td>\n",
       "      <td>...</td>\n",
       "      <td>...</td>\n",
       "      <td>...</td>\n",
       "      <td>...</td>\n",
       "      <td>...</td>\n",
       "      <td>...</td>\n",
       "      <td>...</td>\n",
       "      <td>...</td>\n",
       "      <td>...</td>\n",
       "      <td>...</td>\n",
       "      <td>...</td>\n",
       "      <td>...</td>\n",
       "      <td>...</td>\n",
       "      <td>...</td>\n",
       "      <td>...</td>\n",
       "      <td>...</td>\n",
       "      <td>...</td>\n",
       "      <td>...</td>\n",
       "    </tr>\n",
       "    <tr>\n",
       "      <th>871</th>\n",
       "      <td>1.000000</td>\n",
       "      <td>1.000000</td>\n",
       "      <td>1.000000</td>\n",
       "      <td>1.000000</td>\n",
       "      <td>1.000000</td>\n",
       "      <td>1.000000</td>\n",
       "      <td>0.999999</td>\n",
       "      <td>0.999999</td>\n",
       "      <td>0.999999</td>\n",
       "      <td>0.999999</td>\n",
       "      <td>...</td>\n",
       "      <td>0.978039</td>\n",
       "      <td>0.973263</td>\n",
       "      <td>0.974406</td>\n",
       "      <td>0.800000</td>\n",
       "      <td>0.823635</td>\n",
       "      <td>0.824038</td>\n",
       "      <td>0.884928</td>\n",
       "      <td>0.759126</td>\n",
       "      <td>0.788806</td>\n",
       "      <td>0.844208</td>\n",
       "    </tr>\n",
       "    <tr>\n",
       "      <th>872</th>\n",
       "      <td>1.000000</td>\n",
       "      <td>1.000000</td>\n",
       "      <td>1.000000</td>\n",
       "      <td>1.000000</td>\n",
       "      <td>1.000000</td>\n",
       "      <td>1.000000</td>\n",
       "      <td>0.999999</td>\n",
       "      <td>0.999999</td>\n",
       "      <td>0.999999</td>\n",
       "      <td>0.999999</td>\n",
       "      <td>...</td>\n",
       "      <td>0.978036</td>\n",
       "      <td>0.973259</td>\n",
       "      <td>0.974401</td>\n",
       "      <td>0.799986</td>\n",
       "      <td>0.823622</td>\n",
       "      <td>0.824024</td>\n",
       "      <td>0.884921</td>\n",
       "      <td>0.759113</td>\n",
       "      <td>0.788797</td>\n",
       "      <td>0.844199</td>\n",
       "    </tr>\n",
       "    <tr>\n",
       "      <th>873</th>\n",
       "      <td>1.000000</td>\n",
       "      <td>1.000000</td>\n",
       "      <td>1.000000</td>\n",
       "      <td>1.000000</td>\n",
       "      <td>1.000000</td>\n",
       "      <td>1.000000</td>\n",
       "      <td>0.999999</td>\n",
       "      <td>0.999999</td>\n",
       "      <td>0.999999</td>\n",
       "      <td>0.999999</td>\n",
       "      <td>...</td>\n",
       "      <td>0.978037</td>\n",
       "      <td>0.973260</td>\n",
       "      <td>0.974403</td>\n",
       "      <td>0.799991</td>\n",
       "      <td>0.823627</td>\n",
       "      <td>0.824029</td>\n",
       "      <td>0.884925</td>\n",
       "      <td>0.759118</td>\n",
       "      <td>0.788803</td>\n",
       "      <td>0.844204</td>\n",
       "    </tr>\n",
       "    <tr>\n",
       "      <th>874</th>\n",
       "      <td>1.000000</td>\n",
       "      <td>1.000000</td>\n",
       "      <td>1.000000</td>\n",
       "      <td>1.000000</td>\n",
       "      <td>1.000000</td>\n",
       "      <td>1.000000</td>\n",
       "      <td>0.999999</td>\n",
       "      <td>0.999999</td>\n",
       "      <td>0.999999</td>\n",
       "      <td>0.999999</td>\n",
       "      <td>...</td>\n",
       "      <td>0.978044</td>\n",
       "      <td>0.973266</td>\n",
       "      <td>0.974408</td>\n",
       "      <td>0.799985</td>\n",
       "      <td>0.823622</td>\n",
       "      <td>0.824024</td>\n",
       "      <td>0.884922</td>\n",
       "      <td>0.759111</td>\n",
       "      <td>0.788796</td>\n",
       "      <td>0.844199</td>\n",
       "    </tr>\n",
       "    <tr>\n",
       "      <th>875</th>\n",
       "      <td>1.000000</td>\n",
       "      <td>1.000000</td>\n",
       "      <td>1.000000</td>\n",
       "      <td>1.000000</td>\n",
       "      <td>1.000000</td>\n",
       "      <td>1.000000</td>\n",
       "      <td>0.999999</td>\n",
       "      <td>0.999999</td>\n",
       "      <td>0.999999</td>\n",
       "      <td>0.999999</td>\n",
       "      <td>...</td>\n",
       "      <td>0.978056</td>\n",
       "      <td>0.973268</td>\n",
       "      <td>0.974407</td>\n",
       "      <td>0.799983</td>\n",
       "      <td>0.823619</td>\n",
       "      <td>0.824022</td>\n",
       "      <td>0.884923</td>\n",
       "      <td>0.759113</td>\n",
       "      <td>0.788796</td>\n",
       "      <td>0.844196</td>\n",
       "    </tr>\n",
       "  </tbody>\n",
       "</table>\n",
       "<p>876 rows × 8781 columns</p>\n",
       "</div>"
      ],
      "text/plain": [
       "         0         1         2         3         4         5         6     \\\n",
       "0    0.975810  0.975815  0.975812  0.975799  0.975797  0.975759  0.975751   \n",
       "1    0.993515  0.993521  0.993521  0.993515  0.993513  0.993485  0.993471   \n",
       "2    0.996517  0.996520  0.996520  0.996521  0.996522  0.996511  0.996511   \n",
       "3    0.996511  0.996514  0.996514  0.996516  0.996517  0.996507  0.996508   \n",
       "4    0.996227  0.996233  0.996232  0.996231  0.996230  0.996211  0.996205   \n",
       "..        ...       ...       ...       ...       ...       ...       ...   \n",
       "871  1.000000  1.000000  1.000000  1.000000  1.000000  1.000000  0.999999   \n",
       "872  1.000000  1.000000  1.000000  1.000000  1.000000  1.000000  0.999999   \n",
       "873  1.000000  1.000000  1.000000  1.000000  1.000000  1.000000  0.999999   \n",
       "874  1.000000  1.000000  1.000000  1.000000  1.000000  1.000000  0.999999   \n",
       "875  1.000000  1.000000  1.000000  1.000000  1.000000  1.000000  0.999999   \n",
       "\n",
       "         7         8         9     ...      8771      8772      8773  \\\n",
       "0    0.975734  0.975735  0.975734  ...  0.960621  0.949147  0.945408   \n",
       "1    0.993462  0.993463  0.993458  ...  0.969974  0.964107  0.967244   \n",
       "2    0.996506  0.996506  0.996503  ...  0.976674  0.968775  0.969013   \n",
       "3    0.996503  0.996503  0.996501  ...  0.977393  0.969375  0.969500   \n",
       "4    0.996199  0.996200  0.996197  ...  0.975826  0.969042  0.970087   \n",
       "..        ...       ...       ...  ...       ...       ...       ...   \n",
       "871  0.999999  0.999999  0.999999  ...  0.978039  0.973263  0.974406   \n",
       "872  0.999999  0.999999  0.999999  ...  0.978036  0.973259  0.974401   \n",
       "873  0.999999  0.999999  0.999999  ...  0.978037  0.973260  0.974403   \n",
       "874  0.999999  0.999999  0.999999  ...  0.978044  0.973266  0.974408   \n",
       "875  0.999999  0.999999  0.999999  ...  0.978056  0.973268  0.974407   \n",
       "\n",
       "         8774      8775      8776      8777      8778      8779      8780  \n",
       "0    0.730464  0.756858  0.757273  0.823914  0.683381  0.717175  0.780856  \n",
       "1    0.791111  0.815563  0.815975  0.874278  0.747015  0.779044  0.837620  \n",
       "2    0.786255  0.811002  0.811415  0.874119  0.744919  0.776292  0.834019  \n",
       "3    0.786384  0.811097  0.811508  0.874404  0.745046  0.776332  0.834034  \n",
       "4    0.792445  0.816817  0.817224  0.877719  0.750080  0.781515  0.839066  \n",
       "..        ...       ...       ...       ...       ...       ...       ...  \n",
       "871  0.800000  0.823635  0.824038  0.884928  0.759126  0.788806  0.844208  \n",
       "872  0.799986  0.823622  0.824024  0.884921  0.759113  0.788797  0.844199  \n",
       "873  0.799991  0.823627  0.824029  0.884925  0.759118  0.788803  0.844204  \n",
       "874  0.799985  0.823622  0.824024  0.884922  0.759111  0.788796  0.844199  \n",
       "875  0.799983  0.823619  0.824022  0.884923  0.759113  0.788796  0.844196  \n",
       "\n",
       "[876 rows x 8781 columns]"
      ]
     },
     "execution_count": 40,
     "metadata": {},
     "output_type": "execute_result"
    }
   ],
   "source": [
    "df_simFCF = pd.DataFrame(simFCF)\n",
    "df_simFCF"
   ]
  },
  {
   "cell_type": "code",
   "execution_count": 385,
   "metadata": {},
   "outputs": [
    {
     "data": {
      "text/plain": [
       "16376.07213590286"
      ]
     },
     "execution_count": 385,
     "metadata": {},
     "output_type": "execute_result"
    }
   ],
   "source": []
  },
  {
   "cell_type": "code",
   "execution_count": null,
   "metadata": {},
   "outputs": [],
   "source": []
  },
  {
   "cell_type": "code",
   "execution_count": 403,
   "metadata": {},
   "outputs": [
    {
     "name": "stdout",
     "output_type": "stream",
     "text": [
      "\n"
     ]
    }
   ],
   "source": []
  },
  {
   "cell_type": "code",
   "execution_count": 393,
   "metadata": {},
   "outputs": [
    {
     "name": "stdout",
     "output_type": "stream",
     "text": [
      "3.799692779737737e+153\n",
      "0\n"
     ]
    }
   ],
   "source": [
    "maxxerF = []\n",
    "minnerF = []\n",
    "for simt in simFEW:\n",
    "    maxx = 0\n",
    "    minn = 0\n",
    "    for xx in simt:\n",
    "        if xx < float('inf')  and xx >= maxx:\n",
    "            maxx = xx\n",
    "        elif xx <= minn:\n",
    "            minn = xx\n",
    "    maxxerF.append(maxx)\n",
    "    minnerF.append(minn)\n",
    "    \n",
    "    \n",
    "print(max(maxxerF))\n",
    "print(min(minnerF))"
   ]
  },
  {
   "cell_type": "code",
   "execution_count": 41,
   "metadata": {},
   "outputs": [
    {
     "data": {
      "text/html": [
       "<div>\n",
       "<style scoped>\n",
       "    .dataframe tbody tr th:only-of-type {\n",
       "        vertical-align: middle;\n",
       "    }\n",
       "\n",
       "    .dataframe tbody tr th {\n",
       "        vertical-align: top;\n",
       "    }\n",
       "\n",
       "    .dataframe thead th {\n",
       "        text-align: right;\n",
       "    }\n",
       "</style>\n",
       "<table border=\"1\" class=\"dataframe\">\n",
       "  <thead>\n",
       "    <tr style=\"text-align: right;\">\n",
       "      <th></th>\n",
       "      <th>0</th>\n",
       "      <th>1</th>\n",
       "      <th>2</th>\n",
       "      <th>3</th>\n",
       "      <th>4</th>\n",
       "      <th>5</th>\n",
       "      <th>6</th>\n",
       "      <th>7</th>\n",
       "      <th>8</th>\n",
       "      <th>9</th>\n",
       "      <th>...</th>\n",
       "      <th>8771</th>\n",
       "      <th>8772</th>\n",
       "      <th>8773</th>\n",
       "      <th>8774</th>\n",
       "      <th>8775</th>\n",
       "      <th>8776</th>\n",
       "      <th>8777</th>\n",
       "      <th>8778</th>\n",
       "      <th>8779</th>\n",
       "      <th>8780</th>\n",
       "    </tr>\n",
       "  </thead>\n",
       "  <tbody>\n",
       "    <tr>\n",
       "      <th>0</th>\n",
       "      <td>16376.072136</td>\n",
       "      <td>23877.309073</td>\n",
       "      <td>45192.533409</td>\n",
       "      <td>10074.281269</td>\n",
       "      <td>61999.795078</td>\n",
       "      <td>9407.003095</td>\n",
       "      <td>8596.468879</td>\n",
       "      <td>11737.182803</td>\n",
       "      <td>12922.588163</td>\n",
       "      <td>25094.605255</td>\n",
       "      <td>...</td>\n",
       "      <td>3.023886</td>\n",
       "      <td>12.348562</td>\n",
       "      <td>30.632138</td>\n",
       "      <td>49.315835</td>\n",
       "      <td>137.919326</td>\n",
       "      <td>3345.846587</td>\n",
       "      <td>41.665548</td>\n",
       "      <td>120.096869</td>\n",
       "      <td>118.567167</td>\n",
       "      <td>52.137228</td>\n",
       "    </tr>\n",
       "    <tr>\n",
       "      <th>1</th>\n",
       "      <td>16371.624428</td>\n",
       "      <td>23872.861341</td>\n",
       "      <td>45188.085676</td>\n",
       "      <td>10069.833392</td>\n",
       "      <td>61995.347312</td>\n",
       "      <td>9402.555235</td>\n",
       "      <td>8592.021142</td>\n",
       "      <td>11732.735056</td>\n",
       "      <td>12918.140416</td>\n",
       "      <td>25090.157615</td>\n",
       "      <td>...</td>\n",
       "      <td>4.866275</td>\n",
       "      <td>8.552191</td>\n",
       "      <td>26.331916</td>\n",
       "      <td>45.670311</td>\n",
       "      <td>133.913813</td>\n",
       "      <td>3341.740930</td>\n",
       "      <td>37.653870</td>\n",
       "      <td>116.402045</td>\n",
       "      <td>114.731601</td>\n",
       "      <td>48.220217</td>\n",
       "    </tr>\n",
       "    <tr>\n",
       "      <th>2</th>\n",
       "      <td>16352.898091</td>\n",
       "      <td>23854.134938</td>\n",
       "      <td>45169.359236</td>\n",
       "      <td>10051.107001</td>\n",
       "      <td>61976.620671</td>\n",
       "      <td>9383.828767</td>\n",
       "      <td>8573.294502</td>\n",
       "      <td>11714.008377</td>\n",
       "      <td>12899.413713</td>\n",
       "      <td>25071.430854</td>\n",
       "      <td>...</td>\n",
       "      <td>22.879084</td>\n",
       "      <td>13.458219</td>\n",
       "      <td>11.402588</td>\n",
       "      <td>36.501682</td>\n",
       "      <td>120.106459</td>\n",
       "      <td>3326.641863</td>\n",
       "      <td>26.209347</td>\n",
       "      <td>104.461454</td>\n",
       "      <td>102.043883</td>\n",
       "      <td>36.895479</td>\n",
       "    </tr>\n",
       "    <tr>\n",
       "      <th>3</th>\n",
       "      <td>16183.249031</td>\n",
       "      <td>23684.482559</td>\n",
       "      <td>44999.704115</td>\n",
       "      <td>9881.462540</td>\n",
       "      <td>61806.964151</td>\n",
       "      <td>9214.186961</td>\n",
       "      <td>8403.653962</td>\n",
       "      <td>11544.364119</td>\n",
       "      <td>12729.768242</td>\n",
       "      <td>24901.780456</td>\n",
       "      <td>...</td>\n",
       "      <td>193.017392</td>\n",
       "      <td>182.649828</td>\n",
       "      <td>164.932249</td>\n",
       "      <td>163.072035</td>\n",
       "      <td>120.707482</td>\n",
       "      <td>3190.640443</td>\n",
       "      <td>161.923960</td>\n",
       "      <td>138.070147</td>\n",
       "      <td>132.362515</td>\n",
       "      <td>157.250838</td>\n",
       "    </tr>\n",
       "    <tr>\n",
       "      <th>4</th>\n",
       "      <td>16347.384601</td>\n",
       "      <td>23848.621313</td>\n",
       "      <td>45163.845574</td>\n",
       "      <td>10045.593585</td>\n",
       "      <td>61971.107140</td>\n",
       "      <td>9378.315792</td>\n",
       "      <td>8567.781772</td>\n",
       "      <td>11708.495643</td>\n",
       "      <td>12893.900949</td>\n",
       "      <td>25065.918034</td>\n",
       "      <td>...</td>\n",
       "      <td>28.412593</td>\n",
       "      <td>18.659113</td>\n",
       "      <td>9.764875</td>\n",
       "      <td>34.852909</td>\n",
       "      <td>115.980082</td>\n",
       "      <td>3321.935648</td>\n",
       "      <td>24.319769</td>\n",
       "      <td>101.062767</td>\n",
       "      <td>98.387746</td>\n",
       "      <td>34.431654</td>\n",
       "    </tr>\n",
       "    <tr>\n",
       "      <th>...</th>\n",
       "      <td>...</td>\n",
       "      <td>...</td>\n",
       "      <td>...</td>\n",
       "      <td>...</td>\n",
       "      <td>...</td>\n",
       "      <td>...</td>\n",
       "      <td>...</td>\n",
       "      <td>...</td>\n",
       "      <td>...</td>\n",
       "      <td>...</td>\n",
       "      <td>...</td>\n",
       "      <td>...</td>\n",
       "      <td>...</td>\n",
       "      <td>...</td>\n",
       "      <td>...</td>\n",
       "      <td>...</td>\n",
       "      <td>...</td>\n",
       "      <td>...</td>\n",
       "      <td>...</td>\n",
       "      <td>...</td>\n",
       "      <td>...</td>\n",
       "    </tr>\n",
       "    <tr>\n",
       "      <th>871</th>\n",
       "      <td>10417.258135</td>\n",
       "      <td>17918.495119</td>\n",
       "      <td>39233.719387</td>\n",
       "      <td>4115.468747</td>\n",
       "      <td>56040.981508</td>\n",
       "      <td>3448.194741</td>\n",
       "      <td>2637.668269</td>\n",
       "      <td>5778.380322</td>\n",
       "      <td>6963.784957</td>\n",
       "      <td>19135.798306</td>\n",
       "      <td>...</td>\n",
       "      <td>5958.269469</td>\n",
       "      <td>5947.761864</td>\n",
       "      <td>5929.719318</td>\n",
       "      <td>5923.913355</td>\n",
       "      <td>5849.583368</td>\n",
       "      <td>3726.149951</td>\n",
       "      <td>5924.906949</td>\n",
       "      <td>5873.134037</td>\n",
       "      <td>5870.211121</td>\n",
       "      <td>5918.500272</td>\n",
       "    </tr>\n",
       "    <tr>\n",
       "      <th>872</th>\n",
       "      <td>4481.486437</td>\n",
       "      <td>11982.722689</td>\n",
       "      <td>33297.946694</td>\n",
       "      <td>1820.314527</td>\n",
       "      <td>50105.209248</td>\n",
       "      <td>2487.604264</td>\n",
       "      <td>3298.142347</td>\n",
       "      <td>158.350761</td>\n",
       "      <td>1028.162438</td>\n",
       "      <td>13200.040914</td>\n",
       "      <td>...</td>\n",
       "      <td>11894.042291</td>\n",
       "      <td>11883.533900</td>\n",
       "      <td>11865.489069</td>\n",
       "      <td>11859.638873</td>\n",
       "      <td>11785.064881</td>\n",
       "      <td>9336.551128</td>\n",
       "      <td>11860.657627</td>\n",
       "      <td>11808.616610</td>\n",
       "      <td>11805.729428</td>\n",
       "      <td>11854.230363</td>\n",
       "    </tr>\n",
       "    <tr>\n",
       "      <th>873</th>\n",
       "      <td>5553.334833</td>\n",
       "      <td>1947.916785</td>\n",
       "      <td>23263.131183</td>\n",
       "      <td>11855.125323</td>\n",
       "      <td>40070.394706</td>\n",
       "      <td>12522.408932</td>\n",
       "      <td>13332.946544</td>\n",
       "      <td>10192.249353</td>\n",
       "      <td>9006.851186</td>\n",
       "      <td>3165.385498</td>\n",
       "      <td>...</td>\n",
       "      <td>21928.858843</td>\n",
       "      <td>21918.350069</td>\n",
       "      <td>21900.304070</td>\n",
       "      <td>21894.433131</td>\n",
       "      <td>21819.747798</td>\n",
       "      <td>19269.872593</td>\n",
       "      <td>21895.463664</td>\n",
       "      <td>21843.299848</td>\n",
       "      <td>21840.429083</td>\n",
       "      <td>21889.026835</td>\n",
       "    </tr>\n",
       "    <tr>\n",
       "      <th>874</th>\n",
       "      <td>187.438858</td>\n",
       "      <td>7688.631521</td>\n",
       "      <td>29003.854946</td>\n",
       "      <td>6114.401030</td>\n",
       "      <td>45811.117795</td>\n",
       "      <td>6781.686252</td>\n",
       "      <td>7592.224434</td>\n",
       "      <td>4451.542104</td>\n",
       "      <td>3266.160445</td>\n",
       "      <td>8905.972614</td>\n",
       "      <td>...</td>\n",
       "      <td>16188.133982</td>\n",
       "      <td>16177.625317</td>\n",
       "      <td>16159.579697</td>\n",
       "      <td>16153.717896</td>\n",
       "      <td>16079.079511</td>\n",
       "      <td>13568.953967</td>\n",
       "      <td>16154.743385</td>\n",
       "      <td>16102.631554</td>\n",
       "      <td>16099.753949</td>\n",
       "      <td>16148.310679</td>\n",
       "    </tr>\n",
       "    <tr>\n",
       "      <th>875</th>\n",
       "      <td>6949.460214</td>\n",
       "      <td>14450.697251</td>\n",
       "      <td>35765.921472</td>\n",
       "      <td>647.679915</td>\n",
       "      <td>52573.183568</td>\n",
       "      <td>20.935792</td>\n",
       "      <td>830.201060</td>\n",
       "      <td>2310.611033</td>\n",
       "      <td>3496.006335</td>\n",
       "      <td>15668.005465</td>\n",
       "      <td>...</td>\n",
       "      <td>9426.066828</td>\n",
       "      <td>9415.558684</td>\n",
       "      <td>9397.514423</td>\n",
       "      <td>9391.676356</td>\n",
       "      <td>9317.166550</td>\n",
       "      <td>6938.434339</td>\n",
       "      <td>9392.688129</td>\n",
       "      <td>9340.717634</td>\n",
       "      <td>9337.821203</td>\n",
       "      <td>9386.266613</td>\n",
       "    </tr>\n",
       "  </tbody>\n",
       "</table>\n",
       "<p>876 rows × 8781 columns</p>\n",
       "</div>"
      ],
      "text/plain": [
       "             0             1             2             3             4     \\\n",
       "0    16376.072136  23877.309073  45192.533409  10074.281269  61999.795078   \n",
       "1    16371.624428  23872.861341  45188.085676  10069.833392  61995.347312   \n",
       "2    16352.898091  23854.134938  45169.359236  10051.107001  61976.620671   \n",
       "3    16183.249031  23684.482559  44999.704115   9881.462540  61806.964151   \n",
       "4    16347.384601  23848.621313  45163.845574  10045.593585  61971.107140   \n",
       "..            ...           ...           ...           ...           ...   \n",
       "871  10417.258135  17918.495119  39233.719387   4115.468747  56040.981508   \n",
       "872   4481.486437  11982.722689  33297.946694   1820.314527  50105.209248   \n",
       "873   5553.334833   1947.916785  23263.131183  11855.125323  40070.394706   \n",
       "874    187.438858   7688.631521  29003.854946   6114.401030  45811.117795   \n",
       "875   6949.460214  14450.697251  35765.921472    647.679915  52573.183568   \n",
       "\n",
       "             5             6             7             8             9     \\\n",
       "0     9407.003095   8596.468879  11737.182803  12922.588163  25094.605255   \n",
       "1     9402.555235   8592.021142  11732.735056  12918.140416  25090.157615   \n",
       "2     9383.828767   8573.294502  11714.008377  12899.413713  25071.430854   \n",
       "3     9214.186961   8403.653962  11544.364119  12729.768242  24901.780456   \n",
       "4     9378.315792   8567.781772  11708.495643  12893.900949  25065.918034   \n",
       "..            ...           ...           ...           ...           ...   \n",
       "871   3448.194741   2637.668269   5778.380322   6963.784957  19135.798306   \n",
       "872   2487.604264   3298.142347    158.350761   1028.162438  13200.040914   \n",
       "873  12522.408932  13332.946544  10192.249353   9006.851186   3165.385498   \n",
       "874   6781.686252   7592.224434   4451.542104   3266.160445   8905.972614   \n",
       "875     20.935792    830.201060   2310.611033   3496.006335  15668.005465   \n",
       "\n",
       "     ...          8771          8772          8773          8774  \\\n",
       "0    ...      3.023886     12.348562     30.632138     49.315835   \n",
       "1    ...      4.866275      8.552191     26.331916     45.670311   \n",
       "2    ...     22.879084     13.458219     11.402588     36.501682   \n",
       "3    ...    193.017392    182.649828    164.932249    163.072035   \n",
       "4    ...     28.412593     18.659113      9.764875     34.852909   \n",
       "..   ...           ...           ...           ...           ...   \n",
       "871  ...   5958.269469   5947.761864   5929.719318   5923.913355   \n",
       "872  ...  11894.042291  11883.533900  11865.489069  11859.638873   \n",
       "873  ...  21928.858843  21918.350069  21900.304070  21894.433131   \n",
       "874  ...  16188.133982  16177.625317  16159.579697  16153.717896   \n",
       "875  ...   9426.066828   9415.558684   9397.514423   9391.676356   \n",
       "\n",
       "             8775          8776          8777          8778          8779  \\\n",
       "0      137.919326   3345.846587     41.665548    120.096869    118.567167   \n",
       "1      133.913813   3341.740930     37.653870    116.402045    114.731601   \n",
       "2      120.106459   3326.641863     26.209347    104.461454    102.043883   \n",
       "3      120.707482   3190.640443    161.923960    138.070147    132.362515   \n",
       "4      115.980082   3321.935648     24.319769    101.062767     98.387746   \n",
       "..            ...           ...           ...           ...           ...   \n",
       "871   5849.583368   3726.149951   5924.906949   5873.134037   5870.211121   \n",
       "872  11785.064881   9336.551128  11860.657627  11808.616610  11805.729428   \n",
       "873  21819.747798  19269.872593  21895.463664  21843.299848  21840.429083   \n",
       "874  16079.079511  13568.953967  16154.743385  16102.631554  16099.753949   \n",
       "875   9317.166550   6938.434339   9392.688129   9340.717634   9337.821203   \n",
       "\n",
       "             8780  \n",
       "0       52.137228  \n",
       "1       48.220217  \n",
       "2       36.895479  \n",
       "3      157.250838  \n",
       "4       34.431654  \n",
       "..            ...  \n",
       "871   5918.500272  \n",
       "872  11854.230363  \n",
       "873  21889.026835  \n",
       "874  16148.310679  \n",
       "875   9386.266613  \n",
       "\n",
       "[876 rows x 8781 columns]"
      ]
     },
     "execution_count": 41,
     "metadata": {},
     "output_type": "execute_result"
    }
   ],
   "source": [
    "df_simFEF = pd.DataFrame(simFEF)\n",
    "df_simFEF"
   ]
  },
  {
   "cell_type": "code",
   "execution_count": 57,
   "metadata": {},
   "outputs": [
    {
     "data": {
      "text/html": [
       "<div>\n",
       "<style scoped>\n",
       "    .dataframe tbody tr th:only-of-type {\n",
       "        vertical-align: middle;\n",
       "    }\n",
       "\n",
       "    .dataframe tbody tr th {\n",
       "        vertical-align: top;\n",
       "    }\n",
       "\n",
       "    .dataframe thead th {\n",
       "        text-align: right;\n",
       "    }\n",
       "</style>\n",
       "<table border=\"1\" class=\"dataframe\">\n",
       "  <thead>\n",
       "    <tr style=\"text-align: right;\">\n",
       "      <th></th>\n",
       "      <th>0</th>\n",
       "      <th>1</th>\n",
       "      <th>2</th>\n",
       "      <th>3</th>\n",
       "      <th>4</th>\n",
       "      <th>5</th>\n",
       "      <th>6</th>\n",
       "      <th>7</th>\n",
       "      <th>8</th>\n",
       "      <th>9</th>\n",
       "      <th>...</th>\n",
       "      <th>8771</th>\n",
       "      <th>8772</th>\n",
       "      <th>8773</th>\n",
       "      <th>8774</th>\n",
       "      <th>8775</th>\n",
       "      <th>8776</th>\n",
       "      <th>8777</th>\n",
       "      <th>8778</th>\n",
       "      <th>8779</th>\n",
       "      <th>8780</th>\n",
       "    </tr>\n",
       "  </thead>\n",
       "  <tbody>\n",
       "    <tr>\n",
       "      <th>0</th>\n",
       "      <td>0.875555</td>\n",
       "      <td>0.917209</td>\n",
       "      <td>0.920380</td>\n",
       "      <td>0.898639</td>\n",
       "      <td>0.891890</td>\n",
       "      <td>0.845145</td>\n",
       "      <td>0.839304</td>\n",
       "      <td>0.837189</td>\n",
       "      <td>0.855519</td>\n",
       "      <td>0.865233</td>\n",
       "      <td>...</td>\n",
       "      <td>0.887505</td>\n",
       "      <td>0.871609</td>\n",
       "      <td>0.866951</td>\n",
       "      <td>0.648805</td>\n",
       "      <td>0.682010</td>\n",
       "      <td>0.682459</td>\n",
       "      <td>0.752374</td>\n",
       "      <td>0.609586</td>\n",
       "      <td>0.647562</td>\n",
       "      <td>0.718489</td>\n",
       "    </tr>\n",
       "    <tr>\n",
       "      <th>1</th>\n",
       "      <td>0.906836</td>\n",
       "      <td>0.958641</td>\n",
       "      <td>0.964180</td>\n",
       "      <td>0.946599</td>\n",
       "      <td>0.937960</td>\n",
       "      <td>0.903088</td>\n",
       "      <td>0.893220</td>\n",
       "      <td>0.892781</td>\n",
       "      <td>0.909218</td>\n",
       "      <td>0.916893</td>\n",
       "      <td>...</td>\n",
       "      <td>0.914126</td>\n",
       "      <td>0.907124</td>\n",
       "      <td>0.913458</td>\n",
       "      <td>0.733939</td>\n",
       "      <td>0.765703</td>\n",
       "      <td>0.766128</td>\n",
       "      <td>0.828137</td>\n",
       "      <td>0.696135</td>\n",
       "      <td>0.732812</td>\n",
       "      <td>0.796522</td>\n",
       "    </tr>\n",
       "    <tr>\n",
       "      <th>2</th>\n",
       "      <td>0.890318</td>\n",
       "      <td>0.947668</td>\n",
       "      <td>0.955978</td>\n",
       "      <td>0.951709</td>\n",
       "      <td>0.945981</td>\n",
       "      <td>0.924629</td>\n",
       "      <td>0.916891</td>\n",
       "      <td>0.915547</td>\n",
       "      <td>0.929854</td>\n",
       "      <td>0.937482</td>\n",
       "      <td>...</td>\n",
       "      <td>0.933985</td>\n",
       "      <td>0.920708</td>\n",
       "      <td>0.918493</td>\n",
       "      <td>0.729721</td>\n",
       "      <td>0.762713</td>\n",
       "      <td>0.763168</td>\n",
       "      <td>0.835291</td>\n",
       "      <td>0.699475</td>\n",
       "      <td>0.734789</td>\n",
       "      <td>0.793976</td>\n",
       "    </tr>\n",
       "    <tr>\n",
       "      <th>3</th>\n",
       "      <td>0.889928</td>\n",
       "      <td>0.947064</td>\n",
       "      <td>0.955760</td>\n",
       "      <td>0.951842</td>\n",
       "      <td>0.946323</td>\n",
       "      <td>0.925047</td>\n",
       "      <td>0.917396</td>\n",
       "      <td>0.916094</td>\n",
       "      <td>0.930237</td>\n",
       "      <td>0.937945</td>\n",
       "      <td>...</td>\n",
       "      <td>0.935420</td>\n",
       "      <td>0.921934</td>\n",
       "      <td>0.919983</td>\n",
       "      <td>0.730511</td>\n",
       "      <td>0.763454</td>\n",
       "      <td>0.763895</td>\n",
       "      <td>0.836084</td>\n",
       "      <td>0.700074</td>\n",
       "      <td>0.735254</td>\n",
       "      <td>0.794650</td>\n",
       "    </tr>\n",
       "    <tr>\n",
       "      <th>4</th>\n",
       "      <td>0.898438</td>\n",
       "      <td>0.955463</td>\n",
       "      <td>0.963163</td>\n",
       "      <td>0.954597</td>\n",
       "      <td>0.948171</td>\n",
       "      <td>0.922755</td>\n",
       "      <td>0.913985</td>\n",
       "      <td>0.913143</td>\n",
       "      <td>0.928031</td>\n",
       "      <td>0.935762</td>\n",
       "      <td>...</td>\n",
       "      <td>0.932307</td>\n",
       "      <td>0.922570</td>\n",
       "      <td>0.923081</td>\n",
       "      <td>0.734590</td>\n",
       "      <td>0.767320</td>\n",
       "      <td>0.767733</td>\n",
       "      <td>0.837444</td>\n",
       "      <td>0.702042</td>\n",
       "      <td>0.737935</td>\n",
       "      <td>0.798391</td>\n",
       "    </tr>\n",
       "    <tr>\n",
       "      <th>...</th>\n",
       "      <td>...</td>\n",
       "      <td>...</td>\n",
       "      <td>...</td>\n",
       "      <td>...</td>\n",
       "      <td>...</td>\n",
       "      <td>...</td>\n",
       "      <td>...</td>\n",
       "      <td>...</td>\n",
       "      <td>...</td>\n",
       "      <td>...</td>\n",
       "      <td>...</td>\n",
       "      <td>...</td>\n",
       "      <td>...</td>\n",
       "      <td>...</td>\n",
       "      <td>...</td>\n",
       "      <td>...</td>\n",
       "      <td>...</td>\n",
       "      <td>...</td>\n",
       "      <td>...</td>\n",
       "      <td>...</td>\n",
       "      <td>...</td>\n",
       "    </tr>\n",
       "    <tr>\n",
       "      <th>871</th>\n",
       "      <td>0.886474</td>\n",
       "      <td>0.943406</td>\n",
       "      <td>0.954766</td>\n",
       "      <td>0.953086</td>\n",
       "      <td>0.947823</td>\n",
       "      <td>0.939659</td>\n",
       "      <td>0.932798</td>\n",
       "      <td>0.933134</td>\n",
       "      <td>0.946321</td>\n",
       "      <td>0.954407</td>\n",
       "      <td>...</td>\n",
       "      <td>0.941186</td>\n",
       "      <td>0.936847</td>\n",
       "      <td>0.935870</td>\n",
       "      <td>0.742465</td>\n",
       "      <td>0.774187</td>\n",
       "      <td>0.774553</td>\n",
       "      <td>0.847799</td>\n",
       "      <td>0.710198</td>\n",
       "      <td>0.743236</td>\n",
       "      <td>0.797499</td>\n",
       "    </tr>\n",
       "    <tr>\n",
       "      <th>872</th>\n",
       "      <td>0.886518</td>\n",
       "      <td>0.943438</td>\n",
       "      <td>0.954791</td>\n",
       "      <td>0.953110</td>\n",
       "      <td>0.947844</td>\n",
       "      <td>0.939655</td>\n",
       "      <td>0.932801</td>\n",
       "      <td>0.933131</td>\n",
       "      <td>0.946322</td>\n",
       "      <td>0.954406</td>\n",
       "      <td>...</td>\n",
       "      <td>0.941182</td>\n",
       "      <td>0.936842</td>\n",
       "      <td>0.935863</td>\n",
       "      <td>0.742441</td>\n",
       "      <td>0.774164</td>\n",
       "      <td>0.774530</td>\n",
       "      <td>0.847783</td>\n",
       "      <td>0.710175</td>\n",
       "      <td>0.743219</td>\n",
       "      <td>0.797483</td>\n",
       "    </tr>\n",
       "    <tr>\n",
       "      <th>873</th>\n",
       "      <td>0.886545</td>\n",
       "      <td>0.943458</td>\n",
       "      <td>0.954808</td>\n",
       "      <td>0.953127</td>\n",
       "      <td>0.947858</td>\n",
       "      <td>0.939658</td>\n",
       "      <td>0.932809</td>\n",
       "      <td>0.933138</td>\n",
       "      <td>0.946329</td>\n",
       "      <td>0.954412</td>\n",
       "      <td>...</td>\n",
       "      <td>0.941181</td>\n",
       "      <td>0.936849</td>\n",
       "      <td>0.935875</td>\n",
       "      <td>0.742436</td>\n",
       "      <td>0.774159</td>\n",
       "      <td>0.774525</td>\n",
       "      <td>0.847781</td>\n",
       "      <td>0.710166</td>\n",
       "      <td>0.743212</td>\n",
       "      <td>0.797478</td>\n",
       "    </tr>\n",
       "    <tr>\n",
       "      <th>874</th>\n",
       "      <td>0.886522</td>\n",
       "      <td>0.943443</td>\n",
       "      <td>0.954799</td>\n",
       "      <td>0.953125</td>\n",
       "      <td>0.947859</td>\n",
       "      <td>0.939664</td>\n",
       "      <td>0.932811</td>\n",
       "      <td>0.933141</td>\n",
       "      <td>0.946330</td>\n",
       "      <td>0.954414</td>\n",
       "      <td>...</td>\n",
       "      <td>0.941189</td>\n",
       "      <td>0.936858</td>\n",
       "      <td>0.935881</td>\n",
       "      <td>0.742426</td>\n",
       "      <td>0.774151</td>\n",
       "      <td>0.774516</td>\n",
       "      <td>0.847776</td>\n",
       "      <td>0.710155</td>\n",
       "      <td>0.743199</td>\n",
       "      <td>0.797469</td>\n",
       "    </tr>\n",
       "    <tr>\n",
       "      <th>875</th>\n",
       "      <td>0.886463</td>\n",
       "      <td>0.943401</td>\n",
       "      <td>0.954769</td>\n",
       "      <td>0.953114</td>\n",
       "      <td>0.947852</td>\n",
       "      <td>0.939720</td>\n",
       "      <td>0.932864</td>\n",
       "      <td>0.933205</td>\n",
       "      <td>0.946380</td>\n",
       "      <td>0.954460</td>\n",
       "      <td>...</td>\n",
       "      <td>0.941227</td>\n",
       "      <td>0.936868</td>\n",
       "      <td>0.935880</td>\n",
       "      <td>0.742412</td>\n",
       "      <td>0.774136</td>\n",
       "      <td>0.774502</td>\n",
       "      <td>0.847775</td>\n",
       "      <td>0.710150</td>\n",
       "      <td>0.743190</td>\n",
       "      <td>0.797452</td>\n",
       "    </tr>\n",
       "  </tbody>\n",
       "</table>\n",
       "<p>876 rows × 8781 columns</p>\n",
       "</div>"
      ],
      "text/plain": [
       "         0         1         2         3         4         5         6     \\\n",
       "0    0.875555  0.917209  0.920380  0.898639  0.891890  0.845145  0.839304   \n",
       "1    0.906836  0.958641  0.964180  0.946599  0.937960  0.903088  0.893220   \n",
       "2    0.890318  0.947668  0.955978  0.951709  0.945981  0.924629  0.916891   \n",
       "3    0.889928  0.947064  0.955760  0.951842  0.946323  0.925047  0.917396   \n",
       "4    0.898438  0.955463  0.963163  0.954597  0.948171  0.922755  0.913985   \n",
       "..        ...       ...       ...       ...       ...       ...       ...   \n",
       "871  0.886474  0.943406  0.954766  0.953086  0.947823  0.939659  0.932798   \n",
       "872  0.886518  0.943438  0.954791  0.953110  0.947844  0.939655  0.932801   \n",
       "873  0.886545  0.943458  0.954808  0.953127  0.947858  0.939658  0.932809   \n",
       "874  0.886522  0.943443  0.954799  0.953125  0.947859  0.939664  0.932811   \n",
       "875  0.886463  0.943401  0.954769  0.953114  0.947852  0.939720  0.932864   \n",
       "\n",
       "         7         8         9     ...      8771      8772      8773  \\\n",
       "0    0.837189  0.855519  0.865233  ...  0.887505  0.871609  0.866951   \n",
       "1    0.892781  0.909218  0.916893  ...  0.914126  0.907124  0.913458   \n",
       "2    0.915547  0.929854  0.937482  ...  0.933985  0.920708  0.918493   \n",
       "3    0.916094  0.930237  0.937945  ...  0.935420  0.921934  0.919983   \n",
       "4    0.913143  0.928031  0.935762  ...  0.932307  0.922570  0.923081   \n",
       "..        ...       ...       ...  ...       ...       ...       ...   \n",
       "871  0.933134  0.946321  0.954407  ...  0.941186  0.936847  0.935870   \n",
       "872  0.933131  0.946322  0.954406  ...  0.941182  0.936842  0.935863   \n",
       "873  0.933138  0.946329  0.954412  ...  0.941181  0.936849  0.935875   \n",
       "874  0.933141  0.946330  0.954414  ...  0.941189  0.936858  0.935881   \n",
       "875  0.933205  0.946380  0.954460  ...  0.941227  0.936868  0.935880   \n",
       "\n",
       "         8774      8775      8776      8777      8778      8779      8780  \n",
       "0    0.648805  0.682010  0.682459  0.752374  0.609586  0.647562  0.718489  \n",
       "1    0.733939  0.765703  0.766128  0.828137  0.696135  0.732812  0.796522  \n",
       "2    0.729721  0.762713  0.763168  0.835291  0.699475  0.734789  0.793976  \n",
       "3    0.730511  0.763454  0.763895  0.836084  0.700074  0.735254  0.794650  \n",
       "4    0.734590  0.767320  0.767733  0.837444  0.702042  0.737935  0.798391  \n",
       "..        ...       ...       ...       ...       ...       ...       ...  \n",
       "871  0.742465  0.774187  0.774553  0.847799  0.710198  0.743236  0.797499  \n",
       "872  0.742441  0.774164  0.774530  0.847783  0.710175  0.743219  0.797483  \n",
       "873  0.742436  0.774159  0.774525  0.847781  0.710166  0.743212  0.797478  \n",
       "874  0.742426  0.774151  0.774516  0.847776  0.710155  0.743199  0.797469  \n",
       "875  0.742412  0.774136  0.774502  0.847775  0.710150  0.743190  0.797452  \n",
       "\n",
       "[876 rows x 8781 columns]"
      ]
     },
     "execution_count": 57,
     "metadata": {},
     "output_type": "execute_result"
    }
   ],
   "source": [
    "df_simFCW = pd.DataFrame(simFCW)\n",
    "df_simFCW"
   ]
  },
  {
   "cell_type": "code",
   "execution_count": 58,
   "metadata": {},
   "outputs": [
    {
     "data": {
      "text/html": [
       "<div>\n",
       "<style scoped>\n",
       "    .dataframe tbody tr th:only-of-type {\n",
       "        vertical-align: middle;\n",
       "    }\n",
       "\n",
       "    .dataframe tbody tr th {\n",
       "        vertical-align: top;\n",
       "    }\n",
       "\n",
       "    .dataframe thead th {\n",
       "        text-align: right;\n",
       "    }\n",
       "</style>\n",
       "<table border=\"1\" class=\"dataframe\">\n",
       "  <thead>\n",
       "    <tr style=\"text-align: right;\">\n",
       "      <th></th>\n",
       "      <th>0</th>\n",
       "      <th>1</th>\n",
       "      <th>2</th>\n",
       "      <th>3</th>\n",
       "      <th>4</th>\n",
       "      <th>5</th>\n",
       "      <th>6</th>\n",
       "      <th>7</th>\n",
       "      <th>8</th>\n",
       "      <th>9</th>\n",
       "      <th>...</th>\n",
       "      <th>8771</th>\n",
       "      <th>8772</th>\n",
       "      <th>8773</th>\n",
       "      <th>8774</th>\n",
       "      <th>8775</th>\n",
       "      <th>8776</th>\n",
       "      <th>8777</th>\n",
       "      <th>8778</th>\n",
       "      <th>8779</th>\n",
       "      <th>8780</th>\n",
       "    </tr>\n",
       "  </thead>\n",
       "  <tbody>\n",
       "    <tr>\n",
       "      <th>0</th>\n",
       "      <td>3.437357</td>\n",
       "      <td>9.100419</td>\n",
       "      <td>28.047781</td>\n",
       "      <td>6.593158</td>\n",
       "      <td>75.097648</td>\n",
       "      <td>15.681663</td>\n",
       "      <td>19.902068</td>\n",
       "      <td>37.306070</td>\n",
       "      <td>47.835505</td>\n",
       "      <td>105.631934</td>\n",
       "      <td>...</td>\n",
       "      <td>3.277194</td>\n",
       "      <td>8.021488</td>\n",
       "      <td>18.739225</td>\n",
       "      <td>27.649531</td>\n",
       "      <td>78.872623</td>\n",
       "      <td>1920.524695</td>\n",
       "      <td>24.764512</td>\n",
       "      <td>70.144989</td>\n",
       "      <td>69.361140</td>\n",
       "      <td>30.588038</td>\n",
       "    </tr>\n",
       "    <tr>\n",
       "      <th>1</th>\n",
       "      <td>4.153456</td>\n",
       "      <td>7.084908</td>\n",
       "      <td>25.956492</td>\n",
       "      <td>4.726561</td>\n",
       "      <td>73.064465</td>\n",
       "      <td>13.709780</td>\n",
       "      <td>17.972307</td>\n",
       "      <td>35.316864</td>\n",
       "      <td>45.812591</td>\n",
       "      <td>103.601632</td>\n",
       "      <td>...</td>\n",
       "      <td>4.083189</td>\n",
       "      <td>6.517242</td>\n",
       "      <td>16.809627</td>\n",
       "      <td>25.897093</td>\n",
       "      <td>76.930690</td>\n",
       "      <td>1918.540832</td>\n",
       "      <td>22.830682</td>\n",
       "      <td>68.340343</td>\n",
       "      <td>67.486812</td>\n",
       "      <td>28.697033</td>\n",
       "    </tr>\n",
       "    <tr>\n",
       "      <th>2</th>\n",
       "      <td>14.722944</td>\n",
       "      <td>7.480499</td>\n",
       "      <td>16.358694</td>\n",
       "      <td>9.259048</td>\n",
       "      <td>62.716970</td>\n",
       "      <td>8.096281</td>\n",
       "      <td>10.694976</td>\n",
       "      <td>25.962170</td>\n",
       "      <td>35.876940</td>\n",
       "      <td>93.164699</td>\n",
       "      <td>...</td>\n",
       "      <td>14.398031</td>\n",
       "      <td>9.328783</td>\n",
       "      <td>10.027494</td>\n",
       "      <td>21.911240</td>\n",
       "      <td>69.461963</td>\n",
       "      <td>1910.092310</td>\n",
       "      <td>16.976227</td>\n",
       "      <td>61.895393</td>\n",
       "      <td>60.552650</td>\n",
       "      <td>22.881392</td>\n",
       "    </tr>\n",
       "    <tr>\n",
       "      <th>3</th>\n",
       "      <td>116.797217</td>\n",
       "      <td>108.141102</td>\n",
       "      <td>90.040762</td>\n",
       "      <td>110.850715</td>\n",
       "      <td>52.464336</td>\n",
       "      <td>103.081537</td>\n",
       "      <td>99.531607</td>\n",
       "      <td>84.732816</td>\n",
       "      <td>75.015480</td>\n",
       "      <td>42.557668</td>\n",
       "      <td>...</td>\n",
       "      <td>116.556199</td>\n",
       "      <td>110.146972</td>\n",
       "      <td>100.262014</td>\n",
       "      <td>101.559185</td>\n",
       "      <td>79.669756</td>\n",
       "      <td>1833.573017</td>\n",
       "      <td>98.942141</td>\n",
       "      <td>88.146463</td>\n",
       "      <td>84.535698</td>\n",
       "      <td>96.754243</td>\n",
       "    </tr>\n",
       "    <tr>\n",
       "      <th>4</th>\n",
       "      <td>19.102837</td>\n",
       "      <td>11.043794</td>\n",
       "      <td>12.638096</td>\n",
       "      <td>13.446055</td>\n",
       "      <td>58.578606</td>\n",
       "      <td>9.589850</td>\n",
       "      <td>10.423493</td>\n",
       "      <td>22.910821</td>\n",
       "      <td>32.283378</td>\n",
       "      <td>89.136470</td>\n",
       "      <td>...</td>\n",
       "      <td>18.882906</td>\n",
       "      <td>13.260452</td>\n",
       "      <td>9.640233</td>\n",
       "      <td>21.566494</td>\n",
       "      <td>66.576512</td>\n",
       "      <td>1906.556881</td>\n",
       "      <td>16.216141</td>\n",
       "      <td>59.619241</td>\n",
       "      <td>58.031418</td>\n",
       "      <td>21.553299</td>\n",
       "    </tr>\n",
       "    <tr>\n",
       "      <th>...</th>\n",
       "      <td>...</td>\n",
       "      <td>...</td>\n",
       "      <td>...</td>\n",
       "      <td>...</td>\n",
       "      <td>...</td>\n",
       "      <td>...</td>\n",
       "      <td>...</td>\n",
       "      <td>...</td>\n",
       "      <td>...</td>\n",
       "      <td>...</td>\n",
       "      <td>...</td>\n",
       "      <td>...</td>\n",
       "      <td>...</td>\n",
       "      <td>...</td>\n",
       "      <td>...</td>\n",
       "      <td>...</td>\n",
       "      <td>...</td>\n",
       "      <td>...</td>\n",
       "      <td>...</td>\n",
       "      <td>...</td>\n",
       "      <td>...</td>\n",
       "    </tr>\n",
       "    <tr>\n",
       "      <th>871</th>\n",
       "      <td>3626.935545</td>\n",
       "      <td>3618.241380</td>\n",
       "      <td>3599.668424</td>\n",
       "      <td>3620.925309</td>\n",
       "      <td>3555.519101</td>\n",
       "      <td>3612.613954</td>\n",
       "      <td>3608.783318</td>\n",
       "      <td>3592.406090</td>\n",
       "      <td>3581.701479</td>\n",
       "      <td>3526.076952</td>\n",
       "      <td>...</td>\n",
       "      <td>3626.650603</td>\n",
       "      <td>3619.978066</td>\n",
       "      <td>3609.569685</td>\n",
       "      <td>3609.055203</td>\n",
       "      <td>3568.257889</td>\n",
       "      <td>2463.335780</td>\n",
       "      <td>3607.432033</td>\n",
       "      <td>3580.197318</td>\n",
       "      <td>3578.073529</td>\n",
       "      <td>3604.465326</td>\n",
       "    </tr>\n",
       "    <tr>\n",
       "      <th>872</th>\n",
       "      <td>7238.571240</td>\n",
       "      <td>7229.875701</td>\n",
       "      <td>7211.296815</td>\n",
       "      <td>7232.560647</td>\n",
       "      <td>7167.106285</td>\n",
       "      <td>7224.246959</td>\n",
       "      <td>7220.413957</td>\n",
       "      <td>7204.026057</td>\n",
       "      <td>7193.316830</td>\n",
       "      <td>7137.633805</td>\n",
       "      <td>...</td>\n",
       "      <td>7238.286885</td>\n",
       "      <td>7231.613166</td>\n",
       "      <td>7221.201218</td>\n",
       "      <td>7220.661229</td>\n",
       "      <td>7179.699238</td>\n",
       "      <td>5880.425811</td>\n",
       "      <td>7219.051916</td>\n",
       "      <td>7191.643944</td>\n",
       "      <td>7189.540459</td>\n",
       "      <td>7216.070965</td>\n",
       "    </tr>\n",
       "    <tr>\n",
       "      <th>873</th>\n",
       "      <td>13344.913994</td>\n",
       "      <td>13336.217801</td>\n",
       "      <td>13317.636071</td>\n",
       "      <td>13338.903203</td>\n",
       "      <td>13273.426706</td>\n",
       "      <td>13330.588411</td>\n",
       "      <td>13326.754261</td>\n",
       "      <td>13310.361319</td>\n",
       "      <td>13299.649979</td>\n",
       "      <td>13243.940416</td>\n",
       "      <td>...</td>\n",
       "      <td>13344.629943</td>\n",
       "      <td>13337.955581</td>\n",
       "      <td>13327.541746</td>\n",
       "      <td>13326.990258</td>\n",
       "      <td>13285.953315</td>\n",
       "      <td>11921.653088</td>\n",
       "      <td>13325.387296</td>\n",
       "      <td>13297.900555</td>\n",
       "      <td>13295.806385</td>\n",
       "      <td>13322.399947</td>\n",
       "    </tr>\n",
       "    <tr>\n",
       "      <th>874</th>\n",
       "      <td>9851.837123</td>\n",
       "      <td>9843.141237</td>\n",
       "      <td>9824.560661</td>\n",
       "      <td>9845.826279</td>\n",
       "      <td>9780.358587</td>\n",
       "      <td>9837.511867</td>\n",
       "      <td>9833.678221</td>\n",
       "      <td>9817.287280</td>\n",
       "      <td>9806.576856</td>\n",
       "      <td>9750.878081</td>\n",
       "      <td>...</td>\n",
       "      <td>9851.552823</td>\n",
       "      <td>9844.878623</td>\n",
       "      <td>9834.465466</td>\n",
       "      <td>9833.919462</td>\n",
       "      <td>9792.914461</td>\n",
       "      <td>8454.404481</td>\n",
       "      <td>9832.313624</td>\n",
       "      <td>9804.860862</td>\n",
       "      <td>9802.762843</td>\n",
       "      <td>9829.329188</td>\n",
       "    </tr>\n",
       "    <tr>\n",
       "      <th>875</th>\n",
       "      <td>5736.967986</td>\n",
       "      <td>5728.272965</td>\n",
       "      <td>5709.695740</td>\n",
       "      <td>5730.957082</td>\n",
       "      <td>5665.514303</td>\n",
       "      <td>5722.642772</td>\n",
       "      <td>5718.810115</td>\n",
       "      <td>5702.423478</td>\n",
       "      <td>5691.715436</td>\n",
       "      <td>5636.044612</td>\n",
       "      <td>...</td>\n",
       "      <td>5736.682930</td>\n",
       "      <td>5730.009468</td>\n",
       "      <td>5719.598416</td>\n",
       "      <td>5719.066629</td>\n",
       "      <td>5678.149346</td>\n",
       "      <td>4422.397550</td>\n",
       "      <td>5717.452911</td>\n",
       "      <td>5690.092217</td>\n",
       "      <td>5687.983584</td>\n",
       "      <td>5714.476584</td>\n",
       "    </tr>\n",
       "  </tbody>\n",
       "</table>\n",
       "<p>876 rows × 8781 columns</p>\n",
       "</div>"
      ],
      "text/plain": [
       "             0             1             2             3             4     \\\n",
       "0        3.437357      9.100419     28.047781      6.593158     75.097648   \n",
       "1        4.153456      7.084908     25.956492      4.726561     73.064465   \n",
       "2       14.722944      7.480499     16.358694      9.259048     62.716970   \n",
       "3      116.797217    108.141102     90.040762    110.850715     52.464336   \n",
       "4       19.102837     11.043794     12.638096     13.446055     58.578606   \n",
       "..            ...           ...           ...           ...           ...   \n",
       "871   3626.935545   3618.241380   3599.668424   3620.925309   3555.519101   \n",
       "872   7238.571240   7229.875701   7211.296815   7232.560647   7167.106285   \n",
       "873  13344.913994  13336.217801  13317.636071  13338.903203  13273.426706   \n",
       "874   9851.837123   9843.141237   9824.560661   9845.826279   9780.358587   \n",
       "875   5736.967986   5728.272965   5709.695740   5730.957082   5665.514303   \n",
       "\n",
       "             5             6             7             8             9     \\\n",
       "0       15.681663     19.902068     37.306070     47.835505    105.631934   \n",
       "1       13.709780     17.972307     35.316864     45.812591    103.601632   \n",
       "2        8.096281     10.694976     25.962170     35.876940     93.164699   \n",
       "3      103.081537     99.531607     84.732816     75.015480     42.557668   \n",
       "4        9.589850     10.423493     22.910821     32.283378     89.136470   \n",
       "..            ...           ...           ...           ...           ...   \n",
       "871   3612.613954   3608.783318   3592.406090   3581.701479   3526.076952   \n",
       "872   7224.246959   7220.413957   7204.026057   7193.316830   7137.633805   \n",
       "873  13330.588411  13326.754261  13310.361319  13299.649979  13243.940416   \n",
       "874   9837.511867   9833.678221   9817.287280   9806.576856   9750.878081   \n",
       "875   5722.642772   5718.810115   5702.423478   5691.715436   5636.044612   \n",
       "\n",
       "     ...          8771          8772          8773          8774  \\\n",
       "0    ...      3.277194      8.021488     18.739225     27.649531   \n",
       "1    ...      4.083189      6.517242     16.809627     25.897093   \n",
       "2    ...     14.398031      9.328783     10.027494     21.911240   \n",
       "3    ...    116.556199    110.146972    100.262014    101.559185   \n",
       "4    ...     18.882906     13.260452      9.640233     21.566494   \n",
       "..   ...           ...           ...           ...           ...   \n",
       "871  ...   3626.650603   3619.978066   3609.569685   3609.055203   \n",
       "872  ...   7238.286885   7231.613166   7221.201218   7220.661229   \n",
       "873  ...  13344.629943  13337.955581  13327.541746  13326.990258   \n",
       "874  ...   9851.552823   9844.878623   9834.465466   9833.919462   \n",
       "875  ...   5736.682930   5730.009468   5719.598416   5719.066629   \n",
       "\n",
       "             8775          8776          8777          8778          8779  \\\n",
       "0       78.872623   1920.524695     24.764512     70.144989     69.361140   \n",
       "1       76.930690   1918.540832     22.830682     68.340343     67.486812   \n",
       "2       69.461963   1910.092310     16.976227     61.895393     60.552650   \n",
       "3       79.669756   1833.573017     98.942141     88.146463     84.535698   \n",
       "4       66.576512   1906.556881     16.216141     59.619241     58.031418   \n",
       "..            ...           ...           ...           ...           ...   \n",
       "871   3568.257889   2463.335780   3607.432033   3580.197318   3578.073529   \n",
       "872   7179.699238   5880.425811   7219.051916   7191.643944   7189.540459   \n",
       "873  13285.953315  11921.653088  13325.387296  13297.900555  13295.806385   \n",
       "874   9792.914461   8454.404481   9832.313624   9804.860862   9802.762843   \n",
       "875   5678.149346   4422.397550   5717.452911   5690.092217   5687.983584   \n",
       "\n",
       "             8780  \n",
       "0       30.588038  \n",
       "1       28.697033  \n",
       "2       22.881392  \n",
       "3       96.754243  \n",
       "4       21.553299  \n",
       "..            ...  \n",
       "871   3604.465326  \n",
       "872   7216.070965  \n",
       "873  13322.399947  \n",
       "874   9829.329188  \n",
       "875   5714.476584  \n",
       "\n",
       "[876 rows x 8781 columns]"
      ]
     },
     "execution_count": 58,
     "metadata": {},
     "output_type": "execute_result"
    }
   ],
   "source": [
    "df_simFEW = pd.DataFrame(simFEW)\n",
    "df_simFEW"
   ]
  },
  {
   "cell_type": "code",
   "execution_count": null,
   "metadata": {},
   "outputs": [],
   "source": [
    "print(job_sums[872])\n",
    "print()\n",
    "print(course_sums[0])\n"
   ]
  },
  {
   "cell_type": "code",
   "execution_count": null,
   "metadata": {},
   "outputs": [],
   "source": [
    "courses_skills[0]"
   ]
  },
  {
   "cell_type": "code",
   "execution_count": null,
   "metadata": {},
   "outputs": [],
   "source": [
    "df_simFCW"
   ]
  },
  {
   "cell_type": "code",
   "execution_count": null,
   "metadata": {},
   "outputs": [],
   "source": [
    "hold = [df_simFCW[7620][61],df_simFCW[1502][101],df_simFCW[1500][100],df_simFCW[150][100],df_simFCW[6811][17],df_simFCW[393][10],df_simFCW[50][100],df_simFCW[6211][17],df_simFCW[1432][11]]"
   ]
  },
  {
   "cell_type": "code",
   "execution_count": null,
   "metadata": {
    "scrolled": true
   },
   "outputs": [],
   "source": [
    "print(hold)"
   ]
  },
  {
   "cell_type": "code",
   "execution_count": null,
   "metadata": {},
   "outputs": [],
   "source": [
    "df_simFCW[50][100]"
   ]
  },
  {
   "cell_type": "code",
   "execution_count": null,
   "metadata": {},
   "outputs": [],
   "source": [
    "df_simFCW[7983][12]"
   ]
  },
  {
   "cell_type": "code",
   "execution_count": null,
   "metadata": {},
   "outputs": [],
   "source": [
    "column[61][7620]"
   ]
  },
  {
   "cell_type": "code",
   "execution_count": null,
   "metadata": {},
   "outputs": [],
   "source": [
    "jobs_text[7620]"
   ]
  },
  {
   "cell_type": "code",
   "execution_count": null,
   "metadata": {},
   "outputs": [],
   "source": [
    "sim_flat = simFCW.flatten()"
   ]
  },
  {
   "cell_type": "code",
   "execution_count": null,
   "metadata": {},
   "outputs": [],
   "source": [
    "df_FCW = pd.DataFrame(sim_flat)"
   ]
  },
  {
   "cell_type": "code",
   "execution_count": null,
   "metadata": {
    "scrolled": true
   },
   "outputs": [],
   "source": [
    "df_FCW.hist()"
   ]
  },
  {
   "cell_type": "code",
   "execution_count": null,
   "metadata": {},
   "outputs": [],
   "source": [
    "sim_flatE = simFEW.flatten()"
   ]
  },
  {
   "cell_type": "code",
   "execution_count": null,
   "metadata": {},
   "outputs": [],
   "source": [
    "df_FEW = pd.DataFrame(sim_flatE)"
   ]
  },
  {
   "cell_type": "code",
   "execution_count": null,
   "metadata": {},
   "outputs": [],
   "source": [
    "df_FEW[1:].hist(max=100000)"
   ]
  },
  {
   "cell_type": "code",
   "execution_count": null,
   "metadata": {},
   "outputs": [],
   "source": []
  },
  {
   "cell_type": "code",
   "execution_count": null,
   "metadata": {},
   "outputs": [],
   "source": [
    "jobs_text[61]"
   ]
  },
  {
   "cell_type": "code",
   "execution_count": null,
   "metadata": {},
   "outputs": [],
   "source": [
    "#job 5 less similar\n",
    "jobs_text[14]"
   ]
  },
  {
   "cell_type": "code",
   "execution_count": null,
   "metadata": {},
   "outputs": [],
   "source": [
    "#course 5\n",
    "courses_text[10]"
   ]
  },
  {
   "cell_type": "code",
   "execution_count": null,
   "metadata": {},
   "outputs": [],
   "source": []
  },
  {
   "cell_type": "code",
   "execution_count": null,
   "metadata": {},
   "outputs": [],
   "source": [
    "df_simFCW[11][5]"
   ]
  },
  {
   "cell_type": "code",
   "execution_count": null,
   "metadata": {
    "scrolled": true
   },
   "outputs": [],
   "source": [
    "#job 6 not similar\n",
    "jobs_text[5]"
   ]
  },
  {
   "cell_type": "code",
   "execution_count": null,
   "metadata": {},
   "outputs": [],
   "source": [
    "#course 6\n",
    "courses_text[11]"
   ]
  },
  {
   "cell_type": "code",
   "execution_count": null,
   "metadata": {},
   "outputs": [],
   "source": []
  },
  {
   "cell_type": "code",
   "execution_count": null,
   "metadata": {},
   "outputs": [],
   "source": [
    "df_simFCW[7983][12]"
   ]
  },
  {
   "cell_type": "code",
   "execution_count": null,
   "metadata": {},
   "outputs": [],
   "source": [
    "df_simFCW[6221][15]"
   ]
  },
  {
   "cell_type": "code",
   "execution_count": null,
   "metadata": {},
   "outputs": [],
   "source": [
    "column[61][7620],column[101][1502],column[100][1500],column[100][150],column[17][6811]"
   ]
  },
  {
   "cell_type": "code",
   "execution_count": null,
   "metadata": {},
   "outputs": [],
   "source": [
    "len(jobs_text)"
   ]
  },
  {
   "cell_type": "code",
   "execution_count": null,
   "metadata": {
    "scrolled": true
   },
   "outputs": [],
   "source": [
    "#7\n",
    "print(jobs_text[61])\n",
    "print(courses_text[7620])"
   ]
  },
  {
   "cell_type": "code",
   "execution_count": null,
   "metadata": {},
   "outputs": [],
   "source": [
    "#8\n",
    "print(jobs_text[101])\n",
    "print(courses_text[296])"
   ]
  },
  {
   "cell_type": "code",
   "execution_count": null,
   "metadata": {},
   "outputs": [],
   "source": [
    "print(jobs_text[100])\n",
    "print(\"   ksakskaksm.   \")\n",
    "print(courses_text[296])"
   ]
  },
  {
   "cell_type": "code",
   "execution_count": null,
   "metadata": {},
   "outputs": [],
   "source": [
    "df_simFCW[1668][14]"
   ]
  },
  {
   "cell_type": "code",
   "execution_count": null,
   "metadata": {},
   "outputs": [],
   "source": [
    "count =0\n",
    "\n",
    "for course in courses_text:\n",
    "    \n",
    "    if \"Cloud services make it easy for developers \" in course:\n",
    "        print(count)\n",
    "        break\n",
    "    count = count +1\n",
    "    "
   ]
  },
  {
   "cell_type": "code",
   "execution_count": null,
   "metadata": {},
   "outputs": [],
   "source": [
    "courses_text[122]"
   ]
  },
  {
   "cell_type": "code",
   "execution_count": null,
   "metadata": {},
   "outputs": [],
   "source": [
    "print(jobs_text[7])"
   ]
  },
  {
   "cell_type": "code",
   "execution_count": null,
   "metadata": {},
   "outputs": [],
   "source": [
    "df_simFCW[122][7]"
   ]
  },
  {
   "cell_type": "code",
   "execution_count": null,
   "metadata": {},
   "outputs": [],
   "source": []
  },
  {
   "cell_type": "code",
   "execution_count": 284,
   "metadata": {},
   "outputs": [
    {
     "name": "stdout",
     "output_type": "stream",
     "text": [
      "0.5615384615384615\n"
     ]
    }
   ],
   "source": [
    "#Fast text\n",
    "average = 0\n",
    "\n",
    "for word in test_df3.values:\n",
    "    #print(word)\n",
    "    one = df_simFCF[word[1]][word[0]]\n",
    "    two = df_simFCF[word[2]][word[0]]\n",
    "    \n",
    "    \n",
    "    \n",
    "    #avg_sim = (one+two)/2\n",
    "    \n",
    "    #mean = df_simFCF.mean(axis=1)[word[0]]\n",
    "    #could use median\n",
    "    \n",
    "    if word[3] == 1 and one > two:\n",
    "        average = average + 1 \n",
    "    elif word[3] == 2 and two > one:\n",
    "        average = average + 1\n",
    "    #elif word[3] == 0 and avg_sim < mean:\n",
    "        #average = average + 1\n",
    "    #elif word[3] == 3 and avg_sim > mean:\n",
    "        #average = average + 1\n",
    "        \n",
    "average = average/numTest\n",
    "print(average)"
   ]
  },
  {
   "cell_type": "code",
   "execution_count": 449,
   "metadata": {},
   "outputs": [
    {
     "data": {
      "text/html": [
       "<div>\n",
       "<style scoped>\n",
       "    .dataframe tbody tr th:only-of-type {\n",
       "        vertical-align: middle;\n",
       "    }\n",
       "\n",
       "    .dataframe tbody tr th {\n",
       "        vertical-align: top;\n",
       "    }\n",
       "\n",
       "    .dataframe thead th {\n",
       "        text-align: right;\n",
       "    }\n",
       "</style>\n",
       "<table border=\"1\" class=\"dataframe\">\n",
       "  <thead>\n",
       "    <tr style=\"text-align: right;\">\n",
       "      <th></th>\n",
       "      <th>Job</th>\n",
       "      <th>Course 1</th>\n",
       "      <th>Course 2</th>\n",
       "      <th>Similarity</th>\n",
       "    </tr>\n",
       "  </thead>\n",
       "  <tbody>\n",
       "    <tr>\n",
       "      <th>0</th>\n",
       "      <td>574</td>\n",
       "      <td>3626</td>\n",
       "      <td>2636</td>\n",
       "      <td>0</td>\n",
       "    </tr>\n",
       "    <tr>\n",
       "      <th>1</th>\n",
       "      <td>108</td>\n",
       "      <td>2103</td>\n",
       "      <td>5883</td>\n",
       "      <td>0</td>\n",
       "    </tr>\n",
       "    <tr>\n",
       "      <th>2</th>\n",
       "      <td>459</td>\n",
       "      <td>3634</td>\n",
       "      <td>8246</td>\n",
       "      <td>1</td>\n",
       "    </tr>\n",
       "    <tr>\n",
       "      <th>3</th>\n",
       "      <td>9</td>\n",
       "      <td>3208</td>\n",
       "      <td>1171</td>\n",
       "      <td>2</td>\n",
       "    </tr>\n",
       "    <tr>\n",
       "      <th>4</th>\n",
       "      <td>261</td>\n",
       "      <td>8596</td>\n",
       "      <td>3112</td>\n",
       "      <td>2</td>\n",
       "    </tr>\n",
       "    <tr>\n",
       "      <th>...</th>\n",
       "      <td>...</td>\n",
       "      <td>...</td>\n",
       "      <td>...</td>\n",
       "      <td>...</td>\n",
       "    </tr>\n",
       "    <tr>\n",
       "      <th>64</th>\n",
       "      <td>690</td>\n",
       "      <td>2380</td>\n",
       "      <td>4849</td>\n",
       "      <td>0</td>\n",
       "    </tr>\n",
       "    <tr>\n",
       "      <th>65</th>\n",
       "      <td>115</td>\n",
       "      <td>3296</td>\n",
       "      <td>867</td>\n",
       "      <td>2</td>\n",
       "    </tr>\n",
       "    <tr>\n",
       "      <th>66</th>\n",
       "      <td>186</td>\n",
       "      <td>2606</td>\n",
       "      <td>4735</td>\n",
       "      <td>2</td>\n",
       "    </tr>\n",
       "    <tr>\n",
       "      <th>67</th>\n",
       "      <td>846</td>\n",
       "      <td>769</td>\n",
       "      <td>7044</td>\n",
       "      <td>2</td>\n",
       "    </tr>\n",
       "    <tr>\n",
       "      <th>68</th>\n",
       "      <td>53</td>\n",
       "      <td>1097</td>\n",
       "      <td>4535</td>\n",
       "      <td>1</td>\n",
       "    </tr>\n",
       "  </tbody>\n",
       "</table>\n",
       "<p>578 rows × 4 columns</p>\n",
       "</div>"
      ],
      "text/plain": [
       "    Job  Course 1  Course 2  Similarity\n",
       "0   574      3626      2636           0\n",
       "1   108      2103      5883           0\n",
       "2   459      3634      8246           1\n",
       "3     9      3208      1171           2\n",
       "4   261      8596      3112           2\n",
       "..  ...       ...       ...         ...\n",
       "64  690      2380      4849           0\n",
       "65  115      3296       867           2\n",
       "66  186      2606      4735           2\n",
       "67  846       769      7044           2\n",
       "68   53      1097      4535           1\n",
       "\n",
       "[578 rows x 4 columns]"
      ]
     },
     "execution_count": 449,
     "metadata": {},
     "output_type": "execute_result"
    }
   ],
   "source": [
    "#new\n",
    "import pandas as pd\n",
    "test_df1 = pd.read_csv(\"/Users/ryancramer/Desktop/Jupyter Notebook Files/testwrite2\")\n",
    "test_df2 = pd.read_csv(\"/Users/ryancramer/Desktop/Jupyter Notebook Files/testwrite11\")\n",
    "test_df4 = pd.read_csv(\"/Users/ryancramer/Desktop/Jupyter Notebook Files/testwrite12\")\n",
    "test_df3 = pd.concat([test_df1,test_df2,test_df4])\n",
    "test_df3"
   ]
  },
  {
   "cell_type": "code",
   "execution_count": 249,
   "metadata": {},
   "outputs": [
    {
     "data": {
      "text/html": [
       "<div>\n",
       "<style scoped>\n",
       "    .dataframe tbody tr th:only-of-type {\n",
       "        vertical-align: middle;\n",
       "    }\n",
       "\n",
       "    .dataframe tbody tr th {\n",
       "        vertical-align: top;\n",
       "    }\n",
       "\n",
       "    .dataframe thead th {\n",
       "        text-align: right;\n",
       "    }\n",
       "</style>\n",
       "<table border=\"1\" class=\"dataframe\">\n",
       "  <thead>\n",
       "    <tr style=\"text-align: right;\">\n",
       "      <th></th>\n",
       "      <th>Job</th>\n",
       "      <th>Course 1</th>\n",
       "      <th>Course 2</th>\n",
       "      <th>Similarity</th>\n",
       "    </tr>\n",
       "  </thead>\n",
       "  <tbody>\n",
       "    <tr>\n",
       "      <th>0</th>\n",
       "      <td>574</td>\n",
       "      <td>3626</td>\n",
       "      <td>2636</td>\n",
       "      <td>0</td>\n",
       "    </tr>\n",
       "    <tr>\n",
       "      <th>1</th>\n",
       "      <td>108</td>\n",
       "      <td>2103</td>\n",
       "      <td>5883</td>\n",
       "      <td>0</td>\n",
       "    </tr>\n",
       "    <tr>\n",
       "      <th>2</th>\n",
       "      <td>459</td>\n",
       "      <td>3634</td>\n",
       "      <td>8246</td>\n",
       "      <td>1</td>\n",
       "    </tr>\n",
       "    <tr>\n",
       "      <th>3</th>\n",
       "      <td>9</td>\n",
       "      <td>3208</td>\n",
       "      <td>1171</td>\n",
       "      <td>2</td>\n",
       "    </tr>\n",
       "    <tr>\n",
       "      <th>4</th>\n",
       "      <td>261</td>\n",
       "      <td>8596</td>\n",
       "      <td>3112</td>\n",
       "      <td>2</td>\n",
       "    </tr>\n",
       "    <tr>\n",
       "      <th>...</th>\n",
       "      <td>...</td>\n",
       "      <td>...</td>\n",
       "      <td>...</td>\n",
       "      <td>...</td>\n",
       "    </tr>\n",
       "    <tr>\n",
       "      <th>149</th>\n",
       "      <td>415</td>\n",
       "      <td>4282</td>\n",
       "      <td>6758</td>\n",
       "      <td>1</td>\n",
       "    </tr>\n",
       "    <tr>\n",
       "      <th>150</th>\n",
       "      <td>440</td>\n",
       "      <td>790</td>\n",
       "      <td>5958</td>\n",
       "      <td>2</td>\n",
       "    </tr>\n",
       "    <tr>\n",
       "      <th>151</th>\n",
       "      <td>285</td>\n",
       "      <td>6577</td>\n",
       "      <td>56</td>\n",
       "      <td>0</td>\n",
       "    </tr>\n",
       "    <tr>\n",
       "      <th>152</th>\n",
       "      <td>311</td>\n",
       "      <td>44</td>\n",
       "      <td>3338</td>\n",
       "      <td>2</td>\n",
       "    </tr>\n",
       "    <tr>\n",
       "      <th>153</th>\n",
       "      <td>387</td>\n",
       "      <td>2607</td>\n",
       "      <td>62</td>\n",
       "      <td>2</td>\n",
       "    </tr>\n",
       "  </tbody>\n",
       "</table>\n",
       "<p>184 rows × 4 columns</p>\n",
       "</div>"
      ],
      "text/plain": [
       "     Job  Course 1  Course 2  Similarity\n",
       "0    574      3626      2636           0\n",
       "1    108      2103      5883           0\n",
       "2    459      3634      8246           1\n",
       "3      9      3208      1171           2\n",
       "4    261      8596      3112           2\n",
       "..   ...       ...       ...         ...\n",
       "149  415      4282      6758           1\n",
       "150  440       790      5958           2\n",
       "151  285      6577        56           0\n",
       "152  311        44      3338           2\n",
       "153  387      2607        62           2\n",
       "\n",
       "[184 rows x 4 columns]"
      ]
     },
     "execution_count": 249,
     "metadata": {},
     "output_type": "execute_result"
    }
   ],
   "source": []
  },
  {
   "cell_type": "code",
   "execution_count": 81,
   "metadata": {
    "scrolled": true
   },
   "outputs": [
    {
     "data": {
      "text/html": [
       "<div>\n",
       "<style scoped>\n",
       "    .dataframe tbody tr th:only-of-type {\n",
       "        vertical-align: middle;\n",
       "    }\n",
       "\n",
       "    .dataframe tbody tr th {\n",
       "        vertical-align: top;\n",
       "    }\n",
       "\n",
       "    .dataframe thead th {\n",
       "        text-align: right;\n",
       "    }\n",
       "</style>\n",
       "<table border=\"1\" class=\"dataframe\">\n",
       "  <thead>\n",
       "    <tr style=\"text-align: right;\">\n",
       "      <th></th>\n",
       "      <th>Job</th>\n",
       "      <th>Course 1</th>\n",
       "      <th>Course 2</th>\n",
       "      <th>Similarity</th>\n",
       "    </tr>\n",
       "  </thead>\n",
       "  <tbody>\n",
       "    <tr>\n",
       "      <th>0</th>\n",
       "      <td>574</td>\n",
       "      <td>3626</td>\n",
       "      <td>2636</td>\n",
       "      <td>0</td>\n",
       "    </tr>\n",
       "    <tr>\n",
       "      <th>1</th>\n",
       "      <td>108</td>\n",
       "      <td>2103</td>\n",
       "      <td>5883</td>\n",
       "      <td>0</td>\n",
       "    </tr>\n",
       "    <tr>\n",
       "      <th>2</th>\n",
       "      <td>459</td>\n",
       "      <td>3634</td>\n",
       "      <td>8246</td>\n",
       "      <td>1</td>\n",
       "    </tr>\n",
       "    <tr>\n",
       "      <th>3</th>\n",
       "      <td>9</td>\n",
       "      <td>3208</td>\n",
       "      <td>1171</td>\n",
       "      <td>2</td>\n",
       "    </tr>\n",
       "    <tr>\n",
       "      <th>4</th>\n",
       "      <td>261</td>\n",
       "      <td>8596</td>\n",
       "      <td>3112</td>\n",
       "      <td>2</td>\n",
       "    </tr>\n",
       "    <tr>\n",
       "      <th>...</th>\n",
       "      <td>...</td>\n",
       "      <td>...</td>\n",
       "      <td>...</td>\n",
       "      <td>...</td>\n",
       "    </tr>\n",
       "    <tr>\n",
       "      <th>92</th>\n",
       "      <td>100</td>\n",
       "      <td>1734</td>\n",
       "      <td>4298</td>\n",
       "      <td>2</td>\n",
       "    </tr>\n",
       "    <tr>\n",
       "      <th>93</th>\n",
       "      <td>683</td>\n",
       "      <td>3656</td>\n",
       "      <td>1029</td>\n",
       "      <td>2</td>\n",
       "    </tr>\n",
       "    <tr>\n",
       "      <th>94</th>\n",
       "      <td>241</td>\n",
       "      <td>8473</td>\n",
       "      <td>5994</td>\n",
       "      <td>1</td>\n",
       "    </tr>\n",
       "    <tr>\n",
       "      <th>95</th>\n",
       "      <td>304</td>\n",
       "      <td>207</td>\n",
       "      <td>5290</td>\n",
       "      <td>0</td>\n",
       "    </tr>\n",
       "    <tr>\n",
       "      <th>96</th>\n",
       "      <td>241</td>\n",
       "      <td>5937</td>\n",
       "      <td>6052</td>\n",
       "      <td>1</td>\n",
       "    </tr>\n",
       "  </tbody>\n",
       "</table>\n",
       "<p>127 rows × 4 columns</p>\n",
       "</div>"
      ],
      "text/plain": [
       "    Job  Course 1  Course 2  Similarity\n",
       "0   574      3626      2636           0\n",
       "1   108      2103      5883           0\n",
       "2   459      3634      8246           1\n",
       "3     9      3208      1171           2\n",
       "4   261      8596      3112           2\n",
       "..  ...       ...       ...         ...\n",
       "92  100      1734      4298           2\n",
       "93  683      3656      1029           2\n",
       "94  241      8473      5994           1\n",
       "95  304       207      5290           0\n",
       "96  241      5937      6052           1\n",
       "\n",
       "[127 rows x 4 columns]"
      ]
     },
     "execution_count": 81,
     "metadata": {},
     "output_type": "execute_result"
    }
   ],
   "source": [
    "#old\n",
    "import pandas as pd\n",
    "test_df1 = pd.read_csv(\"/Users/ryancramer/Desktop/Jupyter Notebook Files/testwrite2\")\n",
    "test_df2 = pd.read_csv(\"/Users/ryancramer/Desktop/Jupyter Notebook Files/testwrite6\")\n",
    "test_df3 = pd.concat([test_df1,test_df2])\n",
    "test_df3\n"
   ]
  },
  {
   "cell_type": "code",
   "execution_count": 162,
   "metadata": {},
   "outputs": [
    {
     "name": "stdout",
     "output_type": "stream",
     "text": [
      "    Job  Course 1  Course 2  Similarity\n",
      "20  602      1781      2238           2\n",
      "21  709      6909      5794           2\n",
      "22  819      1107       671           1\n",
      "23  683      3602      7557           0\n",
      "24  443      8126      5088           1\n",
      "25  409      4539      2115           2\n",
      "26  558       834      2765           0\n",
      "27  789      5044      7460           0\n",
      "28   52      6340      4956           1\n",
      "29  149      1218      4761           3\n"
     ]
    }
   ],
   "source": [
    "print(test_df3[20:30])"
   ]
  },
  {
   "cell_type": "code",
   "execution_count": 450,
   "metadata": {},
   "outputs": [
    {
     "name": "stdout",
     "output_type": "stream",
     "text": [
      "400\n"
     ]
    }
   ],
   "source": [
    "numTest = 0\n",
    "for word in test_df3.values:\n",
    "    if word[3] == 1 or word[3] == 2:\n",
    "        numTest = numTest + 1\n",
    "        \n",
    "print(numTest)"
   ]
  },
  {
   "cell_type": "code",
   "execution_count": 281,
   "metadata": {},
   "outputs": [
    {
     "data": {
      "text/plain": [
       "0.9172094111188741"
      ]
     },
     "execution_count": 281,
     "metadata": {},
     "output_type": "execute_result"
    }
   ],
   "source": [
    "df_simFCW[1][0]"
   ]
  },
  {
   "cell_type": "code",
   "execution_count": 279,
   "metadata": {
    "scrolled": true
   },
   "outputs": [
    {
     "data": {
      "text/html": [
       "<div>\n",
       "<style scoped>\n",
       "    .dataframe tbody tr th:only-of-type {\n",
       "        vertical-align: middle;\n",
       "    }\n",
       "\n",
       "    .dataframe tbody tr th {\n",
       "        vertical-align: top;\n",
       "    }\n",
       "\n",
       "    .dataframe thead th {\n",
       "        text-align: right;\n",
       "    }\n",
       "</style>\n",
       "<table border=\"1\" class=\"dataframe\">\n",
       "  <thead>\n",
       "    <tr style=\"text-align: right;\">\n",
       "      <th></th>\n",
       "      <th>0</th>\n",
       "      <th>1</th>\n",
       "      <th>2</th>\n",
       "      <th>3</th>\n",
       "      <th>4</th>\n",
       "      <th>5</th>\n",
       "      <th>6</th>\n",
       "      <th>7</th>\n",
       "      <th>8</th>\n",
       "      <th>9</th>\n",
       "      <th>...</th>\n",
       "      <th>8771</th>\n",
       "      <th>8772</th>\n",
       "      <th>8773</th>\n",
       "      <th>8774</th>\n",
       "      <th>8775</th>\n",
       "      <th>8776</th>\n",
       "      <th>8777</th>\n",
       "      <th>8778</th>\n",
       "      <th>8779</th>\n",
       "      <th>8780</th>\n",
       "    </tr>\n",
       "  </thead>\n",
       "  <tbody>\n",
       "    <tr>\n",
       "      <th>0</th>\n",
       "      <td>0.875555</td>\n",
       "      <td>0.917209</td>\n",
       "      <td>0.920380</td>\n",
       "      <td>0.898639</td>\n",
       "      <td>0.891890</td>\n",
       "      <td>0.845145</td>\n",
       "      <td>0.839304</td>\n",
       "      <td>0.837189</td>\n",
       "      <td>0.855519</td>\n",
       "      <td>0.865233</td>\n",
       "      <td>...</td>\n",
       "      <td>0.887505</td>\n",
       "      <td>0.871609</td>\n",
       "      <td>0.866951</td>\n",
       "      <td>0.648805</td>\n",
       "      <td>0.682010</td>\n",
       "      <td>0.682459</td>\n",
       "      <td>0.752374</td>\n",
       "      <td>0.609586</td>\n",
       "      <td>0.647562</td>\n",
       "      <td>0.718489</td>\n",
       "    </tr>\n",
       "    <tr>\n",
       "      <th>1</th>\n",
       "      <td>0.906836</td>\n",
       "      <td>0.958641</td>\n",
       "      <td>0.964180</td>\n",
       "      <td>0.946599</td>\n",
       "      <td>0.937960</td>\n",
       "      <td>0.903088</td>\n",
       "      <td>0.893220</td>\n",
       "      <td>0.892781</td>\n",
       "      <td>0.909218</td>\n",
       "      <td>0.916893</td>\n",
       "      <td>...</td>\n",
       "      <td>0.914126</td>\n",
       "      <td>0.907124</td>\n",
       "      <td>0.913458</td>\n",
       "      <td>0.733939</td>\n",
       "      <td>0.765703</td>\n",
       "      <td>0.766128</td>\n",
       "      <td>0.828137</td>\n",
       "      <td>0.696135</td>\n",
       "      <td>0.732812</td>\n",
       "      <td>0.796522</td>\n",
       "    </tr>\n",
       "    <tr>\n",
       "      <th>2</th>\n",
       "      <td>0.890318</td>\n",
       "      <td>0.947668</td>\n",
       "      <td>0.955978</td>\n",
       "      <td>0.951709</td>\n",
       "      <td>0.945981</td>\n",
       "      <td>0.924629</td>\n",
       "      <td>0.916891</td>\n",
       "      <td>0.915547</td>\n",
       "      <td>0.929854</td>\n",
       "      <td>0.937482</td>\n",
       "      <td>...</td>\n",
       "      <td>0.933985</td>\n",
       "      <td>0.920708</td>\n",
       "      <td>0.918493</td>\n",
       "      <td>0.729721</td>\n",
       "      <td>0.762713</td>\n",
       "      <td>0.763168</td>\n",
       "      <td>0.835291</td>\n",
       "      <td>0.699475</td>\n",
       "      <td>0.734789</td>\n",
       "      <td>0.793976</td>\n",
       "    </tr>\n",
       "    <tr>\n",
       "      <th>3</th>\n",
       "      <td>0.889928</td>\n",
       "      <td>0.947064</td>\n",
       "      <td>0.955760</td>\n",
       "      <td>0.951842</td>\n",
       "      <td>0.946323</td>\n",
       "      <td>0.925047</td>\n",
       "      <td>0.917396</td>\n",
       "      <td>0.916094</td>\n",
       "      <td>0.930237</td>\n",
       "      <td>0.937945</td>\n",
       "      <td>...</td>\n",
       "      <td>0.935420</td>\n",
       "      <td>0.921934</td>\n",
       "      <td>0.919983</td>\n",
       "      <td>0.730511</td>\n",
       "      <td>0.763454</td>\n",
       "      <td>0.763895</td>\n",
       "      <td>0.836084</td>\n",
       "      <td>0.700074</td>\n",
       "      <td>0.735254</td>\n",
       "      <td>0.794650</td>\n",
       "    </tr>\n",
       "    <tr>\n",
       "      <th>4</th>\n",
       "      <td>0.898438</td>\n",
       "      <td>0.955463</td>\n",
       "      <td>0.963163</td>\n",
       "      <td>0.954597</td>\n",
       "      <td>0.948171</td>\n",
       "      <td>0.922755</td>\n",
       "      <td>0.913985</td>\n",
       "      <td>0.913143</td>\n",
       "      <td>0.928031</td>\n",
       "      <td>0.935762</td>\n",
       "      <td>...</td>\n",
       "      <td>0.932307</td>\n",
       "      <td>0.922570</td>\n",
       "      <td>0.923081</td>\n",
       "      <td>0.734590</td>\n",
       "      <td>0.767320</td>\n",
       "      <td>0.767733</td>\n",
       "      <td>0.837444</td>\n",
       "      <td>0.702042</td>\n",
       "      <td>0.737935</td>\n",
       "      <td>0.798391</td>\n",
       "    </tr>\n",
       "    <tr>\n",
       "      <th>...</th>\n",
       "      <td>...</td>\n",
       "      <td>...</td>\n",
       "      <td>...</td>\n",
       "      <td>...</td>\n",
       "      <td>...</td>\n",
       "      <td>...</td>\n",
       "      <td>...</td>\n",
       "      <td>...</td>\n",
       "      <td>...</td>\n",
       "      <td>...</td>\n",
       "      <td>...</td>\n",
       "      <td>...</td>\n",
       "      <td>...</td>\n",
       "      <td>...</td>\n",
       "      <td>...</td>\n",
       "      <td>...</td>\n",
       "      <td>...</td>\n",
       "      <td>...</td>\n",
       "      <td>...</td>\n",
       "      <td>...</td>\n",
       "      <td>...</td>\n",
       "    </tr>\n",
       "    <tr>\n",
       "      <th>871</th>\n",
       "      <td>0.886474</td>\n",
       "      <td>0.943406</td>\n",
       "      <td>0.954766</td>\n",
       "      <td>0.953086</td>\n",
       "      <td>0.947823</td>\n",
       "      <td>0.939659</td>\n",
       "      <td>0.932798</td>\n",
       "      <td>0.933134</td>\n",
       "      <td>0.946321</td>\n",
       "      <td>0.954407</td>\n",
       "      <td>...</td>\n",
       "      <td>0.941186</td>\n",
       "      <td>0.936847</td>\n",
       "      <td>0.935870</td>\n",
       "      <td>0.742465</td>\n",
       "      <td>0.774187</td>\n",
       "      <td>0.774553</td>\n",
       "      <td>0.847799</td>\n",
       "      <td>0.710198</td>\n",
       "      <td>0.743236</td>\n",
       "      <td>0.797499</td>\n",
       "    </tr>\n",
       "    <tr>\n",
       "      <th>872</th>\n",
       "      <td>0.886518</td>\n",
       "      <td>0.943438</td>\n",
       "      <td>0.954791</td>\n",
       "      <td>0.953110</td>\n",
       "      <td>0.947844</td>\n",
       "      <td>0.939655</td>\n",
       "      <td>0.932801</td>\n",
       "      <td>0.933131</td>\n",
       "      <td>0.946322</td>\n",
       "      <td>0.954406</td>\n",
       "      <td>...</td>\n",
       "      <td>0.941182</td>\n",
       "      <td>0.936842</td>\n",
       "      <td>0.935863</td>\n",
       "      <td>0.742441</td>\n",
       "      <td>0.774164</td>\n",
       "      <td>0.774530</td>\n",
       "      <td>0.847783</td>\n",
       "      <td>0.710175</td>\n",
       "      <td>0.743219</td>\n",
       "      <td>0.797483</td>\n",
       "    </tr>\n",
       "    <tr>\n",
       "      <th>873</th>\n",
       "      <td>0.886545</td>\n",
       "      <td>0.943458</td>\n",
       "      <td>0.954808</td>\n",
       "      <td>0.953127</td>\n",
       "      <td>0.947858</td>\n",
       "      <td>0.939658</td>\n",
       "      <td>0.932809</td>\n",
       "      <td>0.933138</td>\n",
       "      <td>0.946329</td>\n",
       "      <td>0.954412</td>\n",
       "      <td>...</td>\n",
       "      <td>0.941181</td>\n",
       "      <td>0.936849</td>\n",
       "      <td>0.935875</td>\n",
       "      <td>0.742436</td>\n",
       "      <td>0.774159</td>\n",
       "      <td>0.774525</td>\n",
       "      <td>0.847781</td>\n",
       "      <td>0.710166</td>\n",
       "      <td>0.743212</td>\n",
       "      <td>0.797478</td>\n",
       "    </tr>\n",
       "    <tr>\n",
       "      <th>874</th>\n",
       "      <td>0.886522</td>\n",
       "      <td>0.943443</td>\n",
       "      <td>0.954799</td>\n",
       "      <td>0.953125</td>\n",
       "      <td>0.947859</td>\n",
       "      <td>0.939664</td>\n",
       "      <td>0.932811</td>\n",
       "      <td>0.933141</td>\n",
       "      <td>0.946330</td>\n",
       "      <td>0.954414</td>\n",
       "      <td>...</td>\n",
       "      <td>0.941189</td>\n",
       "      <td>0.936858</td>\n",
       "      <td>0.935881</td>\n",
       "      <td>0.742426</td>\n",
       "      <td>0.774151</td>\n",
       "      <td>0.774516</td>\n",
       "      <td>0.847776</td>\n",
       "      <td>0.710155</td>\n",
       "      <td>0.743199</td>\n",
       "      <td>0.797469</td>\n",
       "    </tr>\n",
       "    <tr>\n",
       "      <th>875</th>\n",
       "      <td>0.886463</td>\n",
       "      <td>0.943401</td>\n",
       "      <td>0.954769</td>\n",
       "      <td>0.953114</td>\n",
       "      <td>0.947852</td>\n",
       "      <td>0.939720</td>\n",
       "      <td>0.932864</td>\n",
       "      <td>0.933205</td>\n",
       "      <td>0.946380</td>\n",
       "      <td>0.954460</td>\n",
       "      <td>...</td>\n",
       "      <td>0.941227</td>\n",
       "      <td>0.936868</td>\n",
       "      <td>0.935880</td>\n",
       "      <td>0.742412</td>\n",
       "      <td>0.774136</td>\n",
       "      <td>0.774502</td>\n",
       "      <td>0.847775</td>\n",
       "      <td>0.710150</td>\n",
       "      <td>0.743190</td>\n",
       "      <td>0.797452</td>\n",
       "    </tr>\n",
       "  </tbody>\n",
       "</table>\n",
       "<p>876 rows × 8781 columns</p>\n",
       "</div>"
      ],
      "text/plain": [
       "         0         1         2         3         4         5         6     \\\n",
       "0    0.875555  0.917209  0.920380  0.898639  0.891890  0.845145  0.839304   \n",
       "1    0.906836  0.958641  0.964180  0.946599  0.937960  0.903088  0.893220   \n",
       "2    0.890318  0.947668  0.955978  0.951709  0.945981  0.924629  0.916891   \n",
       "3    0.889928  0.947064  0.955760  0.951842  0.946323  0.925047  0.917396   \n",
       "4    0.898438  0.955463  0.963163  0.954597  0.948171  0.922755  0.913985   \n",
       "..        ...       ...       ...       ...       ...       ...       ...   \n",
       "871  0.886474  0.943406  0.954766  0.953086  0.947823  0.939659  0.932798   \n",
       "872  0.886518  0.943438  0.954791  0.953110  0.947844  0.939655  0.932801   \n",
       "873  0.886545  0.943458  0.954808  0.953127  0.947858  0.939658  0.932809   \n",
       "874  0.886522  0.943443  0.954799  0.953125  0.947859  0.939664  0.932811   \n",
       "875  0.886463  0.943401  0.954769  0.953114  0.947852  0.939720  0.932864   \n",
       "\n",
       "         7         8         9     ...      8771      8772      8773  \\\n",
       "0    0.837189  0.855519  0.865233  ...  0.887505  0.871609  0.866951   \n",
       "1    0.892781  0.909218  0.916893  ...  0.914126  0.907124  0.913458   \n",
       "2    0.915547  0.929854  0.937482  ...  0.933985  0.920708  0.918493   \n",
       "3    0.916094  0.930237  0.937945  ...  0.935420  0.921934  0.919983   \n",
       "4    0.913143  0.928031  0.935762  ...  0.932307  0.922570  0.923081   \n",
       "..        ...       ...       ...  ...       ...       ...       ...   \n",
       "871  0.933134  0.946321  0.954407  ...  0.941186  0.936847  0.935870   \n",
       "872  0.933131  0.946322  0.954406  ...  0.941182  0.936842  0.935863   \n",
       "873  0.933138  0.946329  0.954412  ...  0.941181  0.936849  0.935875   \n",
       "874  0.933141  0.946330  0.954414  ...  0.941189  0.936858  0.935881   \n",
       "875  0.933205  0.946380  0.954460  ...  0.941227  0.936868  0.935880   \n",
       "\n",
       "         8774      8775      8776      8777      8778      8779      8780  \n",
       "0    0.648805  0.682010  0.682459  0.752374  0.609586  0.647562  0.718489  \n",
       "1    0.733939  0.765703  0.766128  0.828137  0.696135  0.732812  0.796522  \n",
       "2    0.729721  0.762713  0.763168  0.835291  0.699475  0.734789  0.793976  \n",
       "3    0.730511  0.763454  0.763895  0.836084  0.700074  0.735254  0.794650  \n",
       "4    0.734590  0.767320  0.767733  0.837444  0.702042  0.737935  0.798391  \n",
       "..        ...       ...       ...       ...       ...       ...       ...  \n",
       "871  0.742465  0.774187  0.774553  0.847799  0.710198  0.743236  0.797499  \n",
       "872  0.742441  0.774164  0.774530  0.847783  0.710175  0.743219  0.797483  \n",
       "873  0.742436  0.774159  0.774525  0.847781  0.710166  0.743212  0.797478  \n",
       "874  0.742426  0.774151  0.774516  0.847776  0.710155  0.743199  0.797469  \n",
       "875  0.742412  0.774136  0.774502  0.847775  0.710150  0.743190  0.797452  \n",
       "\n",
       "[876 rows x 8781 columns]"
      ]
     },
     "execution_count": 279,
     "metadata": {},
     "output_type": "execute_result"
    }
   ],
   "source": [
    "df_simFCW"
   ]
  },
  {
   "cell_type": "code",
   "execution_count": 347,
   "metadata": {},
   "outputs": [
    {
     "name": "stdout",
     "output_type": "stream",
     "text": [
      "0.5333333333333333\n"
     ]
    }
   ],
   "source": [
    "#Word 2 Vec\n",
    "average = 0\n",
    "\n",
    "for word in test_df3.values:\n",
    "    #print(word)\n",
    "    one = df_simFCW[word[1]][word[0]]\n",
    "    two = df_simFCW[word[2]][word[0]]\n",
    "    #avg_sim = (one+two)/2\n",
    "    #mean = df_simFCW.mean(axis=1)[word[0]]\n",
    "    if word[3] == 1 and one > two:\n",
    "        average = average + 1 \n",
    "    elif word[3] == 2 and two > one:\n",
    "        average = average + 1\n",
    "    '''\n",
    "    elif word[3] == 0 and avg_sim < mean:\n",
    "        average = average + 1\n",
    "    elif word[3] == 3 and avg_sim > mean:\n",
    "        average = average + 1\n",
    "    '''\n",
    "        \n",
    "average = average/numTest\n",
    "print(average)"
   ]
  },
  {
   "cell_type": "code",
   "execution_count": null,
   "metadata": {},
   "outputs": [],
   "source": [
    "#herehereherehereherehereherehereherehereherehereherehereherehereherehere"
   ]
  },
  {
   "cell_type": "code",
   "execution_count": 189,
   "metadata": {
    "scrolled": true
   },
   "outputs": [
    {
     "data": {
      "text/plain": [
       "876"
      ]
     },
     "execution_count": 189,
     "metadata": {},
     "output_type": "execute_result"
    }
   ],
   "source": [
    "len(jobs_skills)"
   ]
  },
  {
   "cell_type": "code",
   "execution_count": 193,
   "metadata": {},
   "outputs": [],
   "source": [
    "new = [1]"
   ]
  },
  {
   "cell_type": "code",
   "execution_count": 194,
   "metadata": {},
   "outputs": [
    {
     "data": {
      "text/plain": [
       "1"
      ]
     },
     "execution_count": 194,
     "metadata": {},
     "output_type": "execute_result"
    }
   ],
   "source": [
    "len(new)"
   ]
  },
  {
   "cell_type": "code",
   "execution_count": 190,
   "metadata": {},
   "outputs": [],
   "source": [
    "checker = [1,2,3,4]"
   ]
  },
  {
   "cell_type": "code",
   "execution_count": 192,
   "metadata": {},
   "outputs": [
    {
     "data": {
      "text/plain": [
       "[2, 3, 4]"
      ]
     },
     "execution_count": 192,
     "metadata": {},
     "output_type": "execute_result"
    }
   ],
   "source": [
    "check"
   ]
  },
  {
   "cell_type": "code",
   "execution_count": 191,
   "metadata": {},
   "outputs": [],
   "source": [
    "check = checker[1:]"
   ]
  },
  {
   "cell_type": "code",
   "execution_count": 195,
   "metadata": {},
   "outputs": [],
   "source": [
    "jobs_skills2 = jobs_skills[146:]"
   ]
  },
  {
   "cell_type": "code",
   "execution_count": 196,
   "metadata": {},
   "outputs": [],
   "source": [
    "doc3 = nlp.pipe(jobs_skills2)\n",
    "doc4 = nlp.pipe(courses_skills)"
   ]
  },
  {
   "cell_type": "code",
   "execution_count": 188,
   "metadata": {},
   "outputs": [
    {
     "data": {
      "text/plain": [
       "<generator object Language.pipe at 0x1b2643a450>"
      ]
     },
     "execution_count": 188,
     "metadata": {},
     "output_type": "execute_result"
    }
   ],
   "source": [
    "doc4"
   ]
  },
  {
   "cell_type": "code",
   "execution_count": 197,
   "metadata": {},
   "outputs": [
    {
     "name": "stderr",
     "output_type": "stream",
     "text": [
      "/Users/ryancramer/opt/anaconda3/lib/python3.7/site-packages/ipykernel_launcher.py:6: UserWarning: [W008] Evaluating Doc.similarity based on empty vectors.\n",
      "  \n"
     ]
    },
    {
     "name": "stdout",
     "output_type": "stream",
     "text": [
      "CPU times: user 3h 38min 18s, sys: 32min 45s, total: 4h 11min 3s\n",
      "Wall time: 4h 20min 13s\n"
     ]
    }
   ],
   "source": [
    "%%time\n",
    "column = []\n",
    "for docj in doc3:\n",
    "    row = []\n",
    "    doc4 = nlp.pipe(courses_skills[1:])\n",
    "    for docc in doc4:\n",
    "        row.append(docc.similarity(docj))\n",
    "        \n",
    "    column.append(row)"
   ]
  },
  {
   "cell_type": "code",
   "execution_count": 198,
   "metadata": {},
   "outputs": [
    {
     "data": {
      "text/plain": [
       "730"
      ]
     },
     "execution_count": 198,
     "metadata": {},
     "output_type": "execute_result"
    }
   ],
   "source": [
    "len(column)"
   ]
  },
  {
   "cell_type": "code",
   "execution_count": 174,
   "metadata": {},
   "outputs": [
    {
     "data": {
      "text/plain": [
       "list"
      ]
     },
     "execution_count": 174,
     "metadata": {},
     "output_type": "execute_result"
    }
   ],
   "source": [
    "type(column)"
   ]
  },
  {
   "cell_type": "code",
   "execution_count": 76,
   "metadata": {},
   "outputs": [
    {
     "data": {
      "text/html": [
       "<div>\n",
       "<style scoped>\n",
       "    .dataframe tbody tr th:only-of-type {\n",
       "        vertical-align: middle;\n",
       "    }\n",
       "\n",
       "    .dataframe tbody tr th {\n",
       "        vertical-align: top;\n",
       "    }\n",
       "\n",
       "    .dataframe thead th {\n",
       "        text-align: right;\n",
       "    }\n",
       "</style>\n",
       "<table border=\"1\" class=\"dataframe\">\n",
       "  <thead>\n",
       "    <tr style=\"text-align: right;\">\n",
       "      <th></th>\n",
       "      <th>0</th>\n",
       "      <th>1</th>\n",
       "      <th>2</th>\n",
       "      <th>3</th>\n",
       "      <th>4</th>\n",
       "      <th>5</th>\n",
       "      <th>6</th>\n",
       "      <th>7</th>\n",
       "      <th>8</th>\n",
       "      <th>9</th>\n",
       "      <th>...</th>\n",
       "      <th>8770</th>\n",
       "      <th>8771</th>\n",
       "      <th>8772</th>\n",
       "      <th>8773</th>\n",
       "      <th>8774</th>\n",
       "      <th>8775</th>\n",
       "      <th>8776</th>\n",
       "      <th>8777</th>\n",
       "      <th>8778</th>\n",
       "      <th>8779</th>\n",
       "    </tr>\n",
       "  </thead>\n",
       "  <tbody>\n",
       "    <tr>\n",
       "      <th>0</th>\n",
       "      <td>0.866765</td>\n",
       "      <td>0.820076</td>\n",
       "      <td>0.831417</td>\n",
       "      <td>0.735399</td>\n",
       "      <td>0.746892</td>\n",
       "      <td>0.826259</td>\n",
       "      <td>0.824602</td>\n",
       "      <td>0.863643</td>\n",
       "      <td>0.881462</td>\n",
       "      <td>0.827351</td>\n",
       "      <td>...</td>\n",
       "      <td>0.815167</td>\n",
       "      <td>0.851790</td>\n",
       "      <td>0.761471</td>\n",
       "      <td>0.180216</td>\n",
       "      <td>0.820568</td>\n",
       "      <td>0.348516</td>\n",
       "      <td>0.808758</td>\n",
       "      <td>0.178895</td>\n",
       "      <td>0.880250</td>\n",
       "      <td>0.802418</td>\n",
       "    </tr>\n",
       "    <tr>\n",
       "      <th>1</th>\n",
       "      <td>0.891944</td>\n",
       "      <td>0.840918</td>\n",
       "      <td>0.833264</td>\n",
       "      <td>0.726092</td>\n",
       "      <td>0.809313</td>\n",
       "      <td>0.803603</td>\n",
       "      <td>0.846248</td>\n",
       "      <td>0.878570</td>\n",
       "      <td>0.881742</td>\n",
       "      <td>0.860609</td>\n",
       "      <td>...</td>\n",
       "      <td>0.786309</td>\n",
       "      <td>0.904033</td>\n",
       "      <td>0.843263</td>\n",
       "      <td>0.216125</td>\n",
       "      <td>0.842062</td>\n",
       "      <td>0.331369</td>\n",
       "      <td>0.804828</td>\n",
       "      <td>0.214330</td>\n",
       "      <td>0.908770</td>\n",
       "      <td>0.855686</td>\n",
       "    </tr>\n",
       "    <tr>\n",
       "      <th>2</th>\n",
       "      <td>0.866756</td>\n",
       "      <td>0.843843</td>\n",
       "      <td>0.871807</td>\n",
       "      <td>0.780722</td>\n",
       "      <td>0.818170</td>\n",
       "      <td>0.883924</td>\n",
       "      <td>0.864499</td>\n",
       "      <td>0.868410</td>\n",
       "      <td>0.915478</td>\n",
       "      <td>0.815102</td>\n",
       "      <td>...</td>\n",
       "      <td>0.867475</td>\n",
       "      <td>0.856220</td>\n",
       "      <td>0.757057</td>\n",
       "      <td>0.225937</td>\n",
       "      <td>0.823581</td>\n",
       "      <td>0.312833</td>\n",
       "      <td>0.880187</td>\n",
       "      <td>0.231751</td>\n",
       "      <td>0.861052</td>\n",
       "      <td>0.758024</td>\n",
       "    </tr>\n",
       "    <tr>\n",
       "      <th>3</th>\n",
       "      <td>0.800267</td>\n",
       "      <td>0.844040</td>\n",
       "      <td>0.849693</td>\n",
       "      <td>0.739201</td>\n",
       "      <td>0.749170</td>\n",
       "      <td>0.872241</td>\n",
       "      <td>0.818690</td>\n",
       "      <td>0.818136</td>\n",
       "      <td>0.827945</td>\n",
       "      <td>0.781618</td>\n",
       "      <td>...</td>\n",
       "      <td>0.824751</td>\n",
       "      <td>0.857020</td>\n",
       "      <td>0.800465</td>\n",
       "      <td>0.193315</td>\n",
       "      <td>0.783639</td>\n",
       "      <td>0.306849</td>\n",
       "      <td>0.832592</td>\n",
       "      <td>0.193253</td>\n",
       "      <td>0.844189</td>\n",
       "      <td>0.784805</td>\n",
       "    </tr>\n",
       "    <tr>\n",
       "      <th>4</th>\n",
       "      <td>0.905055</td>\n",
       "      <td>0.849839</td>\n",
       "      <td>0.824750</td>\n",
       "      <td>0.726188</td>\n",
       "      <td>0.806523</td>\n",
       "      <td>0.821110</td>\n",
       "      <td>0.855340</td>\n",
       "      <td>0.893772</td>\n",
       "      <td>0.896083</td>\n",
       "      <td>0.852852</td>\n",
       "      <td>...</td>\n",
       "      <td>0.811606</td>\n",
       "      <td>0.902216</td>\n",
       "      <td>0.828375</td>\n",
       "      <td>0.199692</td>\n",
       "      <td>0.854019</td>\n",
       "      <td>0.320477</td>\n",
       "      <td>0.818777</td>\n",
       "      <td>0.197118</td>\n",
       "      <td>0.908849</td>\n",
       "      <td>0.844831</td>\n",
       "    </tr>\n",
       "    <tr>\n",
       "      <th>...</th>\n",
       "      <td>...</td>\n",
       "      <td>...</td>\n",
       "      <td>...</td>\n",
       "      <td>...</td>\n",
       "      <td>...</td>\n",
       "      <td>...</td>\n",
       "      <td>...</td>\n",
       "      <td>...</td>\n",
       "      <td>...</td>\n",
       "      <td>...</td>\n",
       "      <td>...</td>\n",
       "      <td>...</td>\n",
       "      <td>...</td>\n",
       "      <td>...</td>\n",
       "      <td>...</td>\n",
       "      <td>...</td>\n",
       "      <td>...</td>\n",
       "      <td>...</td>\n",
       "      <td>...</td>\n",
       "      <td>...</td>\n",
       "      <td>...</td>\n",
       "    </tr>\n",
       "    <tr>\n",
       "      <th>141</th>\n",
       "      <td>0.797716</td>\n",
       "      <td>0.775717</td>\n",
       "      <td>0.784030</td>\n",
       "      <td>0.668202</td>\n",
       "      <td>0.763484</td>\n",
       "      <td>0.798646</td>\n",
       "      <td>0.827071</td>\n",
       "      <td>0.799811</td>\n",
       "      <td>0.841770</td>\n",
       "      <td>0.775758</td>\n",
       "      <td>...</td>\n",
       "      <td>0.760060</td>\n",
       "      <td>0.801295</td>\n",
       "      <td>0.722143</td>\n",
       "      <td>0.200521</td>\n",
       "      <td>0.765429</td>\n",
       "      <td>0.239335</td>\n",
       "      <td>0.781289</td>\n",
       "      <td>0.201220</td>\n",
       "      <td>0.801749</td>\n",
       "      <td>0.710489</td>\n",
       "    </tr>\n",
       "    <tr>\n",
       "      <th>142</th>\n",
       "      <td>0.866725</td>\n",
       "      <td>0.861862</td>\n",
       "      <td>0.865929</td>\n",
       "      <td>0.749954</td>\n",
       "      <td>0.810591</td>\n",
       "      <td>0.880306</td>\n",
       "      <td>0.868498</td>\n",
       "      <td>0.867556</td>\n",
       "      <td>0.891488</td>\n",
       "      <td>0.816581</td>\n",
       "      <td>...</td>\n",
       "      <td>0.850651</td>\n",
       "      <td>0.873261</td>\n",
       "      <td>0.783578</td>\n",
       "      <td>0.229289</td>\n",
       "      <td>0.823694</td>\n",
       "      <td>0.298678</td>\n",
       "      <td>0.865527</td>\n",
       "      <td>0.232989</td>\n",
       "      <td>0.874106</td>\n",
       "      <td>0.761813</td>\n",
       "    </tr>\n",
       "    <tr>\n",
       "      <th>143</th>\n",
       "      <td>0.834357</td>\n",
       "      <td>0.846029</td>\n",
       "      <td>0.819134</td>\n",
       "      <td>0.700855</td>\n",
       "      <td>0.830870</td>\n",
       "      <td>0.830691</td>\n",
       "      <td>0.860719</td>\n",
       "      <td>0.851995</td>\n",
       "      <td>0.911858</td>\n",
       "      <td>0.823322</td>\n",
       "      <td>...</td>\n",
       "      <td>0.798510</td>\n",
       "      <td>0.907153</td>\n",
       "      <td>0.829408</td>\n",
       "      <td>0.197465</td>\n",
       "      <td>0.832389</td>\n",
       "      <td>0.281251</td>\n",
       "      <td>0.823118</td>\n",
       "      <td>0.199122</td>\n",
       "      <td>0.852198</td>\n",
       "      <td>0.801422</td>\n",
       "    </tr>\n",
       "    <tr>\n",
       "      <th>144</th>\n",
       "      <td>0.886845</td>\n",
       "      <td>0.875911</td>\n",
       "      <td>0.811522</td>\n",
       "      <td>0.761066</td>\n",
       "      <td>0.785881</td>\n",
       "      <td>0.788757</td>\n",
       "      <td>0.840143</td>\n",
       "      <td>0.863381</td>\n",
       "      <td>0.887054</td>\n",
       "      <td>0.855290</td>\n",
       "      <td>...</td>\n",
       "      <td>0.837193</td>\n",
       "      <td>0.878671</td>\n",
       "      <td>0.779002</td>\n",
       "      <td>0.178111</td>\n",
       "      <td>0.864191</td>\n",
       "      <td>0.413775</td>\n",
       "      <td>0.815071</td>\n",
       "      <td>0.177148</td>\n",
       "      <td>0.846355</td>\n",
       "      <td>0.812047</td>\n",
       "    </tr>\n",
       "    <tr>\n",
       "      <th>145</th>\n",
       "      <td>0.870158</td>\n",
       "      <td>0.877675</td>\n",
       "      <td>0.811516</td>\n",
       "      <td>0.732087</td>\n",
       "      <td>0.862960</td>\n",
       "      <td>0.833854</td>\n",
       "      <td>0.902210</td>\n",
       "      <td>0.838431</td>\n",
       "      <td>0.912944</td>\n",
       "      <td>0.824314</td>\n",
       "      <td>...</td>\n",
       "      <td>0.826613</td>\n",
       "      <td>0.888190</td>\n",
       "      <td>0.796391</td>\n",
       "      <td>0.203366</td>\n",
       "      <td>0.800138</td>\n",
       "      <td>0.345402</td>\n",
       "      <td>0.836400</td>\n",
       "      <td>0.208228</td>\n",
       "      <td>0.835373</td>\n",
       "      <td>0.775674</td>\n",
       "    </tr>\n",
       "  </tbody>\n",
       "</table>\n",
       "<p>146 rows × 8780 columns</p>\n",
       "</div>"
      ],
      "text/plain": [
       "         0         1         2         3         4         5         6     \\\n",
       "0    0.866765  0.820076  0.831417  0.735399  0.746892  0.826259  0.824602   \n",
       "1    0.891944  0.840918  0.833264  0.726092  0.809313  0.803603  0.846248   \n",
       "2    0.866756  0.843843  0.871807  0.780722  0.818170  0.883924  0.864499   \n",
       "3    0.800267  0.844040  0.849693  0.739201  0.749170  0.872241  0.818690   \n",
       "4    0.905055  0.849839  0.824750  0.726188  0.806523  0.821110  0.855340   \n",
       "..        ...       ...       ...       ...       ...       ...       ...   \n",
       "141  0.797716  0.775717  0.784030  0.668202  0.763484  0.798646  0.827071   \n",
       "142  0.866725  0.861862  0.865929  0.749954  0.810591  0.880306  0.868498   \n",
       "143  0.834357  0.846029  0.819134  0.700855  0.830870  0.830691  0.860719   \n",
       "144  0.886845  0.875911  0.811522  0.761066  0.785881  0.788757  0.840143   \n",
       "145  0.870158  0.877675  0.811516  0.732087  0.862960  0.833854  0.902210   \n",
       "\n",
       "         7         8         9     ...      8770      8771      8772  \\\n",
       "0    0.863643  0.881462  0.827351  ...  0.815167  0.851790  0.761471   \n",
       "1    0.878570  0.881742  0.860609  ...  0.786309  0.904033  0.843263   \n",
       "2    0.868410  0.915478  0.815102  ...  0.867475  0.856220  0.757057   \n",
       "3    0.818136  0.827945  0.781618  ...  0.824751  0.857020  0.800465   \n",
       "4    0.893772  0.896083  0.852852  ...  0.811606  0.902216  0.828375   \n",
       "..        ...       ...       ...  ...       ...       ...       ...   \n",
       "141  0.799811  0.841770  0.775758  ...  0.760060  0.801295  0.722143   \n",
       "142  0.867556  0.891488  0.816581  ...  0.850651  0.873261  0.783578   \n",
       "143  0.851995  0.911858  0.823322  ...  0.798510  0.907153  0.829408   \n",
       "144  0.863381  0.887054  0.855290  ...  0.837193  0.878671  0.779002   \n",
       "145  0.838431  0.912944  0.824314  ...  0.826613  0.888190  0.796391   \n",
       "\n",
       "         8773      8774      8775      8776      8777      8778      8779  \n",
       "0    0.180216  0.820568  0.348516  0.808758  0.178895  0.880250  0.802418  \n",
       "1    0.216125  0.842062  0.331369  0.804828  0.214330  0.908770  0.855686  \n",
       "2    0.225937  0.823581  0.312833  0.880187  0.231751  0.861052  0.758024  \n",
       "3    0.193315  0.783639  0.306849  0.832592  0.193253  0.844189  0.784805  \n",
       "4    0.199692  0.854019  0.320477  0.818777  0.197118  0.908849  0.844831  \n",
       "..        ...       ...       ...       ...       ...       ...       ...  \n",
       "141  0.200521  0.765429  0.239335  0.781289  0.201220  0.801749  0.710489  \n",
       "142  0.229289  0.823694  0.298678  0.865527  0.232989  0.874106  0.761813  \n",
       "143  0.197465  0.832389  0.281251  0.823118  0.199122  0.852198  0.801422  \n",
       "144  0.178111  0.864191  0.413775  0.815071  0.177148  0.846355  0.812047  \n",
       "145  0.203366  0.800138  0.345402  0.836400  0.208228  0.835373  0.775674  \n",
       "\n",
       "[146 rows x 8780 columns]"
      ]
     },
     "execution_count": 76,
     "metadata": {},
     "output_type": "execute_result"
    }
   ],
   "source": [
    "col = pd.DataFrame(column)\n",
    "col"
   ]
  },
  {
   "cell_type": "code",
   "execution_count": 264,
   "metadata": {},
   "outputs": [],
   "source": [
    "columnFinal = test_dfCol3.values.tolist()"
   ]
  },
  {
   "cell_type": "code",
   "execution_count": null,
   "metadata": {},
   "outputs": [],
   "source": []
  },
  {
   "cell_type": "code",
   "execution_count": null,
   "metadata": {},
   "outputs": [],
   "source": []
  },
  {
   "cell_type": "code",
   "execution_count": 348,
   "metadata": {},
   "outputs": [
    {
     "name": "stdout",
     "output_type": "stream",
     "text": [
      "Average: \n",
      "0.4823529411764706\n"
     ]
    }
   ],
   "source": [
    "average = 0\n",
    "#count = 0\n",
    "for word in test_df3.values:\n",
    "    #print(word)\n",
    "    #swithced\n",
    "    #if word[0]<len(col):\n",
    "    #count = count + 1\n",
    "    one = columnFinal[word[0]][word[1]]\n",
    "    two = columnFinal[word[0]][word[2]]\n",
    "        #avg_sim = (one+two)/2\n",
    "        #mean = col.mean(axis=1)[word[0]]\n",
    "    \n",
    "    if word[3] == 1 and one > two:\n",
    "        average = average + 1 \n",
    "\n",
    "    elif word[3] == 2 and two > one:\n",
    "        average = average + 1\n",
    "\n",
    "    '''\n",
    "    elif word[3] == 0 and avg_sim < mean:\n",
    "        average = average + 1\n",
    "    elif word[3] == 3 and avg_sim > mean:\n",
    "        average = average + 1\n",
    "    '''\n",
    "            \n",
    "        \n",
    "average = average/numTest\n",
    "#print(\"Count: \")\n",
    "#print(count)\n",
    "print(\"Average: \")\n",
    "print(average)"
   ]
  },
  {
   "cell_type": "code",
   "execution_count": 273,
   "metadata": {},
   "outputs": [
    {
     "data": {
      "text/plain": [
       "0.5"
      ]
     },
     "execution_count": 273,
     "metadata": {},
     "output_type": "execute_result"
    }
   ],
   "source": [
    "65/130"
   ]
  },
  {
   "cell_type": "code",
   "execution_count": 255,
   "metadata": {},
   "outputs": [
    {
     "name": "stdout",
     "output_type": "stream",
     "text": [
      "0.5307692307692308\n",
      "184\n"
     ]
    }
   ],
   "source": [
    "#NOOOOOO\n",
    "average = 0\n",
    "count = 0\n",
    "for word in test_df3.values:\n",
    "    count = count +1\n",
    "    #print(word)\n",
    "    one = df_simFCW[word[1]][word[0]]\n",
    "    two = df_simFCW[word[2]][word[0]]\n",
    "    avg_sim = (one+two)/2\n",
    "    mean = df_simFCW.mean(axis=1)[word[0]]\n",
    "    if word[3] == 1 and one > two:\n",
    "        average = average + 1 \n",
    "    elif word[3] == 2 and two > one:\n",
    "        average = average + 1\n",
    "    '''\n",
    "    elif word[3] == 0 and avg_sim < mean:\n",
    "        average = average + 1\n",
    "    elif word[3] == 3 and avg_sim > mean:\n",
    "        average = average + 1\n",
    "    '''\n",
    "        \n",
    "average = average/numTest\n",
    "print(average)\n",
    "#print(count)"
   ]
  },
  {
   "cell_type": "code",
   "execution_count": 84,
   "metadata": {},
   "outputs": [
    {
     "data": {
      "text/html": [
       "<div>\n",
       "<style scoped>\n",
       "    .dataframe tbody tr th:only-of-type {\n",
       "        vertical-align: middle;\n",
       "    }\n",
       "\n",
       "    .dataframe tbody tr th {\n",
       "        vertical-align: top;\n",
       "    }\n",
       "\n",
       "    .dataframe thead th {\n",
       "        text-align: right;\n",
       "    }\n",
       "</style>\n",
       "<table border=\"1\" class=\"dataframe\">\n",
       "  <thead>\n",
       "    <tr style=\"text-align: right;\">\n",
       "      <th></th>\n",
       "      <th>Job</th>\n",
       "      <th>Course 1</th>\n",
       "      <th>Course 2</th>\n",
       "      <th>Similarity</th>\n",
       "    </tr>\n",
       "  </thead>\n",
       "  <tbody>\n",
       "    <tr>\n",
       "      <th>0</th>\n",
       "      <td>574</td>\n",
       "      <td>3626</td>\n",
       "      <td>2636</td>\n",
       "      <td>0</td>\n",
       "    </tr>\n",
       "    <tr>\n",
       "      <th>1</th>\n",
       "      <td>108</td>\n",
       "      <td>2103</td>\n",
       "      <td>5883</td>\n",
       "      <td>0</td>\n",
       "    </tr>\n",
       "    <tr>\n",
       "      <th>2</th>\n",
       "      <td>459</td>\n",
       "      <td>3634</td>\n",
       "      <td>8246</td>\n",
       "      <td>1</td>\n",
       "    </tr>\n",
       "    <tr>\n",
       "      <th>3</th>\n",
       "      <td>9</td>\n",
       "      <td>3208</td>\n",
       "      <td>1171</td>\n",
       "      <td>2</td>\n",
       "    </tr>\n",
       "    <tr>\n",
       "      <th>4</th>\n",
       "      <td>261</td>\n",
       "      <td>8596</td>\n",
       "      <td>3112</td>\n",
       "      <td>2</td>\n",
       "    </tr>\n",
       "    <tr>\n",
       "      <th>5</th>\n",
       "      <td>255</td>\n",
       "      <td>2002</td>\n",
       "      <td>8606</td>\n",
       "      <td>1</td>\n",
       "    </tr>\n",
       "    <tr>\n",
       "      <th>6</th>\n",
       "      <td>70</td>\n",
       "      <td>4509</td>\n",
       "      <td>6827</td>\n",
       "      <td>0</td>\n",
       "    </tr>\n",
       "    <tr>\n",
       "      <th>7</th>\n",
       "      <td>296</td>\n",
       "      <td>8021</td>\n",
       "      <td>5888</td>\n",
       "      <td>2</td>\n",
       "    </tr>\n",
       "  </tbody>\n",
       "</table>\n",
       "</div>"
      ],
      "text/plain": [
       "   Job  Course 1  Course 2  Similarity\n",
       "0  574      3626      2636           0\n",
       "1  108      2103      5883           0\n",
       "2  459      3634      8246           1\n",
       "3    9      3208      1171           2\n",
       "4  261      8596      3112           2\n",
       "5  255      2002      8606           1\n",
       "6   70      4509      6827           0\n",
       "7  296      8021      5888           2"
      ]
     },
     "execution_count": 84,
     "metadata": {},
     "output_type": "execute_result"
    }
   ],
   "source": [
    "test_df3[0:8]"
   ]
  },
  {
   "cell_type": "code",
   "execution_count": 91,
   "metadata": {},
   "outputs": [
    {
     "name": "stdout",
     "output_type": "stream",
     "text": [
      "Count: \n",
      "24\n",
      "Average: \n",
      "0.6666666666666666\n"
     ]
    }
   ],
   "source": [
    "#no\n",
    "average = 0\n",
    "count = 0\n",
    "for word in test_df3.values:\n",
    "    #print(word)\n",
    "    #swithced\n",
    "    if word[0]<len(col):\n",
    "        count = count + 1\n",
    "        one = col[word[1]][word[0]]\n",
    "        two = col[word[2]][word[0]]\n",
    "        avg_sim = (one+two)/2\n",
    "        mean = col.mean(axis=1)[word[0]]\n",
    "        if word[3] == 1 and one > two:\n",
    "            average = average + 1 \n",
    "        elif word[3] == 2 and two > one:\n",
    "            average = average + 1\n",
    "        elif word[3] == 0 and avg_sim < mean:\n",
    "            average = average + 1\n",
    "        elif word[3] == 3 and avg_sim > mean:\n",
    "            average = average + 1\n",
    "            \n",
    "        \n",
    "average = average/count\n",
    "print(\"Count: \")\n",
    "print(count)\n",
    "print(\"Average: \")\n",
    "print(average)"
   ]
  },
  {
   "cell_type": "code",
   "execution_count": 124,
   "metadata": {},
   "outputs": [
    {
     "data": {
      "text/plain": [
       "8781"
      ]
     },
     "execution_count": 124,
     "metadata": {},
     "output_type": "execute_result"
    }
   ],
   "source": [
    "len(simFCW2[0])"
   ]
  },
  {
   "cell_type": "code",
   "execution_count": 151,
   "metadata": {},
   "outputs": [],
   "source": [
    "simFCW3 = []\n",
    "for word in simFCW2:\n",
    "    words = word[1:]\n",
    "    simFCW3.append(words)"
   ]
  },
  {
   "cell_type": "code",
   "execution_count": 127,
   "metadata": {},
   "outputs": [
    {
     "data": {
      "text/plain": [
       "8780"
      ]
     },
     "execution_count": 127,
     "metadata": {},
     "output_type": "execute_result"
    }
   ],
   "source": [
    "len(simFCW3[0])"
   ]
  },
  {
   "cell_type": "code",
   "execution_count": 121,
   "metadata": {},
   "outputs": [
    {
     "data": {
      "text/plain": [
       "8780"
      ]
     },
     "execution_count": 121,
     "metadata": {},
     "output_type": "execute_result"
    }
   ],
   "source": [
    "len(column[1])"
   ]
  },
  {
   "cell_type": "code",
   "execution_count": 147,
   "metadata": {
    "scrolled": true
   },
   "outputs": [
    {
     "data": {
      "text/plain": [
       "146"
      ]
     },
     "execution_count": 147,
     "metadata": {},
     "output_type": "execute_result"
    }
   ],
   "source": [
    "len(column)"
   ]
  },
  {
   "cell_type": "code",
   "execution_count": 149,
   "metadata": {},
   "outputs": [
    {
     "data": {
      "text/plain": [
       "147"
      ]
     },
     "execution_count": 149,
     "metadata": {},
     "output_type": "execute_result"
    }
   ],
   "source": [
    "len(simFCW2)"
   ]
  },
  {
   "cell_type": "code",
   "execution_count": null,
   "metadata": {},
   "outputs": [],
   "source": [
    "len"
   ]
  },
  {
   "cell_type": "code",
   "execution_count": 150,
   "metadata": {},
   "outputs": [],
   "source": [
    "#fix range\n",
    "simFCW2 = simFCW[0:146]"
   ]
  },
  {
   "cell_type": "code",
   "execution_count": 152,
   "metadata": {},
   "outputs": [],
   "source": [
    "x = [item for sub in simFCW3 for item in sub]"
   ]
  },
  {
   "cell_type": "code",
   "execution_count": 112,
   "metadata": {},
   "outputs": [],
   "source": [
    "x = simFCW2.flatten()"
   ]
  },
  {
   "cell_type": "code",
   "execution_count": null,
   "metadata": {},
   "outputs": [],
   "source": [
    "#similarity_pd = col.transpose()"
   ]
  },
  {
   "cell_type": "code",
   "execution_count": 96,
   "metadata": {},
   "outputs": [],
   "source": [
    "#transpose the array\n",
    "#similarity_pd = column"
   ]
  },
  {
   "cell_type": "code",
   "execution_count": 135,
   "metadata": {},
   "outputs": [],
   "source": [
    "y = [item for sub in column for item in sub]"
   ]
  },
  {
   "cell_type": "code",
   "execution_count": 97,
   "metadata": {},
   "outputs": [
    {
     "ename": "AttributeError",
     "evalue": "'list' object has no attribute 'flatten'",
     "output_type": "error",
     "traceback": [
      "\u001b[0;31m---------------------------------------------------------------------------\u001b[0m",
      "\u001b[0;31mAttributeError\u001b[0m                            Traceback (most recent call last)",
      "\u001b[0;32m<ipython-input-97-a7fdac040955>\u001b[0m in \u001b[0;36m<module>\u001b[0;34m\u001b[0m\n\u001b[0;32m----> 1\u001b[0;31m \u001b[0my\u001b[0m \u001b[0;34m=\u001b[0m \u001b[0msimilarity_pd\u001b[0m\u001b[0;34m.\u001b[0m\u001b[0mflatten\u001b[0m\u001b[0;34m(\u001b[0m\u001b[0;34m)\u001b[0m\u001b[0;34m\u001b[0m\u001b[0;34m\u001b[0m\u001b[0m\n\u001b[0m",
      "\u001b[0;31mAttributeError\u001b[0m: 'list' object has no attribute 'flatten'"
     ]
    }
   ],
   "source": [
    "y = similarity_pd.flatten()"
   ]
  },
  {
   "cell_type": "code",
   "execution_count": 153,
   "metadata": {},
   "outputs": [
    {
     "data": {
      "text/plain": [
       "1281880"
      ]
     },
     "execution_count": 153,
     "metadata": {},
     "output_type": "execute_result"
    }
   ],
   "source": [
    "len(x)"
   ]
  },
  {
   "cell_type": "code",
   "execution_count": 146,
   "metadata": {},
   "outputs": [
    {
     "data": {
      "text/plain": [
       "1281880"
      ]
     },
     "execution_count": 146,
     "metadata": {},
     "output_type": "execute_result"
    }
   ],
   "source": [
    "len(y)"
   ]
  },
  {
   "cell_type": "code",
   "execution_count": 154,
   "metadata": {},
   "outputs": [
    {
     "data": {
      "text/html": [
       "<div>\n",
       "<style scoped>\n",
       "    .dataframe tbody tr th:only-of-type {\n",
       "        vertical-align: middle;\n",
       "    }\n",
       "\n",
       "    .dataframe tbody tr th {\n",
       "        vertical-align: top;\n",
       "    }\n",
       "\n",
       "    .dataframe thead th {\n",
       "        text-align: right;\n",
       "    }\n",
       "</style>\n",
       "<table border=\"1\" class=\"dataframe\">\n",
       "  <thead>\n",
       "    <tr style=\"text-align: right;\">\n",
       "      <th></th>\n",
       "      <th>W2V</th>\n",
       "      <th>Similarity</th>\n",
       "    </tr>\n",
       "  </thead>\n",
       "  <tbody>\n",
       "    <tr>\n",
       "      <th>0</th>\n",
       "      <td>0.917209</td>\n",
       "      <td>0.866765</td>\n",
       "    </tr>\n",
       "    <tr>\n",
       "      <th>1</th>\n",
       "      <td>0.920380</td>\n",
       "      <td>0.820076</td>\n",
       "    </tr>\n",
       "    <tr>\n",
       "      <th>2</th>\n",
       "      <td>0.898639</td>\n",
       "      <td>0.831417</td>\n",
       "    </tr>\n",
       "    <tr>\n",
       "      <th>3</th>\n",
       "      <td>0.891890</td>\n",
       "      <td>0.735399</td>\n",
       "    </tr>\n",
       "    <tr>\n",
       "      <th>4</th>\n",
       "      <td>0.845145</td>\n",
       "      <td>0.746892</td>\n",
       "    </tr>\n",
       "    <tr>\n",
       "      <th>...</th>\n",
       "      <td>...</td>\n",
       "      <td>...</td>\n",
       "    </tr>\n",
       "    <tr>\n",
       "      <th>1281875</th>\n",
       "      <td>0.779066</td>\n",
       "      <td>0.345402</td>\n",
       "    </tr>\n",
       "    <tr>\n",
       "      <th>1281876</th>\n",
       "      <td>0.851435</td>\n",
       "      <td>0.836400</td>\n",
       "    </tr>\n",
       "    <tr>\n",
       "      <th>1281877</th>\n",
       "      <td>0.715525</td>\n",
       "      <td>0.208228</td>\n",
       "    </tr>\n",
       "    <tr>\n",
       "      <th>1281878</th>\n",
       "      <td>0.749023</td>\n",
       "      <td>0.835373</td>\n",
       "    </tr>\n",
       "    <tr>\n",
       "      <th>1281879</th>\n",
       "      <td>0.803171</td>\n",
       "      <td>0.775674</td>\n",
       "    </tr>\n",
       "  </tbody>\n",
       "</table>\n",
       "<p>1281880 rows × 2 columns</p>\n",
       "</div>"
      ],
      "text/plain": [
       "              W2V  Similarity\n",
       "0        0.917209    0.866765\n",
       "1        0.920380    0.820076\n",
       "2        0.898639    0.831417\n",
       "3        0.891890    0.735399\n",
       "4        0.845145    0.746892\n",
       "...           ...         ...\n",
       "1281875  0.779066    0.345402\n",
       "1281876  0.851435    0.836400\n",
       "1281877  0.715525    0.208228\n",
       "1281878  0.749023    0.835373\n",
       "1281879  0.803171    0.775674\n",
       "\n",
       "[1281880 rows x 2 columns]"
      ]
     },
     "execution_count": 154,
     "metadata": {},
     "output_type": "execute_result"
    }
   ],
   "source": [
    "corr = pd.DataFrame({'W2V': x, 'Similarity': y})\n",
    "corr"
   ]
  },
  {
   "cell_type": "code",
   "execution_count": 155,
   "metadata": {},
   "outputs": [
    {
     "data": {
      "text/plain": [
       "<matplotlib.axes._subplots.AxesSubplot at 0x1b89e52690>"
      ]
     },
     "execution_count": 155,
     "metadata": {},
     "output_type": "execute_result"
    },
    {
     "data": {
      "image/png": "[encoded data removed]",
      "text/plain": [
       "<Figure size 432x288 with 1 Axes>"
      ]
     },
     "metadata": {
      "needs_background": "light"
     },
     "output_type": "display_data"
    }
   ],
   "source": [
    "corr.plot.scatter(x = 'W2V', y = 'Similarity')"
   ]
  },
  {
   "cell_type": "code",
   "execution_count": 163,
   "metadata": {},
   "outputs": [
    {
     "name": "stdout",
     "output_type": "stream",
     "text": [
      "24\n"
     ]
    }
   ],
   "source": [
    "print(count)"
   ]
  },
  {
   "cell_type": "code",
   "execution_count": 168,
   "metadata": {},
   "outputs": [],
   "source": [
    "corr1 = corr.values.tolist()\n"
   ]
  },
  {
   "cell_type": "code",
   "execution_count": 169,
   "metadata": {},
   "outputs": [
    {
     "data": {
      "text/plain": [
       "[0.9172094111188741, 0.8667645084010281]"
      ]
     },
     "execution_count": 169,
     "metadata": {},
     "output_type": "execute_result"
    }
   ],
   "source": [
    "corr1[0]"
   ]
  },
  {
   "cell_type": "code",
   "execution_count": 171,
   "metadata": {},
   "outputs": [],
   "source": [
    "import csv\n",
    "with open('W2V_Sim.csv', 'w') as f: \n",
    "      \n",
    "    # using csv.writer method from CSV package \n",
    "    write = csv.writer(f) \n",
    "     \n",
    "    write.writerow([\"W2V\",\"Similarity\"])\n",
    "    write.writerows(corr1)"
   ]
  },
  {
   "cell_type": "code",
   "execution_count": 203,
   "metadata": {},
   "outputs": [],
   "source": [
    "import csv\n",
    "with open('Column2.csv', 'w') as f: \n",
    "      \n",
    "    # using csv.writer method from CSV package \n",
    "    write = csv.writer(f) \n",
    "     \n",
    "    write.writerow(row)\n",
    "    write.writerows(column)"
   ]
  },
  {
   "cell_type": "code",
   "execution_count": 202,
   "metadata": {},
   "outputs": [],
   "source": [
    "row = list(range(0,8780))\n",
    "#row[8770:]"
   ]
  },
  {
   "cell_type": "code",
   "execution_count": 177,
   "metadata": {},
   "outputs": [
    {
     "data": {
      "text/plain": [
       "8780"
      ]
     },
     "execution_count": 177,
     "metadata": {},
     "output_type": "execute_result"
    }
   ],
   "source": [
    "len(column[0])"
   ]
  },
  {
   "cell_type": "code",
   "execution_count": 257,
   "metadata": {},
   "outputs": [
    {
     "data": {
      "text/html": [
       "<div>\n",
       "<style scoped>\n",
       "    .dataframe tbody tr th:only-of-type {\n",
       "        vertical-align: middle;\n",
       "    }\n",
       "\n",
       "    .dataframe tbody tr th {\n",
       "        vertical-align: top;\n",
       "    }\n",
       "\n",
       "    .dataframe thead th {\n",
       "        text-align: right;\n",
       "    }\n",
       "</style>\n",
       "<table border=\"1\" class=\"dataframe\">\n",
       "  <thead>\n",
       "    <tr style=\"text-align: right;\">\n",
       "      <th></th>\n",
       "      <th>0</th>\n",
       "      <th>1</th>\n",
       "      <th>2</th>\n",
       "      <th>3</th>\n",
       "      <th>4</th>\n",
       "      <th>5</th>\n",
       "      <th>6</th>\n",
       "      <th>7</th>\n",
       "      <th>8</th>\n",
       "      <th>9</th>\n",
       "      <th>...</th>\n",
       "      <th>8770</th>\n",
       "      <th>8771</th>\n",
       "      <th>8772</th>\n",
       "      <th>8773</th>\n",
       "      <th>8774</th>\n",
       "      <th>8775</th>\n",
       "      <th>8776</th>\n",
       "      <th>8777</th>\n",
       "      <th>8778</th>\n",
       "      <th>8779</th>\n",
       "    </tr>\n",
       "  </thead>\n",
       "  <tbody>\n",
       "    <tr>\n",
       "      <th>0</th>\n",
       "      <td>0.866765</td>\n",
       "      <td>0.820076</td>\n",
       "      <td>0.831417</td>\n",
       "      <td>0.735399</td>\n",
       "      <td>0.746892</td>\n",
       "      <td>0.826259</td>\n",
       "      <td>0.824602</td>\n",
       "      <td>0.863643</td>\n",
       "      <td>0.881462</td>\n",
       "      <td>0.827351</td>\n",
       "      <td>...</td>\n",
       "      <td>0.815167</td>\n",
       "      <td>0.851790</td>\n",
       "      <td>0.761471</td>\n",
       "      <td>0.180216</td>\n",
       "      <td>0.820568</td>\n",
       "      <td>0.348516</td>\n",
       "      <td>0.808758</td>\n",
       "      <td>0.178895</td>\n",
       "      <td>0.880250</td>\n",
       "      <td>0.802418</td>\n",
       "    </tr>\n",
       "    <tr>\n",
       "      <th>1</th>\n",
       "      <td>0.891944</td>\n",
       "      <td>0.840918</td>\n",
       "      <td>0.833264</td>\n",
       "      <td>0.726092</td>\n",
       "      <td>0.809313</td>\n",
       "      <td>0.803603</td>\n",
       "      <td>0.846248</td>\n",
       "      <td>0.878570</td>\n",
       "      <td>0.881742</td>\n",
       "      <td>0.860609</td>\n",
       "      <td>...</td>\n",
       "      <td>0.786309</td>\n",
       "      <td>0.904033</td>\n",
       "      <td>0.843263</td>\n",
       "      <td>0.216125</td>\n",
       "      <td>0.842062</td>\n",
       "      <td>0.331369</td>\n",
       "      <td>0.804828</td>\n",
       "      <td>0.214330</td>\n",
       "      <td>0.908770</td>\n",
       "      <td>0.855686</td>\n",
       "    </tr>\n",
       "    <tr>\n",
       "      <th>2</th>\n",
       "      <td>0.866756</td>\n",
       "      <td>0.843843</td>\n",
       "      <td>0.871807</td>\n",
       "      <td>0.780722</td>\n",
       "      <td>0.818170</td>\n",
       "      <td>0.883924</td>\n",
       "      <td>0.864499</td>\n",
       "      <td>0.868410</td>\n",
       "      <td>0.915478</td>\n",
       "      <td>0.815102</td>\n",
       "      <td>...</td>\n",
       "      <td>0.867475</td>\n",
       "      <td>0.856220</td>\n",
       "      <td>0.757057</td>\n",
       "      <td>0.225937</td>\n",
       "      <td>0.823581</td>\n",
       "      <td>0.312833</td>\n",
       "      <td>0.880187</td>\n",
       "      <td>0.231751</td>\n",
       "      <td>0.861052</td>\n",
       "      <td>0.758024</td>\n",
       "    </tr>\n",
       "    <tr>\n",
       "      <th>3</th>\n",
       "      <td>0.800267</td>\n",
       "      <td>0.844040</td>\n",
       "      <td>0.849693</td>\n",
       "      <td>0.739201</td>\n",
       "      <td>0.749170</td>\n",
       "      <td>0.872241</td>\n",
       "      <td>0.818690</td>\n",
       "      <td>0.818136</td>\n",
       "      <td>0.827945</td>\n",
       "      <td>0.781618</td>\n",
       "      <td>...</td>\n",
       "      <td>0.824751</td>\n",
       "      <td>0.857020</td>\n",
       "      <td>0.800465</td>\n",
       "      <td>0.193315</td>\n",
       "      <td>0.783639</td>\n",
       "      <td>0.306849</td>\n",
       "      <td>0.832592</td>\n",
       "      <td>0.193253</td>\n",
       "      <td>0.844189</td>\n",
       "      <td>0.784805</td>\n",
       "    </tr>\n",
       "    <tr>\n",
       "      <th>4</th>\n",
       "      <td>0.905055</td>\n",
       "      <td>0.849839</td>\n",
       "      <td>0.824750</td>\n",
       "      <td>0.726188</td>\n",
       "      <td>0.806523</td>\n",
       "      <td>0.821110</td>\n",
       "      <td>0.855340</td>\n",
       "      <td>0.893772</td>\n",
       "      <td>0.896083</td>\n",
       "      <td>0.852852</td>\n",
       "      <td>...</td>\n",
       "      <td>0.811606</td>\n",
       "      <td>0.902216</td>\n",
       "      <td>0.828375</td>\n",
       "      <td>0.199692</td>\n",
       "      <td>0.854019</td>\n",
       "      <td>0.320477</td>\n",
       "      <td>0.818777</td>\n",
       "      <td>0.197118</td>\n",
       "      <td>0.908849</td>\n",
       "      <td>0.844831</td>\n",
       "    </tr>\n",
       "    <tr>\n",
       "      <th>...</th>\n",
       "      <td>...</td>\n",
       "      <td>...</td>\n",
       "      <td>...</td>\n",
       "      <td>...</td>\n",
       "      <td>...</td>\n",
       "      <td>...</td>\n",
       "      <td>...</td>\n",
       "      <td>...</td>\n",
       "      <td>...</td>\n",
       "      <td>...</td>\n",
       "      <td>...</td>\n",
       "      <td>...</td>\n",
       "      <td>...</td>\n",
       "      <td>...</td>\n",
       "      <td>...</td>\n",
       "      <td>...</td>\n",
       "      <td>...</td>\n",
       "      <td>...</td>\n",
       "      <td>...</td>\n",
       "      <td>...</td>\n",
       "      <td>...</td>\n",
       "    </tr>\n",
       "    <tr>\n",
       "      <th>725</th>\n",
       "      <td>0.873123</td>\n",
       "      <td>0.872752</td>\n",
       "      <td>0.857324</td>\n",
       "      <td>0.736863</td>\n",
       "      <td>0.811766</td>\n",
       "      <td>0.879597</td>\n",
       "      <td>0.885272</td>\n",
       "      <td>0.854047</td>\n",
       "      <td>0.877342</td>\n",
       "      <td>0.824478</td>\n",
       "      <td>...</td>\n",
       "      <td>0.851905</td>\n",
       "      <td>0.864668</td>\n",
       "      <td>0.784968</td>\n",
       "      <td>0.207998</td>\n",
       "      <td>0.806227</td>\n",
       "      <td>0.296403</td>\n",
       "      <td>0.836505</td>\n",
       "      <td>0.207928</td>\n",
       "      <td>0.876472</td>\n",
       "      <td>0.773961</td>\n",
       "    </tr>\n",
       "    <tr>\n",
       "      <th>726</th>\n",
       "      <td>0.848235</td>\n",
       "      <td>0.779953</td>\n",
       "      <td>0.845547</td>\n",
       "      <td>0.722801</td>\n",
       "      <td>0.739166</td>\n",
       "      <td>0.842055</td>\n",
       "      <td>0.799324</td>\n",
       "      <td>0.897262</td>\n",
       "      <td>0.849266</td>\n",
       "      <td>0.811988</td>\n",
       "      <td>...</td>\n",
       "      <td>0.811855</td>\n",
       "      <td>0.825798</td>\n",
       "      <td>0.723854</td>\n",
       "      <td>0.212638</td>\n",
       "      <td>0.801266</td>\n",
       "      <td>0.233645</td>\n",
       "      <td>0.817490</td>\n",
       "      <td>0.209999</td>\n",
       "      <td>0.882624</td>\n",
       "      <td>0.744730</td>\n",
       "    </tr>\n",
       "    <tr>\n",
       "      <th>727</th>\n",
       "      <td>0.866661</td>\n",
       "      <td>0.820932</td>\n",
       "      <td>0.845338</td>\n",
       "      <td>0.713119</td>\n",
       "      <td>0.767285</td>\n",
       "      <td>0.852613</td>\n",
       "      <td>0.836439</td>\n",
       "      <td>0.890508</td>\n",
       "      <td>0.836720</td>\n",
       "      <td>0.822145</td>\n",
       "      <td>...</td>\n",
       "      <td>0.819054</td>\n",
       "      <td>0.862068</td>\n",
       "      <td>0.795185</td>\n",
       "      <td>0.232862</td>\n",
       "      <td>0.825084</td>\n",
       "      <td>0.275121</td>\n",
       "      <td>0.831021</td>\n",
       "      <td>0.227897</td>\n",
       "      <td>0.880502</td>\n",
       "      <td>0.773536</td>\n",
       "    </tr>\n",
       "    <tr>\n",
       "      <th>728</th>\n",
       "      <td>0.856244</td>\n",
       "      <td>0.878658</td>\n",
       "      <td>0.841753</td>\n",
       "      <td>0.737971</td>\n",
       "      <td>0.812051</td>\n",
       "      <td>0.859405</td>\n",
       "      <td>0.879585</td>\n",
       "      <td>0.847718</td>\n",
       "      <td>0.910539</td>\n",
       "      <td>0.804668</td>\n",
       "      <td>...</td>\n",
       "      <td>0.842665</td>\n",
       "      <td>0.878221</td>\n",
       "      <td>0.794520</td>\n",
       "      <td>0.202251</td>\n",
       "      <td>0.808036</td>\n",
       "      <td>0.360894</td>\n",
       "      <td>0.845441</td>\n",
       "      <td>0.204266</td>\n",
       "      <td>0.847183</td>\n",
       "      <td>0.784783</td>\n",
       "    </tr>\n",
       "    <tr>\n",
       "      <th>729</th>\n",
       "      <td>0.844128</td>\n",
       "      <td>0.883742</td>\n",
       "      <td>0.834207</td>\n",
       "      <td>0.739341</td>\n",
       "      <td>0.871742</td>\n",
       "      <td>0.867981</td>\n",
       "      <td>0.953439</td>\n",
       "      <td>0.808632</td>\n",
       "      <td>0.869341</td>\n",
       "      <td>0.794845</td>\n",
       "      <td>...</td>\n",
       "      <td>0.874638</td>\n",
       "      <td>0.843417</td>\n",
       "      <td>0.784575</td>\n",
       "      <td>0.205651</td>\n",
       "      <td>0.776290</td>\n",
       "      <td>0.308183</td>\n",
       "      <td>0.841005</td>\n",
       "      <td>0.210346</td>\n",
       "      <td>0.838795</td>\n",
       "      <td>0.750312</td>\n",
       "    </tr>\n",
       "  </tbody>\n",
       "</table>\n",
       "<p>876 rows × 8780 columns</p>\n",
       "</div>"
      ],
      "text/plain": [
       "            0         1         2         3         4         5         6  \\\n",
       "0    0.866765  0.820076  0.831417  0.735399  0.746892  0.826259  0.824602   \n",
       "1    0.891944  0.840918  0.833264  0.726092  0.809313  0.803603  0.846248   \n",
       "2    0.866756  0.843843  0.871807  0.780722  0.818170  0.883924  0.864499   \n",
       "3    0.800267  0.844040  0.849693  0.739201  0.749170  0.872241  0.818690   \n",
       "4    0.905055  0.849839  0.824750  0.726188  0.806523  0.821110  0.855340   \n",
       "..        ...       ...       ...       ...       ...       ...       ...   \n",
       "725  0.873123  0.872752  0.857324  0.736863  0.811766  0.879597  0.885272   \n",
       "726  0.848235  0.779953  0.845547  0.722801  0.739166  0.842055  0.799324   \n",
       "727  0.866661  0.820932  0.845338  0.713119  0.767285  0.852613  0.836439   \n",
       "728  0.856244  0.878658  0.841753  0.737971  0.812051  0.859405  0.879585   \n",
       "729  0.844128  0.883742  0.834207  0.739341  0.871742  0.867981  0.953439   \n",
       "\n",
       "            7         8         9  ...      8770      8771      8772  \\\n",
       "0    0.863643  0.881462  0.827351  ...  0.815167  0.851790  0.761471   \n",
       "1    0.878570  0.881742  0.860609  ...  0.786309  0.904033  0.843263   \n",
       "2    0.868410  0.915478  0.815102  ...  0.867475  0.856220  0.757057   \n",
       "3    0.818136  0.827945  0.781618  ...  0.824751  0.857020  0.800465   \n",
       "4    0.893772  0.896083  0.852852  ...  0.811606  0.902216  0.828375   \n",
       "..        ...       ...       ...  ...       ...       ...       ...   \n",
       "725  0.854047  0.877342  0.824478  ...  0.851905  0.864668  0.784968   \n",
       "726  0.897262  0.849266  0.811988  ...  0.811855  0.825798  0.723854   \n",
       "727  0.890508  0.836720  0.822145  ...  0.819054  0.862068  0.795185   \n",
       "728  0.847718  0.910539  0.804668  ...  0.842665  0.878221  0.794520   \n",
       "729  0.808632  0.869341  0.794845  ...  0.874638  0.843417  0.784575   \n",
       "\n",
       "         8773      8774      8775      8776      8777      8778      8779  \n",
       "0    0.180216  0.820568  0.348516  0.808758  0.178895  0.880250  0.802418  \n",
       "1    0.216125  0.842062  0.331369  0.804828  0.214330  0.908770  0.855686  \n",
       "2    0.225937  0.823581  0.312833  0.880187  0.231751  0.861052  0.758024  \n",
       "3    0.193315  0.783639  0.306849  0.832592  0.193253  0.844189  0.784805  \n",
       "4    0.199692  0.854019  0.320477  0.818777  0.197118  0.908849  0.844831  \n",
       "..        ...       ...       ...       ...       ...       ...       ...  \n",
       "725  0.207998  0.806227  0.296403  0.836505  0.207928  0.876472  0.773961  \n",
       "726  0.212638  0.801266  0.233645  0.817490  0.209999  0.882624  0.744730  \n",
       "727  0.232862  0.825084  0.275121  0.831021  0.227897  0.880502  0.773536  \n",
       "728  0.202251  0.808036  0.360894  0.845441  0.204266  0.847183  0.784783  \n",
       "729  0.205651  0.776290  0.308183  0.841005  0.210346  0.838795  0.750312  \n",
       "\n",
       "[876 rows x 8780 columns]"
      ]
     },
     "execution_count": 257,
     "metadata": {},
     "output_type": "execute_result"
    }
   ],
   "source": [
    "import pandas as pd\n",
    "test_dfCol = pd.read_csv(\"/Users/ryancramer/Desktop/Jupyter Notebook Files/Column.csv\")\n",
    "test_dfCol2 = pd.read_csv(\"/Users/ryancramer/Desktop/Jupyter Notebook Files/Column2.csv\")\n",
    "test_dfCol3 = pd.concat([test_dfCol,test_dfCol2])\n",
    "test_dfCol3"
   ]
  },
  {
   "cell_type": "code",
   "execution_count": null,
   "metadata": {},
   "outputs": [],
   "source": []
  },
  {
   "cell_type": "code",
   "execution_count": 183,
   "metadata": {},
   "outputs": [
    {
     "data": {
      "text/plain": [
       "146"
      ]
     },
     "execution_count": 183,
     "metadata": {},
     "output_type": "execute_result"
    }
   ],
   "source": [
    "len(column)"
   ]
  },
  {
   "cell_type": "code",
   "execution_count": null,
   "metadata": {},
   "outputs": [],
   "source": []
  },
  {
   "cell_type": "code",
   "execution_count": 234,
   "metadata": {},
   "outputs": [],
   "source": [
    "backtest = [\"This is a test for the similarity method\",\"How similar are these sentences\",\"Java is the best programming language\"]"
   ]
  },
  {
   "cell_type": "code",
   "execution_count": null,
   "metadata": {},
   "outputs": [],
   "source": [
    "backtest2 = \"How similar are these sentences\""
   ]
  },
  {
   "cell_type": "code",
   "execution_count": 235,
   "metadata": {},
   "outputs": [],
   "source": [
    "docT = nlp.pipe(backtest)"
   ]
  },
  {
   "cell_type": "code",
   "execution_count": 236,
   "metadata": {},
   "outputs": [
    {
     "name": "stdout",
     "output_type": "stream",
     "text": [
      "This is a test for the similarity method\n",
      "How similar are these sentences\n",
      "0.6870982430436656\n",
      "Java is the best programming language\n",
      "0.7439008785457435\n"
     ]
    }
   ],
   "source": [
    "for sent in docT:\n",
    "    print(sent.text)\n",
    "    for word in docT:\n",
    "        print(word.text)\n",
    "        print(sent.similarity(word))"
   ]
  },
  {
   "cell_type": "code",
   "execution_count": 237,
   "metadata": {},
   "outputs": [],
   "source": [
    "docT4 = nlp.pipe(backtest)"
   ]
  },
  {
   "cell_type": "code",
   "execution_count": 415,
   "metadata": {},
   "outputs": [
    {
     "data": {
      "text/plain": [
       "3"
      ]
     },
     "execution_count": 415,
     "metadata": {},
     "output_type": "execute_result"
    }
   ],
   "source": [
    "len(sumss)"
   ]
  },
  {
   "cell_type": "code",
   "execution_count": 238,
   "metadata": {},
   "outputs": [],
   "source": [
    "sumss = []\n",
    "for job in docT4:\n",
    "    count = 0\n",
    "    hold1 = np.empty(300)\n",
    "    for word in job:\n",
    "        hold1 = hold1 + nlp(str(word.lemma_)).vector\n",
    "        count = count +1\n",
    "    if count != 0:\n",
    "        hold1 = hold1 / count\n",
    "    sumss.append(hold1)"
   ]
  },
  {
   "cell_type": "code",
   "execution_count": 247,
   "metadata": {},
   "outputs": [
    {
     "name": "stdout",
     "output_type": "stream",
     "text": [
      "[array([-2.43351241e-02,  2.10112751e-01, -1.45312751e-01,  5.31619128e-02,\n",
      "       -8.97119978e-02, -1.33479278e-01,  2.65461000e+00,  2.00487324e-02,\n",
      "       -3.45460595e-01,  1.93969773e+00, -1.75614389e-01,  2.88703460e+00,\n",
      "        1.99272339e-01, -4.21463313e-04, -5.19964788e+01, -6.66355602e+00,\n",
      "       -4.51710287e-02,  2.00703080e+00, -1.93702711e-01, -5.89504483e-01,\n",
      "        5.67019358e+01, -1.54308482e-01,  4.21290285e+02,  1.38979218e-01,\n",
      "       -2.55240925e-02,  1.50288580e-01, -4.17629341e-02, -3.09065999e-02,\n",
      "       -1.09228813e-01, -3.98745433e-03,  4.19344764e-02, -5.83647619e-02,\n",
      "        3.61763346e-01, -8.11203624e-03,  8.42592302e+01, -5.83830712e-02,\n",
      "        1.70866353e+01, -1.27690706e+02,  1.41177657e-01, -1.84043687e-01,\n",
      "        5.91747515e-02, -3.78897450e+00, -1.17296336e-01, -2.67943373e-02,\n",
      "       -1.06771405e+01,  3.65511782e-03, -6.44065458e-02,  9.41178533e-02,\n",
      "       -7.09260109e-02,  8.46121098e-02, -8.53951314e-02,  9.99351484e-02,\n",
      "       -7.63692026e-02, -1.05166278e-02,  1.03475165e-01,  1.14181619e-01,\n",
      "        1.96220521e-02,  2.49698763e-02, -1.29023001e-02,  4.83204950e-02,\n",
      "        3.91421258e-03, -2.79904447e+00, -1.38485243e+01, -2.07732965e+00,\n",
      "        1.70816943e-01,  5.53006073e-02, -1.23834863e-01, -3.42286339e-02,\n",
      "       -3.62422438e-02,  6.32990478e-02,  1.02298492e+03,  1.03894027e-01,\n",
      "        1.62615759e-01, -4.32798245e-02,  3.36299553e-02,  6.70614196e-02,\n",
      "        3.26550941e-02, -1.22462989e-01,  1.27628983e-02, -5.71458137e-02,\n",
      "       -7.15588252e-02,  8.15381626e-02,  2.82795363e-01, -6.57818278e-02,\n",
      "        4.30257602e-01, -1.56569096e+02,  8.70701206e+00, -2.98782782e-02,\n",
      "        9.44126215e-02, -6.44208915e-02, -1.03400626e-01,  2.64226622e-01,\n",
      "       -1.95000353e+00,  1.26089208e-01,  4.64412547e-02,  2.54243263e-02,\n",
      "        2.48388210e-02,  2.83120222e-01,  1.88040060e-01,  1.13817614e-01,\n",
      "        6.36692479e-02, -2.74682184e-04,  1.87207625e-01, -7.36850012e-03,\n",
      "        2.18486051e-01, -1.11603859e+00,  1.29558439e-01,  4.12867374e-01,\n",
      "        2.12224899e-03, -5.75989065e+00, -5.99914088e+01, -6.60891540e-01,\n",
      "        5.24894952e-02,  3.95244129e-01,  1.97316080e-02,  1.30720358e-01,\n",
      "        2.92202320e-01,  3.12797148e-01,  1.56113084e+03,  1.11974184e-01,\n",
      "       -1.00994051e-02, -1.35815592e-01, -5.60959261e-02,  1.25166378e-01,\n",
      "       -1.15376495e-02,  2.98332506e-02, -1.26725905e-01, -2.62567835e-01,\n",
      "       -8.41420447e-02, -4.71373108e-02,  6.01942949e-01, -1.23424095e-01,\n",
      "        2.55436437e-01, -5.63545198e+01,  3.45351770e+00,  3.08873196e-02,\n",
      "       -9.33899329e-03, -1.89700629e-02,  1.68626982e-01, -1.48042196e-01,\n",
      "       -1.56658025e+00,  1.06215687e-02, -6.93362473e-02, -3.01832407e-02,\n",
      "       -2.26491313e+00, -2.08229286e-02,  5.86220319e-01, -6.90378703e-01,\n",
      "        2.56498222e-01,  2.47722382e-02, -3.62077731e-02,  2.53959675e-02,\n",
      "       -1.72750162e-01,  8.90862475e-01,  2.39953186e-02,  3.87604180e-02,\n",
      "       -1.49527553e-01, -2.48128539e+01, -7.28431960e-01, -2.46953551e-01,\n",
      "        3.86440669e-02, -5.54581108e-02, -6.13008521e-03, -7.10548489e-02,\n",
      "       -2.52451388e-01, -3.06047498e-01,  8.56051827e+01, -1.78951496e-02,\n",
      "        2.04716640e-01,  8.57357590e-02,  5.74869266e-01,  4.18285075e+00,\n",
      "        1.27715027e-01, -1.72536034e-01, -2.00907582e-01, -1.34192455e+00,\n",
      "       -3.83070998e+00, -8.61890931e-02,  1.49976302e-01,  5.93808037e-02,\n",
      "        7.00158621e-01, -3.17336378e+00,  7.56471316e-01,  9.45499633e-03,\n",
      "        7.72721611e-03, -8.80093254e-02, -1.81930961e-01,  1.47681133e-01,\n",
      "       -2.47211422e-01,  1.02792107e+00, -2.08395622e-01,  2.09968323e-02,\n",
      "       -1.19766002e+02, -5.70347029e+01,  2.85095778e-01,  1.50392354e+00,\n",
      "       -9.07198484e-02, -5.25709014e-02,  1.07636366e-01,  2.89441452e+00,\n",
      "       -7.11232115e-02, -5.59303760e-02,  1.38438638e+00,  2.01841928e-01,\n",
      "       -4.80105610e+02, -4.18269003e-02, -8.81850026e-02,  1.40846107e+02,\n",
      "        9.42244651e-02, -3.23970027e+01, -1.79885192e-01,  1.06935576e-03,\n",
      "       -5.92505525e-02, -2.97304748e-01,  7.47272964e-01, -4.88832143e+01,\n",
      "       -1.24333072e+01,  3.55249015e+00,  1.83431590e+00,  8.69554469e+00,\n",
      "        6.41392153e-01, -1.62016298e+00,  1.52702939e+00, -6.75262180e-02,\n",
      "       -1.85249348e+00,  6.09707139e+00, -1.26158661e+01,  1.61073214e-01,\n",
      "       -7.76777992e-02,  8.24550153e-03,  8.13563687e-03,  1.92624994e-01,\n",
      "        1.25359251e+02, -1.39755633e+00, -2.11688540e-01, -3.48812661e-01,\n",
      "       -1.60419745e-01,  5.23965023e-02, -1.29073857e+00,  1.39681318e-01,\n",
      "        3.63528482e+00,  2.49159243e-03, -1.90482880e-01,  1.45851847e+00,\n",
      "        8.92516254e-02, -1.83578882e+01,  1.95567192e-01, -2.09516327e-01,\n",
      "       -1.33864661e-01, -1.00562257e-02, -4.64976939e-02, -7.54424548e-02,\n",
      "       -3.51977107e-02,  1.76997883e-04,  4.67077190e-02,  1.74935217e-01,\n",
      "        2.36398339e-01, -6.18622453e-02,  8.58038327e-02,  9.38406954e-02,\n",
      "        7.89388629e-02,  1.87596547e-01,  1.63915667e-01,  5.52703576e-02,\n",
      "       -9.66680674e-01,  3.96192167e+00,  1.97796920e-01,  2.23589471e-01,\n",
      "        7.57131568e-01, -6.13305739e+01,  2.64157112e-01,  2.45065486e+01,\n",
      "       -7.64605906e-02,  2.49706741e+02, -1.12031783e+01, -4.63469182e-02,\n",
      "       -6.52356288e-02,  6.78551075e-01, -3.37869250e+01,  2.30760210e-01,\n",
      "       -4.99400591e-01,  8.79971957e-02,  7.93975452e-02,  3.37252764e+02,\n",
      "       -1.29574446e-01, -2.38964166e-01,  7.77414389e-02, -9.27157040e-02,\n",
      "       -9.89235797e+00, -2.02959705e-01,  1.56151060e+01, -2.35439484e-02,\n",
      "       -5.98701444e+00,  1.18962505e+01,  1.15285391e-01, -4.51424922e-02,\n",
      "       -1.42094138e-01,  3.26709094e-03, -9.03585345e-02, -1.03606031e+00]), array([-1.78362801e-01,  4.96402402e-01, -5.89478409e-01,  2.69344216e-02,\n",
      "       -2.21211436e-01, -2.37013647e-01,  4.22078758e+00,  1.27578373e-01,\n",
      "       -4.71243152e-01,  5.53939636e+00, -3.73002618e-01,  4.70746136e+00,\n",
      "        4.54057740e-01, -1.73448632e-02, -8.33541071e+01, -1.06731340e+01,\n",
      "       -8.31558462e-02,  4.34088126e+00, -5.16526342e-01, -1.13019117e+00,\n",
      "        9.06906611e+01, -4.52331174e-01,  6.74096322e+02,  2.23086324e-01,\n",
      "       -1.72011072e-01,  2.89631126e-01, -5.76310936e-02, -2.01372559e-01,\n",
      "        4.45929780e-03, -1.18537929e-01, -1.30435640e-01,  3.74993794e-02,\n",
      "        6.98175551e-01, -9.66594593e-02,  1.34861751e+02, -1.02694712e-01,\n",
      "        2.74751091e+01, -2.04338747e+02, -1.03175150e-01, -3.85187892e-01,\n",
      "       -8.68662005e-02, -6.17539481e+00,  2.99528651e-02, -1.37108293e-01,\n",
      "       -1.69593526e+01, -1.02320075e-01, -2.41207874e-01,  1.48466564e-01,\n",
      "       -4.65438189e-02,  2.42994972e-01, -4.68522809e-01,  3.23329241e-01,\n",
      "       -1.83574125e-01,  2.19463325e-02,  2.48895667e-01,  2.98663186e-01,\n",
      "       -3.56617179e-02, -7.66350016e-02, -1.10113081e-01,  1.50659791e-01,\n",
      "        3.11059397e-02, -4.56023465e+00, -2.22455118e+01, -2.98907543e+00,\n",
      "        3.34156508e-01,  8.90069662e-02, -3.96910986e-01,  1.35353990e-01,\n",
      "       -9.23919081e-03,  1.40881075e-01,  1.63698218e+03,  5.93502445e-02,\n",
      "        5.95332618e-01, -2.50073717e-01,  5.12995310e-02, -9.77452842e-03,\n",
      "        5.87749501e-02, -3.51584985e-01, -1.13370368e-01,  8.07898958e-02,\n",
      "       -1.49618119e-01,  1.32077679e-01,  1.76201383e-01, -2.01032326e-01,\n",
      "        8.16197563e-01, -2.50706695e+02,  1.38354251e+01, -3.89455628e-01,\n",
      "        3.85608154e-01, -1.26622225e-01, -2.45339999e-01,  3.92710321e-01,\n",
      "       -3.34268444e+00,  2.67388131e-01,  1.66160809e-01,  2.65865721e-01,\n",
      "        8.59433168e-02,  3.37077358e-01,  4.74814098e-01, -5.72768204e-02,\n",
      "        7.57609953e-02,  7.57005077e-02,  2.87663800e-01, -5.73860001e-02,\n",
      "        5.79083685e-01, -3.02588174e+00,  1.86487498e-01,  6.32752679e-01,\n",
      "       -7.19405021e-02, -9.01016905e+00, -9.60900013e+01, -1.19862646e+00,\n",
      "        1.62019595e-01,  6.37232204e-01, -7.66708326e-02,  9.01575746e-02,\n",
      "        2.44903305e-01,  6.11625438e-01,  2.49763177e+03,  2.73330294e-01,\n",
      "        7.80195539e-02, -3.20674305e-01, -1.42526483e-01,  2.09654802e-01,\n",
      "        8.40589586e-02,  2.50614603e-01, -2.76539442e-01, -6.60484934e-01,\n",
      "       -5.59612714e-02,  1.01347998e-01,  1.04555296e+00, -2.38407191e-01,\n",
      "        4.15441293e-01, -9.02150505e+01,  5.72171812e+00,  1.67954909e-01,\n",
      "       -1.62744187e-01, -3.64255025e-02,  3.68661173e-01, -2.01412115e-01,\n",
      "       -3.69426238e+00,  1.00138711e-01, -1.14289792e-01,  2.48745575e-03,\n",
      "       -3.63514955e+00, -2.75812083e-01,  8.75831312e-01, -1.13314233e+00,\n",
      "        4.46639157e-01,  1.36253800e-02,  1.34194160e-01,  3.92703481e-02,\n",
      "       -3.73632461e-01,  1.40961416e+00, -4.67166875e-02, -2.00112358e-01,\n",
      "       -4.63934781e-01, -3.98200091e+01, -1.16340714e+00, -5.64309480e-01,\n",
      "       -5.04242928e-02, -4.12929803e-02, -3.94725364e-02, -1.95404759e-01,\n",
      "       -6.25513217e-01, -5.81073594e-01,  1.37117523e+02, -8.09844402e-02,\n",
      "        3.82477622e-01,  1.38729215e-01,  9.71901829e-01,  6.71266921e+00,\n",
      "        5.58830050e-01, -3.77771455e-01, -3.33951531e-01, -2.15357848e+00,\n",
      "       -6.03611377e+00, -3.95247505e-02,  4.24550081e-01,  1.74248608e-01,\n",
      "        1.17053780e+00, -4.98431444e+00,  1.15379217e+00,  4.98699941e-02,\n",
      "       -5.98446531e-02, -3.42431820e-03, -5.02417139e-01,  1.06829809e-01,\n",
      "       -2.92139675e-01,  1.83613612e+00, -2.72806190e-01,  7.06315279e-02,\n",
      "       -1.91736652e+02, -9.12456055e+01,  5.00971249e-01,  2.62848526e+00,\n",
      "       -2.67436158e-01, -1.57059642e-01,  1.09763188e-01,  4.68462524e+00,\n",
      "       -1.34399535e-01, -3.42138203e-01,  2.10658620e+00,  4.87093489e-01,\n",
      "       -7.68098719e+02, -9.51774008e-02, -8.70538078e-02,  2.25478648e+02,\n",
      "        2.74579943e-01, -5.16566543e+01, -1.90845511e-01, -2.01806337e-02,\n",
      "       -7.31970807e-02, -8.70489598e-01,  1.38862813e+00, -7.81220017e+01,\n",
      "       -1.99366935e+01,  5.80612323e+00,  2.60494744e+00,  1.38501233e+01,\n",
      "        1.19029305e+00, -2.58402457e+00,  2.33645042e+00,  3.58908534e-02,\n",
      "       -2.86387065e+00,  9.75960622e+00, -2.02318711e+01,  3.30344940e-01,\n",
      "       -1.95784480e-01, -4.27031966e-02, -1.62878982e-01,  4.55161391e-01,\n",
      "        2.00540662e+02, -1.94065814e+00, -3.63109660e-01, -7.89450256e-01,\n",
      "       -1.61769593e-01,  1.42716414e-01, -2.13109112e+00,  4.21807307e-01,\n",
      "        5.87444931e+00,  2.76941501e-02, -2.74707410e-01,  2.39207775e+00,\n",
      "        4.37388599e-01, -2.94248201e+01,  4.38632505e-01, -5.76840122e-01,\n",
      "       -3.82592057e-01,  1.42238234e-01, -1.29700507e-01, -2.24629325e-01,\n",
      "       -8.25873346e-02,  3.97841961e-02, -5.05281709e-02,  5.78630341e-01,\n",
      "        4.99830943e-01, -1.25929939e-02,  3.32730527e-01,  2.65178110e-01,\n",
      "        3.14995577e-01,  4.42374674e-01,  1.11302668e-01,  2.49832130e-01,\n",
      "       -1.62733507e+00,  6.50560867e+00,  4.04083068e-01,  6.33964351e-01,\n",
      "        1.96854652e+00, -9.81112256e+01,  4.17999784e-01,  3.91045837e+01,\n",
      "       -1.09142745e-01,  3.99453252e+02, -1.80445032e+01, -9.20712732e-02,\n",
      "       -1.64260104e-02,  1.25028332e+00, -5.40111231e+01,  5.90032933e-01,\n",
      "       -5.88358541e-01,  4.45839514e-01,  1.50206475e-01,  5.39313290e+02,\n",
      "       -2.33645310e-01, -4.42917865e-01,  2.38876100e-01, -1.06479308e-01,\n",
      "       -1.56351674e+01, -4.31495186e-01,  2.47249949e+01,  7.69666838e-02,\n",
      "       -9.61917229e+00,  1.90637810e+01,  1.94698826e-01, -9.46811869e-02,\n",
      "       -3.63248619e-01, -6.34370548e-02,  4.84075395e-02, -1.55148050e+00]), array([-1.46796000e-01,  3.53576336e-01, -5.35940172e-01,  1.30319851e-01,\n",
      "       -5.34487341e-02, -6.79251726e-02,  3.71349632e+00, -4.04148567e-02,\n",
      "       -2.86187623e-01,  6.38773864e+00, -5.53392023e-01,  3.88301113e+00,\n",
      "        5.41658783e-01, -3.65115086e-03, -6.94605264e+01, -8.99581836e+00,\n",
      "       -2.08904537e-01,  5.11751772e+00, -3.80495290e-01, -1.11192014e+00,\n",
      "        7.54475649e+01, -4.86438645e-01,  5.61757090e+02,  3.03886753e-01,\n",
      "       -5.53883287e-02,  1.98988772e-01, -5.77192443e-02, -1.65307017e-01,\n",
      "        1.36168082e-01, -2.10693274e-01, -1.88822647e-01, -3.21268850e-01,\n",
      "        6.72048458e-01, -2.32834553e-01,  1.12364400e+02, -2.43550096e-02,\n",
      "        2.29024459e+01, -1.70096030e+02, -2.32304441e-01, -3.27619908e-01,\n",
      "        1.04493355e-02, -5.26106734e+00, -1.47679280e-01, -7.35520791e-02,\n",
      "       -1.41749479e+01,  1.19006939e-01, -1.89226565e-01,  1.08235952e-01,\n",
      "        1.10314313e-01,  2.71966126e-01, -5.73523844e-01,  3.74551032e-01,\n",
      "       -2.74348016e-01, -9.67960626e-03,  2.21355892e-01,  2.58944989e-01,\n",
      "       -7.10867640e-02, -4.17133309e-02, -1.84675066e-01, -8.85105112e-02,\n",
      "       -2.08759867e-01, -3.71863466e+00, -1.85715552e+01, -2.21578686e+00,\n",
      "        5.45759920e-01,  1.82392304e-01, -2.27079540e-01,  3.56761989e-01,\n",
      "        1.35361006e-01,  1.68068063e-01,  1.36423511e+03,  1.10758238e-01,\n",
      "        7.05494185e-01, -4.72841256e-01,  2.11899492e-02,  5.55683902e-02,\n",
      "        6.59649589e-02, -2.46716485e-01, -7.04816398e-02,  5.76547069e-01,\n",
      "       -3.95436438e-01,  1.91020062e-01,  8.55614911e-02, -2.68838338e-01,\n",
      "        6.28866302e-01, -2.08921314e+02,  1.11490333e+01, -3.52443520e-01,\n",
      "        6.59089623e-01, -2.43656352e-01, -3.84990717e-01,  2.55186702e-01,\n",
      "       -3.01815220e+00,  3.78296358e-01,  5.99556339e-01,  2.74064386e-02,\n",
      "        1.36712597e-01,  8.93806318e-02,  5.77088916e-01,  3.41893992e-02,\n",
      "        4.59825003e-02, -1.40171914e-01, -8.46643351e-02,  1.50199662e-01,\n",
      "        7.45398067e-01, -3.67839310e+00,  3.52239246e-01,  7.37669803e-01,\n",
      "        4.42491565e-03, -7.53155121e+00, -8.02756371e+01, -1.05205172e+00,\n",
      "        1.73050664e-01,  3.78213834e-01, -1.97974691e-01,  1.61830879e-03,\n",
      "        1.44389919e-01,  6.95152371e-01,  2.08114218e+03,  2.77868413e-01,\n",
      "        1.83098962e-01, -4.27466587e-01, -2.71776405e-01,  5.03521711e-02,\n",
      "       -7.24258820e-02,  4.16621509e-01, -1.37647698e-01, -3.57845776e-01,\n",
      "       -3.60045559e-02,  5.57910832e-02,  1.10459579e+00, -2.43231527e-01,\n",
      "        1.54629077e-01, -7.52898288e+01,  4.83078711e+00,  1.88590256e-01,\n",
      "       -5.19840739e-02,  1.06562084e-01,  5.10878308e-01, -3.07020596e-01,\n",
      "       -4.26886364e+00,  1.03751228e-01, -5.49286618e-02, -1.30026710e-02,\n",
      "       -2.96400796e+00, -4.22631070e-01,  7.07244424e-01, -1.01420732e+00,\n",
      "        3.14564306e-01, -2.18959018e-01,  1.31557301e-01, -2.41987686e-03,\n",
      "       -4.44144550e-01,  1.36595263e+00, -6.74769067e-02, -2.61041398e-01,\n",
      "       -4.69964319e-01, -3.34491859e+01, -9.31507282e-01, -5.24341899e-01,\n",
      "       -5.19804136e-02, -1.00374849e-02, -7.01347816e-02, -3.93812299e-01,\n",
      "       -5.68692683e-01, -5.93117331e-01,  1.14253051e+02, -2.38827193e-01,\n",
      "        3.84133012e-01, -1.71232320e-03,  9.33088593e-01,  5.86999068e+00,\n",
      "        7.32378378e-01, -6.69929544e-01, -1.88714041e-01, -1.65398824e+00,\n",
      "       -5.15270315e+00,  5.78837059e-02,  4.55645062e-01,  2.93286721e-02,\n",
      "        1.03438733e+00, -4.53489371e+00,  7.34802523e-01, -1.43847337e-01,\n",
      "       -1.64091210e-01,  1.00815900e-01, -5.99998280e-01,  1.11013504e-01,\n",
      "       -6.81695628e-02,  1.35605644e+00, -3.96375493e-01,  2.67242859e-02,\n",
      "       -1.60079442e+02, -7.60981599e+01,  4.13255075e-01,  2.42035271e+00,\n",
      "       -1.75610134e-01, -2.20580197e-01,  2.25312820e-01,  3.89694987e+00,\n",
      "       -3.19174954e-02, -1.83821672e-01,  1.70558117e+00,  6.27740241e-01,\n",
      "       -6.40126822e+02, -1.62995797e-01, -3.77054837e-01,  1.87928960e+02,\n",
      "        2.77346782e-01, -4.30847499e+01, -3.77568927e-01, -1.13727364e-01,\n",
      "       -6.94423649e-03, -1.02738267e+00,  1.04087144e+00, -6.50690763e+01,\n",
      "       -1.67606300e+01,  4.82377770e+00,  1.84232853e+00,  1.15381911e+01,\n",
      "        1.06752837e+00, -2.24487464e+00,  2.08099235e+00,  3.16786054e-01,\n",
      "       -2.43949171e+00,  8.19939019e+00, -1.65678813e+01,  2.62324451e-01,\n",
      "       -3.23507343e-02,  1.21464502e-01, -3.75282828e-01,  3.80648427e-01,\n",
      "        1.67107934e+02, -1.53551796e+00, -5.90107375e-01, -8.83238050e-01,\n",
      "       -1.04974661e-01,  4.89836794e-02, -1.80146827e+00,  3.59235258e-01,\n",
      "        5.07546541e+00,  5.13145886e-03, -1.77571338e-01,  1.84861412e+00,\n",
      "        6.69945331e-01, -2.49802466e+01,  3.59546870e-01, -6.18545094e-01,\n",
      "       -4.53784549e-01,  1.37314355e-01, -1.44825089e-01, -4.47416037e-02,\n",
      "       -1.63407780e-01, -1.83221697e-02, -2.71956443e-02,  6.54570290e-01,\n",
      "        4.77346450e-01, -1.37837493e-01,  3.28565392e-01, -3.84191300e-03,\n",
      "        4.33135642e-01,  5.26460058e-01,  1.85769228e-01,  4.15540110e-01,\n",
      "       -1.38233615e+00,  5.20470723e+00,  1.72027554e-01,  6.50380954e-01,\n",
      "        2.58113376e+00, -8.17279942e+01,  8.87554825e-02,  3.25332112e+01,\n",
      "       -1.99118855e-01,  3.32557702e+02, -1.51725602e+01, -2.93599396e-01,\n",
      "        8.18984900e-02,  1.00932444e+00, -4.49240869e+01,  7.29192446e-01,\n",
      "       -2.04978790e-01,  3.29278759e-01,  3.53436232e-01,  4.49389194e+02,\n",
      "       -1.94998254e-01, -7.49434554e-01,  2.16976251e-01, -8.65914056e-02,\n",
      "       -1.28879095e+01, -7.11162494e-01,  2.05186751e+01, -9.20429271e-02,\n",
      "       -8.42063691e+00,  1.59817759e+01,  3.01458357e-01, -2.80141516e-02,\n",
      "       -3.31697018e-01, -2.78517544e-01, -2.23375053e-01, -1.11797425e+00])]\n"
     ]
    }
   ],
   "source": [
    "print(sumss)"
   ]
  },
  {
   "cell_type": "code",
   "execution_count": 243,
   "metadata": {},
   "outputs": [],
   "source": [
    "sums2 = []\n",
    "for word in sumss:\n",
    "    sums2.append(word)\n",
    "    \n",
    "    "
   ]
  },
  {
   "cell_type": "code",
   "execution_count": 244,
   "metadata": {},
   "outputs": [],
   "source": [
    "simT = 1-pairwise_distances(sums2,sums2, metric='cosine')"
   ]
  },
  {
   "cell_type": "code",
   "execution_count": 245,
   "metadata": {},
   "outputs": [
    {
     "data": {
      "text/html": [
       "<div>\n",
       "<style scoped>\n",
       "    .dataframe tbody tr th:only-of-type {\n",
       "        vertical-align: middle;\n",
       "    }\n",
       "\n",
       "    .dataframe tbody tr th {\n",
       "        vertical-align: top;\n",
       "    }\n",
       "\n",
       "    .dataframe thead th {\n",
       "        text-align: right;\n",
       "    }\n",
       "</style>\n",
       "<table border=\"1\" class=\"dataframe\">\n",
       "  <thead>\n",
       "    <tr style=\"text-align: right;\">\n",
       "      <th></th>\n",
       "      <th>0</th>\n",
       "      <th>1</th>\n",
       "      <th>2</th>\n",
       "    </tr>\n",
       "  </thead>\n",
       "  <tbody>\n",
       "    <tr>\n",
       "      <th>0</th>\n",
       "      <td>1.000000</td>\n",
       "      <td>0.999999</td>\n",
       "      <td>0.999997</td>\n",
       "    </tr>\n",
       "    <tr>\n",
       "      <th>1</th>\n",
       "      <td>0.999999</td>\n",
       "      <td>1.000000</td>\n",
       "      <td>0.999999</td>\n",
       "    </tr>\n",
       "    <tr>\n",
       "      <th>2</th>\n",
       "      <td>0.999997</td>\n",
       "      <td>0.999999</td>\n",
       "      <td>1.000000</td>\n",
       "    </tr>\n",
       "  </tbody>\n",
       "</table>\n",
       "</div>"
      ],
      "text/plain": [
       "          0         1         2\n",
       "0  1.000000  0.999999  0.999997\n",
       "1  0.999999  1.000000  0.999999\n",
       "2  0.999997  0.999999  1.000000"
      ]
     },
     "execution_count": 245,
     "metadata": {},
     "output_type": "execute_result"
    }
   ],
   "source": [
    "df_simTT = pd.DataFrame(simT)\n",
    "df_simTT"
   ]
  },
  {
   "cell_type": "code",
   "execution_count": null,
   "metadata": {},
   "outputs": [],
   "source": [
    "#wronggg,wronggg,wronggg,wronggg,wrongg"
   ]
  },
  {
   "cell_type": "code",
   "execution_count": null,
   "metadata": {},
   "outputs": [],
   "source": [
    "\n"
   ]
  },
  {
   "cell_type": "code",
   "execution_count": 455,
   "metadata": {},
   "outputs": [
    {
     "name": "stdout",
     "output_type": "stream",
     "text": [
      "0.57\n"
     ]
    }
   ],
   "source": [
    "#Fast text\n",
    "average = 0\n",
    "histoFW = []\n",
    "histoFC = []\n",
    "for word in test_df3.values:\n",
    "    #print(word)\n",
    "    one = df_simFCF[word[1]][word[0]]\n",
    "    two = df_simFCF[word[2]][word[0]]\n",
    "    \n",
    "    if one==two:\n",
    "        print(\"broken\")\n",
    "    \n",
    "    \n",
    "    #avg_sim = (one+two)/2\n",
    "    \n",
    "    #mean = df_simFCF.mean(axis=1)[word[0]]\n",
    "    #could use median\n",
    "    \n",
    "    if word[3] == 1 and abs(one) > abs(two):\n",
    "        average = average + 1 \n",
    "        histoFC.append(abs(one-two))\n",
    "    elif word[3] == 2 and abs(two) > abs(one):\n",
    "        average = average + 1\n",
    "        histoFC.append(abs(one-two))\n",
    "    elif word[3] == 1 or word[3] == 2:\n",
    "        histoFW.append(abs(one-two))\n",
    "    #elif word[3] == 0 and avg_sim < mean:\n",
    "        #average = average + 1\n",
    "    #elif word[3] == 3 and avg_sim > mean:\n",
    "        #average = average + 1   \n",
    "average = average/numTest\n",
    "print(average)"
   ]
  },
  {
   "cell_type": "code",
   "execution_count": 456,
   "metadata": {},
   "outputs": [
    {
     "data": {
      "image/png": "[encoded data removed]",
      "text/plain": [
       "<Figure size 432x288 with 1 Axes>"
      ]
     },
     "metadata": {
      "needs_background": "light"
     },
     "output_type": "display_data"
    }
   ],
   "source": [
    "import matplotlib.pyplot as plt\n",
    "\n",
    "wrong = plt.hist(histoFW,3)"
   ]
  },
  {
   "cell_type": "code",
   "execution_count": 380,
   "metadata": {},
   "outputs": [
    {
     "data": {
      "image/png": "[encoded data removed]",
      "text/plain": [
       "<Figure size 432x288 with 1 Axes>"
      ]
     },
     "metadata": {
      "needs_background": "light"
     },
     "output_type": "display_data"
    }
   ],
   "source": [
    "correct = plt.hist(histoFC,5)"
   ]
  },
  {
   "cell_type": "code",
   "execution_count": 457,
   "metadata": {},
   "outputs": [
    {
     "name": "stdout",
     "output_type": "stream",
     "text": [
      "all\n",
      "0.08867021562068063\n",
      "correct\n",
      "0.10854965352977096\n",
      "wrong\n",
      "0.0623184025783981\n"
     ]
    }
   ],
   "source": [
    "import statistics\n",
    "#average difference in similarity\n",
    "print(\"all\")\n",
    "print(statistics.mean(histoFC+histoFW))\n",
    "print(\"correct\")\n",
    "print(statistics.mean(histoFC))\n",
    "print(\"wrong\")\n",
    "print(statistics.mean(histoFW))"
   ]
  },
  {
   "cell_type": "code",
   "execution_count": null,
   "metadata": {},
   "outputs": [],
   "source": []
  },
  {
   "cell_type": "code",
   "execution_count": 357,
   "metadata": {},
   "outputs": [
    {
     "data": {
      "text/plain": [
       "8780"
      ]
     },
     "execution_count": 357,
     "metadata": {},
     "output_type": "execute_result"
    }
   ],
   "source": [
    "len(columnFinal[0])"
   ]
  },
  {
   "cell_type": "code",
   "execution_count": 352,
   "metadata": {
    "scrolled": true
   },
   "outputs": [
    {
     "data": {
      "text/html": [
       "<div>\n",
       "<style scoped>\n",
       "    .dataframe tbody tr th:only-of-type {\n",
       "        vertical-align: middle;\n",
       "    }\n",
       "\n",
       "    .dataframe tbody tr th {\n",
       "        vertical-align: top;\n",
       "    }\n",
       "\n",
       "    .dataframe thead th {\n",
       "        text-align: right;\n",
       "    }\n",
       "</style>\n",
       "<table border=\"1\" class=\"dataframe\">\n",
       "  <thead>\n",
       "    <tr style=\"text-align: right;\">\n",
       "      <th></th>\n",
       "      <th>0</th>\n",
       "      <th>1</th>\n",
       "      <th>2</th>\n",
       "      <th>3</th>\n",
       "      <th>4</th>\n",
       "      <th>5</th>\n",
       "      <th>6</th>\n",
       "      <th>7</th>\n",
       "      <th>8</th>\n",
       "      <th>9</th>\n",
       "      <th>...</th>\n",
       "      <th>8771</th>\n",
       "      <th>8772</th>\n",
       "      <th>8773</th>\n",
       "      <th>8774</th>\n",
       "      <th>8775</th>\n",
       "      <th>8776</th>\n",
       "      <th>8777</th>\n",
       "      <th>8778</th>\n",
       "      <th>8779</th>\n",
       "      <th>8780</th>\n",
       "    </tr>\n",
       "  </thead>\n",
       "  <tbody>\n",
       "    <tr>\n",
       "      <th>0</th>\n",
       "      <td>0.875555</td>\n",
       "      <td>0.917209</td>\n",
       "      <td>0.920380</td>\n",
       "      <td>0.898639</td>\n",
       "      <td>0.891890</td>\n",
       "      <td>0.845145</td>\n",
       "      <td>0.839304</td>\n",
       "      <td>0.837189</td>\n",
       "      <td>0.855519</td>\n",
       "      <td>0.865233</td>\n",
       "      <td>...</td>\n",
       "      <td>0.887505</td>\n",
       "      <td>0.871609</td>\n",
       "      <td>0.866951</td>\n",
       "      <td>0.648805</td>\n",
       "      <td>0.682010</td>\n",
       "      <td>0.682459</td>\n",
       "      <td>0.752374</td>\n",
       "      <td>0.609586</td>\n",
       "      <td>0.647562</td>\n",
       "      <td>0.718489</td>\n",
       "    </tr>\n",
       "    <tr>\n",
       "      <th>1</th>\n",
       "      <td>0.906836</td>\n",
       "      <td>0.958641</td>\n",
       "      <td>0.964180</td>\n",
       "      <td>0.946599</td>\n",
       "      <td>0.937960</td>\n",
       "      <td>0.903088</td>\n",
       "      <td>0.893220</td>\n",
       "      <td>0.892781</td>\n",
       "      <td>0.909218</td>\n",
       "      <td>0.916893</td>\n",
       "      <td>...</td>\n",
       "      <td>0.914126</td>\n",
       "      <td>0.907124</td>\n",
       "      <td>0.913458</td>\n",
       "      <td>0.733939</td>\n",
       "      <td>0.765703</td>\n",
       "      <td>0.766128</td>\n",
       "      <td>0.828137</td>\n",
       "      <td>0.696135</td>\n",
       "      <td>0.732812</td>\n",
       "      <td>0.796522</td>\n",
       "    </tr>\n",
       "    <tr>\n",
       "      <th>2</th>\n",
       "      <td>0.890318</td>\n",
       "      <td>0.947668</td>\n",
       "      <td>0.955978</td>\n",
       "      <td>0.951709</td>\n",
       "      <td>0.945981</td>\n",
       "      <td>0.924629</td>\n",
       "      <td>0.916891</td>\n",
       "      <td>0.915547</td>\n",
       "      <td>0.929854</td>\n",
       "      <td>0.937482</td>\n",
       "      <td>...</td>\n",
       "      <td>0.933985</td>\n",
       "      <td>0.920708</td>\n",
       "      <td>0.918493</td>\n",
       "      <td>0.729721</td>\n",
       "      <td>0.762713</td>\n",
       "      <td>0.763168</td>\n",
       "      <td>0.835291</td>\n",
       "      <td>0.699475</td>\n",
       "      <td>0.734789</td>\n",
       "      <td>0.793976</td>\n",
       "    </tr>\n",
       "    <tr>\n",
       "      <th>3</th>\n",
       "      <td>0.889928</td>\n",
       "      <td>0.947064</td>\n",
       "      <td>0.955760</td>\n",
       "      <td>0.951842</td>\n",
       "      <td>0.946323</td>\n",
       "      <td>0.925047</td>\n",
       "      <td>0.917396</td>\n",
       "      <td>0.916094</td>\n",
       "      <td>0.930237</td>\n",
       "      <td>0.937945</td>\n",
       "      <td>...</td>\n",
       "      <td>0.935420</td>\n",
       "      <td>0.921934</td>\n",
       "      <td>0.919983</td>\n",
       "      <td>0.730511</td>\n",
       "      <td>0.763454</td>\n",
       "      <td>0.763895</td>\n",
       "      <td>0.836084</td>\n",
       "      <td>0.700074</td>\n",
       "      <td>0.735254</td>\n",
       "      <td>0.794650</td>\n",
       "    </tr>\n",
       "    <tr>\n",
       "      <th>4</th>\n",
       "      <td>0.898438</td>\n",
       "      <td>0.955463</td>\n",
       "      <td>0.963163</td>\n",
       "      <td>0.954597</td>\n",
       "      <td>0.948171</td>\n",
       "      <td>0.922755</td>\n",
       "      <td>0.913985</td>\n",
       "      <td>0.913143</td>\n",
       "      <td>0.928031</td>\n",
       "      <td>0.935762</td>\n",
       "      <td>...</td>\n",
       "      <td>0.932307</td>\n",
       "      <td>0.922570</td>\n",
       "      <td>0.923081</td>\n",
       "      <td>0.734590</td>\n",
       "      <td>0.767320</td>\n",
       "      <td>0.767733</td>\n",
       "      <td>0.837444</td>\n",
       "      <td>0.702042</td>\n",
       "      <td>0.737935</td>\n",
       "      <td>0.798391</td>\n",
       "    </tr>\n",
       "    <tr>\n",
       "      <th>...</th>\n",
       "      <td>...</td>\n",
       "      <td>...</td>\n",
       "      <td>...</td>\n",
       "      <td>...</td>\n",
       "      <td>...</td>\n",
       "      <td>...</td>\n",
       "      <td>...</td>\n",
       "      <td>...</td>\n",
       "      <td>...</td>\n",
       "      <td>...</td>\n",
       "      <td>...</td>\n",
       "      <td>...</td>\n",
       "      <td>...</td>\n",
       "      <td>...</td>\n",
       "      <td>...</td>\n",
       "      <td>...</td>\n",
       "      <td>...</td>\n",
       "      <td>...</td>\n",
       "      <td>...</td>\n",
       "      <td>...</td>\n",
       "      <td>...</td>\n",
       "    </tr>\n",
       "    <tr>\n",
       "      <th>871</th>\n",
       "      <td>0.886474</td>\n",
       "      <td>0.943406</td>\n",
       "      <td>0.954766</td>\n",
       "      <td>0.953086</td>\n",
       "      <td>0.947823</td>\n",
       "      <td>0.939659</td>\n",
       "      <td>0.932798</td>\n",
       "      <td>0.933134</td>\n",
       "      <td>0.946321</td>\n",
       "      <td>0.954407</td>\n",
       "      <td>...</td>\n",
       "      <td>0.941186</td>\n",
       "      <td>0.936847</td>\n",
       "      <td>0.935870</td>\n",
       "      <td>0.742465</td>\n",
       "      <td>0.774187</td>\n",
       "      <td>0.774553</td>\n",
       "      <td>0.847799</td>\n",
       "      <td>0.710198</td>\n",
       "      <td>0.743236</td>\n",
       "      <td>0.797499</td>\n",
       "    </tr>\n",
       "    <tr>\n",
       "      <th>872</th>\n",
       "      <td>0.886518</td>\n",
       "      <td>0.943438</td>\n",
       "      <td>0.954791</td>\n",
       "      <td>0.953110</td>\n",
       "      <td>0.947844</td>\n",
       "      <td>0.939655</td>\n",
       "      <td>0.932801</td>\n",
       "      <td>0.933131</td>\n",
       "      <td>0.946322</td>\n",
       "      <td>0.954406</td>\n",
       "      <td>...</td>\n",
       "      <td>0.941182</td>\n",
       "      <td>0.936842</td>\n",
       "      <td>0.935863</td>\n",
       "      <td>0.742441</td>\n",
       "      <td>0.774164</td>\n",
       "      <td>0.774530</td>\n",
       "      <td>0.847783</td>\n",
       "      <td>0.710175</td>\n",
       "      <td>0.743219</td>\n",
       "      <td>0.797483</td>\n",
       "    </tr>\n",
       "    <tr>\n",
       "      <th>873</th>\n",
       "      <td>0.886545</td>\n",
       "      <td>0.943458</td>\n",
       "      <td>0.954808</td>\n",
       "      <td>0.953127</td>\n",
       "      <td>0.947858</td>\n",
       "      <td>0.939658</td>\n",
       "      <td>0.932809</td>\n",
       "      <td>0.933138</td>\n",
       "      <td>0.946329</td>\n",
       "      <td>0.954412</td>\n",
       "      <td>...</td>\n",
       "      <td>0.941181</td>\n",
       "      <td>0.936849</td>\n",
       "      <td>0.935875</td>\n",
       "      <td>0.742436</td>\n",
       "      <td>0.774159</td>\n",
       "      <td>0.774525</td>\n",
       "      <td>0.847781</td>\n",
       "      <td>0.710166</td>\n",
       "      <td>0.743212</td>\n",
       "      <td>0.797478</td>\n",
       "    </tr>\n",
       "    <tr>\n",
       "      <th>874</th>\n",
       "      <td>0.886522</td>\n",
       "      <td>0.943443</td>\n",
       "      <td>0.954799</td>\n",
       "      <td>0.953125</td>\n",
       "      <td>0.947859</td>\n",
       "      <td>0.939664</td>\n",
       "      <td>0.932811</td>\n",
       "      <td>0.933141</td>\n",
       "      <td>0.946330</td>\n",
       "      <td>0.954414</td>\n",
       "      <td>...</td>\n",
       "      <td>0.941189</td>\n",
       "      <td>0.936858</td>\n",
       "      <td>0.935881</td>\n",
       "      <td>0.742426</td>\n",
       "      <td>0.774151</td>\n",
       "      <td>0.774516</td>\n",
       "      <td>0.847776</td>\n",
       "      <td>0.710155</td>\n",
       "      <td>0.743199</td>\n",
       "      <td>0.797469</td>\n",
       "    </tr>\n",
       "    <tr>\n",
       "      <th>875</th>\n",
       "      <td>0.886463</td>\n",
       "      <td>0.943401</td>\n",
       "      <td>0.954769</td>\n",
       "      <td>0.953114</td>\n",
       "      <td>0.947852</td>\n",
       "      <td>0.939720</td>\n",
       "      <td>0.932864</td>\n",
       "      <td>0.933205</td>\n",
       "      <td>0.946380</td>\n",
       "      <td>0.954460</td>\n",
       "      <td>...</td>\n",
       "      <td>0.941227</td>\n",
       "      <td>0.936868</td>\n",
       "      <td>0.935880</td>\n",
       "      <td>0.742412</td>\n",
       "      <td>0.774136</td>\n",
       "      <td>0.774502</td>\n",
       "      <td>0.847775</td>\n",
       "      <td>0.710150</td>\n",
       "      <td>0.743190</td>\n",
       "      <td>0.797452</td>\n",
       "    </tr>\n",
       "  </tbody>\n",
       "</table>\n",
       "<p>876 rows × 8781 columns</p>\n",
       "</div>"
      ],
      "text/plain": [
       "         0         1         2         3         4         5         6     \\\n",
       "0    0.875555  0.917209  0.920380  0.898639  0.891890  0.845145  0.839304   \n",
       "1    0.906836  0.958641  0.964180  0.946599  0.937960  0.903088  0.893220   \n",
       "2    0.890318  0.947668  0.955978  0.951709  0.945981  0.924629  0.916891   \n",
       "3    0.889928  0.947064  0.955760  0.951842  0.946323  0.925047  0.917396   \n",
       "4    0.898438  0.955463  0.963163  0.954597  0.948171  0.922755  0.913985   \n",
       "..        ...       ...       ...       ...       ...       ...       ...   \n",
       "871  0.886474  0.943406  0.954766  0.953086  0.947823  0.939659  0.932798   \n",
       "872  0.886518  0.943438  0.954791  0.953110  0.947844  0.939655  0.932801   \n",
       "873  0.886545  0.943458  0.954808  0.953127  0.947858  0.939658  0.932809   \n",
       "874  0.886522  0.943443  0.954799  0.953125  0.947859  0.939664  0.932811   \n",
       "875  0.886463  0.943401  0.954769  0.953114  0.947852  0.939720  0.932864   \n",
       "\n",
       "         7         8         9     ...      8771      8772      8773  \\\n",
       "0    0.837189  0.855519  0.865233  ...  0.887505  0.871609  0.866951   \n",
       "1    0.892781  0.909218  0.916893  ...  0.914126  0.907124  0.913458   \n",
       "2    0.915547  0.929854  0.937482  ...  0.933985  0.920708  0.918493   \n",
       "3    0.916094  0.930237  0.937945  ...  0.935420  0.921934  0.919983   \n",
       "4    0.913143  0.928031  0.935762  ...  0.932307  0.922570  0.923081   \n",
       "..        ...       ...       ...  ...       ...       ...       ...   \n",
       "871  0.933134  0.946321  0.954407  ...  0.941186  0.936847  0.935870   \n",
       "872  0.933131  0.946322  0.954406  ...  0.941182  0.936842  0.935863   \n",
       "873  0.933138  0.946329  0.954412  ...  0.941181  0.936849  0.935875   \n",
       "874  0.933141  0.946330  0.954414  ...  0.941189  0.936858  0.935881   \n",
       "875  0.933205  0.946380  0.954460  ...  0.941227  0.936868  0.935880   \n",
       "\n",
       "         8774      8775      8776      8777      8778      8779      8780  \n",
       "0    0.648805  0.682010  0.682459  0.752374  0.609586  0.647562  0.718489  \n",
       "1    0.733939  0.765703  0.766128  0.828137  0.696135  0.732812  0.796522  \n",
       "2    0.729721  0.762713  0.763168  0.835291  0.699475  0.734789  0.793976  \n",
       "3    0.730511  0.763454  0.763895  0.836084  0.700074  0.735254  0.794650  \n",
       "4    0.734590  0.767320  0.767733  0.837444  0.702042  0.737935  0.798391  \n",
       "..        ...       ...       ...       ...       ...       ...       ...  \n",
       "871  0.742465  0.774187  0.774553  0.847799  0.710198  0.743236  0.797499  \n",
       "872  0.742441  0.774164  0.774530  0.847783  0.710175  0.743219  0.797483  \n",
       "873  0.742436  0.774159  0.774525  0.847781  0.710166  0.743212  0.797478  \n",
       "874  0.742426  0.774151  0.774516  0.847776  0.710155  0.743199  0.797469  \n",
       "875  0.742412  0.774136  0.774502  0.847775  0.710150  0.743190  0.797452  \n",
       "\n",
       "[876 rows x 8781 columns]"
      ]
     },
     "execution_count": 352,
     "metadata": {},
     "output_type": "execute_result"
    }
   ],
   "source": [
    "df_simFCW"
   ]
  },
  {
   "cell_type": "code",
   "execution_count": 458,
   "metadata": {},
   "outputs": [
    {
     "name": "stdout",
     "output_type": "stream",
     "text": [
      "0.5475\n"
     ]
    }
   ],
   "source": [
    "#Word 2 Vec\n",
    "average = 0\n",
    "histoWW = []\n",
    "histoWC = []\n",
    "for word in test_df3.values:\n",
    "    #print(word)\n",
    "    one = df_simFCW[word[1]][word[0]]\n",
    "    two = df_simFCW[word[2]][word[0]]\n",
    "    \n",
    "    if one==two:\n",
    "        print(\"broken\")\n",
    "    \n",
    "    #avg_sim = (one+two)/2\n",
    "    \n",
    "    #mean = df_simFCF.mean(axis=1)[word[0]]\n",
    "    #could use median\n",
    "    \n",
    "    if word[3] == 1 and one > two:\n",
    "        average = average + 1 \n",
    "        histoWC.append(abs(one-two))\n",
    "    elif word[3] == 2 and two > one:\n",
    "        average = average + 1\n",
    "        histoWC.append(abs(one-two))\n",
    "    elif word[3] == 1 or word[3] == 2:\n",
    "        histoWW.append(abs(one-two))\n",
    "    #elif word[3] == 0 and avg_sim < mean:\n",
    "        #average = average + 1\n",
    "    #elif word[3] == 3 and avg_sim > mean:\n",
    "        #average = average + 1   \n",
    "average = average/numTest\n",
    "print(average)"
   ]
  },
  {
   "cell_type": "code",
   "execution_count": 371,
   "metadata": {},
   "outputs": [
    {
     "data": {
      "image/png": "[encoded data removed]",
      "text/plain": [
       "<Figure size 432x288 with 1 Axes>"
      ]
     },
     "metadata": {
      "needs_background": "light"
     },
     "output_type": "display_data"
    }
   ],
   "source": [
    "wrong = plt.hist(histoWW,3)"
   ]
  },
  {
   "cell_type": "code",
   "execution_count": 459,
   "metadata": {},
   "outputs": [
    {
     "data": {
      "image/png": "[encoded data removed]",
      "text/plain": [
       "<Figure size 432x288 with 1 Axes>"
      ]
     },
     "metadata": {
      "needs_background": "light"
     },
     "output_type": "display_data"
    }
   ],
   "source": [
    "correct = plt.hist(histoWC,3)"
   ]
  },
  {
   "cell_type": "code",
   "execution_count": 460,
   "metadata": {},
   "outputs": [
    {
     "name": "stdout",
     "output_type": "stream",
     "text": [
      "all\n",
      "0.09786408325530786\n",
      "correct\n",
      "0.12166293713252802\n",
      "wrong\n",
      "0.06906878491767686\n"
     ]
    }
   ],
   "source": [
    "import statistics\n",
    "#average difference in similarity\n",
    "print(\"all\")\n",
    "print(statistics.mean(histoWC+histoWW))\n",
    "print(\"correct\")\n",
    "print(statistics.mean(histoWC))\n",
    "print(\"wrong\")\n",
    "print(statistics.mean(histoWW))"
   ]
  },
  {
   "cell_type": "code",
   "execution_count": 451,
   "metadata": {},
   "outputs": [
    {
     "name": "stdout",
     "output_type": "stream",
     "text": [
      "Average: \n",
      "0.755\n"
     ]
    }
   ],
   "source": [
    "#Similarity Spacy\n",
    "average = 0\n",
    "\n",
    "histoSW = []\n",
    "histoSC = []\n",
    "for word in test_df3.values:\n",
    "    #print(word)\n",
    "    #swithced\n",
    "    #if word[0]<len(col):\n",
    "    #count = count + 1\n",
    "    one = columnFinal[word[0]][word[1]-1]\n",
    "    two = columnFinal[word[0]][word[2]-1]\n",
    "        #avg_sim = (one+two)/2\n",
    "        #mean = col.mean(axis=1)[word[0]]\n",
    "    if one==two:\n",
    "        print(\"broken\")\n",
    "        \n",
    "    if word[3] == 1 and one > two:\n",
    "        average = average + 1 \n",
    "        histoSC.append(abs(one-two))\n",
    "    elif word[3] == 2 and two > one:\n",
    "        average = average + 1\n",
    "        histoSC.append(abs(one-two)) \n",
    "    elif word[3] == 1 or word[3] == 2:\n",
    "        histoSW.append(abs(one-two))\n",
    "\n",
    "    '''\n",
    "    elif word[3] == 0 and avg_sim < mean:\n",
    "        average = average + 1\n",
    "    elif word[3] == 3 and avg_sim > mean:\n",
    "        average = average + 1\n",
    "    '''\n",
    "            \n",
    "        \n",
    "average = average/numTest\n",
    "#print(\"Count: \")\n",
    "#print(count)\n",
    "print(\"Average: \")\n",
    "print(average)"
   ]
  },
  {
   "cell_type": "code",
   "execution_count": 375,
   "metadata": {},
   "outputs": [
    {
     "data": {
      "image/png": "[encoded data removed]",
      "text/plain": [
       "<Figure size 432x288 with 1 Axes>"
      ]
     },
     "metadata": {
      "needs_background": "light"
     },
     "output_type": "display_data"
    }
   ],
   "source": [
    "wrong = plt.hist(histoSW,4)"
   ]
  },
  {
   "cell_type": "code",
   "execution_count": 453,
   "metadata": {},
   "outputs": [
    {
     "data": {
      "image/png": "[encoded data removed]",
      "text/plain": [
       "<Figure size 432x288 with 1 Axes>"
      ]
     },
     "metadata": {
      "needs_background": "light"
     },
     "output_type": "display_data"
    }
   ],
   "source": [
    "wrong = plt.hist(histoSW,4)"
   ]
  },
  {
   "cell_type": "code",
   "execution_count": 376,
   "metadata": {},
   "outputs": [
    {
     "data": {
      "image/png": "[encoded data removed]",
      "text/plain": [
       "<Figure size 432x288 with 1 Axes>"
      ]
     },
     "metadata": {
      "needs_background": "light"
     },
     "output_type": "display_data"
    }
   ],
   "source": [
    "correct = plt.hist(histoSC,5)"
   ]
  },
  {
   "cell_type": "code",
   "execution_count": 316,
   "metadata": {},
   "outputs": [
    {
     "data": {
      "text/plain": [
       "65"
      ]
     },
     "execution_count": 316,
     "metadata": {},
     "output_type": "execute_result"
    }
   ],
   "source": [
    "len(histoSC)"
   ]
  },
  {
   "cell_type": "code",
   "execution_count": 317,
   "metadata": {},
   "outputs": [
    {
     "data": {
      "text/plain": [
       "65"
      ]
     },
     "execution_count": 317,
     "metadata": {},
     "output_type": "execute_result"
    }
   ],
   "source": [
    "len(histoSW)"
   ]
  },
  {
   "cell_type": "code",
   "execution_count": 318,
   "metadata": {},
   "outputs": [
    {
     "data": {
      "text/plain": [
       "130"
      ]
     },
     "execution_count": 318,
     "metadata": {},
     "output_type": "execute_result"
    }
   ],
   "source": [
    "65*2"
   ]
  },
  {
   "cell_type": "code",
   "execution_count": 454,
   "metadata": {},
   "outputs": [
    {
     "name": "stdout",
     "output_type": "stream",
     "text": [
      "all\n",
      "0.23591364229810013\n",
      "correct\n",
      "0.28267029286287293\n",
      "wrong\n",
      "0.09182682116992276\n"
     ]
    }
   ],
   "source": [
    "import statistics\n",
    "#average difference in similarity\n",
    "print(\"all\")\n",
    "print(statistics.mean(histoSC+histoSW))\n",
    "print(\"correct\")\n",
    "print(statistics.mean(histoSC))\n",
    "print(\"wrong\")\n",
    "print(statistics.mean(histoSW))\n"
   ]
  },
  {
   "cell_type": "code",
   "execution_count": 324,
   "metadata": {},
   "outputs": [
    {
     "data": {
      "text/plain": [
       "1.5"
      ]
     },
     "execution_count": 324,
     "metadata": {},
     "output_type": "execute_result"
    }
   ],
   "source": [
    "import statistics\n",
    "statistics.mean([1,2])"
   ]
  },
  {
   "cell_type": "code",
   "execution_count": 325,
   "metadata": {},
   "outputs": [
    {
     "name": "stdout",
     "output_type": "stream",
     "text": [
      "[1, 2]\n"
     ]
    }
   ],
   "source": [
    "jjj = [1] + [2]\n",
    "print(jjj)"
   ]
  },
  {
   "cell_type": "code",
   "execution_count": null,
   "metadata": {},
   "outputs": [],
   "source": [
    "#Euclidean"
   ]
  },
  {
   "cell_type": "code",
   "execution_count": 472,
   "metadata": {},
   "outputs": [
    {
     "data": {
      "text/plain": [
       "578"
      ]
     },
     "execution_count": 472,
     "metadata": {},
     "output_type": "execute_result"
    }
   ],
   "source": [
    "len(test_df3.values)"
   ]
  },
  {
   "cell_type": "code",
   "execution_count": 473,
   "metadata": {},
   "outputs": [
    {
     "name": "stdout",
     "output_type": "stream",
     "text": [
      "0.46984924623115576\n",
      "398\n"
     ]
    }
   ],
   "source": [
    "#FastText Euclidean distance\n",
    "average = 0\n",
    "count = 0\n",
    "histoFW = []\n",
    "histoFC = []\n",
    "for word in test_df3.values:\n",
    "    one = df_simFEF[word[1]][word[0]]\n",
    "    two = df_simFEF[word[2]][word[0]]\n",
    "    if (one + two) < 99999999999:   \n",
    "        if word[3] == 1 and one < two:\n",
    "            average = average + 1 \n",
    "            histoFC.append(abs(abs(one)-abs(two)))\n",
    "            count = count + 1\n",
    "        elif word[3] == 2 and two < one:\n",
    "            average = average + 1\n",
    "            histoFC.append(abs(abs(one)-abs(two))) \n",
    "            count = count + 1\n",
    "        elif word[3] == 1 or word[3] == 2:\n",
    "            histoFW.append(abs(abs(one)-abs(two)))\n",
    "            count = count + 1\n",
    "        \n",
    "average = average/count\n",
    "print(average)\n",
    "print(count)"
   ]
  },
  {
   "cell_type": "code",
   "execution_count": 470,
   "metadata": {},
   "outputs": [
    {
     "data": {
      "text/plain": [
       "211"
      ]
     },
     "execution_count": 470,
     "metadata": {},
     "output_type": "execute_result"
    }
   ],
   "source": [
    "len(histoFW)"
   ]
  },
  {
   "cell_type": "code",
   "execution_count": 474,
   "metadata": {},
   "outputs": [
    {
     "name": "stdout",
     "output_type": "stream",
     "text": [
      "all\n",
      "7329.8091742077195\n",
      "correct\n",
      "14496.831144187981\n",
      "wrong\n",
      "977.9934946517512\n"
     ]
    }
   ],
   "source": [
    "import statistics\n",
    "#average difference in similarity\n",
    "print(\"all\")\n",
    "print(statistics.mean(histoFC+histoFW))\n",
    "print(\"correct\")\n",
    "print(statistics.mean(histoFC))\n",
    "print(\"wrong\")\n",
    "print(statistics.mean(histoFW))"
   ]
  },
  {
   "cell_type": "code",
   "execution_count": 461,
   "metadata": {},
   "outputs": [
    {
     "name": "stdout",
     "output_type": "stream",
     "text": [
      "0.47\n"
     ]
    }
   ],
   "source": [
    "#Word 2 Vec Euclidean distance\n",
    "average = 0\n",
    "count = 0\n",
    "histoWW = []\n",
    "histoWC = []\n",
    "for word in test_df3.values:\n",
    "    one = df_simFEW[word[1]][word[0]]\n",
    "    two = df_simFEW[word[2]][word[0]]\n",
    "    \n",
    "    \n",
    "    \n",
    "    \n",
    "    if word[3] == 1 and one < two:\n",
    "        average = average + 1 \n",
    "        histoWC.append(abs(abs(one)-abs(two)))\n",
    "    elif word[3] == 2 and two < one:\n",
    "        average = average + 1\n",
    "        histoWC.append(abs(abs(one)-abs(two))) \n",
    "    elif word[3] == 1 or word[3] == 2:\n",
    "        histoWW.append(abs(abs(one)-abs(two)))\n",
    "        \n",
    "average = average/numTest\n",
    "print(average)"
   ]
  },
  {
   "cell_type": "code",
   "execution_count": 462,
   "metadata": {},
   "outputs": [
    {
     "name": "stdout",
     "output_type": "stream",
     "text": [
      "all\n",
      "1754.122713221096\n",
      "correct\n",
      "3123.6942246439526\n",
      "wrong\n",
      "539.5970332800727\n"
     ]
    }
   ],
   "source": [
    "import statistics\n",
    "#average difference in similarity\n",
    "print(\"all\")\n",
    "print(statistics.mean(histoWC+histoWW))\n",
    "print(\"correct\")\n",
    "print(statistics.mean(histoWC))\n",
    "print(\"wrong\")\n",
    "print(statistics.mean(histoWW))"
   ]
  },
  {
   "cell_type": "code",
   "execution_count": null,
   "metadata": {},
   "outputs": [],
   "source": []
  },
  {
   "cell_type": "code",
   "execution_count": null,
   "metadata": {},
   "outputs": [],
   "source": []
  },
  {
   "cell_type": "code",
   "execution_count": null,
   "metadata": {},
   "outputs": [],
   "source": []
  }
 ],
 "metadata": {
  "kernelspec": {
   "display_name": "Python 3",
   "language": "python",
   "name": "python3"
  },
  "language_info": {
   "codemirror_mode": {
    "name": "ipython",
    "version": 3
   },
   "file_extension": ".py",
   "mimetype": "text/x-python",
   "name": "python",
   "nbconvert_exporter": "python",
   "pygments_lexer": "ipython3",
   "version": "3.7.6"
  }
 },
 "nbformat": 4,
 "nbformat_minor": 4
}
